{
 "cells": [
  {
   "cell_type": "code",
   "execution_count": 1,
   "id": "diagnostic-dakota",
   "metadata": {},
   "outputs": [
    {
     "name": "stderr",
     "output_type": "stream",
     "text": [
      "── \u001b[1mAttaching packages\u001b[22m ─────────────────────────────────────── tidyverse 1.3.1 ──\n",
      "\n",
      "\u001b[32m✔\u001b[39m \u001b[34mggplot2\u001b[39m 3.3.5     \u001b[32m✔\u001b[39m \u001b[34mpurrr  \u001b[39m 0.3.4\n",
      "\u001b[32m✔\u001b[39m \u001b[34mtibble \u001b[39m 3.1.6     \u001b[32m✔\u001b[39m \u001b[34mdplyr  \u001b[39m 1.0.8\n",
      "\u001b[32m✔\u001b[39m \u001b[34mtidyr  \u001b[39m 1.2.0     \u001b[32m✔\u001b[39m \u001b[34mstringr\u001b[39m 1.4.0\n",
      "\u001b[32m✔\u001b[39m \u001b[34mreadr  \u001b[39m 2.1.2     \u001b[32m✔\u001b[39m \u001b[34mforcats\u001b[39m 0.5.1\n",
      "\n",
      "── \u001b[1mConflicts\u001b[22m ────────────────────────────────────────── tidyverse_conflicts() ──\n",
      "\u001b[31m✖\u001b[39m \u001b[34mdplyr\u001b[39m::\u001b[32mfilter()\u001b[39m masks \u001b[34mstats\u001b[39m::filter()\n",
      "\u001b[31m✖\u001b[39m \u001b[34mdplyr\u001b[39m::\u001b[32mlag()\u001b[39m    masks \u001b[34mstats\u001b[39m::lag()\n",
      "\n",
      "Loading required package: lattice\n",
      "\n",
      "\n",
      "Attaching package: ‘caret’\n",
      "\n",
      "\n",
      "The following object is masked from ‘package:purrr’:\n",
      "\n",
      "    lift\n",
      "\n",
      "\n",
      "Loading required package: survival\n",
      "\n",
      "\n",
      "Attaching package: ‘survival’\n",
      "\n",
      "\n",
      "The following object is masked from ‘package:caret’:\n",
      "\n",
      "    cluster\n",
      "\n",
      "\n",
      "Loading required package: Formula\n",
      "\n",
      "\n",
      "Attaching package: ‘Hmisc’\n",
      "\n",
      "\n",
      "The following object is masked from ‘package:e1071’:\n",
      "\n",
      "    impute\n",
      "\n",
      "\n",
      "The following objects are masked from ‘package:dplyr’:\n",
      "\n",
      "    src, summarize\n",
      "\n",
      "\n",
      "The following objects are masked from ‘package:base’:\n",
      "\n",
      "    format.pval, units\n",
      "\n",
      "\n",
      "randomForest 4.7-1\n",
      "\n",
      "Type rfNews() to see new features/changes/bug fixes.\n",
      "\n",
      "\n",
      "Attaching package: ‘randomForest’\n",
      "\n",
      "\n",
      "The following object is masked from ‘package:dplyr’:\n",
      "\n",
      "    combine\n",
      "\n",
      "\n",
      "The following object is masked from ‘package:ggplot2’:\n",
      "\n",
      "    margin\n",
      "\n",
      "\n",
      "Type 'citation(\"pROC\")' for a citation.\n",
      "\n",
      "\n",
      "Attaching package: ‘pROC’\n",
      "\n",
      "\n",
      "The following objects are masked from ‘package:stats’:\n",
      "\n",
      "    cov, smooth, var\n",
      "\n",
      "\n"
     ]
    }
   ],
   "source": [
    "setwd('/Users/alexis/Library/CloudStorage/OneDrive-UniversityofNorthCarolinaatChapelHill/CEMALB_DataAnalysisPM/Projects/P1003. Ozone Sterols Healthy Asthma/P1003.3. Analyses/P1003.3.2. Ozone Responder Prediction/Input')\n",
    "Output = ('/Users/alexis/Library/CloudStorage/OneDrive-UniversityofNorthCarolinaatChapelHill/CEMALB_DataAnalysisPM/Projects/P1003. Ozone Sterols Healthy Asthma/P1003.3. Analyses/P1003.3.2. Ozone Responder Prediction/Output')\n",
    "cur_date = \"090822\"\n",
    "\n",
    "library(readxl)\n",
    "library(tidyverse)\n",
    "library(gtsummary)\n",
    "library(caret)\n",
    "library(e1071)\n",
    "library(Hmisc)\n",
    "library(randomForest)\n",
    "library(pROC)\n",
    "\n",
    "#reading in files\n",
    "ozone_data = data.frame(read_excel(\"Imputed_Ozone_Data_042622.xlsx\")) \n",
    "demographics_data = data.frame(read_excel(\"SubjectInfo_011822.xlsx\", sheet = 2))"
   ]
  },
  {
   "cell_type": "code",
   "execution_count": 2,
   "id": "internal-solid",
   "metadata": {},
   "outputs": [
    {
     "data": {
      "text/html": [
       "<table class=\"dataframe\">\n",
       "<caption>A data.frame: 6 × 11</caption>\n",
       "<thead>\n",
       "\t<tr><th></th><th scope=col>Original_Subject_No</th><th scope=col>Subject_No</th><th scope=col>Subject_ID</th><th scope=col>Disease_Status</th><th scope=col>Sample_Type</th><th scope=col>Time_Point</th><th scope=col>Inflammatory_Responder</th><th scope=col>Lung_Responder</th><th scope=col>Category</th><th scope=col>Variable</th><th scope=col>Value</th></tr>\n",
       "\t<tr><th></th><th scope=col>&lt;dbl&gt;</th><th scope=col>&lt;dbl&gt;</th><th scope=col>&lt;chr&gt;</th><th scope=col>&lt;chr&gt;</th><th scope=col>&lt;chr&gt;</th><th scope=col>&lt;chr&gt;</th><th scope=col>&lt;chr&gt;</th><th scope=col>&lt;chr&gt;</th><th scope=col>&lt;chr&gt;</th><th scope=col>&lt;chr&gt;</th><th scope=col>&lt;dbl&gt;</th></tr>\n",
       "</thead>\n",
       "<tbody>\n",
       "\t<tr><th scope=row>1</th><td>4</td><td>1</td><td>AS_1</td><td>AS</td><td>P</td><td>Post</td><td>NR</td><td>NR</td><td>Cell_Differential</td><td>Sample_Weight      </td><td>   817.00</td></tr>\n",
       "\t<tr><th scope=row>2</th><td>4</td><td>1</td><td>AS_1</td><td>AS</td><td>P</td><td>Post</td><td>NR</td><td>NR</td><td>Cell_Differential</td><td>TCC                </td><td>395000.00</td></tr>\n",
       "\t<tr><th scope=row>3</th><td>4</td><td>1</td><td>AS_1</td><td>AS</td><td>P</td><td>Post</td><td>NR</td><td>NR</td><td>Cell_Differential</td><td>TCC_Weight         </td><td>   483.48</td></tr>\n",
       "\t<tr><th scope=row>4</th><td>4</td><td>1</td><td>AS_1</td><td>AS</td><td>P</td><td>Post</td><td>NR</td><td>NR</td><td>Cell_Differential</td><td>Neutrophils_Percent</td><td>    25.00</td></tr>\n",
       "\t<tr><th scope=row>5</th><td>4</td><td>1</td><td>AS_1</td><td>AS</td><td>P</td><td>Post</td><td>NR</td><td>NR</td><td>Cell_Differential</td><td>Neutrophils        </td><td> 98750.00</td></tr>\n",
       "\t<tr><th scope=row>6</th><td>4</td><td>1</td><td>AS_1</td><td>AS</td><td>P</td><td>Post</td><td>NR</td><td>NR</td><td>Cell_Differential</td><td>Neutrophils_Weight </td><td>   121.00</td></tr>\n",
       "</tbody>\n",
       "</table>\n"
      ],
      "text/latex": [
       "A data.frame: 6 × 11\n",
       "\\begin{tabular}{r|lllllllllll}\n",
       "  & Original\\_Subject\\_No & Subject\\_No & Subject\\_ID & Disease\\_Status & Sample\\_Type & Time\\_Point & Inflammatory\\_Responder & Lung\\_Responder & Category & Variable & Value\\\\\n",
       "  & <dbl> & <dbl> & <chr> & <chr> & <chr> & <chr> & <chr> & <chr> & <chr> & <chr> & <dbl>\\\\\n",
       "\\hline\n",
       "\t1 & 4 & 1 & AS\\_1 & AS & P & Post & NR & NR & Cell\\_Differential & Sample\\_Weight       &    817.00\\\\\n",
       "\t2 & 4 & 1 & AS\\_1 & AS & P & Post & NR & NR & Cell\\_Differential & TCC                 & 395000.00\\\\\n",
       "\t3 & 4 & 1 & AS\\_1 & AS & P & Post & NR & NR & Cell\\_Differential & TCC\\_Weight          &    483.48\\\\\n",
       "\t4 & 4 & 1 & AS\\_1 & AS & P & Post & NR & NR & Cell\\_Differential & Neutrophils\\_Percent &     25.00\\\\\n",
       "\t5 & 4 & 1 & AS\\_1 & AS & P & Post & NR & NR & Cell\\_Differential & Neutrophils         &  98750.00\\\\\n",
       "\t6 & 4 & 1 & AS\\_1 & AS & P & Post & NR & NR & Cell\\_Differential & Neutrophils\\_Weight  &    121.00\\\\\n",
       "\\end{tabular}\n"
      ],
      "text/markdown": [
       "\n",
       "A data.frame: 6 × 11\n",
       "\n",
       "| <!--/--> | Original_Subject_No &lt;dbl&gt; | Subject_No &lt;dbl&gt; | Subject_ID &lt;chr&gt; | Disease_Status &lt;chr&gt; | Sample_Type &lt;chr&gt; | Time_Point &lt;chr&gt; | Inflammatory_Responder &lt;chr&gt; | Lung_Responder &lt;chr&gt; | Category &lt;chr&gt; | Variable &lt;chr&gt; | Value &lt;dbl&gt; |\n",
       "|---|---|---|---|---|---|---|---|---|---|---|---|\n",
       "| 1 | 4 | 1 | AS_1 | AS | P | Post | NR | NR | Cell_Differential | Sample_Weight       |    817.00 |\n",
       "| 2 | 4 | 1 | AS_1 | AS | P | Post | NR | NR | Cell_Differential | TCC                 | 395000.00 |\n",
       "| 3 | 4 | 1 | AS_1 | AS | P | Post | NR | NR | Cell_Differential | TCC_Weight          |    483.48 |\n",
       "| 4 | 4 | 1 | AS_1 | AS | P | Post | NR | NR | Cell_Differential | Neutrophils_Percent |     25.00 |\n",
       "| 5 | 4 | 1 | AS_1 | AS | P | Post | NR | NR | Cell_Differential | Neutrophils         |  98750.00 |\n",
       "| 6 | 4 | 1 | AS_1 | AS | P | Post | NR | NR | Cell_Differential | Neutrophils_Weight  |    121.00 |\n",
       "\n"
      ],
      "text/plain": [
       "  Original_Subject_No Subject_No Subject_ID Disease_Status Sample_Type\n",
       "1 4                   1          AS_1       AS             P          \n",
       "2 4                   1          AS_1       AS             P          \n",
       "3 4                   1          AS_1       AS             P          \n",
       "4 4                   1          AS_1       AS             P          \n",
       "5 4                   1          AS_1       AS             P          \n",
       "6 4                   1          AS_1       AS             P          \n",
       "  Time_Point Inflammatory_Responder Lung_Responder Category         \n",
       "1 Post       NR                     NR             Cell_Differential\n",
       "2 Post       NR                     NR             Cell_Differential\n",
       "3 Post       NR                     NR             Cell_Differential\n",
       "4 Post       NR                     NR             Cell_Differential\n",
       "5 Post       NR                     NR             Cell_Differential\n",
       "6 Post       NR                     NR             Cell_Differential\n",
       "  Variable            Value    \n",
       "1 Sample_Weight          817.00\n",
       "2 TCC                 395000.00\n",
       "3 TCC_Weight             483.48\n",
       "4 Neutrophils_Percent     25.00\n",
       "5 Neutrophils          98750.00\n",
       "6 Neutrophils_Weight     121.00"
      ]
     },
     "metadata": {},
     "output_type": "display_data"
    },
    {
     "data": {
      "text/html": [
       "<table class=\"dataframe\">\n",
       "<caption>A data.frame: 6 × 10</caption>\n",
       "<thead>\n",
       "\t<tr><th></th><th scope=col>Original_Subject_No</th><th scope=col>Subject_No</th><th scope=col>Subject_ID</th><th scope=col>Sex</th><th scope=col>Race</th><th scope=col>Ethnicity</th><th scope=col>Age</th><th scope=col>BMI</th><th scope=col>Disease_Status</th><th scope=col>Visit_Season</th></tr>\n",
       "\t<tr><th></th><th scope=col>&lt;dbl&gt;</th><th scope=col>&lt;dbl&gt;</th><th scope=col>&lt;chr&gt;</th><th scope=col>&lt;chr&gt;</th><th scope=col>&lt;chr&gt;</th><th scope=col>&lt;chr&gt;</th><th scope=col>&lt;dbl&gt;</th><th scope=col>&lt;dbl&gt;</th><th scope=col>&lt;chr&gt;</th><th scope=col>&lt;chr&gt;</th></tr>\n",
       "</thead>\n",
       "<tbody>\n",
       "\t<tr><th scope=row>1</th><td> 4</td><td>1</td><td>AS_1</td><td>M</td><td>W</td><td>NH</td><td>30</td><td>23.3</td><td>AS</td><td>Fa</td></tr>\n",
       "\t<tr><th scope=row>2</th><td> 7</td><td>2</td><td>AS_2</td><td>F</td><td>W</td><td>NH</td><td>39</td><td>32.7</td><td>AS</td><td>Sp</td></tr>\n",
       "\t<tr><th scope=row>3</th><td>11</td><td>3</td><td>AS_3</td><td>M</td><td>W</td><td>NH</td><td>23</td><td>23.0</td><td>AS</td><td>Fa</td></tr>\n",
       "\t<tr><th scope=row>4</th><td>13</td><td>4</td><td>AS_4</td><td>M</td><td>W</td><td>NH</td><td>20</td><td>21.4</td><td>AS</td><td>Wi</td></tr>\n",
       "\t<tr><th scope=row>5</th><td>15</td><td>5</td><td>AS_5</td><td>F</td><td>B</td><td>NH</td><td>20</td><td>34.5</td><td>AS</td><td>Su</td></tr>\n",
       "\t<tr><th scope=row>6</th><td>16</td><td>6</td><td>AS_6</td><td>F</td><td>W</td><td>NH</td><td>25</td><td>25.2</td><td>AS</td><td>Su</td></tr>\n",
       "</tbody>\n",
       "</table>\n"
      ],
      "text/latex": [
       "A data.frame: 6 × 10\n",
       "\\begin{tabular}{r|llllllllll}\n",
       "  & Original\\_Subject\\_No & Subject\\_No & Subject\\_ID & Sex & Race & Ethnicity & Age & BMI & Disease\\_Status & Visit\\_Season\\\\\n",
       "  & <dbl> & <dbl> & <chr> & <chr> & <chr> & <chr> & <dbl> & <dbl> & <chr> & <chr>\\\\\n",
       "\\hline\n",
       "\t1 &  4 & 1 & AS\\_1 & M & W & NH & 30 & 23.3 & AS & Fa\\\\\n",
       "\t2 &  7 & 2 & AS\\_2 & F & W & NH & 39 & 32.7 & AS & Sp\\\\\n",
       "\t3 & 11 & 3 & AS\\_3 & M & W & NH & 23 & 23.0 & AS & Fa\\\\\n",
       "\t4 & 13 & 4 & AS\\_4 & M & W & NH & 20 & 21.4 & AS & Wi\\\\\n",
       "\t5 & 15 & 5 & AS\\_5 & F & B & NH & 20 & 34.5 & AS & Su\\\\\n",
       "\t6 & 16 & 6 & AS\\_6 & F & W & NH & 25 & 25.2 & AS & Su\\\\\n",
       "\\end{tabular}\n"
      ],
      "text/markdown": [
       "\n",
       "A data.frame: 6 × 10\n",
       "\n",
       "| <!--/--> | Original_Subject_No &lt;dbl&gt; | Subject_No &lt;dbl&gt; | Subject_ID &lt;chr&gt; | Sex &lt;chr&gt; | Race &lt;chr&gt; | Ethnicity &lt;chr&gt; | Age &lt;dbl&gt; | BMI &lt;dbl&gt; | Disease_Status &lt;chr&gt; | Visit_Season &lt;chr&gt; |\n",
       "|---|---|---|---|---|---|---|---|---|---|---|\n",
       "| 1 |  4 | 1 | AS_1 | M | W | NH | 30 | 23.3 | AS | Fa |\n",
       "| 2 |  7 | 2 | AS_2 | F | W | NH | 39 | 32.7 | AS | Sp |\n",
       "| 3 | 11 | 3 | AS_3 | M | W | NH | 23 | 23.0 | AS | Fa |\n",
       "| 4 | 13 | 4 | AS_4 | M | W | NH | 20 | 21.4 | AS | Wi |\n",
       "| 5 | 15 | 5 | AS_5 | F | B | NH | 20 | 34.5 | AS | Su |\n",
       "| 6 | 16 | 6 | AS_6 | F | W | NH | 25 | 25.2 | AS | Su |\n",
       "\n"
      ],
      "text/plain": [
       "  Original_Subject_No Subject_No Subject_ID Sex Race Ethnicity Age BMI \n",
       "1  4                  1          AS_1       M   W    NH        30  23.3\n",
       "2  7                  2          AS_2       F   W    NH        39  32.7\n",
       "3 11                  3          AS_3       M   W    NH        23  23.0\n",
       "4 13                  4          AS_4       M   W    NH        20  21.4\n",
       "5 15                  5          AS_5       F   B    NH        20  34.5\n",
       "6 16                  6          AS_6       F   W    NH        25  25.2\n",
       "  Disease_Status Visit_Season\n",
       "1 AS             Fa          \n",
       "2 AS             Sp          \n",
       "3 AS             Fa          \n",
       "4 AS             Wi          \n",
       "5 AS             Su          \n",
       "6 AS             Su          "
      ]
     },
     "metadata": {},
     "output_type": "display_data"
    }
   ],
   "source": [
    "head(ozone_data)\n",
    "head(demographics_data)"
   ]
  },
  {
   "cell_type": "markdown",
   "id": "superb-manchester",
   "metadata": {},
   "source": [
    "# Which demographic information and/or soluble mediators in plasma collected at baseline best predict ozone-responder status in asthmatics and non-asthmatics?"
   ]
  },
  {
   "cell_type": "code",
   "execution_count": 3,
   "id": "consistent-oklahoma",
   "metadata": {},
   "outputs": [
    {
     "name": "stderr",
     "output_type": "stream",
     "text": [
      "\u001b[1m\u001b[22mJoining, by = c(\"Original_Subject_No\", \"Subject_No\", \"Subject_ID\",\n",
      "\"Disease_Status\")\n"
     ]
    },
    {
     "data": {
      "text/html": [
       "<table class=\"dataframe\">\n",
       "<caption>A data.frame: 6 × 14</caption>\n",
       "<thead>\n",
       "\t<tr><th></th><th scope=col>Original_Subject_No</th><th scope=col>Subject_No</th><th scope=col>Subject_ID</th><th scope=col>Sex</th><th scope=col>Race</th><th scope=col>Ethnicity</th><th scope=col>Age</th><th scope=col>BMI</th><th scope=col>Disease_Status</th><th scope=col>Visit_Season</th><th scope=col>Inflammatory_Responder</th><th scope=col>Lung_Responder</th><th scope=col>Variable</th><th scope=col>Value</th></tr>\n",
       "\t<tr><th></th><th scope=col>&lt;dbl&gt;</th><th scope=col>&lt;dbl&gt;</th><th scope=col>&lt;chr&gt;</th><th scope=col>&lt;chr&gt;</th><th scope=col>&lt;chr&gt;</th><th scope=col>&lt;chr&gt;</th><th scope=col>&lt;dbl&gt;</th><th scope=col>&lt;dbl&gt;</th><th scope=col>&lt;chr&gt;</th><th scope=col>&lt;chr&gt;</th><th scope=col>&lt;chr&gt;</th><th scope=col>&lt;chr&gt;</th><th scope=col>&lt;chr&gt;</th><th scope=col>&lt;dbl&gt;</th></tr>\n",
       "</thead>\n",
       "<tbody>\n",
       "\t<tr><th scope=row>1</th><td>4</td><td>1</td><td>AS_1</td><td>M</td><td>W</td><td>NH</td><td>30</td><td>23.3</td><td>AS</td><td>Fa</td><td>NR</td><td>NR</td><td>25OH_VitD</td><td>130.325</td></tr>\n",
       "\t<tr><th scope=row>2</th><td>4</td><td>1</td><td>AS_1</td><td>M</td><td>W</td><td>NH</td><td>30</td><td>23.3</td><td>AS</td><td>Fa</td><td>NR</td><td>NR</td><td>25OH_VitD</td><td> 47.181</td></tr>\n",
       "\t<tr><th scope=row>3</th><td>4</td><td>1</td><td>AS_1</td><td>M</td><td>W</td><td>NH</td><td>30</td><td>23.3</td><td>AS</td><td>Fa</td><td>NR</td><td>NR</td><td>SecoB    </td><td>  1.816</td></tr>\n",
       "\t<tr><th scope=row>4</th><td>4</td><td>1</td><td>AS_1</td><td>M</td><td>W</td><td>NH</td><td>30</td><td>23.3</td><td>AS</td><td>Fa</td><td>NR</td><td>NR</td><td>25OH_VitD</td><td> 16.537</td></tr>\n",
       "\t<tr><th scope=row>5</th><td>4</td><td>1</td><td>AS_1</td><td>M</td><td>W</td><td>NH</td><td>30</td><td>23.3</td><td>AS</td><td>Fa</td><td>NR</td><td>NR</td><td>25OH_VitD</td><td> 15.326</td></tr>\n",
       "\t<tr><th scope=row>6</th><td>4</td><td>1</td><td>AS_1</td><td>M</td><td>W</td><td>NH</td><td>30</td><td>23.3</td><td>AS</td><td>Fa</td><td>NR</td><td>NR</td><td>25OH_VitD</td><td>280.856</td></tr>\n",
       "</tbody>\n",
       "</table>\n"
      ],
      "text/latex": [
       "A data.frame: 6 × 14\n",
       "\\begin{tabular}{r|llllllllllllll}\n",
       "  & Original\\_Subject\\_No & Subject\\_No & Subject\\_ID & Sex & Race & Ethnicity & Age & BMI & Disease\\_Status & Visit\\_Season & Inflammatory\\_Responder & Lung\\_Responder & Variable & Value\\\\\n",
       "  & <dbl> & <dbl> & <chr> & <chr> & <chr> & <chr> & <dbl> & <dbl> & <chr> & <chr> & <chr> & <chr> & <chr> & <dbl>\\\\\n",
       "\\hline\n",
       "\t1 & 4 & 1 & AS\\_1 & M & W & NH & 30 & 23.3 & AS & Fa & NR & NR & 25OH\\_VitD & 130.325\\\\\n",
       "\t2 & 4 & 1 & AS\\_1 & M & W & NH & 30 & 23.3 & AS & Fa & NR & NR & 25OH\\_VitD &  47.181\\\\\n",
       "\t3 & 4 & 1 & AS\\_1 & M & W & NH & 30 & 23.3 & AS & Fa & NR & NR & SecoB     &   1.816\\\\\n",
       "\t4 & 4 & 1 & AS\\_1 & M & W & NH & 30 & 23.3 & AS & Fa & NR & NR & 25OH\\_VitD &  16.537\\\\\n",
       "\t5 & 4 & 1 & AS\\_1 & M & W & NH & 30 & 23.3 & AS & Fa & NR & NR & 25OH\\_VitD &  15.326\\\\\n",
       "\t6 & 4 & 1 & AS\\_1 & M & W & NH & 30 & 23.3 & AS & Fa & NR & NR & 25OH\\_VitD & 280.856\\\\\n",
       "\\end{tabular}\n"
      ],
      "text/markdown": [
       "\n",
       "A data.frame: 6 × 14\n",
       "\n",
       "| <!--/--> | Original_Subject_No &lt;dbl&gt; | Subject_No &lt;dbl&gt; | Subject_ID &lt;chr&gt; | Sex &lt;chr&gt; | Race &lt;chr&gt; | Ethnicity &lt;chr&gt; | Age &lt;dbl&gt; | BMI &lt;dbl&gt; | Disease_Status &lt;chr&gt; | Visit_Season &lt;chr&gt; | Inflammatory_Responder &lt;chr&gt; | Lung_Responder &lt;chr&gt; | Variable &lt;chr&gt; | Value &lt;dbl&gt; |\n",
       "|---|---|---|---|---|---|---|---|---|---|---|---|---|---|---|\n",
       "| 1 | 4 | 1 | AS_1 | M | W | NH | 30 | 23.3 | AS | Fa | NR | NR | 25OH_VitD | 130.325 |\n",
       "| 2 | 4 | 1 | AS_1 | M | W | NH | 30 | 23.3 | AS | Fa | NR | NR | 25OH_VitD |  47.181 |\n",
       "| 3 | 4 | 1 | AS_1 | M | W | NH | 30 | 23.3 | AS | Fa | NR | NR | SecoB     |   1.816 |\n",
       "| 4 | 4 | 1 | AS_1 | M | W | NH | 30 | 23.3 | AS | Fa | NR | NR | 25OH_VitD |  16.537 |\n",
       "| 5 | 4 | 1 | AS_1 | M | W | NH | 30 | 23.3 | AS | Fa | NR | NR | 25OH_VitD |  15.326 |\n",
       "| 6 | 4 | 1 | AS_1 | M | W | NH | 30 | 23.3 | AS | Fa | NR | NR | 25OH_VitD | 280.856 |\n",
       "\n"
      ],
      "text/plain": [
       "  Original_Subject_No Subject_No Subject_ID Sex Race Ethnicity Age BMI \n",
       "1 4                   1          AS_1       M   W    NH        30  23.3\n",
       "2 4                   1          AS_1       M   W    NH        30  23.3\n",
       "3 4                   1          AS_1       M   W    NH        30  23.3\n",
       "4 4                   1          AS_1       M   W    NH        30  23.3\n",
       "5 4                   1          AS_1       M   W    NH        30  23.3\n",
       "6 4                   1          AS_1       M   W    NH        30  23.3\n",
       "  Disease_Status Visit_Season Inflammatory_Responder Lung_Responder Variable \n",
       "1 AS             Fa           NR                     NR             25OH_VitD\n",
       "2 AS             Fa           NR                     NR             25OH_VitD\n",
       "3 AS             Fa           NR                     NR             SecoB    \n",
       "4 AS             Fa           NR                     NR             25OH_VitD\n",
       "5 AS             Fa           NR                     NR             25OH_VitD\n",
       "6 AS             Fa           NR                     NR             25OH_VitD\n",
       "  Value  \n",
       "1 130.325\n",
       "2  47.181\n",
       "3   1.816\n",
       "4  16.537\n",
       "5  15.326\n",
       "6 280.856"
      ]
     },
     "metadata": {},
     "output_type": "display_data"
    }
   ],
   "source": [
    "plasma_baseline_ozone_data = full_join(demographics_data, ozone_data) %>%\n",
    "    #only interested in plasma soluble mediators (sterols) at baseline\n",
    "    filter(Sample_Type == \"P\" & Time_Point == \"Pre\") %>%\n",
    "    filter(Category == \"Sterol\") %>%\n",
    "    select(-c(\"Sample_Type\", \"Time_Point\", \"Category\")) %>%\n",
    "    distinct()\n",
    "head(plasma_baseline_ozone_data)"
   ]
  },
  {
   "cell_type": "code",
   "execution_count": 4,
   "id": "undefined-split",
   "metadata": {},
   "outputs": [
    {
     "data": {
      "text/html": [
       "<table class=\"dataframe\">\n",
       "<caption>A tibble: 6 × 23</caption>\n",
       "<thead>\n",
       "\t<tr><th scope=col>Original_Subject_No</th><th scope=col>Subject_No</th><th scope=col>Subject_ID</th><th scope=col>Sex</th><th scope=col>Race</th><th scope=col>Ethnicity</th><th scope=col>Age</th><th scope=col>BMI</th><th scope=col>Disease_Status</th><th scope=col>Visit_Season</th><th scope=col>⋯</th><th scope=col>SecoB</th><th scope=col>bEP_Chol</th><th scope=col>Lan</th><th scope=col>Zym</th><th scope=col>DHL</th><th scope=col>Des</th><th scope=col>dHLan</th><th scope=col>Zyme</th><th scope=col>Lath</th><th scope=col>Chol</th></tr>\n",
       "\t<tr><th scope=col>&lt;dbl&gt;</th><th scope=col>&lt;dbl&gt;</th><th scope=col>&lt;chr&gt;</th><th scope=col>&lt;chr&gt;</th><th scope=col>&lt;chr&gt;</th><th scope=col>&lt;chr&gt;</th><th scope=col>&lt;dbl&gt;</th><th scope=col>&lt;dbl&gt;</th><th scope=col>&lt;chr&gt;</th><th scope=col>&lt;chr&gt;</th><th scope=col>⋯</th><th scope=col>&lt;dbl&gt;</th><th scope=col>&lt;dbl&gt;</th><th scope=col>&lt;dbl&gt;</th><th scope=col>&lt;dbl&gt;</th><th scope=col>&lt;dbl&gt;</th><th scope=col>&lt;dbl&gt;</th><th scope=col>&lt;dbl&gt;</th><th scope=col>&lt;dbl&gt;</th><th scope=col>&lt;dbl&gt;</th><th scope=col>&lt;dbl&gt;</th></tr>\n",
       "</thead>\n",
       "<tbody>\n",
       "\t<tr><td> 4</td><td>1</td><td>AS_1</td><td>M</td><td>W</td><td>NH</td><td>30</td><td>23.3</td><td>AS</td><td>Fa</td><td>⋯</td><td>  1.816</td><td>25.669</td><td>0.171</td><td>0.057</td><td>0.224</td><td>0.641</td><td>0.004</td><td>3.014</td><td>1.969</td><td>1110.442</td></tr>\n",
       "\t<tr><td> 7</td><td>2</td><td>AS_2</td><td>F</td><td>W</td><td>NH</td><td>39</td><td>32.7</td><td>AS</td><td>Sp</td><td>⋯</td><td>112.521</td><td>17.867</td><td>0.062</td><td>0.046</td><td>0.106</td><td>0.286</td><td>0.015</td><td>2.508</td><td>1.287</td><td> 673.328</td></tr>\n",
       "\t<tr><td>11</td><td>3</td><td>AS_3</td><td>M</td><td>W</td><td>NH</td><td>23</td><td>23.0</td><td>AS</td><td>Fa</td><td>⋯</td><td>  6.686</td><td> 8.066</td><td>0.052</td><td>0.046</td><td>0.094</td><td>0.279</td><td>0.005</td><td>1.549</td><td>1.200</td><td> 537.509</td></tr>\n",
       "\t<tr><td>13</td><td>4</td><td>AS_4</td><td>M</td><td>W</td><td>NH</td><td>20</td><td>21.4</td><td>AS</td><td>Wi</td><td>⋯</td><td> 48.416</td><td>10.132</td><td>0.013</td><td>0.046</td><td>0.085</td><td>0.297</td><td>0.016</td><td>1.833</td><td>1.062</td><td> 482.396</td></tr>\n",
       "\t<tr><td>15</td><td>5</td><td>AS_5</td><td>F</td><td>B</td><td>NH</td><td>20</td><td>34.5</td><td>AS</td><td>Su</td><td>⋯</td><td> 13.006</td><td>13.090</td><td>0.117</td><td>0.060</td><td>0.116</td><td>0.255</td><td>0.020</td><td>3.628</td><td>1.795</td><td> 586.750</td></tr>\n",
       "\t<tr><td>16</td><td>6</td><td>AS_6</td><td>F</td><td>W</td><td>NH</td><td>25</td><td>25.2</td><td>AS</td><td>Su</td><td>⋯</td><td> 36.458</td><td>14.331</td><td>0.022</td><td>0.034</td><td>0.077</td><td>0.272</td><td>0.006</td><td>1.914</td><td>0.966</td><td> 639.636</td></tr>\n",
       "</tbody>\n",
       "</table>\n"
      ],
      "text/latex": [
       "A tibble: 6 × 23\n",
       "\\begin{tabular}{lllllllllllllllllllll}\n",
       " Original\\_Subject\\_No & Subject\\_No & Subject\\_ID & Sex & Race & Ethnicity & Age & BMI & Disease\\_Status & Visit\\_Season & ⋯ & SecoB & bEP\\_Chol & Lan & Zym & DHL & Des & dHLan & Zyme & Lath & Chol\\\\\n",
       " <dbl> & <dbl> & <chr> & <chr> & <chr> & <chr> & <dbl> & <dbl> & <chr> & <chr> & ⋯ & <dbl> & <dbl> & <dbl> & <dbl> & <dbl> & <dbl> & <dbl> & <dbl> & <dbl> & <dbl>\\\\\n",
       "\\hline\n",
       "\t  4 & 1 & AS\\_1 & M & W & NH & 30 & 23.3 & AS & Fa & ⋯ &   1.816 & 25.669 & 0.171 & 0.057 & 0.224 & 0.641 & 0.004 & 3.014 & 1.969 & 1110.442\\\\\n",
       "\t  7 & 2 & AS\\_2 & F & W & NH & 39 & 32.7 & AS & Sp & ⋯ & 112.521 & 17.867 & 0.062 & 0.046 & 0.106 & 0.286 & 0.015 & 2.508 & 1.287 &  673.328\\\\\n",
       "\t 11 & 3 & AS\\_3 & M & W & NH & 23 & 23.0 & AS & Fa & ⋯ &   6.686 &  8.066 & 0.052 & 0.046 & 0.094 & 0.279 & 0.005 & 1.549 & 1.200 &  537.509\\\\\n",
       "\t 13 & 4 & AS\\_4 & M & W & NH & 20 & 21.4 & AS & Wi & ⋯ &  48.416 & 10.132 & 0.013 & 0.046 & 0.085 & 0.297 & 0.016 & 1.833 & 1.062 &  482.396\\\\\n",
       "\t 15 & 5 & AS\\_5 & F & B & NH & 20 & 34.5 & AS & Su & ⋯ &  13.006 & 13.090 & 0.117 & 0.060 & 0.116 & 0.255 & 0.020 & 3.628 & 1.795 &  586.750\\\\\n",
       "\t 16 & 6 & AS\\_6 & F & W & NH & 25 & 25.2 & AS & Su & ⋯ &  36.458 & 14.331 & 0.022 & 0.034 & 0.077 & 0.272 & 0.006 & 1.914 & 0.966 &  639.636\\\\\n",
       "\\end{tabular}\n"
      ],
      "text/markdown": [
       "\n",
       "A tibble: 6 × 23\n",
       "\n",
       "| Original_Subject_No &lt;dbl&gt; | Subject_No &lt;dbl&gt; | Subject_ID &lt;chr&gt; | Sex &lt;chr&gt; | Race &lt;chr&gt; | Ethnicity &lt;chr&gt; | Age &lt;dbl&gt; | BMI &lt;dbl&gt; | Disease_Status &lt;chr&gt; | Visit_Season &lt;chr&gt; | ⋯ ⋯ | SecoB &lt;dbl&gt; | bEP_Chol &lt;dbl&gt; | Lan &lt;dbl&gt; | Zym &lt;dbl&gt; | DHL &lt;dbl&gt; | Des &lt;dbl&gt; | dHLan &lt;dbl&gt; | Zyme &lt;dbl&gt; | Lath &lt;dbl&gt; | Chol &lt;dbl&gt; |\n",
       "|---|---|---|---|---|---|---|---|---|---|---|---|---|---|---|---|---|---|---|---|---|\n",
       "|  4 | 1 | AS_1 | M | W | NH | 30 | 23.3 | AS | Fa | ⋯ |   1.816 | 25.669 | 0.171 | 0.057 | 0.224 | 0.641 | 0.004 | 3.014 | 1.969 | 1110.442 |\n",
       "|  7 | 2 | AS_2 | F | W | NH | 39 | 32.7 | AS | Sp | ⋯ | 112.521 | 17.867 | 0.062 | 0.046 | 0.106 | 0.286 | 0.015 | 2.508 | 1.287 |  673.328 |\n",
       "| 11 | 3 | AS_3 | M | W | NH | 23 | 23.0 | AS | Fa | ⋯ |   6.686 |  8.066 | 0.052 | 0.046 | 0.094 | 0.279 | 0.005 | 1.549 | 1.200 |  537.509 |\n",
       "| 13 | 4 | AS_4 | M | W | NH | 20 | 21.4 | AS | Wi | ⋯ |  48.416 | 10.132 | 0.013 | 0.046 | 0.085 | 0.297 | 0.016 | 1.833 | 1.062 |  482.396 |\n",
       "| 15 | 5 | AS_5 | F | B | NH | 20 | 34.5 | AS | Su | ⋯ |  13.006 | 13.090 | 0.117 | 0.060 | 0.116 | 0.255 | 0.020 | 3.628 | 1.795 |  586.750 |\n",
       "| 16 | 6 | AS_6 | F | W | NH | 25 | 25.2 | AS | Su | ⋯ |  36.458 | 14.331 | 0.022 | 0.034 | 0.077 | 0.272 | 0.006 | 1.914 | 0.966 |  639.636 |\n",
       "\n"
      ],
      "text/plain": [
       "  Original_Subject_No Subject_No Subject_ID Sex Race Ethnicity Age BMI \n",
       "1  4                  1          AS_1       M   W    NH        30  23.3\n",
       "2  7                  2          AS_2       F   W    NH        39  32.7\n",
       "3 11                  3          AS_3       M   W    NH        23  23.0\n",
       "4 13                  4          AS_4       M   W    NH        20  21.4\n",
       "5 15                  5          AS_5       F   B    NH        20  34.5\n",
       "6 16                  6          AS_6       F   W    NH        25  25.2\n",
       "  Disease_Status Visit_Season ⋯ SecoB   bEP_Chol Lan   Zym   DHL   Des   dHLan\n",
       "1 AS             Fa           ⋯   1.816 25.669   0.171 0.057 0.224 0.641 0.004\n",
       "2 AS             Sp           ⋯ 112.521 17.867   0.062 0.046 0.106 0.286 0.015\n",
       "3 AS             Fa           ⋯   6.686  8.066   0.052 0.046 0.094 0.279 0.005\n",
       "4 AS             Wi           ⋯  48.416 10.132   0.013 0.046 0.085 0.297 0.016\n",
       "5 AS             Su           ⋯  13.006 13.090   0.117 0.060 0.116 0.255 0.020\n",
       "6 AS             Su           ⋯  36.458 14.331   0.022 0.034 0.077 0.272 0.006\n",
       "  Zyme  Lath  Chol    \n",
       "1 3.014 1.969 1110.442\n",
       "2 2.508 1.287  673.328\n",
       "3 1.549 1.200  537.509\n",
       "4 1.833 1.062  482.396\n",
       "5 3.628 1.795  586.750\n",
       "6 1.914 0.966  639.636"
      ]
     },
     "metadata": {},
     "output_type": "display_data"
    }
   ],
   "source": [
    "# first pivoting wider to make the tbl_summary function work\n",
    "wider_data = pivot_wider(plasma_baseline_ozone_data,\n",
    "                         # not actually taking the mean of multiple values\n",
    "                         # did this bc cols would be type list rather than double\n",
    "                         names_from = Variable, values_from = Value, values_fn = mean)\n",
    "\n",
    "head(wider_data)"
   ]
  },
  {
   "cell_type": "code",
   "execution_count": 5,
   "id": "pharmaceutical-latvia",
   "metadata": {},
   "outputs": [
    {
     "data": {
      "text/html": [
       "<table class=\"dataframe\">\n",
       "<caption>A tibble: 6 × 23</caption>\n",
       "<thead>\n",
       "\t<tr><th scope=col>Original_Subject_No</th><th scope=col>Subject_No</th><th scope=col>Subject_ID</th><th scope=col>Sex</th><th scope=col>Race</th><th scope=col>Ethnicity</th><th scope=col>Age</th><th scope=col>BMI</th><th scope=col>Disease_Status</th><th scope=col>Visit_Season</th><th scope=col>⋯</th><th scope=col>SecoB</th><th scope=col>bEP_Chol</th><th scope=col>Lan</th><th scope=col>Zym</th><th scope=col>DHL</th><th scope=col>Des</th><th scope=col>dHLan</th><th scope=col>Zyme</th><th scope=col>Lath</th><th scope=col>Chol</th></tr>\n",
       "\t<tr><th scope=col>&lt;dbl&gt;</th><th scope=col>&lt;dbl&gt;</th><th scope=col>&lt;chr&gt;</th><th scope=col>&lt;fct&gt;</th><th scope=col>&lt;fct&gt;</th><th scope=col>&lt;fct&gt;</th><th scope=col>&lt;dbl&gt;</th><th scope=col>&lt;dbl&gt;</th><th scope=col>&lt;fct&gt;</th><th scope=col>&lt;fct&gt;</th><th scope=col>⋯</th><th scope=col>&lt;dbl&gt;</th><th scope=col>&lt;dbl&gt;</th><th scope=col>&lt;dbl&gt;</th><th scope=col>&lt;dbl&gt;</th><th scope=col>&lt;dbl&gt;</th><th scope=col>&lt;dbl&gt;</th><th scope=col>&lt;dbl&gt;</th><th scope=col>&lt;dbl&gt;</th><th scope=col>&lt;dbl&gt;</th><th scope=col>&lt;dbl&gt;</th></tr>\n",
       "</thead>\n",
       "<tbody>\n",
       "\t<tr><td> 4</td><td>1</td><td>AS_1</td><td>1</td><td>0</td><td>0</td><td>30</td><td>23.3</td><td>1</td><td>1</td><td>⋯</td><td>  1.816</td><td>25.669</td><td>0.171</td><td>0.057</td><td>0.224</td><td>0.641</td><td>0.004</td><td>3.014</td><td>1.969</td><td>1110.442</td></tr>\n",
       "\t<tr><td> 7</td><td>2</td><td>AS_2</td><td>0</td><td>0</td><td>0</td><td>39</td><td>32.7</td><td>1</td><td>2</td><td>⋯</td><td>112.521</td><td>17.867</td><td>0.062</td><td>0.046</td><td>0.106</td><td>0.286</td><td>0.015</td><td>2.508</td><td>1.287</td><td> 673.328</td></tr>\n",
       "\t<tr><td>11</td><td>3</td><td>AS_3</td><td>1</td><td>0</td><td>0</td><td>23</td><td>23.0</td><td>1</td><td>1</td><td>⋯</td><td>  6.686</td><td> 8.066</td><td>0.052</td><td>0.046</td><td>0.094</td><td>0.279</td><td>0.005</td><td>1.549</td><td>1.200</td><td> 537.509</td></tr>\n",
       "\t<tr><td>13</td><td>4</td><td>AS_4</td><td>1</td><td>0</td><td>0</td><td>20</td><td>21.4</td><td>1</td><td>0</td><td>⋯</td><td> 48.416</td><td>10.132</td><td>0.013</td><td>0.046</td><td>0.085</td><td>0.297</td><td>0.016</td><td>1.833</td><td>1.062</td><td> 482.396</td></tr>\n",
       "\t<tr><td>15</td><td>5</td><td>AS_5</td><td>0</td><td>3</td><td>0</td><td>20</td><td>34.5</td><td>1</td><td>3</td><td>⋯</td><td> 13.006</td><td>13.090</td><td>0.117</td><td>0.060</td><td>0.116</td><td>0.255</td><td>0.020</td><td>3.628</td><td>1.795</td><td> 586.750</td></tr>\n",
       "\t<tr><td>16</td><td>6</td><td>AS_6</td><td>0</td><td>0</td><td>0</td><td>25</td><td>25.2</td><td>1</td><td>3</td><td>⋯</td><td> 36.458</td><td>14.331</td><td>0.022</td><td>0.034</td><td>0.077</td><td>0.272</td><td>0.006</td><td>1.914</td><td>0.966</td><td> 639.636</td></tr>\n",
       "</tbody>\n",
       "</table>\n"
      ],
      "text/latex": [
       "A tibble: 6 × 23\n",
       "\\begin{tabular}{lllllllllllllllllllll}\n",
       " Original\\_Subject\\_No & Subject\\_No & Subject\\_ID & Sex & Race & Ethnicity & Age & BMI & Disease\\_Status & Visit\\_Season & ⋯ & SecoB & bEP\\_Chol & Lan & Zym & DHL & Des & dHLan & Zyme & Lath & Chol\\\\\n",
       " <dbl> & <dbl> & <chr> & <fct> & <fct> & <fct> & <dbl> & <dbl> & <fct> & <fct> & ⋯ & <dbl> & <dbl> & <dbl> & <dbl> & <dbl> & <dbl> & <dbl> & <dbl> & <dbl> & <dbl>\\\\\n",
       "\\hline\n",
       "\t  4 & 1 & AS\\_1 & 1 & 0 & 0 & 30 & 23.3 & 1 & 1 & ⋯ &   1.816 & 25.669 & 0.171 & 0.057 & 0.224 & 0.641 & 0.004 & 3.014 & 1.969 & 1110.442\\\\\n",
       "\t  7 & 2 & AS\\_2 & 0 & 0 & 0 & 39 & 32.7 & 1 & 2 & ⋯ & 112.521 & 17.867 & 0.062 & 0.046 & 0.106 & 0.286 & 0.015 & 2.508 & 1.287 &  673.328\\\\\n",
       "\t 11 & 3 & AS\\_3 & 1 & 0 & 0 & 23 & 23.0 & 1 & 1 & ⋯ &   6.686 &  8.066 & 0.052 & 0.046 & 0.094 & 0.279 & 0.005 & 1.549 & 1.200 &  537.509\\\\\n",
       "\t 13 & 4 & AS\\_4 & 1 & 0 & 0 & 20 & 21.4 & 1 & 0 & ⋯ &  48.416 & 10.132 & 0.013 & 0.046 & 0.085 & 0.297 & 0.016 & 1.833 & 1.062 &  482.396\\\\\n",
       "\t 15 & 5 & AS\\_5 & 0 & 3 & 0 & 20 & 34.5 & 1 & 3 & ⋯ &  13.006 & 13.090 & 0.117 & 0.060 & 0.116 & 0.255 & 0.020 & 3.628 & 1.795 &  586.750\\\\\n",
       "\t 16 & 6 & AS\\_6 & 0 & 0 & 0 & 25 & 25.2 & 1 & 3 & ⋯ &  36.458 & 14.331 & 0.022 & 0.034 & 0.077 & 0.272 & 0.006 & 1.914 & 0.966 &  639.636\\\\\n",
       "\\end{tabular}\n"
      ],
      "text/markdown": [
       "\n",
       "A tibble: 6 × 23\n",
       "\n",
       "| Original_Subject_No &lt;dbl&gt; | Subject_No &lt;dbl&gt; | Subject_ID &lt;chr&gt; | Sex &lt;fct&gt; | Race &lt;fct&gt; | Ethnicity &lt;fct&gt; | Age &lt;dbl&gt; | BMI &lt;dbl&gt; | Disease_Status &lt;fct&gt; | Visit_Season &lt;fct&gt; | ⋯ ⋯ | SecoB &lt;dbl&gt; | bEP_Chol &lt;dbl&gt; | Lan &lt;dbl&gt; | Zym &lt;dbl&gt; | DHL &lt;dbl&gt; | Des &lt;dbl&gt; | dHLan &lt;dbl&gt; | Zyme &lt;dbl&gt; | Lath &lt;dbl&gt; | Chol &lt;dbl&gt; |\n",
       "|---|---|---|---|---|---|---|---|---|---|---|---|---|---|---|---|---|---|---|---|---|\n",
       "|  4 | 1 | AS_1 | 1 | 0 | 0 | 30 | 23.3 | 1 | 1 | ⋯ |   1.816 | 25.669 | 0.171 | 0.057 | 0.224 | 0.641 | 0.004 | 3.014 | 1.969 | 1110.442 |\n",
       "|  7 | 2 | AS_2 | 0 | 0 | 0 | 39 | 32.7 | 1 | 2 | ⋯ | 112.521 | 17.867 | 0.062 | 0.046 | 0.106 | 0.286 | 0.015 | 2.508 | 1.287 |  673.328 |\n",
       "| 11 | 3 | AS_3 | 1 | 0 | 0 | 23 | 23.0 | 1 | 1 | ⋯ |   6.686 |  8.066 | 0.052 | 0.046 | 0.094 | 0.279 | 0.005 | 1.549 | 1.200 |  537.509 |\n",
       "| 13 | 4 | AS_4 | 1 | 0 | 0 | 20 | 21.4 | 1 | 0 | ⋯ |  48.416 | 10.132 | 0.013 | 0.046 | 0.085 | 0.297 | 0.016 | 1.833 | 1.062 |  482.396 |\n",
       "| 15 | 5 | AS_5 | 0 | 3 | 0 | 20 | 34.5 | 1 | 3 | ⋯ |  13.006 | 13.090 | 0.117 | 0.060 | 0.116 | 0.255 | 0.020 | 3.628 | 1.795 |  586.750 |\n",
       "| 16 | 6 | AS_6 | 0 | 0 | 0 | 25 | 25.2 | 1 | 3 | ⋯ |  36.458 | 14.331 | 0.022 | 0.034 | 0.077 | 0.272 | 0.006 | 1.914 | 0.966 |  639.636 |\n",
       "\n"
      ],
      "text/plain": [
       "  Original_Subject_No Subject_No Subject_ID Sex Race Ethnicity Age BMI \n",
       "1  4                  1          AS_1       1   0    0         30  23.3\n",
       "2  7                  2          AS_2       0   0    0         39  32.7\n",
       "3 11                  3          AS_3       1   0    0         23  23.0\n",
       "4 13                  4          AS_4       1   0    0         20  21.4\n",
       "5 15                  5          AS_5       0   3    0         20  34.5\n",
       "6 16                  6          AS_6       0   0    0         25  25.2\n",
       "  Disease_Status Visit_Season ⋯ SecoB   bEP_Chol Lan   Zym   DHL   Des   dHLan\n",
       "1 1              1            ⋯   1.816 25.669   0.171 0.057 0.224 0.641 0.004\n",
       "2 1              2            ⋯ 112.521 17.867   0.062 0.046 0.106 0.286 0.015\n",
       "3 1              1            ⋯   6.686  8.066   0.052 0.046 0.094 0.279 0.005\n",
       "4 1              0            ⋯  48.416 10.132   0.013 0.046 0.085 0.297 0.016\n",
       "5 1              3            ⋯  13.006 13.090   0.117 0.060 0.116 0.255 0.020\n",
       "6 1              3            ⋯  36.458 14.331   0.022 0.034 0.077 0.272 0.006\n",
       "  Zyme  Lath  Chol    \n",
       "1 3.014 1.969 1110.442\n",
       "2 2.508 1.287  673.328\n",
       "3 1.549 1.200  537.509\n",
       "4 1.833 1.062  482.396\n",
       "5 3.628 1.795  586.750\n",
       "6 1.914 0.966  639.636"
      ]
     },
     "metadata": {},
     "output_type": "display_data"
    }
   ],
   "source": [
    "# making responder columns binary denoted by 0 = non-responder and 1 = responder and covariates\n",
    "wider_data = wider_data %>%\n",
    "    mutate(Inflammatory_Responder = relevel(factor(ifelse(Inflammatory_Responder == \"R\", 1, 0)), ref = \"0\")) %>%\n",
    "    mutate(Lung_Responder = relevel(factor(ifelse(Lung_Responder == \"R\", 1, 0)), ref = \"0\")) %>%\n",
    "    # for some reason RF didn't this variable so I changed it\n",
    "    rename(X25OH_VitD = `25OH_VitD`) %>%\n",
    "    mutate(Sex = relevel(factor(ifelse(Sex == \"M\", 1, 0)), ref = \"0\")) %>%\n",
    "    mutate(Race = relevel(factor(ifelse(Race == \"M\", 1,\n",
    "                                        ifelse(Race == \"As\", 2,\n",
    "                                        ifelse(Race == \"B\", 3, 0)))), ref = \"0\")) %>%\n",
    "    mutate(Ethnicity = relevel(factor(ifelse(Ethnicity == \"H\", 1, 0)), ref = \"0\")) %>%\n",
    "    mutate(Disease_Status = relevel(factor(ifelse(Disease_Status == \"AS\", 1, 0)), ref = \"0\")) %>%\n",
    "    mutate(Visit_Season = relevel(factor(ifelse(Visit_Season == \"Su\", 3, \n",
    "                                               ifelse(Visit_Season == \"Sp\", 2,\n",
    "                                               ifelse(Visit_Season == \"Fa\", 1, 0)))), ref = \"0\"))\n",
    "\n",
    "head(wider_data)"
   ]
  },
  {
   "cell_type": "code",
   "execution_count": 6,
   "id": "68b83264",
   "metadata": {},
   "outputs": [
    {
     "name": "stderr",
     "output_type": "stream",
     "text": [
      "Using Variable1 as id variables\n",
      "\n"
     ]
    },
    {
     "data": {
      "text/html": [
       "<table class=\"dataframe\">\n",
       "<caption>A data.frame: 6 × 3</caption>\n",
       "<thead>\n",
       "\t<tr><th></th><th scope=col>Variable1</th><th scope=col>Variable2</th><th scope=col>Spearman Coefficient</th></tr>\n",
       "\t<tr><th></th><th scope=col>&lt;chr&gt;</th><th scope=col>&lt;fct&gt;</th><th scope=col>&lt;dbl&gt;</th></tr>\n",
       "</thead>\n",
       "<tbody>\n",
       "\t<tr><th scope=row>1</th><td>Lath</td><td>Zyme</td><td>0.8991304</td></tr>\n",
       "\t<tr><th scope=row>2</th><td>Des </td><td>DHL </td><td>0.7407569</td></tr>\n",
       "\t<tr><th scope=row>3</th><td>Lath</td><td>DHL </td><td>0.7379865</td></tr>\n",
       "\t<tr><th scope=row>4</th><td>DHL </td><td>Lan </td><td>0.7355372</td></tr>\n",
       "\t<tr><th scope=row>5</th><td>Zyme</td><td>Zym </td><td>0.7322601</td></tr>\n",
       "\t<tr><th scope=row>6</th><td>Zyme</td><td>DHL </td><td>0.7053707</td></tr>\n",
       "</tbody>\n",
       "</table>\n"
      ],
      "text/latex": [
       "A data.frame: 6 × 3\n",
       "\\begin{tabular}{r|lll}\n",
       "  & Variable1 & Variable2 & Spearman Coefficient\\\\\n",
       "  & <chr> & <fct> & <dbl>\\\\\n",
       "\\hline\n",
       "\t1 & Lath & Zyme & 0.8991304\\\\\n",
       "\t2 & Des  & DHL  & 0.7407569\\\\\n",
       "\t3 & Lath & DHL  & 0.7379865\\\\\n",
       "\t4 & DHL  & Lan  & 0.7355372\\\\\n",
       "\t5 & Zyme & Zym  & 0.7322601\\\\\n",
       "\t6 & Zyme & DHL  & 0.7053707\\\\\n",
       "\\end{tabular}\n"
      ],
      "text/markdown": [
       "\n",
       "A data.frame: 6 × 3\n",
       "\n",
       "| <!--/--> | Variable1 &lt;chr&gt; | Variable2 &lt;fct&gt; | Spearman Coefficient &lt;dbl&gt; |\n",
       "|---|---|---|---|\n",
       "| 1 | Lath | Zyme | 0.8991304 |\n",
       "| 2 | Des  | DHL  | 0.7407569 |\n",
       "| 3 | Lath | DHL  | 0.7379865 |\n",
       "| 4 | DHL  | Lan  | 0.7355372 |\n",
       "| 5 | Zyme | Zym  | 0.7322601 |\n",
       "| 6 | Zyme | DHL  | 0.7053707 |\n",
       "\n"
      ],
      "text/plain": [
       "  Variable1 Variable2 Spearman Coefficient\n",
       "1 Lath      Zyme      0.8991304           \n",
       "2 Des       DHL       0.7407569           \n",
       "3 Lath      DHL       0.7379865           \n",
       "4 DHL       Lan       0.7355372           \n",
       "5 Zyme      Zym       0.7322601           \n",
       "6 Zyme      DHL       0.7053707           "
      ]
     },
     "metadata": {},
     "output_type": "display_data"
    }
   ],
   "source": [
    "# Variable Selection to determine which variables are collinear and need to be removed\n",
    "\n",
    "# creating correlation matrix\n",
    "corr_matrix = rcorr(as.matrix(wider_data[13:23]), type = \"spearman\")\n",
    "# creating df where I can easily view coefficents that are highly correlated (rho > 0.7 or rho < -0.7)\n",
    "corr_matrix_df = data.frame(corr_matrix$r) %>%\n",
    "  rownames_to_column(var = \"Variable1\") %>%\n",
    "  # needed to specificy package of melt for it to work\n",
    "  reshape2::melt(variable = \"Variable2\", value.name = \"Spearman Coefficient\") %>%\n",
    "  # also removed values = 1, because those were correlations between the same variable\n",
    "  filter(abs(`Spearman Coefficient`) < 1 & abs(`Spearman Coefficient`) > 0.7) %>%\n",
    "  arrange(desc(`Spearman Coefficient`)) %>%\n",
    "  # removing duplicate spearman coefficient values and keeping all columns\n",
    "  distinct(`Spearman Coefficient`, .keep_all = TRUE) \n",
    "\n",
    "head(corr_matrix_df)"
   ]
  },
  {
   "cell_type": "code",
   "execution_count": 7,
   "id": "4d5344a7",
   "metadata": {},
   "outputs": [
    {
     "name": "stderr",
     "output_type": "stream",
     "text": [
      "\u001b[1m\u001b[22mJoining, by = c(\"Var1\", \"Freq\")\n"
     ]
    },
    {
     "data": {
      "text/html": [
       "<table class=\"dataframe\">\n",
       "<caption>A data.frame: 3 × 2</caption>\n",
       "<thead>\n",
       "\t<tr><th scope=col>Var1</th><th scope=col>Freq</th></tr>\n",
       "\t<tr><th scope=col>&lt;fct&gt;</th><th scope=col>&lt;int&gt;</th></tr>\n",
       "</thead>\n",
       "<tbody>\n",
       "\t<tr><td>DHL </td><td>3</td></tr>\n",
       "\t<tr><td>Lath</td><td>2</td></tr>\n",
       "\t<tr><td>Zyme</td><td>2</td></tr>\n",
       "</tbody>\n",
       "</table>\n"
      ],
      "text/latex": [
       "A data.frame: 3 × 2\n",
       "\\begin{tabular}{ll}\n",
       " Var1 & Freq\\\\\n",
       " <fct> & <int>\\\\\n",
       "\\hline\n",
       "\t DHL  & 3\\\\\n",
       "\t Lath & 2\\\\\n",
       "\t Zyme & 2\\\\\n",
       "\\end{tabular}\n"
      ],
      "text/markdown": [
       "\n",
       "A data.frame: 3 × 2\n",
       "\n",
       "| Var1 &lt;fct&gt; | Freq &lt;int&gt; |\n",
       "|---|---|\n",
       "| DHL  | 3 |\n",
       "| Lath | 2 |\n",
       "| Zyme | 2 |\n",
       "\n"
      ],
      "text/plain": [
       "  Var1 Freq\n",
       "1 DHL  3   \n",
       "2 Lath 2   \n",
       "3 Zyme 2   "
      ]
     },
     "metadata": {},
     "output_type": "display_data"
    }
   ],
   "source": [
    "# counting number of occurences\n",
    "occurences_df = full_join(data.frame(table(corr_matrix_df$Variable1)), \n",
    "                           data.frame(table(corr_matrix_df$Variable2))) %>%\n",
    "    arrange(-Freq) %>%\n",
    "    # removing variables with greater than 2 occurences\n",
    "    filter(Freq >= 2)\n",
    "occurences_df"
   ]
  },
  {
   "cell_type": "code",
   "execution_count": 8,
   "id": "wrong-spectrum",
   "metadata": {},
   "outputs": [
    {
     "data": {
      "text/html": [
       "<table class=\"dataframe\">\n",
       "<caption>A tibble: 6 × 19</caption>\n",
       "<thead>\n",
       "\t<tr><th scope=col>Sex</th><th scope=col>Race</th><th scope=col>Ethnicity</th><th scope=col>Age</th><th scope=col>BMI</th><th scope=col>Disease_Status</th><th scope=col>Visit_Season</th><th scope=col>Lung_Responder</th><th scope=col>X25OH_VitD</th><th scope=col>SecoB</th><th scope=col>bEP_Chol</th><th scope=col>Lan</th><th scope=col>Zym</th><th scope=col>DHL</th><th scope=col>Des</th><th scope=col>dHLan</th><th scope=col>Zyme</th><th scope=col>Lath</th><th scope=col>Chol</th></tr>\n",
       "\t<tr><th scope=col>&lt;fct&gt;</th><th scope=col>&lt;fct&gt;</th><th scope=col>&lt;fct&gt;</th><th scope=col>&lt;dbl&gt;</th><th scope=col>&lt;dbl&gt;</th><th scope=col>&lt;fct&gt;</th><th scope=col>&lt;fct&gt;</th><th scope=col>&lt;fct&gt;</th><th scope=col>&lt;dbl&gt;</th><th scope=col>&lt;dbl&gt;</th><th scope=col>&lt;dbl&gt;</th><th scope=col>&lt;dbl&gt;</th><th scope=col>&lt;dbl&gt;</th><th scope=col>&lt;dbl&gt;</th><th scope=col>&lt;dbl&gt;</th><th scope=col>&lt;dbl&gt;</th><th scope=col>&lt;dbl&gt;</th><th scope=col>&lt;dbl&gt;</th><th scope=col>&lt;dbl&gt;</th></tr>\n",
       "</thead>\n",
       "<tbody>\n",
       "\t<tr><td>1</td><td>0</td><td>0</td><td>30</td><td>23.3</td><td>1</td><td>1</td><td>0</td><td>61.57312</td><td>  1.816</td><td>25.669</td><td>0.171</td><td>0.057</td><td>0.224</td><td>0.641</td><td>0.004</td><td>3.014</td><td>1.969</td><td>1110.442</td></tr>\n",
       "\t<tr><td>0</td><td>0</td><td>0</td><td>39</td><td>32.7</td><td>1</td><td>2</td><td>0</td><td>20.31488</td><td>112.521</td><td>17.867</td><td>0.062</td><td>0.046</td><td>0.106</td><td>0.286</td><td>0.015</td><td>2.508</td><td>1.287</td><td> 673.328</td></tr>\n",
       "\t<tr><td>1</td><td>0</td><td>0</td><td>23</td><td>23.0</td><td>1</td><td>1</td><td>1</td><td>50.92712</td><td>  6.686</td><td> 8.066</td><td>0.052</td><td>0.046</td><td>0.094</td><td>0.279</td><td>0.005</td><td>1.549</td><td>1.200</td><td> 537.509</td></tr>\n",
       "\t<tr><td>1</td><td>0</td><td>0</td><td>20</td><td>21.4</td><td>1</td><td>0</td><td>0</td><td>30.55712</td><td> 48.416</td><td>10.132</td><td>0.013</td><td>0.046</td><td>0.085</td><td>0.297</td><td>0.016</td><td>1.833</td><td>1.062</td><td> 482.396</td></tr>\n",
       "\t<tr><td>0</td><td>3</td><td>0</td><td>20</td><td>34.5</td><td>1</td><td>3</td><td>0</td><td>29.90213</td><td> 13.006</td><td>13.090</td><td>0.117</td><td>0.060</td><td>0.116</td><td>0.255</td><td>0.020</td><td>3.628</td><td>1.795</td><td> 586.750</td></tr>\n",
       "\t<tr><td>0</td><td>0</td><td>0</td><td>25</td><td>25.2</td><td>1</td><td>3</td><td>0</td><td>33.79675</td><td> 36.458</td><td>14.331</td><td>0.022</td><td>0.034</td><td>0.077</td><td>0.272</td><td>0.006</td><td>1.914</td><td>0.966</td><td> 639.636</td></tr>\n",
       "</tbody>\n",
       "</table>\n"
      ],
      "text/latex": [
       "A tibble: 6 × 19\n",
       "\\begin{tabular}{lllllllllllllllllll}\n",
       " Sex & Race & Ethnicity & Age & BMI & Disease\\_Status & Visit\\_Season & Lung\\_Responder & X25OH\\_VitD & SecoB & bEP\\_Chol & Lan & Zym & DHL & Des & dHLan & Zyme & Lath & Chol\\\\\n",
       " <fct> & <fct> & <fct> & <dbl> & <dbl> & <fct> & <fct> & <fct> & <dbl> & <dbl> & <dbl> & <dbl> & <dbl> & <dbl> & <dbl> & <dbl> & <dbl> & <dbl> & <dbl>\\\\\n",
       "\\hline\n",
       "\t 1 & 0 & 0 & 30 & 23.3 & 1 & 1 & 0 & 61.57312 &   1.816 & 25.669 & 0.171 & 0.057 & 0.224 & 0.641 & 0.004 & 3.014 & 1.969 & 1110.442\\\\\n",
       "\t 0 & 0 & 0 & 39 & 32.7 & 1 & 2 & 0 & 20.31488 & 112.521 & 17.867 & 0.062 & 0.046 & 0.106 & 0.286 & 0.015 & 2.508 & 1.287 &  673.328\\\\\n",
       "\t 1 & 0 & 0 & 23 & 23.0 & 1 & 1 & 1 & 50.92712 &   6.686 &  8.066 & 0.052 & 0.046 & 0.094 & 0.279 & 0.005 & 1.549 & 1.200 &  537.509\\\\\n",
       "\t 1 & 0 & 0 & 20 & 21.4 & 1 & 0 & 0 & 30.55712 &  48.416 & 10.132 & 0.013 & 0.046 & 0.085 & 0.297 & 0.016 & 1.833 & 1.062 &  482.396\\\\\n",
       "\t 0 & 3 & 0 & 20 & 34.5 & 1 & 3 & 0 & 29.90213 &  13.006 & 13.090 & 0.117 & 0.060 & 0.116 & 0.255 & 0.020 & 3.628 & 1.795 &  586.750\\\\\n",
       "\t 0 & 0 & 0 & 25 & 25.2 & 1 & 3 & 0 & 33.79675 &  36.458 & 14.331 & 0.022 & 0.034 & 0.077 & 0.272 & 0.006 & 1.914 & 0.966 &  639.636\\\\\n",
       "\\end{tabular}\n"
      ],
      "text/markdown": [
       "\n",
       "A tibble: 6 × 19\n",
       "\n",
       "| Sex &lt;fct&gt; | Race &lt;fct&gt; | Ethnicity &lt;fct&gt; | Age &lt;dbl&gt; | BMI &lt;dbl&gt; | Disease_Status &lt;fct&gt; | Visit_Season &lt;fct&gt; | Lung_Responder &lt;fct&gt; | X25OH_VitD &lt;dbl&gt; | SecoB &lt;dbl&gt; | bEP_Chol &lt;dbl&gt; | Lan &lt;dbl&gt; | Zym &lt;dbl&gt; | DHL &lt;dbl&gt; | Des &lt;dbl&gt; | dHLan &lt;dbl&gt; | Zyme &lt;dbl&gt; | Lath &lt;dbl&gt; | Chol &lt;dbl&gt; |\n",
       "|---|---|---|---|---|---|---|---|---|---|---|---|---|---|---|---|---|---|---|\n",
       "| 1 | 0 | 0 | 30 | 23.3 | 1 | 1 | 0 | 61.57312 |   1.816 | 25.669 | 0.171 | 0.057 | 0.224 | 0.641 | 0.004 | 3.014 | 1.969 | 1110.442 |\n",
       "| 0 | 0 | 0 | 39 | 32.7 | 1 | 2 | 0 | 20.31488 | 112.521 | 17.867 | 0.062 | 0.046 | 0.106 | 0.286 | 0.015 | 2.508 | 1.287 |  673.328 |\n",
       "| 1 | 0 | 0 | 23 | 23.0 | 1 | 1 | 1 | 50.92712 |   6.686 |  8.066 | 0.052 | 0.046 | 0.094 | 0.279 | 0.005 | 1.549 | 1.200 |  537.509 |\n",
       "| 1 | 0 | 0 | 20 | 21.4 | 1 | 0 | 0 | 30.55712 |  48.416 | 10.132 | 0.013 | 0.046 | 0.085 | 0.297 | 0.016 | 1.833 | 1.062 |  482.396 |\n",
       "| 0 | 3 | 0 | 20 | 34.5 | 1 | 3 | 0 | 29.90213 |  13.006 | 13.090 | 0.117 | 0.060 | 0.116 | 0.255 | 0.020 | 3.628 | 1.795 |  586.750 |\n",
       "| 0 | 0 | 0 | 25 | 25.2 | 1 | 3 | 0 | 33.79675 |  36.458 | 14.331 | 0.022 | 0.034 | 0.077 | 0.272 | 0.006 | 1.914 | 0.966 |  639.636 |\n",
       "\n"
      ],
      "text/plain": [
       "  Sex Race Ethnicity Age BMI  Disease_Status Visit_Season Lung_Responder\n",
       "1 1   0    0         30  23.3 1              1            0             \n",
       "2 0   0    0         39  32.7 1              2            0             \n",
       "3 1   0    0         23  23.0 1              1            1             \n",
       "4 1   0    0         20  21.4 1              0            0             \n",
       "5 0   3    0         20  34.5 1              3            0             \n",
       "6 0   0    0         25  25.2 1              3            0             \n",
       "  X25OH_VitD SecoB   bEP_Chol Lan   Zym   DHL   Des   dHLan Zyme  Lath \n",
       "1 61.57312     1.816 25.669   0.171 0.057 0.224 0.641 0.004 3.014 1.969\n",
       "2 20.31488   112.521 17.867   0.062 0.046 0.106 0.286 0.015 2.508 1.287\n",
       "3 50.92712     6.686  8.066   0.052 0.046 0.094 0.279 0.005 1.549 1.200\n",
       "4 30.55712    48.416 10.132   0.013 0.046 0.085 0.297 0.016 1.833 1.062\n",
       "5 29.90213    13.006 13.090   0.117 0.060 0.116 0.255 0.020 3.628 1.795\n",
       "6 33.79675    36.458 14.331   0.022 0.034 0.077 0.272 0.006 1.914 0.966\n",
       "  Chol    \n",
       "1 1110.442\n",
       "2  673.328\n",
       "3  537.509\n",
       "4  482.396\n",
       "5  586.750\n",
       "6  639.636"
      ]
     },
     "metadata": {},
     "output_type": "display_data"
    }
   ],
   "source": [
    "# var selection\n",
    "wider_data = wider_data #%>% select(-DHL)\n",
    "\n",
    "inflamm_resp_df = wider_data[,11:23] %>% select(-Lung_Responder)\n",
    "inflamm_resp_covariates_df = wider_data[,4:23] %>% select(-Lung_Responder)\n",
    "lung_resp_df = wider_data[,12:23]\n",
    "lung_resp_covariates_df = wider_data[,4:23] %>% select(-Inflammatory_Responder)\n",
    "\n",
    "head(lung_resp_covariates_df)"
   ]
  },
  {
   "cell_type": "markdown",
   "id": "limited-hands",
   "metadata": {},
   "source": [
    "# Random Forest\n",
    "\n",
    "- an ensemble learning method operating by constructing a multitude of decision trees at training time, which uses multiple methods to obtain a better predictive performance and includes bagging and random forest\n",
    "- algorithm uses a bootstrop aggregation, to reduce overfitting the training datset but only a subset of the features are used hence decorrelation of predictors"
   ]
  },
  {
   "cell_type": "code",
   "execution_count": 9,
   "id": "important-paragraph",
   "metadata": {},
   "outputs": [],
   "source": [
    "rf_classification = function(dataset, outcome, pred_outcome){\n",
    "    # setting for reproducibility\n",
    "    set.seed(12)\n",
    "    # splitting data into training and testing sets\n",
    "    dataset_index = createFolds(dataset[[outcome]], k = 5) # 5 fold CV\n",
    "\n",
    "    metrics = data.frame()\n",
    "    variable_importance_df = data.frame()\n",
    "    roc_objects = c()\n",
    "    threshold_data = data.frame()\n",
    "    \n",
    "    for (i in 1:length(dataset_index)){\n",
    "        data_train = dataset[-dataset_index[[i]],]\n",
    "        data_test = dataset[dataset_index[[i]],]\n",
    "\n",
    "        ntree_values = c(50, 250, 500) # number of trees (not sure if we wanted something different)\n",
    "        p = dim(dataset)[2] - 1 # number of variables in dataset\n",
    "        mtry_values = c(sqrt(p), p/2, p/3)\n",
    "\n",
    "        # will use ntree and mtry values to determine which combination yields the smallest MSE\n",
    "        reg_rf_pred_tune = list()\n",
    "        rf_OOB_errors = list()\n",
    "        rf_error_df = data.frame()\n",
    "        for (j in 1:length(ntree_values)){\n",
    "            for (k in 1:length(mtry_values)){\n",
    "                reg_rf_pred_tune[[k]] = randomForest(as.formula(paste0(outcome, \"~.\")), data = data_train, \n",
    "                                                     ntree = ntree_values[j], mtry = mtry_values[k])\n",
    "                rf_OOB_errors[[k]] = data.frame(\"Tree Number\" = ntree_values[j], \"Variable Number\" = mtry_values[k], \n",
    "                                       \"OOB_errors\" = reg_rf_pred_tune[[k]]$err.rate[ntree_values[j],1])\n",
    "                rf_error_df = rbind(rf_error_df, rf_OOB_errors[[k]])\n",
    "            }\n",
    "        }\n",
    "\n",
    "        # finding the lowest OOB error using best number of predictors at split and refitting OG tree\n",
    "        best_oob_errors <- which(rf_error_df$OOB_errors == min(rf_error_df$OOB_errors))\n",
    "        \n",
    "        # many models have the lowest errors, so now selecting based on largest number of trees grown\n",
    "        best_oob_df = rf_error_df[best_oob_errors, ]\n",
    "        largest_trees = which(best_oob_df$Tree.Number == max(best_oob_df$Tree.Number))\n",
    "        \n",
    "        # still duplicate models w/ the lowest errors, so now selecting based on # of predictors = sqrt(p)\n",
    "        best_tree_df = best_oob_df[largest_trees, ]\n",
    "        default_predictor_number = which(best_tree_df$Variable.Number == max(best_tree_df$Variable.Number))\n",
    "\n",
    "\n",
    "        reg_rf <- randomForest(as.formula(paste0(outcome, \"~.\")), data = data_train,\n",
    "                               ntree = best_tree_df$Tree.Number[default_predictor_number],\n",
    "                               mtry = best_tree_df$Variable.Number[default_predictor_number])\n",
    "\n",
    "        # predicting on test set\n",
    "        data_test[[pred_outcome]] = predict(reg_rf, newdata = data_test, type = \"response\")\n",
    "        \n",
    "        matrix = confusionMatrix(data = data_test[[pred_outcome]], reference = data_test[[outcome]], \n",
    "                                     positive = \"1\")\n",
    "\n",
    "        # calculating AUC\n",
    "        auc = auc(response = data_test[[outcome]], predictor = factor(data_test[[pred_outcome]], ordered = TRUE))\n",
    "\n",
    "        \n",
    "        # calculating values to plot ROC curve later\n",
    "        roc_obj = roc(response = data_test[[outcome]], predictor = factor(data_test[[pred_outcome]], ordered = TRUE))\n",
    "\n",
    "        # Return max Youden's index, with specificity and sensitivity\n",
    "        best_thres_data = data.frame(coords(roc_obj, x = \"best\", best.method = c(\"youden\", \"closest.topleft\")))\n",
    "        threshold_data = rbind(threshold_data, best_thres_data)\n",
    "        \n",
    "        # extracting accuracy, sens, spec, PPV to take mean later\n",
    "        matrix_values = data.frame(t(c(matrix$byClass[11])), t(c(matrix$byClass[1:3])), auc)\n",
    "        \n",
    "        # extracting variable importance\n",
    "        var_importance_values = data.frame(importance(reg_rf)) %>%\n",
    "            rownames_to_column(var = \"Predictor\")\n",
    "        variable_importance_df = rbind(variable_importance_df, var_importance_values)\n",
    "   \n",
    "        # adding values to df\n",
    "        metrics = rbind(metrics, matrix_values)\n",
    "        \n",
    "    }\n",
    "    \n",
    "    # taking averages/sd \n",
    "    metrics = metrics %>%\n",
    "        summarise(`Balanced Accuracy` = mean(Balanced.Accuracy), Sensitivity = mean(Sensitivity), \n",
    "              Specificity = mean(Specificity), PPV = mean(Pos.Pred.Value), AUC = mean(auc))\n",
    "    \n",
    "    variable_importance_df = variable_importance_df %>%\n",
    "        group_by(Predictor) %>%\n",
    "        summarise(MeanDecreaseGini = mean(MeanDecreaseGini)) %>%\n",
    "        # sorting by most important variables\n",
    "        arrange(-MeanDecreaseGini)\n",
    "  \n",
    "    # return training set, matrix, variable importance values, (last) roc object, best threshold data\n",
    "    return(list(data_train, metrics, variable_importance_df, roc_obj, threshold_data))\n",
    "\n",
    "}"
   ]
  },
  {
   "cell_type": "code",
   "execution_count": 10,
   "id": "julian-brush",
   "metadata": {},
   "outputs": [
    {
     "name": "stderr",
     "output_type": "stream",
     "text": [
      "Setting levels: control = 0, case = 1\n",
      "\n",
      "Setting direction: controls > cases\n",
      "\n",
      "Setting levels: control = 0, case = 1\n",
      "\n",
      "Setting direction: controls > cases\n",
      "\n",
      "Setting levels: control = 0, case = 1\n",
      "\n",
      "Setting direction: controls < cases\n",
      "\n",
      "Setting levels: control = 0, case = 1\n",
      "\n",
      "Setting direction: controls < cases\n",
      "\n",
      "Setting levels: control = 0, case = 1\n",
      "\n",
      "Setting direction: controls < cases\n",
      "\n",
      "Setting levels: control = 0, case = 1\n",
      "\n",
      "Setting direction: controls < cases\n",
      "\n",
      "Setting levels: control = 0, case = 1\n",
      "\n",
      "Setting direction: controls < cases\n",
      "\n",
      "Setting levels: control = 0, case = 1\n",
      "\n",
      "Setting direction: controls < cases\n",
      "\n",
      "Setting levels: control = 0, case = 1\n",
      "\n",
      "Setting direction: controls < cases\n",
      "\n",
      "Setting levels: control = 0, case = 1\n",
      "\n",
      "Setting direction: controls < cases\n",
      "\n",
      "Setting levels: control = 0, case = 1\n",
      "\n",
      "Setting direction: controls < cases\n",
      "\n",
      "Setting levels: control = 0, case = 1\n",
      "\n",
      "Setting direction: controls < cases\n",
      "\n",
      "Setting levels: control = 0, case = 1\n",
      "\n",
      "Setting direction: controls < cases\n",
      "\n",
      "Setting levels: control = 0, case = 1\n",
      "\n",
      "Setting direction: controls < cases\n",
      "\n",
      "Setting levels: control = 0, case = 1\n",
      "\n",
      "Setting direction: controls < cases\n",
      "\n",
      "Setting levels: control = 0, case = 1\n",
      "\n",
      "Setting direction: controls < cases\n",
      "\n",
      "Setting levels: control = 0, case = 1\n",
      "\n",
      "Setting direction: controls < cases\n",
      "\n",
      "Setting levels: control = 0, case = 1\n",
      "\n",
      "Setting direction: controls < cases\n",
      "\n",
      "Setting levels: control = 0, case = 1\n",
      "\n",
      "Setting direction: controls < cases\n",
      "\n",
      "Setting levels: control = 0, case = 1\n",
      "\n",
      "Setting direction: controls < cases\n",
      "\n",
      "Setting levels: control = 0, case = 1\n",
      "\n",
      "Setting direction: controls < cases\n",
      "\n",
      "Setting levels: control = 0, case = 1\n",
      "\n",
      "Setting direction: controls < cases\n",
      "\n",
      "Setting levels: control = 0, case = 1\n",
      "\n",
      "Setting direction: controls > cases\n",
      "\n",
      "Setting levels: control = 0, case = 1\n",
      "\n",
      "Setting direction: controls > cases\n",
      "\n",
      "Setting levels: control = 0, case = 1\n",
      "\n",
      "Setting direction: controls < cases\n",
      "\n",
      "Setting levels: control = 0, case = 1\n",
      "\n",
      "Setting direction: controls < cases\n",
      "\n",
      "Setting levels: control = 0, case = 1\n",
      "\n",
      "Setting direction: controls < cases\n",
      "\n",
      "Setting levels: control = 0, case = 1\n",
      "\n",
      "Setting direction: controls < cases\n",
      "\n",
      "Setting levels: control = 0, case = 1\n",
      "\n",
      "Setting direction: controls < cases\n",
      "\n",
      "Setting levels: control = 0, case = 1\n",
      "\n",
      "Setting direction: controls < cases\n",
      "\n",
      "Setting levels: control = 0, case = 1\n",
      "\n",
      "Setting direction: controls < cases\n",
      "\n",
      "Setting levels: control = 0, case = 1\n",
      "\n",
      "Setting direction: controls < cases\n",
      "\n",
      "Setting levels: control = 0, case = 1\n",
      "\n",
      "Setting direction: controls < cases\n",
      "\n",
      "Setting levels: control = 0, case = 1\n",
      "\n",
      "Setting direction: controls < cases\n",
      "\n",
      "Setting levels: control = 0, case = 1\n",
      "\n",
      "Setting direction: controls < cases\n",
      "\n",
      "Setting levels: control = 0, case = 1\n",
      "\n",
      "Setting direction: controls < cases\n",
      "\n",
      "Setting levels: control = 0, case = 1\n",
      "\n",
      "Setting direction: controls < cases\n",
      "\n",
      "Setting levels: control = 0, case = 1\n",
      "\n",
      "Setting direction: controls < cases\n",
      "\n",
      "Setting levels: control = 0, case = 1\n",
      "\n",
      "Setting direction: controls < cases\n",
      "\n",
      "Setting levels: control = 0, case = 1\n",
      "\n",
      "Setting direction: controls < cases\n",
      "\n"
     ]
    }
   ],
   "source": [
    "# calling fn\n",
    "rf_values_inflamm_resp = rf_classification(inflamm_resp_df, \"Inflammatory_Responder\", \"pred_Inflammatory_Responder\")\n",
    "rf_values_lung_resp = rf_classification(lung_resp_df, \"Lung_Responder\", \"pred_Lung_Responder\")\n",
    "rf_values_inflamm_resp_covariates = rf_classification(inflamm_resp_covariates_df, \"Inflammatory_Responder\", \"pred_Inflammatory_Responder\")\n",
    "rf_values_lung_resp_covariates = rf_classification(lung_resp_covariates_df, \"Lung_Responder\", \"pred_Lung_Responder\")"
   ]
  },
  {
   "cell_type": "code",
   "execution_count": 11,
   "id": "quiet-fabric",
   "metadata": {},
   "outputs": [
    {
     "data": {
      "text/html": [
       "<table class=\"dataframe\">\n",
       "<caption>A data.frame: 4 × 8</caption>\n",
       "<thead>\n",
       "\t<tr><th scope=col>Model</th><th scope=col>Response</th><th scope=col>Covariates</th><th scope=col>Balanced.Accuracy</th><th scope=col>Sensitivity</th><th scope=col>Specificity</th><th scope=col>PPV</th><th scope=col>AUC</th></tr>\n",
       "\t<tr><th scope=col>&lt;chr&gt;</th><th scope=col>&lt;chr&gt;</th><th scope=col>&lt;chr&gt;</th><th scope=col>&lt;dbl&gt;</th><th scope=col>&lt;dbl&gt;</th><th scope=col>&lt;dbl&gt;</th><th scope=col>&lt;dbl&gt;</th><th scope=col>&lt;dbl&gt;</th></tr>\n",
       "</thead>\n",
       "<tbody>\n",
       "\t<tr><td>RF Classification</td><td>Inflammatory</td><td>No </td><td>0.4083333</td><td>0.8166667</td><td>0.0000000</td><td>0.6100000</td><td>0.5416667</td></tr>\n",
       "\t<tr><td>RF Classification</td><td>Inflammatory</td><td>Yes</td><td>0.3583333</td><td>0.7166667</td><td>0.0000000</td><td>0.5733333</td><td>0.5083333</td></tr>\n",
       "\t<tr><td>RF Classification</td><td>Lung        </td><td>No </td><td>0.8500000</td><td>0.8333333</td><td>0.8666667</td><td>0.8666667</td><td>0.8500000</td></tr>\n",
       "\t<tr><td>RF Classification</td><td>Lung        </td><td>Yes</td><td>0.8500000</td><td>0.8333333</td><td>0.8666667</td><td>0.8666667</td><td>0.8500000</td></tr>\n",
       "</tbody>\n",
       "</table>\n"
      ],
      "text/latex": [
       "A data.frame: 4 × 8\n",
       "\\begin{tabular}{llllllll}\n",
       " Model & Response & Covariates & Balanced.Accuracy & Sensitivity & Specificity & PPV & AUC\\\\\n",
       " <chr> & <chr> & <chr> & <dbl> & <dbl> & <dbl> & <dbl> & <dbl>\\\\\n",
       "\\hline\n",
       "\t RF Classification & Inflammatory & No  & 0.4083333 & 0.8166667 & 0.0000000 & 0.6100000 & 0.5416667\\\\\n",
       "\t RF Classification & Inflammatory & Yes & 0.3583333 & 0.7166667 & 0.0000000 & 0.5733333 & 0.5083333\\\\\n",
       "\t RF Classification & Lung         & No  & 0.8500000 & 0.8333333 & 0.8666667 & 0.8666667 & 0.8500000\\\\\n",
       "\t RF Classification & Lung         & Yes & 0.8500000 & 0.8333333 & 0.8666667 & 0.8666667 & 0.8500000\\\\\n",
       "\\end{tabular}\n"
      ],
      "text/markdown": [
       "\n",
       "A data.frame: 4 × 8\n",
       "\n",
       "| Model &lt;chr&gt; | Response &lt;chr&gt; | Covariates &lt;chr&gt; | Balanced.Accuracy &lt;dbl&gt; | Sensitivity &lt;dbl&gt; | Specificity &lt;dbl&gt; | PPV &lt;dbl&gt; | AUC &lt;dbl&gt; |\n",
       "|---|---|---|---|---|---|---|---|\n",
       "| RF Classification | Inflammatory | No  | 0.4083333 | 0.8166667 | 0.0000000 | 0.6100000 | 0.5416667 |\n",
       "| RF Classification | Inflammatory | Yes | 0.3583333 | 0.7166667 | 0.0000000 | 0.5733333 | 0.5083333 |\n",
       "| RF Classification | Lung         | No  | 0.8500000 | 0.8333333 | 0.8666667 | 0.8666667 | 0.8500000 |\n",
       "| RF Classification | Lung         | Yes | 0.8500000 | 0.8333333 | 0.8666667 | 0.8666667 | 0.8500000 |\n",
       "\n"
      ],
      "text/plain": [
       "  Model             Response     Covariates Balanced.Accuracy Sensitivity\n",
       "1 RF Classification Inflammatory No         0.4083333         0.8166667  \n",
       "2 RF Classification Inflammatory Yes        0.3583333         0.7166667  \n",
       "3 RF Classification Lung         No         0.8500000         0.8333333  \n",
       "4 RF Classification Lung         Yes        0.8500000         0.8333333  \n",
       "  Specificity PPV       AUC      \n",
       "1 0.0000000   0.6100000 0.5416667\n",
       "2 0.0000000   0.5733333 0.5083333\n",
       "3 0.8666667   0.8666667 0.8500000\n",
       "4 0.8666667   0.8666667 0.8500000"
      ]
     },
     "metadata": {},
     "output_type": "display_data"
    },
    {
     "data": {
      "text/html": [
       "<table class=\"dataframe\">\n",
       "<caption>A tibble: 6 × 2</caption>\n",
       "<thead>\n",
       "\t<tr><th scope=col>Predictor</th><th scope=col>MeanDecreaseGini</th></tr>\n",
       "\t<tr><th scope=col>&lt;chr&gt;</th><th scope=col>&lt;dbl&gt;</th></tr>\n",
       "</thead>\n",
       "<tbody>\n",
       "\t<tr><td>Chol    </td><td>1.1747072</td></tr>\n",
       "\t<tr><td>Lath    </td><td>1.0983830</td></tr>\n",
       "\t<tr><td>bEP_Chol</td><td>1.0255966</td></tr>\n",
       "\t<tr><td>SecoB   </td><td>0.9204824</td></tr>\n",
       "\t<tr><td>Des     </td><td>0.7188831</td></tr>\n",
       "\t<tr><td>Zyme    </td><td>0.5987638</td></tr>\n",
       "</tbody>\n",
       "</table>\n"
      ],
      "text/latex": [
       "A tibble: 6 × 2\n",
       "\\begin{tabular}{ll}\n",
       " Predictor & MeanDecreaseGini\\\\\n",
       " <chr> & <dbl>\\\\\n",
       "\\hline\n",
       "\t Chol     & 1.1747072\\\\\n",
       "\t Lath     & 1.0983830\\\\\n",
       "\t bEP\\_Chol & 1.0255966\\\\\n",
       "\t SecoB    & 0.9204824\\\\\n",
       "\t Des      & 0.7188831\\\\\n",
       "\t Zyme     & 0.5987638\\\\\n",
       "\\end{tabular}\n"
      ],
      "text/markdown": [
       "\n",
       "A tibble: 6 × 2\n",
       "\n",
       "| Predictor &lt;chr&gt; | MeanDecreaseGini &lt;dbl&gt; |\n",
       "|---|---|\n",
       "| Chol     | 1.1747072 |\n",
       "| Lath     | 1.0983830 |\n",
       "| bEP_Chol | 1.0255966 |\n",
       "| SecoB    | 0.9204824 |\n",
       "| Des      | 0.7188831 |\n",
       "| Zyme     | 0.5987638 |\n",
       "\n"
      ],
      "text/plain": [
       "  Predictor MeanDecreaseGini\n",
       "1 Chol      1.1747072       \n",
       "2 Lath      1.0983830       \n",
       "3 bEP_Chol  1.0255966       \n",
       "4 SecoB     0.9204824       \n",
       "5 Des       0.7188831       \n",
       "6 Zyme      0.5987638       "
      ]
     },
     "metadata": {},
     "output_type": "display_data"
    },
    {
     "data": {
      "text/html": [
       "<table class=\"dataframe\">\n",
       "<caption>A tibble: 6 × 2</caption>\n",
       "<thead>\n",
       "\t<tr><th scope=col>Predictor</th><th scope=col>MeanDecreaseGini</th></tr>\n",
       "\t<tr><th scope=col>&lt;chr&gt;</th><th scope=col>&lt;dbl&gt;</th></tr>\n",
       "</thead>\n",
       "<tbody>\n",
       "\t<tr><td>bEP_Chol</td><td>0.9616116</td></tr>\n",
       "\t<tr><td>Lath    </td><td>0.8531715</td></tr>\n",
       "\t<tr><td>Chol    </td><td>0.7928745</td></tr>\n",
       "\t<tr><td>SecoB   </td><td>0.7683006</td></tr>\n",
       "\t<tr><td>Zyme    </td><td>0.5945749</td></tr>\n",
       "\t<tr><td>Des     </td><td>0.5937323</td></tr>\n",
       "</tbody>\n",
       "</table>\n"
      ],
      "text/latex": [
       "A tibble: 6 × 2\n",
       "\\begin{tabular}{ll}\n",
       " Predictor & MeanDecreaseGini\\\\\n",
       " <chr> & <dbl>\\\\\n",
       "\\hline\n",
       "\t bEP\\_Chol & 0.9616116\\\\\n",
       "\t Lath     & 0.8531715\\\\\n",
       "\t Chol     & 0.7928745\\\\\n",
       "\t SecoB    & 0.7683006\\\\\n",
       "\t Zyme     & 0.5945749\\\\\n",
       "\t Des      & 0.5937323\\\\\n",
       "\\end{tabular}\n"
      ],
      "text/markdown": [
       "\n",
       "A tibble: 6 × 2\n",
       "\n",
       "| Predictor &lt;chr&gt; | MeanDecreaseGini &lt;dbl&gt; |\n",
       "|---|---|\n",
       "| bEP_Chol | 0.9616116 |\n",
       "| Lath     | 0.8531715 |\n",
       "| Chol     | 0.7928745 |\n",
       "| SecoB    | 0.7683006 |\n",
       "| Zyme     | 0.5945749 |\n",
       "| Des      | 0.5937323 |\n",
       "\n"
      ],
      "text/plain": [
       "  Predictor MeanDecreaseGini\n",
       "1 bEP_Chol  0.9616116       \n",
       "2 Lath      0.8531715       \n",
       "3 Chol      0.7928745       \n",
       "4 SecoB     0.7683006       \n",
       "5 Zyme      0.5945749       \n",
       "6 Des       0.5937323       "
      ]
     },
     "metadata": {},
     "output_type": "display_data"
    },
    {
     "data": {
      "text/html": [
       "<table class=\"dataframe\">\n",
       "<caption>A tibble: 6 × 2</caption>\n",
       "<thead>\n",
       "\t<tr><th scope=col>Predictor</th><th scope=col>MeanDecreaseGini</th></tr>\n",
       "\t<tr><th scope=col>&lt;chr&gt;</th><th scope=col>&lt;dbl&gt;</th></tr>\n",
       "</thead>\n",
       "<tbody>\n",
       "\t<tr><td>Chol      </td><td>1.9653682</td></tr>\n",
       "\t<tr><td>dHLan     </td><td>1.5438321</td></tr>\n",
       "\t<tr><td>Zym       </td><td>1.3533973</td></tr>\n",
       "\t<tr><td>X25OH_VitD</td><td>0.8161816</td></tr>\n",
       "\t<tr><td>DHL       </td><td>0.7516207</td></tr>\n",
       "\t<tr><td>Zyme      </td><td>0.7339622</td></tr>\n",
       "</tbody>\n",
       "</table>\n"
      ],
      "text/latex": [
       "A tibble: 6 × 2\n",
       "\\begin{tabular}{ll}\n",
       " Predictor & MeanDecreaseGini\\\\\n",
       " <chr> & <dbl>\\\\\n",
       "\\hline\n",
       "\t Chol       & 1.9653682\\\\\n",
       "\t dHLan      & 1.5438321\\\\\n",
       "\t Zym        & 1.3533973\\\\\n",
       "\t X25OH\\_VitD & 0.8161816\\\\\n",
       "\t DHL        & 0.7516207\\\\\n",
       "\t Zyme       & 0.7339622\\\\\n",
       "\\end{tabular}\n"
      ],
      "text/markdown": [
       "\n",
       "A tibble: 6 × 2\n",
       "\n",
       "| Predictor &lt;chr&gt; | MeanDecreaseGini &lt;dbl&gt; |\n",
       "|---|---|\n",
       "| Chol       | 1.9653682 |\n",
       "| dHLan      | 1.5438321 |\n",
       "| Zym        | 1.3533973 |\n",
       "| X25OH_VitD | 0.8161816 |\n",
       "| DHL        | 0.7516207 |\n",
       "| Zyme       | 0.7339622 |\n",
       "\n"
      ],
      "text/plain": [
       "  Predictor  MeanDecreaseGini\n",
       "1 Chol       1.9653682       \n",
       "2 dHLan      1.5438321       \n",
       "3 Zym        1.3533973       \n",
       "4 X25OH_VitD 0.8161816       \n",
       "5 DHL        0.7516207       \n",
       "6 Zyme       0.7339622       "
      ]
     },
     "metadata": {},
     "output_type": "display_data"
    },
    {
     "data": {
      "text/html": [
       "<table class=\"dataframe\">\n",
       "<caption>A tibble: 6 × 2</caption>\n",
       "<thead>\n",
       "\t<tr><th scope=col>Predictor</th><th scope=col>MeanDecreaseGini</th></tr>\n",
       "\t<tr><th scope=col>&lt;chr&gt;</th><th scope=col>&lt;dbl&gt;</th></tr>\n",
       "</thead>\n",
       "<tbody>\n",
       "\t<tr><td>Chol      </td><td>1.9791634</td></tr>\n",
       "\t<tr><td>dHLan     </td><td>1.3501283</td></tr>\n",
       "\t<tr><td>Zym       </td><td>1.2128085</td></tr>\n",
       "\t<tr><td>X25OH_VitD</td><td>0.6894127</td></tr>\n",
       "\t<tr><td>DHL       </td><td>0.6823232</td></tr>\n",
       "\t<tr><td>Zyme      </td><td>0.6125265</td></tr>\n",
       "</tbody>\n",
       "</table>\n"
      ],
      "text/latex": [
       "A tibble: 6 × 2\n",
       "\\begin{tabular}{ll}\n",
       " Predictor & MeanDecreaseGini\\\\\n",
       " <chr> & <dbl>\\\\\n",
       "\\hline\n",
       "\t Chol       & 1.9791634\\\\\n",
       "\t dHLan      & 1.3501283\\\\\n",
       "\t Zym        & 1.2128085\\\\\n",
       "\t X25OH\\_VitD & 0.6894127\\\\\n",
       "\t DHL        & 0.6823232\\\\\n",
       "\t Zyme       & 0.6125265\\\\\n",
       "\\end{tabular}\n"
      ],
      "text/markdown": [
       "\n",
       "A tibble: 6 × 2\n",
       "\n",
       "| Predictor &lt;chr&gt; | MeanDecreaseGini &lt;dbl&gt; |\n",
       "|---|---|\n",
       "| Chol       | 1.9791634 |\n",
       "| dHLan      | 1.3501283 |\n",
       "| Zym        | 1.2128085 |\n",
       "| X25OH_VitD | 0.6894127 |\n",
       "| DHL        | 0.6823232 |\n",
       "| Zyme       | 0.6125265 |\n",
       "\n"
      ],
      "text/plain": [
       "  Predictor  MeanDecreaseGini\n",
       "1 Chol       1.9791634       \n",
       "2 dHLan      1.3501283       \n",
       "3 Zym        1.2128085       \n",
       "4 X25OH_VitD 0.6894127       \n",
       "5 DHL        0.6823232       \n",
       "6 Zyme       0.6125265       "
      ]
     },
     "metadata": {},
     "output_type": "display_data"
    }
   ],
   "source": [
    "# viewing results\n",
    "rf_confusion_matrix = data.frame(Model = c(rep(c(\"RF Classification\"), times = 4)), \n",
    "                                 Response = c(rep(c(\"Inflammatory\"), times = 2), rep(c(\"Lung\"), times = 2)),\n",
    "                                 Covariates = c(rep(c(\"No\", \"Yes\"), times = 2)), rbind(rf_values_inflamm_resp[[2]], \n",
    "                                rf_values_inflamm_resp_covariates[[2]], rf_values_lung_resp[[2]], rf_values_lung_resp_covariates[[2]]))\n",
    "rf_confusion_matrix\n",
    "\n",
    "# viewing most significant features\n",
    "head(rf_values_inflamm_resp[[3]])\n",
    "head(rf_values_inflamm_resp_covariates[[3]])\n",
    "head(rf_values_lung_resp[[3]]) \n",
    "head(rf_values_lung_resp_covariates[[3]])"
   ]
  },
  {
   "cell_type": "markdown",
   "id": "wound-income",
   "metadata": {},
   "source": [
    "Rerunning RF model with noise variables to determine, which predictors are significant above the background noise."
   ]
  },
  {
   "cell_type": "code",
   "execution_count": 12,
   "id": "covered-closer",
   "metadata": {},
   "outputs": [
    {
     "data": {
      "text/html": [
       "<table class=\"dataframe\">\n",
       "<caption>A tibble: 6 × 17</caption>\n",
       "<thead>\n",
       "\t<tr><th scope=col>Inflammatory_Responder</th><th scope=col>X25OH_VitD</th><th scope=col>SecoB</th><th scope=col>bEP_Chol</th><th scope=col>Lan</th><th scope=col>Zym</th><th scope=col>DHL</th><th scope=col>Des</th><th scope=col>dHLan</th><th scope=col>Zyme</th><th scope=col>Lath</th><th scope=col>Chol</th><th scope=col>noise1</th><th scope=col>noise2</th><th scope=col>noise3</th><th scope=col>noise4</th><th scope=col>noise5</th></tr>\n",
       "\t<tr><th scope=col>&lt;fct&gt;</th><th scope=col>&lt;dbl&gt;</th><th scope=col>&lt;dbl&gt;</th><th scope=col>&lt;dbl&gt;</th><th scope=col>&lt;dbl&gt;</th><th scope=col>&lt;dbl&gt;</th><th scope=col>&lt;dbl&gt;</th><th scope=col>&lt;dbl&gt;</th><th scope=col>&lt;dbl&gt;</th><th scope=col>&lt;dbl&gt;</th><th scope=col>&lt;dbl&gt;</th><th scope=col>&lt;dbl&gt;</th><th scope=col>&lt;dbl&gt;</th><th scope=col>&lt;dbl&gt;</th><th scope=col>&lt;dbl&gt;</th><th scope=col>&lt;dbl&gt;</th><th scope=col>&lt;dbl&gt;</th></tr>\n",
       "</thead>\n",
       "<tbody>\n",
       "\t<tr><td>0</td><td>61.57312</td><td>  1.816</td><td>25.669</td><td>0.171</td><td>0.057</td><td>0.224</td><td>0.641</td><td>0.004</td><td>3.014</td><td>1.969</td><td>1110.442</td><td>112.521</td><td>11.287</td><td>0.016</td><td>0.037</td><td>0.046</td></tr>\n",
       "\t<tr><td>1</td><td>20.31488</td><td>112.521</td><td>17.867</td><td>0.062</td><td>0.046</td><td>0.106</td><td>0.286</td><td>0.015</td><td>2.508</td><td>1.287</td><td> 673.328</td><td> 13.715</td><td>21.097</td><td>0.066</td><td>0.027</td><td>0.094</td></tr>\n",
       "\t<tr><td>0</td><td>50.92712</td><td>  6.686</td><td> 8.066</td><td>0.052</td><td>0.046</td><td>0.094</td><td>0.279</td><td>0.005</td><td>1.549</td><td>1.200</td><td> 537.509</td><td>  0.589</td><td> 5.326</td><td>0.171</td><td>0.088</td><td>0.070</td></tr>\n",
       "\t<tr><td>1</td><td>30.55712</td><td> 48.416</td><td>10.132</td><td>0.013</td><td>0.046</td><td>0.085</td><td>0.297</td><td>0.016</td><td>1.833</td><td>1.062</td><td> 482.396</td><td> 14.570</td><td>17.867</td><td>0.013</td><td>0.022</td><td>0.218</td></tr>\n",
       "\t<tr><td>1</td><td>29.90213</td><td> 13.006</td><td>13.090</td><td>0.117</td><td>0.060</td><td>0.116</td><td>0.255</td><td>0.020</td><td>3.628</td><td>1.795</td><td> 586.750</td><td> 11.345</td><td> 7.412</td><td>0.016</td><td>0.046</td><td>0.119</td></tr>\n",
       "\t<tr><td>1</td><td>69.57150</td><td> 62.151</td><td>21.097</td><td>0.053</td><td>0.037</td><td>0.062</td><td>0.192</td><td>0.011</td><td>2.155</td><td>1.288</td><td> 614.594</td><td>  1.816</td><td>12.751</td><td>0.052</td><td>0.060</td><td>0.431</td></tr>\n",
       "</tbody>\n",
       "</table>\n"
      ],
      "text/latex": [
       "A tibble: 6 × 17\n",
       "\\begin{tabular}{lllllllllllllllll}\n",
       " Inflammatory\\_Responder & X25OH\\_VitD & SecoB & bEP\\_Chol & Lan & Zym & DHL & Des & dHLan & Zyme & Lath & Chol & noise1 & noise2 & noise3 & noise4 & noise5\\\\\n",
       " <fct> & <dbl> & <dbl> & <dbl> & <dbl> & <dbl> & <dbl> & <dbl> & <dbl> & <dbl> & <dbl> & <dbl> & <dbl> & <dbl> & <dbl> & <dbl> & <dbl>\\\\\n",
       "\\hline\n",
       "\t 0 & 61.57312 &   1.816 & 25.669 & 0.171 & 0.057 & 0.224 & 0.641 & 0.004 & 3.014 & 1.969 & 1110.442 & 112.521 & 11.287 & 0.016 & 0.037 & 0.046\\\\\n",
       "\t 1 & 20.31488 & 112.521 & 17.867 & 0.062 & 0.046 & 0.106 & 0.286 & 0.015 & 2.508 & 1.287 &  673.328 &  13.715 & 21.097 & 0.066 & 0.027 & 0.094\\\\\n",
       "\t 0 & 50.92712 &   6.686 &  8.066 & 0.052 & 0.046 & 0.094 & 0.279 & 0.005 & 1.549 & 1.200 &  537.509 &   0.589 &  5.326 & 0.171 & 0.088 & 0.070\\\\\n",
       "\t 1 & 30.55712 &  48.416 & 10.132 & 0.013 & 0.046 & 0.085 & 0.297 & 0.016 & 1.833 & 1.062 &  482.396 &  14.570 & 17.867 & 0.013 & 0.022 & 0.218\\\\\n",
       "\t 1 & 29.90213 &  13.006 & 13.090 & 0.117 & 0.060 & 0.116 & 0.255 & 0.020 & 3.628 & 1.795 &  586.750 &  11.345 &  7.412 & 0.016 & 0.046 & 0.119\\\\\n",
       "\t 1 & 69.57150 &  62.151 & 21.097 & 0.053 & 0.037 & 0.062 & 0.192 & 0.011 & 2.155 & 1.288 &  614.594 &   1.816 & 12.751 & 0.052 & 0.060 & 0.431\\\\\n",
       "\\end{tabular}\n"
      ],
      "text/markdown": [
       "\n",
       "A tibble: 6 × 17\n",
       "\n",
       "| Inflammatory_Responder &lt;fct&gt; | X25OH_VitD &lt;dbl&gt; | SecoB &lt;dbl&gt; | bEP_Chol &lt;dbl&gt; | Lan &lt;dbl&gt; | Zym &lt;dbl&gt; | DHL &lt;dbl&gt; | Des &lt;dbl&gt; | dHLan &lt;dbl&gt; | Zyme &lt;dbl&gt; | Lath &lt;dbl&gt; | Chol &lt;dbl&gt; | noise1 &lt;dbl&gt; | noise2 &lt;dbl&gt; | noise3 &lt;dbl&gt; | noise4 &lt;dbl&gt; | noise5 &lt;dbl&gt; |\n",
       "|---|---|---|---|---|---|---|---|---|---|---|---|---|---|---|---|---|\n",
       "| 0 | 61.57312 |   1.816 | 25.669 | 0.171 | 0.057 | 0.224 | 0.641 | 0.004 | 3.014 | 1.969 | 1110.442 | 112.521 | 11.287 | 0.016 | 0.037 | 0.046 |\n",
       "| 1 | 20.31488 | 112.521 | 17.867 | 0.062 | 0.046 | 0.106 | 0.286 | 0.015 | 2.508 | 1.287 |  673.328 |  13.715 | 21.097 | 0.066 | 0.027 | 0.094 |\n",
       "| 0 | 50.92712 |   6.686 |  8.066 | 0.052 | 0.046 | 0.094 | 0.279 | 0.005 | 1.549 | 1.200 |  537.509 |   0.589 |  5.326 | 0.171 | 0.088 | 0.070 |\n",
       "| 1 | 30.55712 |  48.416 | 10.132 | 0.013 | 0.046 | 0.085 | 0.297 | 0.016 | 1.833 | 1.062 |  482.396 |  14.570 | 17.867 | 0.013 | 0.022 | 0.218 |\n",
       "| 1 | 29.90213 |  13.006 | 13.090 | 0.117 | 0.060 | 0.116 | 0.255 | 0.020 | 3.628 | 1.795 |  586.750 |  11.345 |  7.412 | 0.016 | 0.046 | 0.119 |\n",
       "| 1 | 69.57150 |  62.151 | 21.097 | 0.053 | 0.037 | 0.062 | 0.192 | 0.011 | 2.155 | 1.288 |  614.594 |   1.816 | 12.751 | 0.052 | 0.060 | 0.431 |\n",
       "\n"
      ],
      "text/plain": [
       "  Inflammatory_Responder X25OH_VitD SecoB   bEP_Chol Lan   Zym   DHL   Des  \n",
       "1 0                      61.57312     1.816 25.669   0.171 0.057 0.224 0.641\n",
       "2 1                      20.31488   112.521 17.867   0.062 0.046 0.106 0.286\n",
       "3 0                      50.92712     6.686  8.066   0.052 0.046 0.094 0.279\n",
       "4 1                      30.55712    48.416 10.132   0.013 0.046 0.085 0.297\n",
       "5 1                      29.90213    13.006 13.090   0.117 0.060 0.116 0.255\n",
       "6 1                      69.57150    62.151 21.097   0.053 0.037 0.062 0.192\n",
       "  dHLan Zyme  Lath  Chol     noise1  noise2 noise3 noise4 noise5\n",
       "1 0.004 3.014 1.969 1110.442 112.521 11.287 0.016  0.037  0.046 \n",
       "2 0.015 2.508 1.287  673.328  13.715 21.097 0.066  0.027  0.094 \n",
       "3 0.005 1.549 1.200  537.509   0.589  5.326 0.171  0.088  0.070 \n",
       "4 0.016 1.833 1.062  482.396  14.570 17.867 0.013  0.022  0.218 \n",
       "5 0.020 3.628 1.795  586.750  11.345  7.412 0.016  0.046  0.119 \n",
       "6 0.011 2.155 1.288  614.594   1.816 12.751 0.052  0.060  0.431 "
      ]
     },
     "metadata": {},
     "output_type": "display_data"
    }
   ],
   "source": [
    "train_vars_noise_inflamm_resp = rf_values_inflamm_resp[[1]]\n",
    "train_vars_noise_inflamm_resp_covariates = rf_values_inflamm_resp_covariates[[1]]\n",
    "train_vars_noise_lung_resp = rf_values_lung_resp[[1]]\n",
    "train_vars_noise_lung_resp_covariates = rf_values_lung_resp_covariates[[1]]\n",
    "\n",
    "noise_df = function(train_vars_noise){\n",
    "    set.seed(8)\n",
    "    # Add random noise predictors as an additional method to evaluate model performance\n",
    "    # Adding a column that contains randomly shuffled values from one of the molecules; sampling with replacement\n",
    "    train_vars_noise$noise1 = sample(train_vars_noise[[colnames(train_vars_noise[3])]], replace = TRUE) \n",
    "    train_vars_noise$noise2 = sample(train_vars_noise[[colnames(train_vars_noise[4])]], replace = TRUE)\n",
    "    train_vars_noise$noise3 = sample(train_vars_noise[[colnames(train_vars_noise[5])]], replace = TRUE)\n",
    "    train_vars_noise$noise4 = sample(train_vars_noise[[colnames(train_vars_noise[6])]], replace = TRUE)\n",
    "    train_vars_noise$noise5 = sample(train_vars_noise[[colnames(train_vars_noise[7])]], replace = TRUE)\n",
    "    \n",
    "    return(train_vars_noise)\n",
    "}\n",
    "\n",
    "# calling fn\n",
    "noise_training_rf_dataset_inflamm_resp = noise_df(train_vars_noise_inflamm_resp)\n",
    "noise_training_rf_dataset_inflamm_resp_covariates = noise_df(train_vars_noise_inflamm_resp_covariates)\n",
    "noise_training_rf_dataset_lung_resp = noise_df(train_vars_noise_lung_resp)\n",
    "noise_training_rf_dataset_lung_resp_covariates = noise_df(train_vars_noise_lung_resp_covariates)\n",
    "head(noise_training_rf_dataset_inflamm_resp)"
   ]
  },
  {
   "cell_type": "code",
   "execution_count": 13,
   "id": "needed-lesson",
   "metadata": {},
   "outputs": [
    {
     "name": "stderr",
     "output_type": "stream",
     "text": [
      "Setting levels: control = 0, case = 1\n",
      "\n",
      "Setting direction: controls > cases\n",
      "\n",
      "Setting levels: control = 0, case = 1\n",
      "\n",
      "Setting direction: controls > cases\n",
      "\n",
      "Setting levels: control = 0, case = 1\n",
      "\n",
      "Setting direction: controls < cases\n",
      "\n",
      "Setting levels: control = 0, case = 1\n",
      "\n",
      "Setting direction: controls < cases\n",
      "\n",
      "Setting levels: control = 0, case = 1\n",
      "\n",
      "Setting direction: controls < cases\n",
      "\n",
      "Setting levels: control = 0, case = 1\n",
      "\n",
      "Setting direction: controls < cases\n",
      "\n",
      "Setting levels: control = 0, case = 1\n",
      "\n",
      "Setting direction: controls < cases\n",
      "\n",
      "Setting levels: control = 0, case = 1\n",
      "\n",
      "Setting direction: controls < cases\n",
      "\n",
      "Setting levels: control = 0, case = 1\n",
      "\n",
      "Setting direction: controls < cases\n",
      "\n",
      "Setting levels: control = 0, case = 1\n",
      "\n",
      "Setting direction: controls < cases\n",
      "\n",
      "Setting levels: control = 0, case = 1\n",
      "\n",
      "Setting direction: controls < cases\n",
      "\n",
      "Setting levels: control = 0, case = 1\n",
      "\n",
      "Setting direction: controls < cases\n",
      "\n",
      "Setting levels: control = 0, case = 1\n",
      "\n",
      "Setting direction: controls < cases\n",
      "\n",
      "Setting levels: control = 0, case = 1\n",
      "\n",
      "Setting direction: controls < cases\n",
      "\n",
      "Setting levels: control = 0, case = 1\n",
      "\n",
      "Setting direction: controls < cases\n",
      "\n",
      "Setting levels: control = 0, case = 1\n",
      "\n",
      "Setting direction: controls < cases\n",
      "\n",
      "Setting levels: control = 0, case = 1\n",
      "\n",
      "Setting direction: controls > cases\n",
      "\n",
      "Setting levels: control = 0, case = 1\n",
      "\n",
      "Setting direction: controls > cases\n",
      "\n",
      "Setting levels: control = 0, case = 1\n",
      "\n",
      "Setting direction: controls < cases\n",
      "\n",
      "Setting levels: control = 0, case = 1\n",
      "\n",
      "Setting direction: controls < cases\n",
      "\n",
      "Setting levels: control = 0, case = 1\n",
      "\n",
      "Setting direction: controls > cases\n",
      "\n",
      "Setting levels: control = 0, case = 1\n",
      "\n",
      "Setting direction: controls > cases\n",
      "\n",
      "Setting levels: control = 0, case = 1\n",
      "\n",
      "Setting direction: controls > cases\n",
      "\n",
      "Setting levels: control = 0, case = 1\n",
      "\n",
      "Setting direction: controls > cases\n",
      "\n",
      "Setting levels: control = 0, case = 1\n",
      "\n",
      "Setting direction: controls < cases\n",
      "\n",
      "Setting levels: control = 0, case = 1\n",
      "\n",
      "Setting direction: controls < cases\n",
      "\n",
      "Setting levels: control = 0, case = 1\n",
      "\n",
      "Setting direction: controls < cases\n",
      "\n",
      "Setting levels: control = 0, case = 1\n",
      "\n",
      "Setting direction: controls < cases\n",
      "\n",
      "Setting levels: control = 0, case = 1\n",
      "\n",
      "Setting direction: controls < cases\n",
      "\n",
      "Setting levels: control = 0, case = 1\n",
      "\n",
      "Setting direction: controls < cases\n",
      "\n",
      "Setting levels: control = 0, case = 1\n",
      "\n",
      "Setting direction: controls < cases\n",
      "\n",
      "Setting levels: control = 0, case = 1\n",
      "\n",
      "Setting direction: controls < cases\n",
      "\n",
      "Setting levels: control = 0, case = 1\n",
      "\n",
      "Setting direction: controls < cases\n",
      "\n",
      "Setting levels: control = 0, case = 1\n",
      "\n",
      "Setting direction: controls < cases\n",
      "\n",
      "Setting levels: control = 0, case = 1\n",
      "\n",
      "Setting direction: controls < cases\n",
      "\n",
      "Setting levels: control = 0, case = 1\n",
      "\n",
      "Setting direction: controls < cases\n",
      "\n",
      "Setting levels: control = 0, case = 1\n",
      "\n",
      "Setting direction: controls > cases\n",
      "\n",
      "Setting levels: control = 0, case = 1\n",
      "\n",
      "Setting direction: controls > cases\n",
      "\n",
      "Setting levels: control = 0, case = 1\n",
      "\n",
      "Setting direction: controls < cases\n",
      "\n",
      "Setting levels: control = 0, case = 1\n",
      "\n",
      "Setting direction: controls < cases\n",
      "\n"
     ]
    }
   ],
   "source": [
    "# calling fn\n",
    "noise_rf_values_inflamm_resp = rf_classification(noise_training_rf_dataset_inflamm_resp, \"Inflammatory_Responder\", \"pred_Inflammatory_Responder\")\n",
    "noise_rf_values_lung_resp = rf_classification(noise_training_rf_dataset_lung_resp, \"Lung_Responder\", \"pred_Lung_Responder\")\n",
    "noise_rf_values_inflamm_resp_covariates = rf_classification(noise_training_rf_dataset_inflamm_resp_covariates, \"Inflammatory_Responder\", \"pred_Inflammatory_Responder\")\n",
    "noise_rf_values_lung_resp_covariates = rf_classification(noise_training_rf_dataset_lung_resp_covariates, \"Lung_Responder\", \"pred_Lung_Responder\")"
   ]
  },
  {
   "cell_type": "code",
   "execution_count": 14,
   "id": "passive-bracelet",
   "metadata": {},
   "outputs": [
    {
     "data": {
      "text/html": [
       "<table class=\"dataframe\">\n",
       "<caption>A data.frame: 4 × 8</caption>\n",
       "<thead>\n",
       "\t<tr><th scope=col>Model</th><th scope=col>Response</th><th scope=col>Covariates</th><th scope=col>Balanced.Accuracy</th><th scope=col>Sensitivity</th><th scope=col>Specificity</th><th scope=col>PPV</th><th scope=col>AUC</th></tr>\n",
       "\t<tr><th scope=col>&lt;chr&gt;</th><th scope=col>&lt;chr&gt;</th><th scope=col>&lt;chr&gt;</th><th scope=col>&lt;dbl&gt;</th><th scope=col>&lt;dbl&gt;</th><th scope=col>&lt;dbl&gt;</th><th scope=col>&lt;dbl&gt;</th><th scope=col>&lt;dbl&gt;</th></tr>\n",
       "</thead>\n",
       "<tbody>\n",
       "\t<tr><td>RF w/ Noise</td><td>Inflammatory</td><td>No </td><td>0.4666667</td><td>0.8333333</td><td>0.1</td><td>0.6666667</td><td>0.5666667</td></tr>\n",
       "\t<tr><td>RF w/ Noise</td><td>Inflammatory</td><td>Yes</td><td>0.4333333</td><td>0.7666667</td><td>0.1</td><td>0.6333333</td><td>0.5666667</td></tr>\n",
       "\t<tr><td>RF w/ Noise</td><td>Lung        </td><td>No </td><td>0.7500000</td><td>0.8000000</td><td>0.7</td><td>0.8333333</td><td>0.8500000</td></tr>\n",
       "\t<tr><td>RF w/ Noise</td><td>Lung        </td><td>Yes</td><td>0.7500000</td><td>0.8000000</td><td>0.7</td><td>0.8333333</td><td>0.8500000</td></tr>\n",
       "</tbody>\n",
       "</table>\n"
      ],
      "text/latex": [
       "A data.frame: 4 × 8\n",
       "\\begin{tabular}{llllllll}\n",
       " Model & Response & Covariates & Balanced.Accuracy & Sensitivity & Specificity & PPV & AUC\\\\\n",
       " <chr> & <chr> & <chr> & <dbl> & <dbl> & <dbl> & <dbl> & <dbl>\\\\\n",
       "\\hline\n",
       "\t RF w/ Noise & Inflammatory & No  & 0.4666667 & 0.8333333 & 0.1 & 0.6666667 & 0.5666667\\\\\n",
       "\t RF w/ Noise & Inflammatory & Yes & 0.4333333 & 0.7666667 & 0.1 & 0.6333333 & 0.5666667\\\\\n",
       "\t RF w/ Noise & Lung         & No  & 0.7500000 & 0.8000000 & 0.7 & 0.8333333 & 0.8500000\\\\\n",
       "\t RF w/ Noise & Lung         & Yes & 0.7500000 & 0.8000000 & 0.7 & 0.8333333 & 0.8500000\\\\\n",
       "\\end{tabular}\n"
      ],
      "text/markdown": [
       "\n",
       "A data.frame: 4 × 8\n",
       "\n",
       "| Model &lt;chr&gt; | Response &lt;chr&gt; | Covariates &lt;chr&gt; | Balanced.Accuracy &lt;dbl&gt; | Sensitivity &lt;dbl&gt; | Specificity &lt;dbl&gt; | PPV &lt;dbl&gt; | AUC &lt;dbl&gt; |\n",
       "|---|---|---|---|---|---|---|---|\n",
       "| RF w/ Noise | Inflammatory | No  | 0.4666667 | 0.8333333 | 0.1 | 0.6666667 | 0.5666667 |\n",
       "| RF w/ Noise | Inflammatory | Yes | 0.4333333 | 0.7666667 | 0.1 | 0.6333333 | 0.5666667 |\n",
       "| RF w/ Noise | Lung         | No  | 0.7500000 | 0.8000000 | 0.7 | 0.8333333 | 0.8500000 |\n",
       "| RF w/ Noise | Lung         | Yes | 0.7500000 | 0.8000000 | 0.7 | 0.8333333 | 0.8500000 |\n",
       "\n"
      ],
      "text/plain": [
       "  Model       Response     Covariates Balanced.Accuracy Sensitivity Specificity\n",
       "1 RF w/ Noise Inflammatory No         0.4666667         0.8333333   0.1        \n",
       "2 RF w/ Noise Inflammatory Yes        0.4333333         0.7666667   0.1        \n",
       "3 RF w/ Noise Lung         No         0.7500000         0.8000000   0.7        \n",
       "4 RF w/ Noise Lung         Yes        0.7500000         0.8000000   0.7        \n",
       "  PPV       AUC      \n",
       "1 0.6666667 0.5666667\n",
       "2 0.6333333 0.5666667\n",
       "3 0.8333333 0.8500000\n",
       "4 0.8333333 0.8500000"
      ]
     },
     "metadata": {},
     "output_type": "display_data"
    }
   ],
   "source": [
    "# viewing results\n",
    "noise_rf_confusion_matrix = data.frame(Model = c(rep(c(\"RF w/ Noise\"), times = 4)), Response = c(rep(c(\"Inflammatory\"), times = 2), rep(c(\"Lung\"), times = 2)),\n",
    "                                 Covariates = c(rep(c(\"No\", \"Yes\"), times = 2)), rbind(noise_rf_values_inflamm_resp[[2]], noise_rf_values_inflamm_resp_covariates[[2]],\n",
    "                                      noise_rf_values_lung_resp[[2]], noise_rf_values_lung_resp_covariates[[2]]))\n",
    "noise_rf_confusion_matrix"
   ]
  },
  {
   "cell_type": "markdown",
   "id": "settled-dayton",
   "metadata": {},
   "source": [
    "Calculating the average noise rank to determine, which predictors ranked higher than the highest noise rank. "
   ]
  },
  {
   "cell_type": "code",
   "execution_count": 15,
   "id": "efficient-benefit",
   "metadata": {},
   "outputs": [],
   "source": [
    "noise_importance_values_inflamm = noise_rf_values_inflamm_resp[[3]] %>%\n",
    "    column_to_rownames(var = \"Predictor\")\n",
    "noise_importance_values_lung = noise_rf_values_lung_resp[[3]] %>%\n",
    "    column_to_rownames(var = \"Predictor\")\n",
    "noise_importance_values_inflamm_covariates = noise_rf_values_inflamm_resp_covariates[[3]] %>%\n",
    "    column_to_rownames(var = \"Predictor\")\n",
    "noise_importance_values_lung_covariates = noise_rf_values_lung_resp_covariates[[3]] %>%\n",
    "    column_to_rownames(var = \"Predictor\")"
   ]
  },
  {
   "cell_type": "code",
   "execution_count": 16,
   "id": "together-friend",
   "metadata": {},
   "outputs": [
    {
     "data": {
      "text/html": [
       "0.25"
      ],
      "text/latex": [
       "0.25"
      ],
      "text/markdown": [
       "0.25"
      ],
      "text/plain": [
       "[1] 0.25"
      ]
     },
     "metadata": {},
     "output_type": "display_data"
    },
    {
     "data": {
      "text/html": [
       "0.521739130434783"
      ],
      "text/latex": [
       "0.521739130434783"
      ],
      "text/markdown": [
       "0.521739130434783"
      ],
      "text/plain": [
       "[1] 0.5217391"
      ]
     },
     "metadata": {},
     "output_type": "display_data"
    },
    {
     "data": {
      "text/html": [
       "0.125"
      ],
      "text/latex": [
       "0.125"
      ],
      "text/markdown": [
       "0.125"
      ],
      "text/plain": [
       "[1] 0.125"
      ]
     },
     "metadata": {},
     "output_type": "display_data"
    },
    {
     "data": {
      "text/html": [
       "0.347826086956522"
      ],
      "text/latex": [
       "0.347826086956522"
      ],
      "text/markdown": [
       "0.347826086956522"
      ],
      "text/plain": [
       "[1] 0.3478261"
      ]
     },
     "metadata": {},
     "output_type": "display_data"
    }
   ],
   "source": [
    "highest_noise_rank = function(noise_importance_values){\n",
    "    # this gives us values between 0 and 1\n",
    "    # the closer the number gets to 1 the lower it ranks, so the number closest to 1 is the max rank\n",
    "    noise1rank = which(rownames(noise_importance_values) == \"noise1\")/nrow(noise_importance_values)\n",
    "    noise2rank = which(rownames(noise_importance_values) == \"noise2\")/nrow(noise_importance_values)\n",
    "    noise3rank = which(rownames(noise_importance_values) == \"noise3\")/nrow(noise_importance_values)\n",
    "    noise4rank = which(rownames(noise_importance_values) == \"noise4\")/nrow(noise_importance_values)\n",
    "    noise5rank = which(rownames(noise_importance_values) == \"noise5\")/nrow(noise_importance_values)\n",
    "\n",
    "    # figuring out which is the highest mean decrease gini or background noise importance value\n",
    "    highest_noise_rank = min(noise1rank, noise2rank, noise3rank, noise4rank, noise5rank)\n",
    "    \n",
    "    return(highest_noise_rank)\n",
    "}\n",
    "\n",
    "# calling fn\n",
    "highest_noise_rank_inflamm = highest_noise_rank(noise_importance_values_inflamm)\n",
    "highest_noise_rank_lung = highest_noise_rank(noise_importance_values_lung)\n",
    "highest_noise_rank_inflamm_covariates = highest_noise_rank(noise_importance_values_inflamm_covariates)\n",
    "highest_noise_rank_lung_covariates = highest_noise_rank(noise_importance_values_lung_covariates)\n",
    "highest_noise_rank_inflamm\n",
    "highest_noise_rank_inflamm_covariates\n",
    "highest_noise_rank_lung\n",
    "highest_noise_rank_lung_covariates"
   ]
  },
  {
   "cell_type": "code",
   "execution_count": 17,
   "id": "visible-macro",
   "metadata": {},
   "outputs": [
    {
     "data": {
      "text/html": [
       "4"
      ],
      "text/latex": [
       "4"
      ],
      "text/markdown": [
       "4"
      ],
      "text/plain": [
       "[1] 4"
      ]
     },
     "metadata": {},
     "output_type": "display_data"
    },
    {
     "data": {
      "text/html": [
       "2"
      ],
      "text/latex": [
       "2"
      ],
      "text/markdown": [
       "2"
      ],
      "text/plain": [
       "[1] 2"
      ]
     },
     "metadata": {},
     "output_type": "display_data"
    },
    {
     "data": {
      "text/html": [
       "12"
      ],
      "text/latex": [
       "12"
      ],
      "text/markdown": [
       "12"
      ],
      "text/plain": [
       "[1] 12"
      ]
     },
     "metadata": {},
     "output_type": "display_data"
    },
    {
     "data": {
      "text/html": [
       "8"
      ],
      "text/latex": [
       "8"
      ],
      "text/markdown": [
       "8"
      ],
      "text/plain": [
       "[1] 8"
      ]
     },
     "metadata": {},
     "output_type": "display_data"
    }
   ],
   "source": [
    "last_significant_rank = function(noise_importance_values, highest_noise_rank){\n",
    "    for (i in 1:length(noise_importance_values$MeanDecreaseGini)){\n",
    "    # if the row number (index)/# of variables is less than the highest noise rank the loop will continue\n",
    "        if (i/length(noise_importance_values$MeanDecreaseGini) > highest_noise_rank){\n",
    "            last_significant_var = i - 1\n",
    "            break\n",
    "        }\n",
    "    }    \n",
    "    return(last_significant_var)\n",
    "}\n",
    "\n",
    "# calling fn\n",
    "last_significant_rank_inflamm = last_significant_rank(noise_importance_values_inflamm, highest_noise_rank_inflamm)\n",
    "last_significant_rank_lung = last_significant_rank(noise_importance_values_lung, highest_noise_rank_lung)\n",
    "last_significant_rank_inflamm_covariates = last_significant_rank(noise_importance_values_inflamm_covariates, highest_noise_rank_inflamm_covariates)\n",
    "last_significant_rank_lung_covariates = last_significant_rank(noise_importance_values_lung_covariates, highest_noise_rank_lung_covariates)\n",
    "last_significant_rank_inflamm\n",
    "last_significant_rank_lung\n",
    "last_significant_rank_inflamm_covariates\n",
    "last_significant_rank_lung_covariates"
   ]
  },
  {
   "cell_type": "markdown",
   "id": "varying-circle",
   "metadata": {},
   "source": [
    "Datasets without covariates contained fewer predictors that ranked above the background noise (0 and 24 vs. 38 and 12), meaning the covariates made other predictors more significant as a result of their inclusion in the models.  "
   ]
  },
  {
   "cell_type": "code",
   "execution_count": 18,
   "id": "elder-effect",
   "metadata": {},
   "outputs": [],
   "source": [
    "# now getting those significant predictors\n",
    "significant_predictors_inflamm = rownames(noise_importance_values_inflamm)[1:last_significant_rank_inflamm]\n",
    "significant_predictors_lung = rownames(noise_importance_values_lung)[1:last_significant_rank_lung]\n",
    "significant_predictors_inflamm_covariates = rownames(noise_importance_values_inflamm_covariates)[1:last_significant_rank_inflamm_covariates]\n",
    "significant_predictors_lung_covariates = rownames(noise_importance_values_lung_covariates)[1:last_significant_rank_lung_covariates]"
   ]
  },
  {
   "cell_type": "code",
   "execution_count": 19,
   "id": "b19bff67",
   "metadata": {},
   "outputs": [],
   "source": [
    "# converting row names back to columns to make next step easier\n",
    "noise_importance_values_inflamm = noise_importance_values_inflamm %>%\n",
    "    rownames_to_column(var = \"Predictor\")\n",
    "noise_importance_values_lung = noise_importance_values_lung %>%\n",
    "    rownames_to_column(var = \"Predictor\")\n",
    "noise_importance_values_inflamm_covariates = noise_importance_values_inflamm_covariates %>%\n",
    "    rownames_to_column(var = \"Predictor\")\n",
    "noise_importance_values_lung_covariates = noise_importance_values_lung_covariates %>%\n",
    "    rownames_to_column(var = \"Predictor\")"
   ]
  },
  {
   "cell_type": "code",
   "execution_count": 20,
   "id": "cb7a13ce",
   "metadata": {},
   "outputs": [
    {
     "name": "stderr",
     "output_type": "stream",
     "text": [
      "\u001b[1m\u001b[22mJoining, by = c(\"Predictor\", \"MeanDecreaseGini\")\n",
      "\u001b[1m\u001b[22mJoining, by = c(\"Predictor\", \"MeanDecreaseGini\")\n",
      "\u001b[1m\u001b[22mJoining, by = c(\"Predictor\", \"MeanDecreaseGini\")\n",
      "\u001b[1m\u001b[22mJoining, by = c(\"Predictor\", \"MeanDecreaseGini\")\n"
     ]
    },
    {
     "data": {
      "text/html": [
       "<table class=\"dataframe\">\n",
       "<caption>A data.frame: 6 × 3</caption>\n",
       "<thead>\n",
       "\t<tr><th></th><th scope=col>Predictor</th><th scope=col>MeanDecreaseGini</th><th scope=col>Passed_Filter</th></tr>\n",
       "\t<tr><th></th><th scope=col>&lt;chr&gt;</th><th scope=col>&lt;dbl&gt;</th><th scope=col>&lt;chr&gt;</th></tr>\n",
       "</thead>\n",
       "<tbody>\n",
       "\t<tr><th scope=row>1</th><td>Chol          </td><td>1.9021426</td><td>Yes</td></tr>\n",
       "\t<tr><th scope=row>2</th><td>DHL           </td><td>0.8167439</td><td>Yes</td></tr>\n",
       "\t<tr><th scope=row>3</th><td>dHLan         </td><td>0.7035939</td><td>Yes</td></tr>\n",
       "\t<tr><th scope=row>4</th><td>Zym           </td><td>0.6927460</td><td>Yes</td></tr>\n",
       "\t<tr><th scope=row>5</th><td>Zyme          </td><td>0.6288728</td><td>Yes</td></tr>\n",
       "\t<tr><th scope=row>6</th><td>Disease_Status</td><td>0.4847719</td><td>Yes</td></tr>\n",
       "</tbody>\n",
       "</table>\n"
      ],
      "text/latex": [
       "A data.frame: 6 × 3\n",
       "\\begin{tabular}{r|lll}\n",
       "  & Predictor & MeanDecreaseGini & Passed\\_Filter\\\\\n",
       "  & <chr> & <dbl> & <chr>\\\\\n",
       "\\hline\n",
       "\t1 & Chol           & 1.9021426 & Yes\\\\\n",
       "\t2 & DHL            & 0.8167439 & Yes\\\\\n",
       "\t3 & dHLan          & 0.7035939 & Yes\\\\\n",
       "\t4 & Zym            & 0.6927460 & Yes\\\\\n",
       "\t5 & Zyme           & 0.6288728 & Yes\\\\\n",
       "\t6 & Disease\\_Status & 0.4847719 & Yes\\\\\n",
       "\\end{tabular}\n"
      ],
      "text/markdown": [
       "\n",
       "A data.frame: 6 × 3\n",
       "\n",
       "| <!--/--> | Predictor &lt;chr&gt; | MeanDecreaseGini &lt;dbl&gt; | Passed_Filter &lt;chr&gt; |\n",
       "|---|---|---|---|\n",
       "| 1 | Chol           | 1.9021426 | Yes |\n",
       "| 2 | DHL            | 0.8167439 | Yes |\n",
       "| 3 | dHLan          | 0.7035939 | Yes |\n",
       "| 4 | Zym            | 0.6927460 | Yes |\n",
       "| 5 | Zyme           | 0.6288728 | Yes |\n",
       "| 6 | Disease_Status | 0.4847719 | Yes |\n",
       "\n"
      ],
      "text/plain": [
       "  Predictor      MeanDecreaseGini Passed_Filter\n",
       "1 Chol           1.9021426        Yes          \n",
       "2 DHL            0.8167439        Yes          \n",
       "3 dHLan          0.7035939        Yes          \n",
       "4 Zym            0.6927460        Yes          \n",
       "5 Zyme           0.6288728        Yes          \n",
       "6 Disease_Status 0.4847719        Yes          "
      ]
     },
     "metadata": {},
     "output_type": "display_data"
    }
   ],
   "source": [
    "# getting dataframe ready to export variable importance ranks from above and whether those features passed the \n",
    "# background filter\n",
    "noise_variable_importance_ranks = function(noise_importance_values_df, significant_predictors){\n",
    "    # filtering the original rank df for predictors that were significant (above random noise)\n",
    "    filtered_significant_ranks_df = noise_importance_values_df %>%\n",
    "        filter(Predictor %in% significant_predictors) %>%\n",
    "        arrange(-MeanDecreaseGini)\n",
    "    \n",
    "    # adding a column denoting if the feature was above random noise\n",
    "    filtered_significant_ranks_df$Passed_Filter = c(rep(c(\"Yes\"), times = length(filtered_significant_ranks_df$Predictor)))\n",
    "    \n",
    "    final_df = full_join(filtered_significant_ranks_df, noise_importance_values_df)\n",
    "    return(final_df)\n",
    "}\n",
    "\n",
    "# calling fn\n",
    "significant_predictors_df_inflamm = noise_variable_importance_ranks(noise_importance_values_inflamm, significant_predictors_inflamm)\n",
    "significant_predictors_df_inflamm_covariates = noise_variable_importance_ranks(noise_importance_values_inflamm_covariates, significant_predictors_inflamm_covariates)\n",
    "significant_predictors_df_lung = noise_variable_importance_ranks(noise_importance_values_lung, significant_predictors_lung)\n",
    "significant_predictors_df_lung_covariates = noise_variable_importance_ranks(noise_importance_values_lung_covariates, significant_predictors_lung_covariates)\n",
    "head(significant_predictors_df_lung_covariates)"
   ]
  },
  {
   "cell_type": "code",
   "execution_count": 21,
   "id": "treated-cruise",
   "metadata": {},
   "outputs": [],
   "source": [
    "# exporting variable importance values for all features\n",
    "write.csv(significant_predictors_df_inflamm, paste0(Output,\"/\", cur_date, \"_Feature_Ranking_Inflammatory_noise\"), row.names = FALSE)\n",
    "write.csv(noise_importance_values_lung, paste0(Output,\"/\", cur_date, \"_Feature_Ranking_Lung_noise.csv\"), row.names = TRUE)\n",
    "write.csv(significant_predictors_df_inflamm_covariates, paste0(Output,\"/\", cur_date, \"_Feature_Ranking_Inflammatory_covariates_noise.csv\"), row.names = FALSE)\n",
    "write.csv(significant_predictors_df_lung_covariates, paste0(Output,\"/\", cur_date, \"_Feature_Ranking_Lung_covariates_noise.csv\"), row.names = FALSE)"
   ]
  },
  {
   "cell_type": "code",
   "execution_count": null,
   "id": "702ad0a8",
   "metadata": {},
   "outputs": [],
   "source": []
  }
 ],
 "metadata": {
  "kernelspec": {
   "display_name": "R",
   "language": "R",
   "name": "ir"
  },
  "language_info": {
   "codemirror_mode": "r",
   "file_extension": ".r",
   "mimetype": "text/x-r-source",
   "name": "R",
   "pygments_lexer": "r",
   "version": "4.1.2"
  }
 },
 "nbformat": 4,
 "nbformat_minor": 5
}
