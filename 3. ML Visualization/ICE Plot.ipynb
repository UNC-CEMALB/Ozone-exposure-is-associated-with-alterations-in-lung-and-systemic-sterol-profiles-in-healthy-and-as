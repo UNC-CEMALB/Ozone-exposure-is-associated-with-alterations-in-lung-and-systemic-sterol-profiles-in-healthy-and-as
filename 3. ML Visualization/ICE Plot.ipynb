{
 "cells": [
  {
   "cell_type": "code",
   "execution_count": 22,
   "id": "02e7804f",
   "metadata": {},
   "outputs": [
    {
     "name": "stderr",
     "output_type": "stream",
     "text": [
      "Updating HTML index of packages in '.Library'\n",
      "\n",
      "Making 'packages.html' ...\n",
      " done\n",
      "\n"
     ]
    }
   ],
   "source": [
    "install.packages(\"pdp\")"
   ]
  },
  {
   "cell_type": "code",
   "execution_count": 23,
   "id": "cdaeb1c1",
   "metadata": {},
   "outputs": [
    {
     "name": "stderr",
     "output_type": "stream",
     "text": [
      "\n",
      "Attaching package: ‘pdp’\n",
      "\n",
      "\n",
      "The following object is masked from ‘package:purrr’:\n",
      "\n",
      "    partial\n",
      "\n",
      "\n"
     ]
    }
   ],
   "source": [
    "setwd('/Users/alexis/University of North Carolina at Chapel Hill - Rager, Julia - CEMALB_DataAnalysisPM/Projects/P1003. Ozone Sterols Healthy Asthma/P1003.3. Analyses/P1003.3.4. ML Visualizations/P1003.3.4.2. ICE Plot/Input')\n",
    "Output = ('/Users/alexis/University of North Carolina at Chapel Hill/Rager, Julia - CEMALB_DataAnalysisPM/Projects/P1003. Ozone Sterols Healthy Asthma/P1003.3. Analyses/P1003.3.4. ML Visualizations/P1003.3.4.2. ICE Plot/Output')\n",
    "cur_date = \"040122\"\n",
    "\n",
    "library(readxl)\n",
    "library(tidyverse)\n",
    "library(pdp)\n",
    "library(caret)\n",
    "library(randomForest)\n",
    "\n",
    "#reading in files\n",
    "ozone_data = data.frame(read_excel(\"Imputed_Ozone_Data_022822.xlsx\")) \n",
    "demographics_data = data.frame(read_excel(\"SubjectInfo_011822.xlsx\", sheet = 2))"
   ]
  },
  {
   "cell_type": "code",
   "execution_count": 24,
   "id": "3b8c455d",
   "metadata": {},
   "outputs": [
    {
     "data": {
      "text/html": [
       "<table class=\"dataframe\">\n",
       "<caption>A data.frame: 6 × 11</caption>\n",
       "<thead>\n",
       "\t<tr><th></th><th scope=col>Original_Subject_No</th><th scope=col>Subject_No</th><th scope=col>Subject_ID</th><th scope=col>Disease_Status</th><th scope=col>Sample_Type</th><th scope=col>Time_Point</th><th scope=col>Inflammatory_Responder</th><th scope=col>Lung_Responder</th><th scope=col>Category</th><th scope=col>Variable</th><th scope=col>Value</th></tr>\n",
       "\t<tr><th></th><th scope=col>&lt;dbl&gt;</th><th scope=col>&lt;dbl&gt;</th><th scope=col>&lt;chr&gt;</th><th scope=col>&lt;chr&gt;</th><th scope=col>&lt;chr&gt;</th><th scope=col>&lt;chr&gt;</th><th scope=col>&lt;chr&gt;</th><th scope=col>&lt;chr&gt;</th><th scope=col>&lt;chr&gt;</th><th scope=col>&lt;chr&gt;</th><th scope=col>&lt;dbl&gt;</th></tr>\n",
       "</thead>\n",
       "<tbody>\n",
       "\t<tr><th scope=row>1</th><td>4</td><td>1</td><td>AS_1</td><td>AS</td><td>P</td><td>Post</td><td>NR</td><td>NR</td><td>Cell_Differential</td><td>Sample_Weight      </td><td>   817.00</td></tr>\n",
       "\t<tr><th scope=row>2</th><td>4</td><td>1</td><td>AS_1</td><td>AS</td><td>P</td><td>Post</td><td>NR</td><td>NR</td><td>Cell_Differential</td><td>TCC                </td><td>395000.00</td></tr>\n",
       "\t<tr><th scope=row>3</th><td>4</td><td>1</td><td>AS_1</td><td>AS</td><td>P</td><td>Post</td><td>NR</td><td>NR</td><td>Cell_Differential</td><td>TCC_Weight         </td><td>   483.48</td></tr>\n",
       "\t<tr><th scope=row>4</th><td>4</td><td>1</td><td>AS_1</td><td>AS</td><td>P</td><td>Post</td><td>NR</td><td>NR</td><td>Cell_Differential</td><td>Neutrophils_Percent</td><td>    25.00</td></tr>\n",
       "\t<tr><th scope=row>5</th><td>4</td><td>1</td><td>AS_1</td><td>AS</td><td>P</td><td>Post</td><td>NR</td><td>NR</td><td>Cell_Differential</td><td>Neutrophils        </td><td> 98750.00</td></tr>\n",
       "\t<tr><th scope=row>6</th><td>4</td><td>1</td><td>AS_1</td><td>AS</td><td>P</td><td>Post</td><td>NR</td><td>NR</td><td>Cell_Differential</td><td>Neutrophils_Weight </td><td>   121.00</td></tr>\n",
       "</tbody>\n",
       "</table>\n"
      ],
      "text/latex": [
       "A data.frame: 6 × 11\n",
       "\\begin{tabular}{r|lllllllllll}\n",
       "  & Original\\_Subject\\_No & Subject\\_No & Subject\\_ID & Disease\\_Status & Sample\\_Type & Time\\_Point & Inflammatory\\_Responder & Lung\\_Responder & Category & Variable & Value\\\\\n",
       "  & <dbl> & <dbl> & <chr> & <chr> & <chr> & <chr> & <chr> & <chr> & <chr> & <chr> & <dbl>\\\\\n",
       "\\hline\n",
       "\t1 & 4 & 1 & AS\\_1 & AS & P & Post & NR & NR & Cell\\_Differential & Sample\\_Weight       &    817.00\\\\\n",
       "\t2 & 4 & 1 & AS\\_1 & AS & P & Post & NR & NR & Cell\\_Differential & TCC                 & 395000.00\\\\\n",
       "\t3 & 4 & 1 & AS\\_1 & AS & P & Post & NR & NR & Cell\\_Differential & TCC\\_Weight          &    483.48\\\\\n",
       "\t4 & 4 & 1 & AS\\_1 & AS & P & Post & NR & NR & Cell\\_Differential & Neutrophils\\_Percent &     25.00\\\\\n",
       "\t5 & 4 & 1 & AS\\_1 & AS & P & Post & NR & NR & Cell\\_Differential & Neutrophils         &  98750.00\\\\\n",
       "\t6 & 4 & 1 & AS\\_1 & AS & P & Post & NR & NR & Cell\\_Differential & Neutrophils\\_Weight  &    121.00\\\\\n",
       "\\end{tabular}\n"
      ],
      "text/markdown": [
       "\n",
       "A data.frame: 6 × 11\n",
       "\n",
       "| <!--/--> | Original_Subject_No &lt;dbl&gt; | Subject_No &lt;dbl&gt; | Subject_ID &lt;chr&gt; | Disease_Status &lt;chr&gt; | Sample_Type &lt;chr&gt; | Time_Point &lt;chr&gt; | Inflammatory_Responder &lt;chr&gt; | Lung_Responder &lt;chr&gt; | Category &lt;chr&gt; | Variable &lt;chr&gt; | Value &lt;dbl&gt; |\n",
       "|---|---|---|---|---|---|---|---|---|---|---|---|\n",
       "| 1 | 4 | 1 | AS_1 | AS | P | Post | NR | NR | Cell_Differential | Sample_Weight       |    817.00 |\n",
       "| 2 | 4 | 1 | AS_1 | AS | P | Post | NR | NR | Cell_Differential | TCC                 | 395000.00 |\n",
       "| 3 | 4 | 1 | AS_1 | AS | P | Post | NR | NR | Cell_Differential | TCC_Weight          |    483.48 |\n",
       "| 4 | 4 | 1 | AS_1 | AS | P | Post | NR | NR | Cell_Differential | Neutrophils_Percent |     25.00 |\n",
       "| 5 | 4 | 1 | AS_1 | AS | P | Post | NR | NR | Cell_Differential | Neutrophils         |  98750.00 |\n",
       "| 6 | 4 | 1 | AS_1 | AS | P | Post | NR | NR | Cell_Differential | Neutrophils_Weight  |    121.00 |\n",
       "\n"
      ],
      "text/plain": [
       "  Original_Subject_No Subject_No Subject_ID Disease_Status Sample_Type\n",
       "1 4                   1          AS_1       AS             P          \n",
       "2 4                   1          AS_1       AS             P          \n",
       "3 4                   1          AS_1       AS             P          \n",
       "4 4                   1          AS_1       AS             P          \n",
       "5 4                   1          AS_1       AS             P          \n",
       "6 4                   1          AS_1       AS             P          \n",
       "  Time_Point Inflammatory_Responder Lung_Responder Category         \n",
       "1 Post       NR                     NR             Cell_Differential\n",
       "2 Post       NR                     NR             Cell_Differential\n",
       "3 Post       NR                     NR             Cell_Differential\n",
       "4 Post       NR                     NR             Cell_Differential\n",
       "5 Post       NR                     NR             Cell_Differential\n",
       "6 Post       NR                     NR             Cell_Differential\n",
       "  Variable            Value    \n",
       "1 Sample_Weight          817.00\n",
       "2 TCC                 395000.00\n",
       "3 TCC_Weight             483.48\n",
       "4 Neutrophils_Percent     25.00\n",
       "5 Neutrophils          98750.00\n",
       "6 Neutrophils_Weight     121.00"
      ]
     },
     "metadata": {},
     "output_type": "display_data"
    },
    {
     "data": {
      "text/html": [
       "<table class=\"dataframe\">\n",
       "<caption>A data.frame: 6 × 10</caption>\n",
       "<thead>\n",
       "\t<tr><th></th><th scope=col>Original_Subject_No</th><th scope=col>Subject_No</th><th scope=col>Subject_ID</th><th scope=col>Sex</th><th scope=col>Race</th><th scope=col>Ethnicity</th><th scope=col>Age</th><th scope=col>BMI</th><th scope=col>Disease_Status</th><th scope=col>Visit_Season</th></tr>\n",
       "\t<tr><th></th><th scope=col>&lt;dbl&gt;</th><th scope=col>&lt;dbl&gt;</th><th scope=col>&lt;chr&gt;</th><th scope=col>&lt;chr&gt;</th><th scope=col>&lt;chr&gt;</th><th scope=col>&lt;chr&gt;</th><th scope=col>&lt;dbl&gt;</th><th scope=col>&lt;dbl&gt;</th><th scope=col>&lt;chr&gt;</th><th scope=col>&lt;chr&gt;</th></tr>\n",
       "</thead>\n",
       "<tbody>\n",
       "\t<tr><th scope=row>1</th><td> 4</td><td>1</td><td>AS_1</td><td>M</td><td>W</td><td>NH</td><td>30</td><td>23.3</td><td>AS</td><td>Fa</td></tr>\n",
       "\t<tr><th scope=row>2</th><td> 7</td><td>2</td><td>AS_2</td><td>F</td><td>W</td><td>NH</td><td>39</td><td>32.7</td><td>AS</td><td>Sp</td></tr>\n",
       "\t<tr><th scope=row>3</th><td>11</td><td>3</td><td>AS_3</td><td>M</td><td>W</td><td>NH</td><td>23</td><td>23.0</td><td>AS</td><td>Fa</td></tr>\n",
       "\t<tr><th scope=row>4</th><td>13</td><td>4</td><td>AS_4</td><td>M</td><td>W</td><td>NH</td><td>20</td><td>21.4</td><td>AS</td><td>Wi</td></tr>\n",
       "\t<tr><th scope=row>5</th><td>15</td><td>5</td><td>AS_5</td><td>F</td><td>B</td><td>NH</td><td>20</td><td>34.5</td><td>AS</td><td>Su</td></tr>\n",
       "\t<tr><th scope=row>6</th><td>16</td><td>6</td><td>AS_6</td><td>F</td><td>W</td><td>NH</td><td>25</td><td>25.2</td><td>AS</td><td>Su</td></tr>\n",
       "</tbody>\n",
       "</table>\n"
      ],
      "text/latex": [
       "A data.frame: 6 × 10\n",
       "\\begin{tabular}{r|llllllllll}\n",
       "  & Original\\_Subject\\_No & Subject\\_No & Subject\\_ID & Sex & Race & Ethnicity & Age & BMI & Disease\\_Status & Visit\\_Season\\\\\n",
       "  & <dbl> & <dbl> & <chr> & <chr> & <chr> & <chr> & <dbl> & <dbl> & <chr> & <chr>\\\\\n",
       "\\hline\n",
       "\t1 &  4 & 1 & AS\\_1 & M & W & NH & 30 & 23.3 & AS & Fa\\\\\n",
       "\t2 &  7 & 2 & AS\\_2 & F & W & NH & 39 & 32.7 & AS & Sp\\\\\n",
       "\t3 & 11 & 3 & AS\\_3 & M & W & NH & 23 & 23.0 & AS & Fa\\\\\n",
       "\t4 & 13 & 4 & AS\\_4 & M & W & NH & 20 & 21.4 & AS & Wi\\\\\n",
       "\t5 & 15 & 5 & AS\\_5 & F & B & NH & 20 & 34.5 & AS & Su\\\\\n",
       "\t6 & 16 & 6 & AS\\_6 & F & W & NH & 25 & 25.2 & AS & Su\\\\\n",
       "\\end{tabular}\n"
      ],
      "text/markdown": [
       "\n",
       "A data.frame: 6 × 10\n",
       "\n",
       "| <!--/--> | Original_Subject_No &lt;dbl&gt; | Subject_No &lt;dbl&gt; | Subject_ID &lt;chr&gt; | Sex &lt;chr&gt; | Race &lt;chr&gt; | Ethnicity &lt;chr&gt; | Age &lt;dbl&gt; | BMI &lt;dbl&gt; | Disease_Status &lt;chr&gt; | Visit_Season &lt;chr&gt; |\n",
       "|---|---|---|---|---|---|---|---|---|---|---|\n",
       "| 1 |  4 | 1 | AS_1 | M | W | NH | 30 | 23.3 | AS | Fa |\n",
       "| 2 |  7 | 2 | AS_2 | F | W | NH | 39 | 32.7 | AS | Sp |\n",
       "| 3 | 11 | 3 | AS_3 | M | W | NH | 23 | 23.0 | AS | Fa |\n",
       "| 4 | 13 | 4 | AS_4 | M | W | NH | 20 | 21.4 | AS | Wi |\n",
       "| 5 | 15 | 5 | AS_5 | F | B | NH | 20 | 34.5 | AS | Su |\n",
       "| 6 | 16 | 6 | AS_6 | F | W | NH | 25 | 25.2 | AS | Su |\n",
       "\n"
      ],
      "text/plain": [
       "  Original_Subject_No Subject_No Subject_ID Sex Race Ethnicity Age BMI \n",
       "1  4                  1          AS_1       M   W    NH        30  23.3\n",
       "2  7                  2          AS_2       F   W    NH        39  32.7\n",
       "3 11                  3          AS_3       M   W    NH        23  23.0\n",
       "4 13                  4          AS_4       M   W    NH        20  21.4\n",
       "5 15                  5          AS_5       F   B    NH        20  34.5\n",
       "6 16                  6          AS_6       F   W    NH        25  25.2\n",
       "  Disease_Status Visit_Season\n",
       "1 AS             Fa          \n",
       "2 AS             Sp          \n",
       "3 AS             Fa          \n",
       "4 AS             Wi          \n",
       "5 AS             Su          \n",
       "6 AS             Su          "
      ]
     },
     "metadata": {},
     "output_type": "display_data"
    }
   ],
   "source": [
    "head(ozone_data)\n",
    "head(demographics_data)"
   ]
  },
  {
   "cell_type": "markdown",
   "id": "c5587be6",
   "metadata": {},
   "source": [
    "Making an Individual Conditional Expectation (ICE) plot to highlight Vitamin D and how it's importance fluctuates with the overall predictability of lung function in a random forest model. \n",
    "\n",
    "TALK MORE ABOUT ICE PLOTS"
   ]
  },
  {
   "cell_type": "code",
   "execution_count": 25,
   "id": "dff5f1e3",
   "metadata": {},
   "outputs": [
    {
     "data": {
      "text/html": [
       "<table class=\"dataframe\">\n",
       "<caption>A data.frame: 6 × 8</caption>\n",
       "<thead>\n",
       "\t<tr><th></th><th scope=col>Original_Subject_No</th><th scope=col>Subject_No</th><th scope=col>Subject_ID</th><th scope=col>Disease_Status</th><th scope=col>Inflammatory_Responder</th><th scope=col>Lung_Responder</th><th scope=col>Variable</th><th scope=col>Value</th></tr>\n",
       "\t<tr><th></th><th scope=col>&lt;dbl&gt;</th><th scope=col>&lt;dbl&gt;</th><th scope=col>&lt;chr&gt;</th><th scope=col>&lt;chr&gt;</th><th scope=col>&lt;chr&gt;</th><th scope=col>&lt;chr&gt;</th><th scope=col>&lt;chr&gt;</th><th scope=col>&lt;dbl&gt;</th></tr>\n",
       "</thead>\n",
       "<tbody>\n",
       "\t<tr><th scope=row>1</th><td>4</td><td>1</td><td>AS_1</td><td>AS</td><td>NR</td><td>NR</td><td>IFNg   </td><td>8.0557406</td></tr>\n",
       "\t<tr><th scope=row>2</th><td>4</td><td>1</td><td>AS_1</td><td>AS</td><td>NR</td><td>NR</td><td>IL10   </td><td>0.3476302</td></tr>\n",
       "\t<tr><th scope=row>3</th><td>4</td><td>1</td><td>AS_1</td><td>AS</td><td>NR</td><td>NR</td><td>IL12p70</td><td>0.4572941</td></tr>\n",
       "\t<tr><th scope=row>4</th><td>4</td><td>1</td><td>AS_1</td><td>AS</td><td>NR</td><td>NR</td><td>IL13   </td><td>7.7955008</td></tr>\n",
       "\t<tr><th scope=row>5</th><td>4</td><td>1</td><td>AS_1</td><td>AS</td><td>NR</td><td>NR</td><td>IL1b   </td><td>0.2763808</td></tr>\n",
       "\t<tr><th scope=row>6</th><td>4</td><td>1</td><td>AS_1</td><td>AS</td><td>NR</td><td>NR</td><td>IL2    </td><td>0.5728830</td></tr>\n",
       "</tbody>\n",
       "</table>\n"
      ],
      "text/latex": [
       "A data.frame: 6 × 8\n",
       "\\begin{tabular}{r|llllllll}\n",
       "  & Original\\_Subject\\_No & Subject\\_No & Subject\\_ID & Disease\\_Status & Inflammatory\\_Responder & Lung\\_Responder & Variable & Value\\\\\n",
       "  & <dbl> & <dbl> & <chr> & <chr> & <chr> & <chr> & <chr> & <dbl>\\\\\n",
       "\\hline\n",
       "\t1 & 4 & 1 & AS\\_1 & AS & NR & NR & IFNg    & 8.0557406\\\\\n",
       "\t2 & 4 & 1 & AS\\_1 & AS & NR & NR & IL10    & 0.3476302\\\\\n",
       "\t3 & 4 & 1 & AS\\_1 & AS & NR & NR & IL12p70 & 0.4572941\\\\\n",
       "\t4 & 4 & 1 & AS\\_1 & AS & NR & NR & IL13    & 7.7955008\\\\\n",
       "\t5 & 4 & 1 & AS\\_1 & AS & NR & NR & IL1b    & 0.2763808\\\\\n",
       "\t6 & 4 & 1 & AS\\_1 & AS & NR & NR & IL2     & 0.5728830\\\\\n",
       "\\end{tabular}\n"
      ],
      "text/markdown": [
       "\n",
       "A data.frame: 6 × 8\n",
       "\n",
       "| <!--/--> | Original_Subject_No &lt;dbl&gt; | Subject_No &lt;dbl&gt; | Subject_ID &lt;chr&gt; | Disease_Status &lt;chr&gt; | Inflammatory_Responder &lt;chr&gt; | Lung_Responder &lt;chr&gt; | Variable &lt;chr&gt; | Value &lt;dbl&gt; |\n",
       "|---|---|---|---|---|---|---|---|---|\n",
       "| 1 | 4 | 1 | AS_1 | AS | NR | NR | IFNg    | 8.0557406 |\n",
       "| 2 | 4 | 1 | AS_1 | AS | NR | NR | IL10    | 0.3476302 |\n",
       "| 3 | 4 | 1 | AS_1 | AS | NR | NR | IL12p70 | 0.4572941 |\n",
       "| 4 | 4 | 1 | AS_1 | AS | NR | NR | IL13    | 7.7955008 |\n",
       "| 5 | 4 | 1 | AS_1 | AS | NR | NR | IL1b    | 0.2763808 |\n",
       "| 6 | 4 | 1 | AS_1 | AS | NR | NR | IL2     | 0.5728830 |\n",
       "\n"
      ],
      "text/plain": [
       "  Original_Subject_No Subject_No Subject_ID Disease_Status\n",
       "1 4                   1          AS_1       AS            \n",
       "2 4                   1          AS_1       AS            \n",
       "3 4                   1          AS_1       AS            \n",
       "4 4                   1          AS_1       AS            \n",
       "5 4                   1          AS_1       AS            \n",
       "6 4                   1          AS_1       AS            \n",
       "  Inflammatory_Responder Lung_Responder Variable Value    \n",
       "1 NR                     NR             IFNg     8.0557406\n",
       "2 NR                     NR             IL10     0.3476302\n",
       "3 NR                     NR             IL12p70  0.4572941\n",
       "4 NR                     NR             IL13     7.7955008\n",
       "5 NR                     NR             IL1b     0.2763808\n",
       "6 NR                     NR             IL2      0.5728830"
      ]
     },
     "metadata": {},
     "output_type": "display_data"
    }
   ],
   "source": [
    "#getting baseline plasma data (not using covariates)\n",
    "plasma_baseline_ozone_data = ozone_data %>%\n",
    "    #only interested in plasma soluble mediators (cytokines/sterols) at baseline\n",
    "    filter(Sample_Type == \"P\" & Time_Point == \"Pre\") %>%\n",
    "    filter(Category == \"Cytokine\" | Category == \"Sterol\") %>%\n",
    "    select(-c(\"Sample_Type\", \"Time_Point\", \"Category\")) %>%\n",
    "    distinct()\n",
    "head(plasma_baseline_ozone_data)"
   ]
  },
  {
   "cell_type": "code",
   "execution_count": 26,
   "id": "c4b84518",
   "metadata": {},
   "outputs": [
    {
     "data": {
      "text/html": [
       "<table class=\"dataframe\">\n",
       "<caption>A tibble: 6 × 47</caption>\n",
       "<thead>\n",
       "\t<tr><th scope=col>Original_Subject_No</th><th scope=col>Subject_No</th><th scope=col>Subject_ID</th><th scope=col>Disease_Status</th><th scope=col>Inflammatory_Responder</th><th scope=col>Lung_Responder</th><th scope=col>IFNg</th><th scope=col>IL10</th><th scope=col>IL12p70</th><th scope=col>IL13</th><th scope=col>⋯</th><th scope=col>SecoB</th><th scope=col>bEP_Chol</th><th scope=col>Lan</th><th scope=col>Zym</th><th scope=col>DHL</th><th scope=col>Des</th><th scope=col>dHLan</th><th scope=col>Zyme</th><th scope=col>Lath</th><th scope=col>Chol</th></tr>\n",
       "\t<tr><th scope=col>&lt;dbl&gt;</th><th scope=col>&lt;dbl&gt;</th><th scope=col>&lt;chr&gt;</th><th scope=col>&lt;chr&gt;</th><th scope=col>&lt;chr&gt;</th><th scope=col>&lt;chr&gt;</th><th scope=col>&lt;dbl&gt;</th><th scope=col>&lt;dbl&gt;</th><th scope=col>&lt;dbl&gt;</th><th scope=col>&lt;dbl&gt;</th><th scope=col>⋯</th><th scope=col>&lt;dbl&gt;</th><th scope=col>&lt;dbl&gt;</th><th scope=col>&lt;dbl&gt;</th><th scope=col>&lt;dbl&gt;</th><th scope=col>&lt;dbl&gt;</th><th scope=col>&lt;dbl&gt;</th><th scope=col>&lt;dbl&gt;</th><th scope=col>&lt;dbl&gt;</th><th scope=col>&lt;dbl&gt;</th><th scope=col>&lt;dbl&gt;</th></tr>\n",
       "</thead>\n",
       "<tbody>\n",
       "\t<tr><td> 4</td><td>1</td><td>AS_1</td><td>AS</td><td>NR</td><td>NR</td><td> 8.055741</td><td>0.3476302</td><td>0.4572941</td><td>7.795501</td><td>⋯</td><td>  1.816</td><td>25.669</td><td>0.171</td><td>0.057</td><td>0.224</td><td>0.641</td><td>0.004</td><td>3.014</td><td>1.969</td><td>1110.442</td></tr>\n",
       "\t<tr><td> 7</td><td>2</td><td>AS_2</td><td>AS</td><td>R </td><td>NR</td><td> 5.456212</td><td>0.1802846</td><td>0.1292934</td><td>2.917929</td><td>⋯</td><td>112.521</td><td>17.867</td><td>0.062</td><td>0.046</td><td>0.106</td><td>0.286</td><td>0.015</td><td>2.508</td><td>1.287</td><td> 673.328</td></tr>\n",
       "\t<tr><td>11</td><td>3</td><td>AS_3</td><td>AS</td><td>NR</td><td>R </td><td> 2.902175</td><td>0.4177936</td><td>0.2590372</td><td>5.633180</td><td>⋯</td><td>  6.686</td><td> 8.066</td><td>0.052</td><td>0.046</td><td>0.094</td><td>0.279</td><td>0.005</td><td>1.549</td><td>1.200</td><td> 537.509</td></tr>\n",
       "\t<tr><td>13</td><td>4</td><td>AS_4</td><td>AS</td><td>R </td><td>NR</td><td> 3.860980</td><td>0.3901140</td><td>0.2232882</td><td>5.927085</td><td>⋯</td><td> 48.416</td><td>10.132</td><td>0.013</td><td>0.046</td><td>0.085</td><td>0.297</td><td>0.016</td><td>1.833</td><td>1.062</td><td> 482.396</td></tr>\n",
       "\t<tr><td>15</td><td>5</td><td>AS_5</td><td>AS</td><td>R </td><td>NR</td><td> 2.652720</td><td>0.2658850</td><td>0.4454673</td><td>4.514058</td><td>⋯</td><td> 13.006</td><td>13.090</td><td>0.117</td><td>0.060</td><td>0.116</td><td>0.255</td><td>0.020</td><td>3.628</td><td>1.795</td><td> 586.750</td></tr>\n",
       "\t<tr><td>16</td><td>6</td><td>AS_6</td><td>AS</td><td>NR</td><td>NR</td><td>22.007931</td><td>0.4377489</td><td>0.1994178</td><td>4.951412</td><td>⋯</td><td> 36.458</td><td>14.331</td><td>0.022</td><td>0.034</td><td>0.077</td><td>0.272</td><td>0.006</td><td>1.914</td><td>0.966</td><td> 639.636</td></tr>\n",
       "</tbody>\n",
       "</table>\n"
      ],
      "text/latex": [
       "A tibble: 6 × 47\n",
       "\\begin{tabular}{lllllllllllllllllllll}\n",
       " Original\\_Subject\\_No & Subject\\_No & Subject\\_ID & Disease\\_Status & Inflammatory\\_Responder & Lung\\_Responder & IFNg & IL10 & IL12p70 & IL13 & ⋯ & SecoB & bEP\\_Chol & Lan & Zym & DHL & Des & dHLan & Zyme & Lath & Chol\\\\\n",
       " <dbl> & <dbl> & <chr> & <chr> & <chr> & <chr> & <dbl> & <dbl> & <dbl> & <dbl> & ⋯ & <dbl> & <dbl> & <dbl> & <dbl> & <dbl> & <dbl> & <dbl> & <dbl> & <dbl> & <dbl>\\\\\n",
       "\\hline\n",
       "\t  4 & 1 & AS\\_1 & AS & NR & NR &  8.055741 & 0.3476302 & 0.4572941 & 7.795501 & ⋯ &   1.816 & 25.669 & 0.171 & 0.057 & 0.224 & 0.641 & 0.004 & 3.014 & 1.969 & 1110.442\\\\\n",
       "\t  7 & 2 & AS\\_2 & AS & R  & NR &  5.456212 & 0.1802846 & 0.1292934 & 2.917929 & ⋯ & 112.521 & 17.867 & 0.062 & 0.046 & 0.106 & 0.286 & 0.015 & 2.508 & 1.287 &  673.328\\\\\n",
       "\t 11 & 3 & AS\\_3 & AS & NR & R  &  2.902175 & 0.4177936 & 0.2590372 & 5.633180 & ⋯ &   6.686 &  8.066 & 0.052 & 0.046 & 0.094 & 0.279 & 0.005 & 1.549 & 1.200 &  537.509\\\\\n",
       "\t 13 & 4 & AS\\_4 & AS & R  & NR &  3.860980 & 0.3901140 & 0.2232882 & 5.927085 & ⋯ &  48.416 & 10.132 & 0.013 & 0.046 & 0.085 & 0.297 & 0.016 & 1.833 & 1.062 &  482.396\\\\\n",
       "\t 15 & 5 & AS\\_5 & AS & R  & NR &  2.652720 & 0.2658850 & 0.4454673 & 4.514058 & ⋯ &  13.006 & 13.090 & 0.117 & 0.060 & 0.116 & 0.255 & 0.020 & 3.628 & 1.795 &  586.750\\\\\n",
       "\t 16 & 6 & AS\\_6 & AS & NR & NR & 22.007931 & 0.4377489 & 0.1994178 & 4.951412 & ⋯ &  36.458 & 14.331 & 0.022 & 0.034 & 0.077 & 0.272 & 0.006 & 1.914 & 0.966 &  639.636\\\\\n",
       "\\end{tabular}\n"
      ],
      "text/markdown": [
       "\n",
       "A tibble: 6 × 47\n",
       "\n",
       "| Original_Subject_No &lt;dbl&gt; | Subject_No &lt;dbl&gt; | Subject_ID &lt;chr&gt; | Disease_Status &lt;chr&gt; | Inflammatory_Responder &lt;chr&gt; | Lung_Responder &lt;chr&gt; | IFNg &lt;dbl&gt; | IL10 &lt;dbl&gt; | IL12p70 &lt;dbl&gt; | IL13 &lt;dbl&gt; | ⋯ ⋯ | SecoB &lt;dbl&gt; | bEP_Chol &lt;dbl&gt; | Lan &lt;dbl&gt; | Zym &lt;dbl&gt; | DHL &lt;dbl&gt; | Des &lt;dbl&gt; | dHLan &lt;dbl&gt; | Zyme &lt;dbl&gt; | Lath &lt;dbl&gt; | Chol &lt;dbl&gt; |\n",
       "|---|---|---|---|---|---|---|---|---|---|---|---|---|---|---|---|---|---|---|---|---|\n",
       "|  4 | 1 | AS_1 | AS | NR | NR |  8.055741 | 0.3476302 | 0.4572941 | 7.795501 | ⋯ |   1.816 | 25.669 | 0.171 | 0.057 | 0.224 | 0.641 | 0.004 | 3.014 | 1.969 | 1110.442 |\n",
       "|  7 | 2 | AS_2 | AS | R  | NR |  5.456212 | 0.1802846 | 0.1292934 | 2.917929 | ⋯ | 112.521 | 17.867 | 0.062 | 0.046 | 0.106 | 0.286 | 0.015 | 2.508 | 1.287 |  673.328 |\n",
       "| 11 | 3 | AS_3 | AS | NR | R  |  2.902175 | 0.4177936 | 0.2590372 | 5.633180 | ⋯ |   6.686 |  8.066 | 0.052 | 0.046 | 0.094 | 0.279 | 0.005 | 1.549 | 1.200 |  537.509 |\n",
       "| 13 | 4 | AS_4 | AS | R  | NR |  3.860980 | 0.3901140 | 0.2232882 | 5.927085 | ⋯ |  48.416 | 10.132 | 0.013 | 0.046 | 0.085 | 0.297 | 0.016 | 1.833 | 1.062 |  482.396 |\n",
       "| 15 | 5 | AS_5 | AS | R  | NR |  2.652720 | 0.2658850 | 0.4454673 | 4.514058 | ⋯ |  13.006 | 13.090 | 0.117 | 0.060 | 0.116 | 0.255 | 0.020 | 3.628 | 1.795 |  586.750 |\n",
       "| 16 | 6 | AS_6 | AS | NR | NR | 22.007931 | 0.4377489 | 0.1994178 | 4.951412 | ⋯ |  36.458 | 14.331 | 0.022 | 0.034 | 0.077 | 0.272 | 0.006 | 1.914 | 0.966 |  639.636 |\n",
       "\n"
      ],
      "text/plain": [
       "  Original_Subject_No Subject_No Subject_ID Disease_Status\n",
       "1  4                  1          AS_1       AS            \n",
       "2  7                  2          AS_2       AS            \n",
       "3 11                  3          AS_3       AS            \n",
       "4 13                  4          AS_4       AS            \n",
       "5 15                  5          AS_5       AS            \n",
       "6 16                  6          AS_6       AS            \n",
       "  Inflammatory_Responder Lung_Responder IFNg      IL10      IL12p70   IL13    \n",
       "1 NR                     NR              8.055741 0.3476302 0.4572941 7.795501\n",
       "2 R                      NR              5.456212 0.1802846 0.1292934 2.917929\n",
       "3 NR                     R               2.902175 0.4177936 0.2590372 5.633180\n",
       "4 R                      NR              3.860980 0.3901140 0.2232882 5.927085\n",
       "5 R                      NR              2.652720 0.2658850 0.4454673 4.514058\n",
       "6 NR                     NR             22.007931 0.4377489 0.1994178 4.951412\n",
       "  ⋯ SecoB   bEP_Chol Lan   Zym   DHL   Des   dHLan Zyme  Lath  Chol    \n",
       "1 ⋯   1.816 25.669   0.171 0.057 0.224 0.641 0.004 3.014 1.969 1110.442\n",
       "2 ⋯ 112.521 17.867   0.062 0.046 0.106 0.286 0.015 2.508 1.287  673.328\n",
       "3 ⋯   6.686  8.066   0.052 0.046 0.094 0.279 0.005 1.549 1.200  537.509\n",
       "4 ⋯  48.416 10.132   0.013 0.046 0.085 0.297 0.016 1.833 1.062  482.396\n",
       "5 ⋯  13.006 13.090   0.117 0.060 0.116 0.255 0.020 3.628 1.795  586.750\n",
       "6 ⋯  36.458 14.331   0.022 0.034 0.077 0.272 0.006 1.914 0.966  639.636"
      ]
     },
     "metadata": {},
     "output_type": "display_data"
    }
   ],
   "source": [
    "#first pivoting wider bc thats what random forest prefers\n",
    "wider_data = pivot_wider(plasma_baseline_ozone_data,\n",
    "                         #not actually taking the mean of multiple values\n",
    "                         #did this bc cols would be type list rather than double\n",
    "                         names_from = Variable, values_from = Value, values_fn = mean)\n",
    "\n",
    "head(wider_data)"
   ]
  },
  {
   "cell_type": "code",
   "execution_count": 27,
   "id": "1c429195",
   "metadata": {},
   "outputs": [
    {
     "data": {
      "text/html": [
       "<table class=\"dataframe\">\n",
       "<caption>A tibble: 6 × 42</caption>\n",
       "<thead>\n",
       "\t<tr><th scope=col>Lung_Responder</th><th scope=col>IFNg</th><th scope=col>IL10</th><th scope=col>IL12p70</th><th scope=col>IL13</th><th scope=col>IL1b</th><th scope=col>IL2</th><th scope=col>IL4</th><th scope=col>IL6</th><th scope=col>IL8</th><th scope=col>⋯</th><th scope=col>SecoB</th><th scope=col>bEP_Chol</th><th scope=col>Lan</th><th scope=col>Zym</th><th scope=col>DHL</th><th scope=col>Des</th><th scope=col>dHLan</th><th scope=col>Zyme</th><th scope=col>Lath</th><th scope=col>Chol</th></tr>\n",
       "\t<tr><th scope=col>&lt;fct&gt;</th><th scope=col>&lt;dbl&gt;</th><th scope=col>&lt;dbl&gt;</th><th scope=col>&lt;dbl&gt;</th><th scope=col>&lt;dbl&gt;</th><th scope=col>&lt;dbl&gt;</th><th scope=col>&lt;dbl&gt;</th><th scope=col>&lt;dbl&gt;</th><th scope=col>&lt;dbl&gt;</th><th scope=col>&lt;dbl&gt;</th><th scope=col>⋯</th><th scope=col>&lt;dbl&gt;</th><th scope=col>&lt;dbl&gt;</th><th scope=col>&lt;dbl&gt;</th><th scope=col>&lt;dbl&gt;</th><th scope=col>&lt;dbl&gt;</th><th scope=col>&lt;dbl&gt;</th><th scope=col>&lt;dbl&gt;</th><th scope=col>&lt;dbl&gt;</th><th scope=col>&lt;dbl&gt;</th><th scope=col>&lt;dbl&gt;</th></tr>\n",
       "</thead>\n",
       "<tbody>\n",
       "\t<tr><td>0</td><td> 8.055741</td><td>0.3476302</td><td>0.4572941</td><td>7.795501</td><td>0.2763808</td><td>0.5728830</td><td>0.08653851</td><td>4.27020432</td><td>624.862506</td><td>⋯</td><td>  1.816</td><td>25.669</td><td>0.171</td><td>0.057</td><td>0.224</td><td>0.641</td><td>0.004</td><td>3.014</td><td>1.969</td><td>1110.442</td></tr>\n",
       "\t<tr><td>0</td><td> 5.456212</td><td>0.1802846</td><td>0.1292934</td><td>2.917929</td><td>0.1416200</td><td>0.0616800</td><td>0.00492000</td><td>0.22680099</td><td> 28.767470</td><td>⋯</td><td>112.521</td><td>17.867</td><td>0.062</td><td>0.046</td><td>0.106</td><td>0.286</td><td>0.015</td><td>2.508</td><td>1.287</td><td> 673.328</td></tr>\n",
       "\t<tr><td>1</td><td> 2.902175</td><td>0.4177936</td><td>0.2590372</td><td>5.633180</td><td>0.1416200</td><td>0.0616800</td><td>0.03890678</td><td>0.15432565</td><td>  4.411786</td><td>⋯</td><td>  6.686</td><td> 8.066</td><td>0.052</td><td>0.046</td><td>0.094</td><td>0.279</td><td>0.005</td><td>1.549</td><td>1.200</td><td> 537.509</td></tr>\n",
       "\t<tr><td>0</td><td> 3.860980</td><td>0.3901140</td><td>0.2232882</td><td>5.927085</td><td>0.1416200</td><td>0.1127180</td><td>0.03740718</td><td>0.47849981</td><td>  2.909993</td><td>⋯</td><td> 48.416</td><td>10.132</td><td>0.013</td><td>0.046</td><td>0.085</td><td>0.297</td><td>0.016</td><td>1.833</td><td>1.062</td><td> 482.396</td></tr>\n",
       "\t<tr><td>0</td><td> 2.652720</td><td>0.2658850</td><td>0.4454673</td><td>4.514058</td><td>0.1416200</td><td>0.0616800</td><td>0.02353853</td><td>0.07186388</td><td>  3.387921</td><td>⋯</td><td> 13.006</td><td>13.090</td><td>0.117</td><td>0.060</td><td>0.116</td><td>0.255</td><td>0.020</td><td>3.628</td><td>1.795</td><td> 586.750</td></tr>\n",
       "\t<tr><td>0</td><td>22.007931</td><td>0.4377489</td><td>0.1994178</td><td>4.951412</td><td>0.1416200</td><td>0.2333793</td><td>0.02990994</td><td>1.54397048</td><td>  3.779592</td><td>⋯</td><td> 36.458</td><td>14.331</td><td>0.022</td><td>0.034</td><td>0.077</td><td>0.272</td><td>0.006</td><td>1.914</td><td>0.966</td><td> 639.636</td></tr>\n",
       "</tbody>\n",
       "</table>\n"
      ],
      "text/latex": [
       "A tibble: 6 × 42\n",
       "\\begin{tabular}{lllllllllllllllllllll}\n",
       " Lung\\_Responder & IFNg & IL10 & IL12p70 & IL13 & IL1b & IL2 & IL4 & IL6 & IL8 & ⋯ & SecoB & bEP\\_Chol & Lan & Zym & DHL & Des & dHLan & Zyme & Lath & Chol\\\\\n",
       " <fct> & <dbl> & <dbl> & <dbl> & <dbl> & <dbl> & <dbl> & <dbl> & <dbl> & <dbl> & ⋯ & <dbl> & <dbl> & <dbl> & <dbl> & <dbl> & <dbl> & <dbl> & <dbl> & <dbl> & <dbl>\\\\\n",
       "\\hline\n",
       "\t 0 &  8.055741 & 0.3476302 & 0.4572941 & 7.795501 & 0.2763808 & 0.5728830 & 0.08653851 & 4.27020432 & 624.862506 & ⋯ &   1.816 & 25.669 & 0.171 & 0.057 & 0.224 & 0.641 & 0.004 & 3.014 & 1.969 & 1110.442\\\\\n",
       "\t 0 &  5.456212 & 0.1802846 & 0.1292934 & 2.917929 & 0.1416200 & 0.0616800 & 0.00492000 & 0.22680099 &  28.767470 & ⋯ & 112.521 & 17.867 & 0.062 & 0.046 & 0.106 & 0.286 & 0.015 & 2.508 & 1.287 &  673.328\\\\\n",
       "\t 1 &  2.902175 & 0.4177936 & 0.2590372 & 5.633180 & 0.1416200 & 0.0616800 & 0.03890678 & 0.15432565 &   4.411786 & ⋯ &   6.686 &  8.066 & 0.052 & 0.046 & 0.094 & 0.279 & 0.005 & 1.549 & 1.200 &  537.509\\\\\n",
       "\t 0 &  3.860980 & 0.3901140 & 0.2232882 & 5.927085 & 0.1416200 & 0.1127180 & 0.03740718 & 0.47849981 &   2.909993 & ⋯ &  48.416 & 10.132 & 0.013 & 0.046 & 0.085 & 0.297 & 0.016 & 1.833 & 1.062 &  482.396\\\\\n",
       "\t 0 &  2.652720 & 0.2658850 & 0.4454673 & 4.514058 & 0.1416200 & 0.0616800 & 0.02353853 & 0.07186388 &   3.387921 & ⋯ &  13.006 & 13.090 & 0.117 & 0.060 & 0.116 & 0.255 & 0.020 & 3.628 & 1.795 &  586.750\\\\\n",
       "\t 0 & 22.007931 & 0.4377489 & 0.1994178 & 4.951412 & 0.1416200 & 0.2333793 & 0.02990994 & 1.54397048 &   3.779592 & ⋯ &  36.458 & 14.331 & 0.022 & 0.034 & 0.077 & 0.272 & 0.006 & 1.914 & 0.966 &  639.636\\\\\n",
       "\\end{tabular}\n"
      ],
      "text/markdown": [
       "\n",
       "A tibble: 6 × 42\n",
       "\n",
       "| Lung_Responder &lt;fct&gt; | IFNg &lt;dbl&gt; | IL10 &lt;dbl&gt; | IL12p70 &lt;dbl&gt; | IL13 &lt;dbl&gt; | IL1b &lt;dbl&gt; | IL2 &lt;dbl&gt; | IL4 &lt;dbl&gt; | IL6 &lt;dbl&gt; | IL8 &lt;dbl&gt; | ⋯ ⋯ | SecoB &lt;dbl&gt; | bEP_Chol &lt;dbl&gt; | Lan &lt;dbl&gt; | Zym &lt;dbl&gt; | DHL &lt;dbl&gt; | Des &lt;dbl&gt; | dHLan &lt;dbl&gt; | Zyme &lt;dbl&gt; | Lath &lt;dbl&gt; | Chol &lt;dbl&gt; |\n",
       "|---|---|---|---|---|---|---|---|---|---|---|---|---|---|---|---|---|---|---|---|---|\n",
       "| 0 |  8.055741 | 0.3476302 | 0.4572941 | 7.795501 | 0.2763808 | 0.5728830 | 0.08653851 | 4.27020432 | 624.862506 | ⋯ |   1.816 | 25.669 | 0.171 | 0.057 | 0.224 | 0.641 | 0.004 | 3.014 | 1.969 | 1110.442 |\n",
       "| 0 |  5.456212 | 0.1802846 | 0.1292934 | 2.917929 | 0.1416200 | 0.0616800 | 0.00492000 | 0.22680099 |  28.767470 | ⋯ | 112.521 | 17.867 | 0.062 | 0.046 | 0.106 | 0.286 | 0.015 | 2.508 | 1.287 |  673.328 |\n",
       "| 1 |  2.902175 | 0.4177936 | 0.2590372 | 5.633180 | 0.1416200 | 0.0616800 | 0.03890678 | 0.15432565 |   4.411786 | ⋯ |   6.686 |  8.066 | 0.052 | 0.046 | 0.094 | 0.279 | 0.005 | 1.549 | 1.200 |  537.509 |\n",
       "| 0 |  3.860980 | 0.3901140 | 0.2232882 | 5.927085 | 0.1416200 | 0.1127180 | 0.03740718 | 0.47849981 |   2.909993 | ⋯ |  48.416 | 10.132 | 0.013 | 0.046 | 0.085 | 0.297 | 0.016 | 1.833 | 1.062 |  482.396 |\n",
       "| 0 |  2.652720 | 0.2658850 | 0.4454673 | 4.514058 | 0.1416200 | 0.0616800 | 0.02353853 | 0.07186388 |   3.387921 | ⋯ |  13.006 | 13.090 | 0.117 | 0.060 | 0.116 | 0.255 | 0.020 | 3.628 | 1.795 |  586.750 |\n",
       "| 0 | 22.007931 | 0.4377489 | 0.1994178 | 4.951412 | 0.1416200 | 0.2333793 | 0.02990994 | 1.54397048 |   3.779592 | ⋯ |  36.458 | 14.331 | 0.022 | 0.034 | 0.077 | 0.272 | 0.006 | 1.914 | 0.966 |  639.636 |\n",
       "\n"
      ],
      "text/plain": [
       "  Lung_Responder IFNg      IL10      IL12p70   IL13     IL1b      IL2      \n",
       "1 0               8.055741 0.3476302 0.4572941 7.795501 0.2763808 0.5728830\n",
       "2 0               5.456212 0.1802846 0.1292934 2.917929 0.1416200 0.0616800\n",
       "3 1               2.902175 0.4177936 0.2590372 5.633180 0.1416200 0.0616800\n",
       "4 0               3.860980 0.3901140 0.2232882 5.927085 0.1416200 0.1127180\n",
       "5 0               2.652720 0.2658850 0.4454673 4.514058 0.1416200 0.0616800\n",
       "6 0              22.007931 0.4377489 0.1994178 4.951412 0.1416200 0.2333793\n",
       "  IL4        IL6        IL8        ⋯ SecoB   bEP_Chol Lan   Zym   DHL   Des  \n",
       "1 0.08653851 4.27020432 624.862506 ⋯   1.816 25.669   0.171 0.057 0.224 0.641\n",
       "2 0.00492000 0.22680099  28.767470 ⋯ 112.521 17.867   0.062 0.046 0.106 0.286\n",
       "3 0.03890678 0.15432565   4.411786 ⋯   6.686  8.066   0.052 0.046 0.094 0.279\n",
       "4 0.03740718 0.47849981   2.909993 ⋯  48.416 10.132   0.013 0.046 0.085 0.297\n",
       "5 0.02353853 0.07186388   3.387921 ⋯  13.006 13.090   0.117 0.060 0.116 0.255\n",
       "6 0.02990994 1.54397048   3.779592 ⋯  36.458 14.331   0.022 0.034 0.077 0.272\n",
       "  dHLan Zyme  Lath  Chol    \n",
       "1 0.004 3.014 1.969 1110.442\n",
       "2 0.015 2.508 1.287  673.328\n",
       "3 0.005 1.549 1.200  537.509\n",
       "4 0.016 1.833 1.062  482.396\n",
       "5 0.020 3.628 1.795  586.750\n",
       "6 0.006 1.914 0.966  639.636"
      ]
     },
     "metadata": {},
     "output_type": "display_data"
    }
   ],
   "source": [
    "#making responder columns binary denoted by 0 = non-responder and 1 = responder \n",
    "wider_data = wider_data %>%\n",
    "    mutate(Lung_Responder = relevel(factor(ifelse(Lung_Responder == \"R\", 1, 0)), ref = \"0\")) %>%\n",
    "    #for some reason RF didn't this variable so I changed it\n",
    "    rename(X25OH_VitD = `25OH_VitD`)\n",
    "lung_resp_df = wider_data[,6:47]\n",
    "\n",
    "head(lung_resp_df)"
   ]
  },
  {
   "cell_type": "markdown",
   "id": "1dc094e9",
   "metadata": {},
   "source": [
    "# Random Forest"
   ]
  },
  {
   "cell_type": "code",
   "execution_count": 58,
   "id": "6704cb2d",
   "metadata": {},
   "outputs": [],
   "source": [
    "rf_classification = function(dataset, outcome, pred_outcome){\n",
    "    # setting for reproducibility\n",
    "    set.seed(12)\n",
    "    # splitting data into training and testing sets\n",
    "    dataset_index = createFolds(dataset[[outcome]], k = 5) # 5 fold CV\n",
    "\n",
    "    rf_models = list()\n",
    "    \n",
    "    for (i in 1:length(dataset_index)){\n",
    "        data_train = dataset[-dataset_index[[i]],]\n",
    "        data_test = dataset[dataset_index[[i]],]\n",
    "\n",
    "        ntree_values = c(50, 250, 500) # number of trees (not sure if we wanted something different)\n",
    "        p = dim(dataset)[2] - 1 # number of variables in dataset\n",
    "        mtry_values = c(p/2, sqrt(p), p)\n",
    "\n",
    "        # will use ntree and mtry values to determine which combination yields the smallest MSE\n",
    "        reg_rf_pred_tune = list()\n",
    "        rf_OOB_errors = list()\n",
    "        rf_error_df = data.frame()\n",
    "        for (j in 1:length(ntree_values)){\n",
    "            for (k in 1:length(mtry_values)){\n",
    "                reg_rf_pred_tune[[k]] = randomForest(as.formula(paste0(outcome, \"~.\")), data = data_train, \n",
    "                                                     ntree = ntree_values[j], mtry = mtry_values[k])\n",
    "                rf_OOB_errors[[k]] = data.frame(\"Tree Number\" = ntree_values[j], \"Variable Number\" = mtry_values[k], \n",
    "                                       \"OOB_errors\" = reg_rf_pred_tune[[k]]$err.rate[ntree_values[j],1])\n",
    "                rf_error_df = rbind(rf_error_df, rf_OOB_errors[[k]])\n",
    "            }\n",
    "        }\n",
    "\n",
    "        # finding the lowest OOB error using best number of predictors at split and refitting OG tree\n",
    "        best_oob_errors <- which(rf_error_df$OOB_errors == min(rf_error_df$OOB_errors))\n",
    "\n",
    "        reg_rf <- randomForest(as.formula(paste0(outcome, \"~.\")), data = data_train,\n",
    "        # need to go back and figure out how the number of trees/ variables make a difference even though\n",
    "        # the errors are the same!!!!\n",
    "                               ntree = rf_error_df$Tree.Number[min(best_oob_errors)], \n",
    "                               mtry = rf_error_df$Variable.Number[min(best_oob_errors)])\n",
    "\n",
    "        rf_models = list(rf_models, reg_rf)\n",
    "        \n",
    "#         X <- lung_resp_df[which(names(lung_resp_df) != \"Lung_Responder\")]\n",
    "#         plot = partialPlot(rf_models_lung_resp[[1]], pred.data = X, x.var = \"X25OH_VitD\")  # Figure 2\n",
    "    }\n",
    "    \n",
    "    # return each rf model\n",
    "    return(rf_models)\n",
    "\n",
    "}\n",
    "\n",
    "#calling fn\n",
    "rf_models_lung_resp = rf_classification(lung_resp_df, \"Lung_Responder\", \"pred_Lung_Responder\")"
   ]
  },
  {
   "cell_type": "code",
   "execution_count": 59,
   "id": "c81e26c2",
   "metadata": {
    "scrolled": true
   },
   "outputs": [
    {
     "data": {
      "text/plain": [
       "[[1]]\n",
       "[[1]][[1]]\n",
       "[[1]][[1]][[1]]\n",
       "[[1]][[1]][[1]][[1]]\n",
       "[[1]][[1]][[1]][[1]][[1]]\n",
       "list()\n",
       "\n",
       "[[1]][[1]][[1]][[1]][[2]]\n",
       "\n",
       "Call:\n",
       " randomForest(formula = as.formula(paste0(outcome, \"~.\")), data = data_train,      ntree = rf_error_df$Tree.Number[min(best_oob_errors)], mtry = rf_error_df$Variable.Number[min(best_oob_errors)]) \n",
       "               Type of random forest: classification\n",
       "                     Number of trees: 50\n",
       "No. of variables tried at each split: 20\n",
       "\n",
       "        OOB estimate of  error rate: 55%\n",
       "Confusion matrix:\n",
       "  0 1 class.error\n",
       "0 2 7   0.7777778\n",
       "1 4 7   0.3636364\n",
       "\n",
       "\n",
       "[[1]][[1]][[1]][[2]]\n",
       "\n",
       "Call:\n",
       " randomForest(formula = as.formula(paste0(outcome, \"~.\")), data = data_train,      ntree = rf_error_df$Tree.Number[min(best_oob_errors)], mtry = rf_error_df$Variable.Number[min(best_oob_errors)]) \n",
       "               Type of random forest: classification\n",
       "                     Number of trees: 500\n",
       "No. of variables tried at each split: 20\n",
       "\n",
       "        OOB estimate of  error rate: 33.33%\n",
       "Confusion matrix:\n",
       "  0 1 class.error\n",
       "0 4 4         0.5\n",
       "1 2 8         0.2\n",
       "\n",
       "\n",
       "[[1]][[1]][[2]]\n",
       "\n",
       "Call:\n",
       " randomForest(formula = as.formula(paste0(outcome, \"~.\")), data = data_train,      ntree = rf_error_df$Tree.Number[min(best_oob_errors)], mtry = rf_error_df$Variable.Number[min(best_oob_errors)]) \n",
       "               Type of random forest: classification\n",
       "                     Number of trees: 50\n",
       "No. of variables tried at each split: 41\n",
       "\n",
       "        OOB estimate of  error rate: 40%\n",
       "Confusion matrix:\n",
       "  0 1 class.error\n",
       "0 3 6   0.6666667\n",
       "1 2 9   0.1818182\n",
       "\n",
       "\n",
       "[[1]][[2]]\n",
       "\n",
       "Call:\n",
       " randomForest(formula = as.formula(paste0(outcome, \"~.\")), data = data_train,      ntree = rf_error_df$Tree.Number[min(best_oob_errors)], mtry = rf_error_df$Variable.Number[min(best_oob_errors)]) \n",
       "               Type of random forest: classification\n",
       "                     Number of trees: 500\n",
       "No. of variables tried at each split: 20\n",
       "\n",
       "        OOB estimate of  error rate: 21.05%\n",
       "Confusion matrix:\n",
       "  0 1 class.error\n",
       "0 7 2   0.2222222\n",
       "1 2 8   0.2000000\n",
       "\n",
       "\n",
       "[[2]]\n",
       "\n",
       "Call:\n",
       " randomForest(formula = as.formula(paste0(outcome, \"~.\")), data = data_train,      ntree = rf_error_df$Tree.Number[min(best_oob_errors)], mtry = rf_error_df$Variable.Number[min(best_oob_errors)]) \n",
       "               Type of random forest: classification\n",
       "                     Number of trees: 50\n",
       "No. of variables tried at each split: 20\n",
       "\n",
       "        OOB estimate of  error rate: 42.11%\n",
       "Confusion matrix:\n",
       "  0 1 class.error\n",
       "0 4 5   0.5555556\n",
       "1 3 7   0.3000000\n"
      ]
     },
     "metadata": {},
     "output_type": "display_data"
    }
   ],
   "source": [
    "rf_models_lung_resp"
   ]
  },
  {
   "cell_type": "code",
   "execution_count": 69,
   "id": "7c3f153e",
   "metadata": {},
   "outputs": [
    {
     "data": {
      "text/plain": [
       "\n",
       "Call:\n",
       " randomForest(formula = as.formula(paste0(outcome, \"~.\")), data = data_train,      ntree = rf_error_df$Tree.Number[min(best_oob_errors)], mtry = rf_error_df$Variable.Number[min(best_oob_errors)]) \n",
       "               Type of random forest: classification\n",
       "                     Number of trees: 50\n",
       "No. of variables tried at each split: 20\n",
       "\n",
       "        OOB estimate of  error rate: 55%\n",
       "Confusion matrix:\n",
       "  0 1 class.error\n",
       "0 2 7   0.7777778\n",
       "1 4 7   0.3636364"
      ]
     },
     "metadata": {},
     "output_type": "display_data"
    }
   ],
   "source": [
    "first_model"
   ]
  },
  {
   "cell_type": "code",
   "execution_count": 64,
   "id": "600fe28c",
   "metadata": {},
   "outputs": [
    {
     "ename": "ERROR",
     "evalue": "Error in is.finite(x): default method not implemented for type 'list'\n",
     "output_type": "error",
     "traceback": [
      "Error in is.finite(x): default method not implemented for type 'list'\nTraceback:\n",
      "1. partialPlot(first_model, pred.data = X, x.var = \"X25OH_VitD\")",
      "2. partialPlot.randomForest(first_model, pred.data = X, x.var = \"X25OH_VitD\")",
      "3. rug(unique(xv, side = 1))"
     ]
    },
    {
     "data": {
      "image/png": "[encoded data removed]",
      "text/plain": [
       "Plot with title “Partial Dependence on \"X25OH_VitD\"”"
      ]
     },
     "metadata": {
      "image/png": {
       "height": 420,
       "width": 420
      }
     },
     "output_type": "display_data"
    }
   ],
   "source": [
    "first_model = rf_models_lung_resp[[1]][[1]][[1]][[1]][[2]]\n",
    "X <- lung_resp_df[which(names(lung_resp_df) != \"Lung_Responder\")]\n",
    "partialPlot(first_model, pred.data = X, x.var = \"X25OH_VitD\")  # Figure 2"
   ]
  },
  {
   "cell_type": "code",
   "execution_count": 12,
   "id": "542ba44c",
   "metadata": {},
   "outputs": [],
   "source": [
    "X <- lung_resp_df[which(names(lung_resp_df) != \"Lung_Responder\")]\n",
    "predictor <- Predictor$new(rf_models_lung_resp[[1]], data = X, y = lung_resp_df$Lung_Responder)"
   ]
  },
  {
   "cell_type": "code",
   "execution_count": 15,
   "id": "427421af",
   "metadata": {},
   "outputs": [
    {
     "ename": "ERROR",
     "evalue": "Error in (function (..., row.names = NULL, check.rows = FALSE, check.names = TRUE, : arguments imply differing number of rows: 0, 24\n",
     "output_type": "error",
     "traceback": [
      "Error in (function (..., row.names = NULL, check.rows = FALSE, check.names = TRUE, : arguments imply differing number of rows: 0, 24\nTraceback:\n",
      "1. FeatureImp$new(predictor, loss = \"mae\")",
      "2. initialize(...)",
      "3. private$run.prediction(private$sampler$X)",
      "4. self$predictor$predict(data.frame(dataDesign))",
      "5. self$prediction.function(newdata)",
      "6. data.frame(pred, check.names = FALSE)",
      "7. as.data.frame(x[[i]], optional = TRUE, stringsAsFactors = stringsAsFactors)",
      "8. as.data.frame.list(x[[i]], optional = TRUE, stringsAsFactors = stringsAsFactors)",
      "9. do.call(data.frame, c(x, alis))",
      "10. (function (..., row.names = NULL, check.rows = FALSE, check.names = TRUE, \n  .     fix.empty.names = TRUE, stringsAsFactors = FALSE) \n  . {\n  .     data.row.names <- if (check.rows && is.null(row.names)) \n  .         function(current, new, i) {\n  .             if (is.character(current)) \n  .                 new <- as.character(new)\n  .             if (is.character(new)) \n  .                 current <- as.character(current)\n  .             if (anyDuplicated(new)) \n  .                 return(current)\n  .             if (is.null(current)) \n  .                 return(new)\n  .             if (all(current == new) || all(current == \"\")) \n  .                 return(new)\n  .             stop(gettextf(\"mismatch of row names in arguments of 'data.frame', item %d\", \n  .                 i), domain = NA)\n  .         }\n  .     else function(current, new, i) {\n  .         if (is.null(current)) {\n  .             if (anyDuplicated(new)) {\n  .                 warning(gettextf(\"some row.names duplicated: %s --> row.names NOT used\", \n  .                   paste(which(duplicated(new)), collapse = \",\")), \n  .                   domain = NA)\n  .                 current\n  .             }\n  .             else new\n  .         }\n  .         else current\n  .     }\n  .     object <- as.list(substitute(list(...)))[-1L]\n  .     mirn <- missing(row.names)\n  .     mrn <- is.null(row.names)\n  .     x <- list(...)\n  .     n <- length(x)\n  .     if (n < 1L) {\n  .         if (!mrn) {\n  .             if (is.object(row.names) || !is.integer(row.names)) \n  .                 row.names <- as.character(row.names)\n  .             if (anyNA(row.names)) \n  .                 stop(\"row names contain missing values\")\n  .             if (anyDuplicated(row.names)) \n  .                 stop(gettextf(\"duplicate row.names: %s\", paste(unique(row.names[duplicated(row.names)]), \n  .                   collapse = \", \")), domain = NA)\n  .         }\n  .         else row.names <- integer()\n  .         return(structure(list(), names = character(), row.names = row.names, \n  .             class = \"data.frame\"))\n  .     }\n  .     vnames <- names(x)\n  .     if (length(vnames) != n) \n  .         vnames <- character(n)\n  .     no.vn <- !nzchar(vnames)\n  .     vlist <- vnames <- as.list(vnames)\n  .     nrows <- ncols <- integer(n)\n  .     for (i in seq_len(n)) {\n  .         xi <- if (is.character(x[[i]]) || is.list(x[[i]])) \n  .             as.data.frame(x[[i]], optional = TRUE, stringsAsFactors = stringsAsFactors)\n  .         else as.data.frame(x[[i]], optional = TRUE)\n  .         nrows[i] <- .row_names_info(xi)\n  .         ncols[i] <- length(xi)\n  .         namesi <- names(xi)\n  .         if (ncols[i] > 1L) {\n  .             if (length(namesi) == 0L) \n  .                 namesi <- seq_len(ncols[i])\n  .             vnames[[i]] <- if (no.vn[i]) \n  .                 namesi\n  .             else paste(vnames[[i]], namesi, sep = \".\")\n  .         }\n  .         else if (length(namesi)) {\n  .             vnames[[i]] <- namesi\n  .         }\n  .         else if (fix.empty.names && no.vn[[i]]) {\n  .             tmpname <- deparse(object[[i]], nlines = 1L)[1L]\n  .             if (startsWith(tmpname, \"I(\") && endsWith(tmpname, \n  .                 \")\")) {\n  .                 ntmpn <- nchar(tmpname, \"c\")\n  .                 tmpname <- substr(tmpname, 3L, ntmpn - 1L)\n  .             }\n  .             vnames[[i]] <- tmpname\n  .         }\n  .         if (mirn && nrows[i] > 0L) {\n  .             rowsi <- attr(xi, \"row.names\")\n  .             if (any(nzchar(rowsi))) \n  .                 row.names <- data.row.names(row.names, rowsi, \n  .                   i)\n  .         }\n  .         nrows[i] <- abs(nrows[i])\n  .         vlist[[i]] <- xi\n  .     }\n  .     nr <- max(nrows)\n  .     for (i in seq_len(n)[nrows < nr]) {\n  .         xi <- vlist[[i]]\n  .         if (nrows[i] > 0L && (nr%%nrows[i] == 0L)) {\n  .             xi <- unclass(xi)\n  .             fixed <- TRUE\n  .             for (j in seq_along(xi)) {\n  .                 xi1 <- xi[[j]]\n  .                 if (is.vector(xi1) || is.factor(xi1)) \n  .                   xi[[j]] <- rep(xi1, length.out = nr)\n  .                 else if (is.character(xi1) && inherits(xi1, \"AsIs\")) \n  .                   xi[[j]] <- structure(rep(xi1, length.out = nr), \n  .                     class = class(xi1))\n  .                 else if (inherits(xi1, \"Date\") || inherits(xi1, \n  .                   \"POSIXct\")) \n  .                   xi[[j]] <- rep(xi1, length.out = nr)\n  .                 else {\n  .                   fixed <- FALSE\n  .                   break\n  .                 }\n  .             }\n  .             if (fixed) {\n  .                 vlist[[i]] <- xi\n  .                 next\n  .             }\n  .         }\n  .         stop(gettextf(\"arguments imply differing number of rows: %s\", \n  .             paste(unique(nrows), collapse = \", \")), domain = NA)\n  .     }\n  .     value <- unlist(vlist, recursive = FALSE, use.names = FALSE)\n  .     vnames <- as.character(unlist(vnames[ncols > 0L]))\n  .     if (fix.empty.names && any(noname <- !nzchar(vnames))) \n  .         vnames[noname] <- paste0(\"Var.\", seq_along(vnames))[noname]\n  .     if (check.names) {\n  .         if (fix.empty.names) \n  .             vnames <- make.names(vnames, unique = TRUE)\n  .         else {\n  .             nz <- nzchar(vnames)\n  .             vnames[nz] <- make.names(vnames[nz], unique = TRUE)\n  .         }\n  .     }\n  .     names(value) <- vnames\n  .     if (!mrn) {\n  .         if (length(row.names) == 1L && nr != 1L) {\n  .             if (is.character(row.names)) \n  .                 row.names <- match(row.names, vnames, 0L)\n  .             if (length(row.names) != 1L || row.names < 1L || \n  .                 row.names > length(vnames)) \n  .                 stop(\"'row.names' should specify one of the variables\")\n  .             i <- row.names\n  .             row.names <- value[[i]]\n  .             value <- value[-i]\n  .         }\n  .         else if (!is.null(row.names) && length(row.names) != \n  .             nr) \n  .             stop(\"row names supplied are of the wrong length\")\n  .     }\n  .     else if (!is.null(row.names) && length(row.names) != nr) {\n  .         warning(\"row names were found from a short variable and have been discarded\")\n  .         row.names <- NULL\n  .     }\n  .     class(value) <- \"data.frame\"\n  .     if (is.null(row.names)) \n  .         attr(value, \"row.names\") <- .set_row_names(nr)\n  .     else {\n  .         if (is.object(row.names) || !is.integer(row.names)) \n  .             row.names <- as.character(row.names)\n  .         if (anyNA(row.names)) \n  .             stop(\"row names contain missing values\")\n  .         if (anyDuplicated(row.names)) \n  .             stop(gettextf(\"duplicate row.names: %s\", paste(unique(row.names[duplicated(row.names)]), \n  .                 collapse = \", \")), domain = NA)\n  .         row.names(value) <- row.names\n  .     }\n  .     value\n  . })(list(list(list(list(), structure(c(`1` = 1L, `2` = 1L, `3` = 2L, \n  . `4` = 1L, `5` = 1L, `6` = 1L, `7` = 2L, `8` = 1L, `9` = 2L, `10` = 1L, \n  . `11` = 1L, `12` = 2L, `13` = 2L, `14` = 2L, `15` = 2L, `16` = 2L, \n  . `17` = 1L, `18` = 1L, `19` = 2L, `20` = 2L, `21` = 2L, `22` = 2L, \n  . `23` = 2L, `24` = 2L), .Label = c(\"0\", \"1\"), class = \"factor\")), \n  .     structure(c(`1` = 1L, `2` = 1L, `3` = 2L, `4` = 1L, `5` = 1L, \n  .     `6` = 1L, `7` = 2L, `8` = 2L, `9` = 2L, `10` = 1L, `11` = 1L, \n  .     `12` = 1L, `13` = 2L, `14` = 2L, `15` = 2L, `16` = 2L, `17` = 1L, \n  .     `18` = 1L, `19` = 2L, `20` = 2L, `21` = 2L, `22` = 2L, `23` = 2L, \n  .     `24` = 2L), .Label = c(\"0\", \"1\"), class = \"factor\")), structure(c(`1` = 1L, \n  . `2` = 1L, `3` = 2L, `4` = 1L, `5` = 1L, `6` = 1L, `7` = 1L, `8` = 1L, \n  . `9` = 2L, `10` = 1L, `11` = 1L, `12` = 1L, `13` = 2L, `14` = 2L, \n  . `15` = 2L, `16` = 2L, `17` = 1L, `18` = 2L, `19` = 2L, `20` = 2L, \n  . `21` = 2L, `22` = 2L, `23` = 2L, `24` = 2L), .Label = c(\"0\", \n  . \"1\"), class = \"factor\")), structure(c(`1` = 1L, `2` = 1L, `3` = 2L, \n  . `4` = 1L, `5` = 1L, `6` = 1L, `7` = 2L, `8` = 1L, `9` = 1L, `10` = 1L, \n  . `11` = 1L, `12` = 1L, `13` = 2L, `14` = 2L, `15` = 2L, `16` = 2L, \n  . `17` = 1L, `18` = 1L, `19` = 2L, `20` = 2L, `21` = 2L, `22` = 2L, \n  . `23` = 2L, `24` = 2L), .Label = c(\"0\", \"1\"), class = \"factor\"), \n  .     check.names = FALSE, fix.empty.names = TRUE, stringsAsFactors = FALSE)",
      "11. as.data.frame(x[[i]], optional = TRUE, stringsAsFactors = stringsAsFactors)",
      "12. as.data.frame.list(x[[i]], optional = TRUE, stringsAsFactors = stringsAsFactors)",
      "13. do.call(data.frame, c(x, alis))",
      "14. (function (..., row.names = NULL, check.rows = FALSE, check.names = TRUE, \n  .     fix.empty.names = TRUE, stringsAsFactors = FALSE) \n  . {\n  .     data.row.names <- if (check.rows && is.null(row.names)) \n  .         function(current, new, i) {\n  .             if (is.character(current)) \n  .                 new <- as.character(new)\n  .             if (is.character(new)) \n  .                 current <- as.character(current)\n  .             if (anyDuplicated(new)) \n  .                 return(current)\n  .             if (is.null(current)) \n  .                 return(new)\n  .             if (all(current == new) || all(current == \"\")) \n  .                 return(new)\n  .             stop(gettextf(\"mismatch of row names in arguments of 'data.frame', item %d\", \n  .                 i), domain = NA)\n  .         }\n  .     else function(current, new, i) {\n  .         if (is.null(current)) {\n  .             if (anyDuplicated(new)) {\n  .                 warning(gettextf(\"some row.names duplicated: %s --> row.names NOT used\", \n  .                   paste(which(duplicated(new)), collapse = \",\")), \n  .                   domain = NA)\n  .                 current\n  .             }\n  .             else new\n  .         }\n  .         else current\n  .     }\n  .     object <- as.list(substitute(list(...)))[-1L]\n  .     mirn <- missing(row.names)\n  .     mrn <- is.null(row.names)\n  .     x <- list(...)\n  .     n <- length(x)\n  .     if (n < 1L) {\n  .         if (!mrn) {\n  .             if (is.object(row.names) || !is.integer(row.names)) \n  .                 row.names <- as.character(row.names)\n  .             if (anyNA(row.names)) \n  .                 stop(\"row names contain missing values\")\n  .             if (anyDuplicated(row.names)) \n  .                 stop(gettextf(\"duplicate row.names: %s\", paste(unique(row.names[duplicated(row.names)]), \n  .                   collapse = \", \")), domain = NA)\n  .         }\n  .         else row.names <- integer()\n  .         return(structure(list(), names = character(), row.names = row.names, \n  .             class = \"data.frame\"))\n  .     }\n  .     vnames <- names(x)\n  .     if (length(vnames) != n) \n  .         vnames <- character(n)\n  .     no.vn <- !nzchar(vnames)\n  .     vlist <- vnames <- as.list(vnames)\n  .     nrows <- ncols <- integer(n)\n  .     for (i in seq_len(n)) {\n  .         xi <- if (is.character(x[[i]]) || is.list(x[[i]])) \n  .             as.data.frame(x[[i]], optional = TRUE, stringsAsFactors = stringsAsFactors)\n  .         else as.data.frame(x[[i]], optional = TRUE)\n  .         nrows[i] <- .row_names_info(xi)\n  .         ncols[i] <- length(xi)\n  .         namesi <- names(xi)\n  .         if (ncols[i] > 1L) {\n  .             if (length(namesi) == 0L) \n  .                 namesi <- seq_len(ncols[i])\n  .             vnames[[i]] <- if (no.vn[i]) \n  .                 namesi\n  .             else paste(vnames[[i]], namesi, sep = \".\")\n  .         }\n  .         else if (length(namesi)) {\n  .             vnames[[i]] <- namesi\n  .         }\n  .         else if (fix.empty.names && no.vn[[i]]) {\n  .             tmpname <- deparse(object[[i]], nlines = 1L)[1L]\n  .             if (startsWith(tmpname, \"I(\") && endsWith(tmpname, \n  .                 \")\")) {\n  .                 ntmpn <- nchar(tmpname, \"c\")\n  .                 tmpname <- substr(tmpname, 3L, ntmpn - 1L)\n  .             }\n  .             vnames[[i]] <- tmpname\n  .         }\n  .         if (mirn && nrows[i] > 0L) {\n  .             rowsi <- attr(xi, \"row.names\")\n  .             if (any(nzchar(rowsi))) \n  .                 row.names <- data.row.names(row.names, rowsi, \n  .                   i)\n  .         }\n  .         nrows[i] <- abs(nrows[i])\n  .         vlist[[i]] <- xi\n  .     }\n  .     nr <- max(nrows)\n  .     for (i in seq_len(n)[nrows < nr]) {\n  .         xi <- vlist[[i]]\n  .         if (nrows[i] > 0L && (nr%%nrows[i] == 0L)) {\n  .             xi <- unclass(xi)\n  .             fixed <- TRUE\n  .             for (j in seq_along(xi)) {\n  .                 xi1 <- xi[[j]]\n  .                 if (is.vector(xi1) || is.factor(xi1)) \n  .                   xi[[j]] <- rep(xi1, length.out = nr)\n  .                 else if (is.character(xi1) && inherits(xi1, \"AsIs\")) \n  .                   xi[[j]] <- structure(rep(xi1, length.out = nr), \n  .                     class = class(xi1))\n  .                 else if (inherits(xi1, \"Date\") || inherits(xi1, \n  .                   \"POSIXct\")) \n  .                   xi[[j]] <- rep(xi1, length.out = nr)\n  .                 else {\n  .                   fixed <- FALSE\n  .                   break\n  .                 }\n  .             }\n  .             if (fixed) {\n  .                 vlist[[i]] <- xi\n  .                 next\n  .             }\n  .         }\n  .         stop(gettextf(\"arguments imply differing number of rows: %s\", \n  .             paste(unique(nrows), collapse = \", \")), domain = NA)\n  .     }\n  .     value <- unlist(vlist, recursive = FALSE, use.names = FALSE)\n  .     vnames <- as.character(unlist(vnames[ncols > 0L]))\n  .     if (fix.empty.names && any(noname <- !nzchar(vnames))) \n  .         vnames[noname] <- paste0(\"Var.\", seq_along(vnames))[noname]\n  .     if (check.names) {\n  .         if (fix.empty.names) \n  .             vnames <- make.names(vnames, unique = TRUE)\n  .         else {\n  .             nz <- nzchar(vnames)\n  .             vnames[nz] <- make.names(vnames[nz], unique = TRUE)\n  .         }\n  .     }\n  .     names(value) <- vnames\n  .     if (!mrn) {\n  .         if (length(row.names) == 1L && nr != 1L) {\n  .             if (is.character(row.names)) \n  .                 row.names <- match(row.names, vnames, 0L)\n  .             if (length(row.names) != 1L || row.names < 1L || \n  .                 row.names > length(vnames)) \n  .                 stop(\"'row.names' should specify one of the variables\")\n  .             i <- row.names\n  .             row.names <- value[[i]]\n  .             value <- value[-i]\n  .         }\n  .         else if (!is.null(row.names) && length(row.names) != \n  .             nr) \n  .             stop(\"row names supplied are of the wrong length\")\n  .     }\n  .     else if (!is.null(row.names) && length(row.names) != nr) {\n  .         warning(\"row names were found from a short variable and have been discarded\")\n  .         row.names <- NULL\n  .     }\n  .     class(value) <- \"data.frame\"\n  .     if (is.null(row.names)) \n  .         attr(value, \"row.names\") <- .set_row_names(nr)\n  .     else {\n  .         if (is.object(row.names) || !is.integer(row.names)) \n  .             row.names <- as.character(row.names)\n  .         if (anyNA(row.names)) \n  .             stop(\"row names contain missing values\")\n  .         if (anyDuplicated(row.names)) \n  .             stop(gettextf(\"duplicate row.names: %s\", paste(unique(row.names[duplicated(row.names)]), \n  .                 collapse = \", \")), domain = NA)\n  .         row.names(value) <- row.names\n  .     }\n  .     value\n  . })(list(list(list(), structure(c(`1` = 1L, `2` = 1L, `3` = 2L, \n  . `4` = 1L, `5` = 1L, `6` = 1L, `7` = 2L, `8` = 1L, `9` = 2L, `10` = 1L, \n  . `11` = 1L, `12` = 2L, `13` = 2L, `14` = 2L, `15` = 2L, `16` = 2L, \n  . `17` = 1L, `18` = 1L, `19` = 2L, `20` = 2L, `21` = 2L, `22` = 2L, \n  . `23` = 2L, `24` = 2L), .Label = c(\"0\", \"1\"), class = \"factor\")), \n  .     structure(c(`1` = 1L, `2` = 1L, `3` = 2L, `4` = 1L, `5` = 1L, \n  .     `6` = 1L, `7` = 2L, `8` = 2L, `9` = 2L, `10` = 1L, `11` = 1L, \n  .     `12` = 1L, `13` = 2L, `14` = 2L, `15` = 2L, `16` = 2L, `17` = 1L, \n  .     `18` = 1L, `19` = 2L, `20` = 2L, `21` = 2L, `22` = 2L, `23` = 2L, \n  .     `24` = 2L), .Label = c(\"0\", \"1\"), class = \"factor\")), structure(c(`1` = 1L, \n  . `2` = 1L, `3` = 2L, `4` = 1L, `5` = 1L, `6` = 1L, `7` = 1L, `8` = 1L, \n  . `9` = 2L, `10` = 1L, `11` = 1L, `12` = 1L, `13` = 2L, `14` = 2L, \n  . `15` = 2L, `16` = 2L, `17` = 1L, `18` = 2L, `19` = 2L, `20` = 2L, \n  . `21` = 2L, `22` = 2L, `23` = 2L, `24` = 2L), .Label = c(\"0\", \n  . \"1\"), class = \"factor\"), check.names = FALSE, fix.empty.names = TRUE, \n  .     stringsAsFactors = FALSE)",
      "15. as.data.frame(x[[i]], optional = TRUE, stringsAsFactors = stringsAsFactors)",
      "16. as.data.frame.list(x[[i]], optional = TRUE, stringsAsFactors = stringsAsFactors)",
      "17. do.call(data.frame, c(x, alis))",
      "18. (function (..., row.names = NULL, check.rows = FALSE, check.names = TRUE, \n  .     fix.empty.names = TRUE, stringsAsFactors = FALSE) \n  . {\n  .     data.row.names <- if (check.rows && is.null(row.names)) \n  .         function(current, new, i) {\n  .             if (is.character(current)) \n  .                 new <- as.character(new)\n  .             if (is.character(new)) \n  .                 current <- as.character(current)\n  .             if (anyDuplicated(new)) \n  .                 return(current)\n  .             if (is.null(current)) \n  .                 return(new)\n  .             if (all(current == new) || all(current == \"\")) \n  .                 return(new)\n  .             stop(gettextf(\"mismatch of row names in arguments of 'data.frame', item %d\", \n  .                 i), domain = NA)\n  .         }\n  .     else function(current, new, i) {\n  .         if (is.null(current)) {\n  .             if (anyDuplicated(new)) {\n  .                 warning(gettextf(\"some row.names duplicated: %s --> row.names NOT used\", \n  .                   paste(which(duplicated(new)), collapse = \",\")), \n  .                   domain = NA)\n  .                 current\n  .             }\n  .             else new\n  .         }\n  .         else current\n  .     }\n  .     object <- as.list(substitute(list(...)))[-1L]\n  .     mirn <- missing(row.names)\n  .     mrn <- is.null(row.names)\n  .     x <- list(...)\n  .     n <- length(x)\n  .     if (n < 1L) {\n  .         if (!mrn) {\n  .             if (is.object(row.names) || !is.integer(row.names)) \n  .                 row.names <- as.character(row.names)\n  .             if (anyNA(row.names)) \n  .                 stop(\"row names contain missing values\")\n  .             if (anyDuplicated(row.names)) \n  .                 stop(gettextf(\"duplicate row.names: %s\", paste(unique(row.names[duplicated(row.names)]), \n  .                   collapse = \", \")), domain = NA)\n  .         }\n  .         else row.names <- integer()\n  .         return(structure(list(), names = character(), row.names = row.names, \n  .             class = \"data.frame\"))\n  .     }\n  .     vnames <- names(x)\n  .     if (length(vnames) != n) \n  .         vnames <- character(n)\n  .     no.vn <- !nzchar(vnames)\n  .     vlist <- vnames <- as.list(vnames)\n  .     nrows <- ncols <- integer(n)\n  .     for (i in seq_len(n)) {\n  .         xi <- if (is.character(x[[i]]) || is.list(x[[i]])) \n  .             as.data.frame(x[[i]], optional = TRUE, stringsAsFactors = stringsAsFactors)\n  .         else as.data.frame(x[[i]], optional = TRUE)\n  .         nrows[i] <- .row_names_info(xi)\n  .         ncols[i] <- length(xi)\n  .         namesi <- names(xi)\n  .         if (ncols[i] > 1L) {\n  .             if (length(namesi) == 0L) \n  .                 namesi <- seq_len(ncols[i])\n  .             vnames[[i]] <- if (no.vn[i]) \n  .                 namesi\n  .             else paste(vnames[[i]], namesi, sep = \".\")\n  .         }\n  .         else if (length(namesi)) {\n  .             vnames[[i]] <- namesi\n  .         }\n  .         else if (fix.empty.names && no.vn[[i]]) {\n  .             tmpname <- deparse(object[[i]], nlines = 1L)[1L]\n  .             if (startsWith(tmpname, \"I(\") && endsWith(tmpname, \n  .                 \")\")) {\n  .                 ntmpn <- nchar(tmpname, \"c\")\n  .                 tmpname <- substr(tmpname, 3L, ntmpn - 1L)\n  .             }\n  .             vnames[[i]] <- tmpname\n  .         }\n  .         if (mirn && nrows[i] > 0L) {\n  .             rowsi <- attr(xi, \"row.names\")\n  .             if (any(nzchar(rowsi))) \n  .                 row.names <- data.row.names(row.names, rowsi, \n  .                   i)\n  .         }\n  .         nrows[i] <- abs(nrows[i])\n  .         vlist[[i]] <- xi\n  .     }\n  .     nr <- max(nrows)\n  .     for (i in seq_len(n)[nrows < nr]) {\n  .         xi <- vlist[[i]]\n  .         if (nrows[i] > 0L && (nr%%nrows[i] == 0L)) {\n  .             xi <- unclass(xi)\n  .             fixed <- TRUE\n  .             for (j in seq_along(xi)) {\n  .                 xi1 <- xi[[j]]\n  .                 if (is.vector(xi1) || is.factor(xi1)) \n  .                   xi[[j]] <- rep(xi1, length.out = nr)\n  .                 else if (is.character(xi1) && inherits(xi1, \"AsIs\")) \n  .                   xi[[j]] <- structure(rep(xi1, length.out = nr), \n  .                     class = class(xi1))\n  .                 else if (inherits(xi1, \"Date\") || inherits(xi1, \n  .                   \"POSIXct\")) \n  .                   xi[[j]] <- rep(xi1, length.out = nr)\n  .                 else {\n  .                   fixed <- FALSE\n  .                   break\n  .                 }\n  .             }\n  .             if (fixed) {\n  .                 vlist[[i]] <- xi\n  .                 next\n  .             }\n  .         }\n  .         stop(gettextf(\"arguments imply differing number of rows: %s\", \n  .             paste(unique(nrows), collapse = \", \")), domain = NA)\n  .     }\n  .     value <- unlist(vlist, recursive = FALSE, use.names = FALSE)\n  .     vnames <- as.character(unlist(vnames[ncols > 0L]))\n  .     if (fix.empty.names && any(noname <- !nzchar(vnames))) \n  .         vnames[noname] <- paste0(\"Var.\", seq_along(vnames))[noname]\n  .     if (check.names) {\n  .         if (fix.empty.names) \n  .             vnames <- make.names(vnames, unique = TRUE)\n  .         else {\n  .             nz <- nzchar(vnames)\n  .             vnames[nz] <- make.names(vnames[nz], unique = TRUE)\n  .         }\n  .     }\n  .     names(value) <- vnames\n  .     if (!mrn) {\n  .         if (length(row.names) == 1L && nr != 1L) {\n  .             if (is.character(row.names)) \n  .                 row.names <- match(row.names, vnames, 0L)\n  .             if (length(row.names) != 1L || row.names < 1L || \n  .                 row.names > length(vnames)) \n  .                 stop(\"'row.names' should specify one of the variables\")\n  .             i <- row.names\n  .             row.names <- value[[i]]\n  .             value <- value[-i]\n  .         }\n  .         else if (!is.null(row.names) && length(row.names) != \n  .             nr) \n  .             stop(\"row names supplied are of the wrong length\")\n  .     }\n  .     else if (!is.null(row.names) && length(row.names) != nr) {\n  .         warning(\"row names were found from a short variable and have been discarded\")\n  .         row.names <- NULL\n  .     }\n  .     class(value) <- \"data.frame\"\n  .     if (is.null(row.names)) \n  .         attr(value, \"row.names\") <- .set_row_names(nr)\n  .     else {\n  .         if (is.object(row.names) || !is.integer(row.names)) \n  .             row.names <- as.character(row.names)\n  .         if (anyNA(row.names)) \n  .             stop(\"row names contain missing values\")\n  .         if (anyDuplicated(row.names)) \n  .             stop(gettextf(\"duplicate row.names: %s\", paste(unique(row.names[duplicated(row.names)]), \n  .                 collapse = \", \")), domain = NA)\n  .         row.names(value) <- row.names\n  .     }\n  .     value\n  . })(list(list(), structure(c(`1` = 1L, `2` = 1L, `3` = 2L, `4` = 1L, \n  . `5` = 1L, `6` = 1L, `7` = 2L, `8` = 1L, `9` = 2L, `10` = 1L, \n  . `11` = 1L, `12` = 2L, `13` = 2L, `14` = 2L, `15` = 2L, `16` = 2L, \n  . `17` = 1L, `18` = 1L, `19` = 2L, `20` = 2L, `21` = 2L, `22` = 2L, \n  . `23` = 2L, `24` = 2L), .Label = c(\"0\", \"1\"), class = \"factor\")), \n  .     structure(c(`1` = 1L, `2` = 1L, `3` = 2L, `4` = 1L, `5` = 1L, \n  .     `6` = 1L, `7` = 2L, `8` = 2L, `9` = 2L, `10` = 1L, `11` = 1L, \n  .     `12` = 1L, `13` = 2L, `14` = 2L, `15` = 2L, `16` = 2L, `17` = 1L, \n  .     `18` = 1L, `19` = 2L, `20` = 2L, `21` = 2L, `22` = 2L, `23` = 2L, \n  .     `24` = 2L), .Label = c(\"0\", \"1\"), class = \"factor\"), check.names = FALSE, \n  .     fix.empty.names = TRUE, stringsAsFactors = FALSE)",
      "19. as.data.frame(x[[i]], optional = TRUE, stringsAsFactors = stringsAsFactors)",
      "20. as.data.frame.list(x[[i]], optional = TRUE, stringsAsFactors = stringsAsFactors)",
      "21. do.call(data.frame, c(x, alis))",
      "22. (function (..., row.names = NULL, check.rows = FALSE, check.names = TRUE, \n  .     fix.empty.names = TRUE, stringsAsFactors = FALSE) \n  . {\n  .     data.row.names <- if (check.rows && is.null(row.names)) \n  .         function(current, new, i) {\n  .             if (is.character(current)) \n  .                 new <- as.character(new)\n  .             if (is.character(new)) \n  .                 current <- as.character(current)\n  .             if (anyDuplicated(new)) \n  .                 return(current)\n  .             if (is.null(current)) \n  .                 return(new)\n  .             if (all(current == new) || all(current == \"\")) \n  .                 return(new)\n  .             stop(gettextf(\"mismatch of row names in arguments of 'data.frame', item %d\", \n  .                 i), domain = NA)\n  .         }\n  .     else function(current, new, i) {\n  .         if (is.null(current)) {\n  .             if (anyDuplicated(new)) {\n  .                 warning(gettextf(\"some row.names duplicated: %s --> row.names NOT used\", \n  .                   paste(which(duplicated(new)), collapse = \",\")), \n  .                   domain = NA)\n  .                 current\n  .             }\n  .             else new\n  .         }\n  .         else current\n  .     }\n  .     object <- as.list(substitute(list(...)))[-1L]\n  .     mirn <- missing(row.names)\n  .     mrn <- is.null(row.names)\n  .     x <- list(...)\n  .     n <- length(x)\n  .     if (n < 1L) {\n  .         if (!mrn) {\n  .             if (is.object(row.names) || !is.integer(row.names)) \n  .                 row.names <- as.character(row.names)\n  .             if (anyNA(row.names)) \n  .                 stop(\"row names contain missing values\")\n  .             if (anyDuplicated(row.names)) \n  .                 stop(gettextf(\"duplicate row.names: %s\", paste(unique(row.names[duplicated(row.names)]), \n  .                   collapse = \", \")), domain = NA)\n  .         }\n  .         else row.names <- integer()\n  .         return(structure(list(), names = character(), row.names = row.names, \n  .             class = \"data.frame\"))\n  .     }\n  .     vnames <- names(x)\n  .     if (length(vnames) != n) \n  .         vnames <- character(n)\n  .     no.vn <- !nzchar(vnames)\n  .     vlist <- vnames <- as.list(vnames)\n  .     nrows <- ncols <- integer(n)\n  .     for (i in seq_len(n)) {\n  .         xi <- if (is.character(x[[i]]) || is.list(x[[i]])) \n  .             as.data.frame(x[[i]], optional = TRUE, stringsAsFactors = stringsAsFactors)\n  .         else as.data.frame(x[[i]], optional = TRUE)\n  .         nrows[i] <- .row_names_info(xi)\n  .         ncols[i] <- length(xi)\n  .         namesi <- names(xi)\n  .         if (ncols[i] > 1L) {\n  .             if (length(namesi) == 0L) \n  .                 namesi <- seq_len(ncols[i])\n  .             vnames[[i]] <- if (no.vn[i]) \n  .                 namesi\n  .             else paste(vnames[[i]], namesi, sep = \".\")\n  .         }\n  .         else if (length(namesi)) {\n  .             vnames[[i]] <- namesi\n  .         }\n  .         else if (fix.empty.names && no.vn[[i]]) {\n  .             tmpname <- deparse(object[[i]], nlines = 1L)[1L]\n  .             if (startsWith(tmpname, \"I(\") && endsWith(tmpname, \n  .                 \")\")) {\n  .                 ntmpn <- nchar(tmpname, \"c\")\n  .                 tmpname <- substr(tmpname, 3L, ntmpn - 1L)\n  .             }\n  .             vnames[[i]] <- tmpname\n  .         }\n  .         if (mirn && nrows[i] > 0L) {\n  .             rowsi <- attr(xi, \"row.names\")\n  .             if (any(nzchar(rowsi))) \n  .                 row.names <- data.row.names(row.names, rowsi, \n  .                   i)\n  .         }\n  .         nrows[i] <- abs(nrows[i])\n  .         vlist[[i]] <- xi\n  .     }\n  .     nr <- max(nrows)\n  .     for (i in seq_len(n)[nrows < nr]) {\n  .         xi <- vlist[[i]]\n  .         if (nrows[i] > 0L && (nr%%nrows[i] == 0L)) {\n  .             xi <- unclass(xi)\n  .             fixed <- TRUE\n  .             for (j in seq_along(xi)) {\n  .                 xi1 <- xi[[j]]\n  .                 if (is.vector(xi1) || is.factor(xi1)) \n  .                   xi[[j]] <- rep(xi1, length.out = nr)\n  .                 else if (is.character(xi1) && inherits(xi1, \"AsIs\")) \n  .                   xi[[j]] <- structure(rep(xi1, length.out = nr), \n  .                     class = class(xi1))\n  .                 else if (inherits(xi1, \"Date\") || inherits(xi1, \n  .                   \"POSIXct\")) \n  .                   xi[[j]] <- rep(xi1, length.out = nr)\n  .                 else {\n  .                   fixed <- FALSE\n  .                   break\n  .                 }\n  .             }\n  .             if (fixed) {\n  .                 vlist[[i]] <- xi\n  .                 next\n  .             }\n  .         }\n  .         stop(gettextf(\"arguments imply differing number of rows: %s\", \n  .             paste(unique(nrows), collapse = \", \")), domain = NA)\n  .     }\n  .     value <- unlist(vlist, recursive = FALSE, use.names = FALSE)\n  .     vnames <- as.character(unlist(vnames[ncols > 0L]))\n  .     if (fix.empty.names && any(noname <- !nzchar(vnames))) \n  .         vnames[noname] <- paste0(\"Var.\", seq_along(vnames))[noname]\n  .     if (check.names) {\n  .         if (fix.empty.names) \n  .             vnames <- make.names(vnames, unique = TRUE)\n  .         else {\n  .             nz <- nzchar(vnames)\n  .             vnames[nz] <- make.names(vnames[nz], unique = TRUE)\n  .         }\n  .     }\n  .     names(value) <- vnames\n  .     if (!mrn) {\n  .         if (length(row.names) == 1L && nr != 1L) {\n  .             if (is.character(row.names)) \n  .                 row.names <- match(row.names, vnames, 0L)\n  .             if (length(row.names) != 1L || row.names < 1L || \n  .                 row.names > length(vnames)) \n  .                 stop(\"'row.names' should specify one of the variables\")\n  .             i <- row.names\n  .             row.names <- value[[i]]\n  .             value <- value[-i]\n  .         }\n  .         else if (!is.null(row.names) && length(row.names) != \n  .             nr) \n  .             stop(\"row names supplied are of the wrong length\")\n  .     }\n  .     else if (!is.null(row.names) && length(row.names) != nr) {\n  .         warning(\"row names were found from a short variable and have been discarded\")\n  .         row.names <- NULL\n  .     }\n  .     class(value) <- \"data.frame\"\n  .     if (is.null(row.names)) \n  .         attr(value, \"row.names\") <- .set_row_names(nr)\n  .     else {\n  .         if (is.object(row.names) || !is.integer(row.names)) \n  .             row.names <- as.character(row.names)\n  .         if (anyNA(row.names)) \n  .             stop(\"row names contain missing values\")\n  .         if (anyDuplicated(row.names)) \n  .             stop(gettextf(\"duplicate row.names: %s\", paste(unique(row.names[duplicated(row.names)]), \n  .                 collapse = \", \")), domain = NA)\n  .         row.names(value) <- row.names\n  .     }\n  .     value\n  . })(list(), structure(c(`1` = 1L, `2` = 1L, `3` = 2L, `4` = 1L, \n  . `5` = 1L, `6` = 1L, `7` = 2L, `8` = 1L, `9` = 2L, `10` = 1L, \n  . `11` = 1L, `12` = 2L, `13` = 2L, `14` = 2L, `15` = 2L, `16` = 2L, \n  . `17` = 1L, `18` = 1L, `19` = 2L, `20` = 2L, `21` = 2L, `22` = 2L, \n  . `23` = 2L, `24` = 2L), .Label = c(\"0\", \"1\"), class = \"factor\"), \n  .     check.names = FALSE, fix.empty.names = TRUE, stringsAsFactors = FALSE)",
      "23. stop(gettextf(\"arguments imply differing number of rows: %s\", \n  .     paste(unique(nrows), collapse = \", \")), domain = NA)"
     ]
    }
   ],
   "source": [
    "imp <- FeatureImp$new(predictor, loss = \"mae\")\n",
    "#library(\"ggplot2\")\n",
    "plot(imp)"
   ]
  },
  {
   "cell_type": "code",
   "execution_count": null,
   "id": "05684b37",
   "metadata": {},
   "outputs": [],
   "source": []
  }
 ],
 "metadata": {
  "kernelspec": {
   "display_name": "R",
   "language": "R",
   "name": "ir"
  },
  "language_info": {
   "codemirror_mode": "r",
   "file_extension": ".r",
   "mimetype": "text/x-r-source",
   "name": "R",
   "pygments_lexer": "r",
   "version": "4.1.2"
  }
 },
 "nbformat": 4,
 "nbformat_minor": 5
}
