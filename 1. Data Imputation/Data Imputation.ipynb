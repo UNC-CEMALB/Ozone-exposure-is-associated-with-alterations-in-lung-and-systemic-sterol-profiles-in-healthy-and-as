{
 "cells": [
  {
   "cell_type": "code",
   "execution_count": 1,
   "id": "contained-dominant",
   "metadata": {},
   "outputs": [],
   "source": [
    "#had a lot of issues trying to install the \"imputeLCMD\" package, so this was how I did it\n",
    "# if (!requireNamespace(\"BiocManager\", quietly = TRUE))\n",
    "#     install.packages(\"BiocManager\")\n",
    "\n",
    "# BiocManager::install(c(\"impute\", \"pcaMethods\"))\n",
    "\n",
    "# install.packages(\"imputeLCMD\")"
   ]
  },
  {
   "cell_type": "code",
   "execution_count": 2,
   "id": "listed-response",
   "metadata": {},
   "outputs": [
    {
     "name": "stderr",
     "output_type": "stream",
     "text": [
      "Loading required package: tmvtnorm\n",
      "\n",
      "Loading required package: mvtnorm\n",
      "\n",
      "Loading required package: Matrix\n",
      "\n",
      "Loading required package: stats4\n",
      "\n",
      "Loading required package: gmm\n",
      "\n",
      "Loading required package: sandwich\n",
      "\n",
      "Loading required package: norm\n",
      "\n",
      "This package has some major limitations\n",
      "(for example, it does not work reliably when\n",
      "the number of variables exceeds 30),\n",
      "and has been superseded by the norm2 package.\n",
      "\n",
      "Loading required package: pcaMethods\n",
      "\n",
      "Loading required package: Biobase\n",
      "\n",
      "Loading required package: BiocGenerics\n",
      "\n",
      "\n",
      "Attaching package: ‘BiocGenerics’\n",
      "\n",
      "\n",
      "The following objects are masked from ‘package:stats’:\n",
      "\n",
      "    IQR, mad, sd, var, xtabs\n",
      "\n",
      "\n",
      "The following objects are masked from ‘package:base’:\n",
      "\n",
      "    Filter, Find, Map, Position, Reduce, anyDuplicated, append,\n",
      "    as.data.frame, basename, cbind, colnames, dirname, do.call,\n",
      "    duplicated, eval, evalq, get, grep, grepl, intersect, is.unsorted,\n",
      "    lapply, mapply, match, mget, order, paste, pmax, pmax.int, pmin,\n",
      "    pmin.int, rank, rbind, rownames, sapply, setdiff, sort, table,\n",
      "    tapply, union, unique, unsplit, which.max, which.min\n",
      "\n",
      "\n",
      "Welcome to Bioconductor\n",
      "\n",
      "    Vignettes contain introductory material; view with\n",
      "    'browseVignettes()'. To cite Bioconductor, see\n",
      "    'citation(\"Biobase\")', and for packages 'citation(\"pkgname\")'.\n",
      "\n",
      "\n",
      "\n",
      "Attaching package: ‘pcaMethods’\n",
      "\n",
      "\n",
      "The following object is masked from ‘package:stats’:\n",
      "\n",
      "    loadings\n",
      "\n",
      "\n",
      "Loading required package: impute\n",
      "\n",
      "── \u001b[1mAttaching packages\u001b[22m ─────────────────────────────────────── tidyverse 1.3.2 ──\n",
      "\u001b[32m✔\u001b[39m \u001b[34mggplot2\u001b[39m 3.4.0      \u001b[32m✔\u001b[39m \u001b[34mpurrr  \u001b[39m 0.3.4 \n",
      "\u001b[32m✔\u001b[39m \u001b[34mtibble \u001b[39m 3.1.8      \u001b[32m✔\u001b[39m \u001b[34mdplyr  \u001b[39m 1.0.10\n",
      "\u001b[32m✔\u001b[39m \u001b[34mtidyr  \u001b[39m 1.2.1      \u001b[32m✔\u001b[39m \u001b[34mstringr\u001b[39m 1.4.1 \n",
      "\u001b[32m✔\u001b[39m \u001b[34mreadr  \u001b[39m 2.1.2      \u001b[32m✔\u001b[39m \u001b[34mforcats\u001b[39m 0.5.2 \n",
      "── \u001b[1mConflicts\u001b[22m ────────────────────────────────────────── tidyverse_conflicts() ──\n",
      "\u001b[31m✖\u001b[39m \u001b[34mggplot2\u001b[39m::\u001b[32mPosition()\u001b[39m masks \u001b[34mBiocGenerics\u001b[39m::Position(), \u001b[34mbase\u001b[39m::Position()\n",
      "\u001b[31m✖\u001b[39m \u001b[34mdplyr\u001b[39m::\u001b[32mcombine()\u001b[39m    masks \u001b[34mBiobase\u001b[39m::combine(), \u001b[34mBiocGenerics\u001b[39m::combine()\n",
      "\u001b[31m✖\u001b[39m \u001b[34mtidyr\u001b[39m::\u001b[32mexpand()\u001b[39m     masks \u001b[34mMatrix\u001b[39m::expand()\n",
      "\u001b[31m✖\u001b[39m \u001b[34mdplyr\u001b[39m::\u001b[32mfilter()\u001b[39m     masks \u001b[34mstats\u001b[39m::filter()\n",
      "\u001b[31m✖\u001b[39m \u001b[34mdplyr\u001b[39m::\u001b[32mlag()\u001b[39m        masks \u001b[34mstats\u001b[39m::lag()\n",
      "\u001b[31m✖\u001b[39m \u001b[34mtidyr\u001b[39m::\u001b[32mpack()\u001b[39m       masks \u001b[34mMatrix\u001b[39m::pack()\n",
      "\u001b[31m✖\u001b[39m \u001b[34mtidyr\u001b[39m::\u001b[32munpack()\u001b[39m     masks \u001b[34mMatrix\u001b[39m::unpack()\n"
     ]
    }
   ],
   "source": [
    "setwd(\"/Users/alexis/Library/CloudStorage/OneDrive-UniversityofNorthCarolinaatChapelHill/CEMALB_DataAnalysisPM/Projects/P1003. Ozone Sterols Healthy Asthma/P1003.3. Analyses/P1003.3.1. Data Imputation/Input\")\n",
    "Output = ('/Users/alexis/Library/CloudStorage/OneDrive-UniversityofNorthCarolinaatChapelHill/CEMALB_DataAnalysisPM/Projects/P1003. Ozone Sterols Healthy Asthma/P1003.3. Analyses/P1003.3.1. Data Imputation/Output')\n",
    "cur_date = \"020823\"\n",
    "\n",
    "library(missForest)\n",
    "library(imputeLCMD)\n",
    "library(readxl)\n",
    "library(tidyverse)\n",
    "library(tmvtnorm)\n",
    "\n",
    "# reading in files\n",
    "ozone_data = data.frame(read_excel(\"Ozone_Sterol_Asthma_data_042622.xlsx\", sheet = 2)) "
   ]
  },
  {
   "cell_type": "markdown",
   "id": "textile-short",
   "metadata": {},
   "source": [
    "Goal is to generate (impute) values for missing data. Given that this dataset contains various categories (ie. cell differentials, cytokines, lung function, sterol data) a different method will be employed for each.\n",
    "\n",
    "> Lung Function Data: Random Forest (RF)\n",
    "\n",
    "> Soluble Mediators (everything else): Quantile Regression Imputation of Left-Censored Data (QRILC)\n",
    "\n",
    "Acutally no longer needed to impute lung function data, because there was no missing data. "
   ]
  },
  {
   "cell_type": "code",
   "execution_count": 3,
   "id": "respected-norwegian",
   "metadata": {},
   "outputs": [
    {
     "data": {
      "text/html": [
       "<table class=\"dataframe\">\n",
       "<caption>A data.frame: 6 × 11</caption>\n",
       "<thead>\n",
       "\t<tr><th></th><th scope=col>Original_Subject_No</th><th scope=col>Subject_No</th><th scope=col>Subject_ID</th><th scope=col>Disease_Status</th><th scope=col>Sample_Type</th><th scope=col>Time_Point</th><th scope=col>Inflammatory_Responder</th><th scope=col>Lung_Responder</th><th scope=col>Category</th><th scope=col>Variable</th><th scope=col>Value</th></tr>\n",
       "\t<tr><th></th><th scope=col>&lt;dbl&gt;</th><th scope=col>&lt;dbl&gt;</th><th scope=col>&lt;chr&gt;</th><th scope=col>&lt;chr&gt;</th><th scope=col>&lt;chr&gt;</th><th scope=col>&lt;chr&gt;</th><th scope=col>&lt;chr&gt;</th><th scope=col>&lt;chr&gt;</th><th scope=col>&lt;chr&gt;</th><th scope=col>&lt;chr&gt;</th><th scope=col>&lt;chr&gt;</th></tr>\n",
       "</thead>\n",
       "<tbody>\n",
       "\t<tr><th scope=row>1</th><td> 4</td><td>1</td><td>AS_1</td><td>AS</td><td>A</td><td>Post</td><td>NR</td><td>NR</td><td>Lung_Function</td><td>FEV1</td><td>4.3899999999999899</td></tr>\n",
       "\t<tr><th scope=row>2</th><td> 4</td><td>1</td><td>AS_1</td><td>AS</td><td>A</td><td>Pre </td><td>NR</td><td>NR</td><td>Lung_Function</td><td>FEV1</td><td>4.5999999999999899</td></tr>\n",
       "\t<tr><th scope=row>3</th><td> 7</td><td>2</td><td>AS_2</td><td>AS</td><td>A</td><td>Post</td><td>R </td><td>NR</td><td>Lung_Function</td><td>FEV1</td><td>2.96              </td></tr>\n",
       "\t<tr><th scope=row>4</th><td> 7</td><td>2</td><td>AS_2</td><td>AS</td><td>A</td><td>Pre </td><td>R </td><td>NR</td><td>Lung_Function</td><td>FEV1</td><td>3.08              </td></tr>\n",
       "\t<tr><th scope=row>5</th><td>11</td><td>3</td><td>AS_3</td><td>AS</td><td>A</td><td>Post</td><td>NR</td><td>R </td><td>Lung_Function</td><td>FEV1</td><td>4.24              </td></tr>\n",
       "\t<tr><th scope=row>6</th><td>11</td><td>3</td><td>AS_3</td><td>AS</td><td>A</td><td>Pre </td><td>NR</td><td>R </td><td>Lung_Function</td><td>FEV1</td><td>4.5199999999999898</td></tr>\n",
       "</tbody>\n",
       "</table>\n"
      ],
      "text/latex": [
       "A data.frame: 6 × 11\n",
       "\\begin{tabular}{r|lllllllllll}\n",
       "  & Original\\_Subject\\_No & Subject\\_No & Subject\\_ID & Disease\\_Status & Sample\\_Type & Time\\_Point & Inflammatory\\_Responder & Lung\\_Responder & Category & Variable & Value\\\\\n",
       "  & <dbl> & <dbl> & <chr> & <chr> & <chr> & <chr> & <chr> & <chr> & <chr> & <chr> & <chr>\\\\\n",
       "\\hline\n",
       "\t1 &  4 & 1 & AS\\_1 & AS & A & Post & NR & NR & Lung\\_Function & FEV1 & 4.3899999999999899\\\\\n",
       "\t2 &  4 & 1 & AS\\_1 & AS & A & Pre  & NR & NR & Lung\\_Function & FEV1 & 4.5999999999999899\\\\\n",
       "\t3 &  7 & 2 & AS\\_2 & AS & A & Post & R  & NR & Lung\\_Function & FEV1 & 2.96              \\\\\n",
       "\t4 &  7 & 2 & AS\\_2 & AS & A & Pre  & R  & NR & Lung\\_Function & FEV1 & 3.08              \\\\\n",
       "\t5 & 11 & 3 & AS\\_3 & AS & A & Post & NR & R  & Lung\\_Function & FEV1 & 4.24              \\\\\n",
       "\t6 & 11 & 3 & AS\\_3 & AS & A & Pre  & NR & R  & Lung\\_Function & FEV1 & 4.5199999999999898\\\\\n",
       "\\end{tabular}\n"
      ],
      "text/markdown": [
       "\n",
       "A data.frame: 6 × 11\n",
       "\n",
       "| <!--/--> | Original_Subject_No &lt;dbl&gt; | Subject_No &lt;dbl&gt; | Subject_ID &lt;chr&gt; | Disease_Status &lt;chr&gt; | Sample_Type &lt;chr&gt; | Time_Point &lt;chr&gt; | Inflammatory_Responder &lt;chr&gt; | Lung_Responder &lt;chr&gt; | Category &lt;chr&gt; | Variable &lt;chr&gt; | Value &lt;chr&gt; |\n",
       "|---|---|---|---|---|---|---|---|---|---|---|---|\n",
       "| 1 |  4 | 1 | AS_1 | AS | A | Post | NR | NR | Lung_Function | FEV1 | 4.3899999999999899 |\n",
       "| 2 |  4 | 1 | AS_1 | AS | A | Pre  | NR | NR | Lung_Function | FEV1 | 4.5999999999999899 |\n",
       "| 3 |  7 | 2 | AS_2 | AS | A | Post | R  | NR | Lung_Function | FEV1 | 2.96               |\n",
       "| 4 |  7 | 2 | AS_2 | AS | A | Pre  | R  | NR | Lung_Function | FEV1 | 3.08               |\n",
       "| 5 | 11 | 3 | AS_3 | AS | A | Post | NR | R  | Lung_Function | FEV1 | 4.24               |\n",
       "| 6 | 11 | 3 | AS_3 | AS | A | Pre  | NR | R  | Lung_Function | FEV1 | 4.5199999999999898 |\n",
       "\n"
      ],
      "text/plain": [
       "  Original_Subject_No Subject_No Subject_ID Disease_Status Sample_Type\n",
       "1  4                  1          AS_1       AS             A          \n",
       "2  4                  1          AS_1       AS             A          \n",
       "3  7                  2          AS_2       AS             A          \n",
       "4  7                  2          AS_2       AS             A          \n",
       "5 11                  3          AS_3       AS             A          \n",
       "6 11                  3          AS_3       AS             A          \n",
       "  Time_Point Inflammatory_Responder Lung_Responder Category      Variable\n",
       "1 Post       NR                     NR             Lung_Function FEV1    \n",
       "2 Pre        NR                     NR             Lung_Function FEV1    \n",
       "3 Post       R                      NR             Lung_Function FEV1    \n",
       "4 Pre        R                      NR             Lung_Function FEV1    \n",
       "5 Post       NR                     R              Lung_Function FEV1    \n",
       "6 Pre        NR                     R              Lung_Function FEV1    \n",
       "  Value             \n",
       "1 4.3899999999999899\n",
       "2 4.5999999999999899\n",
       "3 2.96              \n",
       "4 3.08              \n",
       "5 4.24              \n",
       "6 4.5199999999999898"
      ]
     },
     "metadata": {},
     "output_type": "display_data"
    }
   ],
   "source": [
    "head(ozone_data)"
   ]
  },
  {
   "cell_type": "code",
   "execution_count": 4,
   "id": "987e0b18",
   "metadata": {},
   "outputs": [
    {
     "data": {
      "text/html": [
       "7248"
      ],
      "text/latex": [
       "7248"
      ],
      "text/markdown": [
       "7248"
      ],
      "text/plain": [
       "[1] 7248"
      ]
     },
     "metadata": {},
     "output_type": "display_data"
    }
   ],
   "source": [
    "# total number of samples\n",
    "dim(ozone_data)[1]"
   ]
  },
  {
   "cell_type": "code",
   "execution_count": 5,
   "id": "modern-entrance",
   "metadata": {},
   "outputs": [
    {
     "name": "stderr",
     "output_type": "stream",
     "text": [
      "\u001b[1m\u001b[22m`summarise()` has grouped output by 'Category', 'Sample_Type', 'Time_Point'.\n",
      "You can override using the `.groups` argument.\n"
     ]
    },
    {
     "data": {
      "text/html": [
       "<table class=\"dataframe\">\n",
       "<caption>A grouped_df: 6 × 5</caption>\n",
       "<thead>\n",
       "\t<tr><th scope=col>Category</th><th scope=col>Sample_Type</th><th scope=col>Time_Point</th><th scope=col>Subject_ID</th><th scope=col>Subject_Presence_Percentage</th></tr>\n",
       "\t<tr><th scope=col>&lt;chr&gt;</th><th scope=col>&lt;chr&gt;</th><th scope=col>&lt;chr&gt;</th><th scope=col>&lt;chr&gt;</th><th scope=col>&lt;dbl&gt;</th></tr>\n",
       "</thead>\n",
       "<tbody>\n",
       "\t<tr><td>Cytokine</td><td>S</td><td>Pre </td><td>AS_3 </td><td> 0.00000</td></tr>\n",
       "\t<tr><td>Sterol  </td><td>S</td><td>Pre </td><td>AS_3 </td><td> 0.00000</td></tr>\n",
       "\t<tr><td>Cytokine</td><td>P</td><td>Post</td><td>AS_1 </td><td>96.77419</td></tr>\n",
       "\t<tr><td>Cytokine</td><td>P</td><td>Post</td><td>AS_10</td><td>96.77419</td></tr>\n",
       "\t<tr><td>Cytokine</td><td>P</td><td>Post</td><td>AS_11</td><td>96.77419</td></tr>\n",
       "\t<tr><td>Cytokine</td><td>P</td><td>Post</td><td>AS_12</td><td>96.77419</td></tr>\n",
       "</tbody>\n",
       "</table>\n"
      ],
      "text/latex": [
       "A grouped\\_df: 6 × 5\n",
       "\\begin{tabular}{lllll}\n",
       " Category & Sample\\_Type & Time\\_Point & Subject\\_ID & Subject\\_Presence\\_Percentage\\\\\n",
       " <chr> & <chr> & <chr> & <chr> & <dbl>\\\\\n",
       "\\hline\n",
       "\t Cytokine & S & Pre  & AS\\_3  &  0.00000\\\\\n",
       "\t Sterol   & S & Pre  & AS\\_3  &  0.00000\\\\\n",
       "\t Cytokine & P & Post & AS\\_1  & 96.77419\\\\\n",
       "\t Cytokine & P & Post & AS\\_10 & 96.77419\\\\\n",
       "\t Cytokine & P & Post & AS\\_11 & 96.77419\\\\\n",
       "\t Cytokine & P & Post & AS\\_12 & 96.77419\\\\\n",
       "\\end{tabular}\n"
      ],
      "text/markdown": [
       "\n",
       "A grouped_df: 6 × 5\n",
       "\n",
       "| Category &lt;chr&gt; | Sample_Type &lt;chr&gt; | Time_Point &lt;chr&gt; | Subject_ID &lt;chr&gt; | Subject_Presence_Percentage &lt;dbl&gt; |\n",
       "|---|---|---|---|---|\n",
       "| Cytokine | S | Pre  | AS_3  |  0.00000 |\n",
       "| Sterol   | S | Pre  | AS_3  |  0.00000 |\n",
       "| Cytokine | P | Post | AS_1  | 96.77419 |\n",
       "| Cytokine | P | Post | AS_10 | 96.77419 |\n",
       "| Cytokine | P | Post | AS_11 | 96.77419 |\n",
       "| Cytokine | P | Post | AS_12 | 96.77419 |\n",
       "\n"
      ],
      "text/plain": [
       "  Category Sample_Type Time_Point Subject_ID Subject_Presence_Percentage\n",
       "1 Cytokine S           Pre        AS_3        0.00000                   \n",
       "2 Sterol   S           Pre        AS_3        0.00000                   \n",
       "3 Cytokine P           Post       AS_1       96.77419                   \n",
       "4 Cytokine P           Post       AS_10      96.77419                   \n",
       "5 Cytokine P           Post       AS_11      96.77419                   \n",
       "6 Cytokine P           Post       AS_12      96.77419                   "
      ]
     },
     "metadata": {},
     "output_type": "display_data"
    }
   ],
   "source": [
    "# determing what subjects have missing data for all variables delinated based on the dfs the data will be split into\n",
    "subject_presence_df = ozone_data %>%\n",
    "    mutate(count = ifelse(Value != \"NA\", 1, 0)) %>%\n",
    "    group_by(Category, Sample_Type, Time_Point, Subject_ID) %>%\n",
    "    summarize(Subject_Presence_Percentage = sum(count)/ length(unique(Variable)) * 100) %>%\n",
    "    arrange(Subject_Presence_Percentage)\n",
    "head(subject_presence_df)"
   ]
  },
  {
   "cell_type": "markdown",
   "id": "f464c2e5",
   "metadata": {},
   "source": [
    "Based on this, subject AS_3 will be removed from all cytokine and sterol samples pre exposure. "
   ]
  },
  {
   "cell_type": "code",
   "execution_count": 6,
   "id": "moved-cooperative",
   "metadata": {},
   "outputs": [
    {
     "name": "stderr",
     "output_type": "stream",
     "text": [
      "\u001b[1m\u001b[22m`summarise()` has grouped output by 'Sample_Type', 'Time_Point'. You can\n",
      "override using the `.groups` argument.\n"
     ]
    },
    {
     "data": {
      "text/html": [
       "<table class=\"dataframe\">\n",
       "<caption>A grouped_df: 6 × 4</caption>\n",
       "<thead>\n",
       "\t<tr><th scope=col>Sample_Type</th><th scope=col>Time_Point</th><th scope=col>Variable</th><th scope=col>Variable_Presence_Percentage</th></tr>\n",
       "\t<tr><th scope=col>&lt;chr&gt;</th><th scope=col>&lt;chr&gt;</th><th scope=col>&lt;chr&gt;</th><th scope=col>&lt;dbl&gt;</th></tr>\n",
       "</thead>\n",
       "<tbody>\n",
       "\t<tr><td>P</td><td>Post</td><td>Utero    </td><td> 0.00000</td></tr>\n",
       "\t<tr><td>P</td><td>Pre </td><td>Utero    </td><td> 0.00000</td></tr>\n",
       "\t<tr><td>S</td><td>Post</td><td>MPO      </td><td>87.50000</td></tr>\n",
       "\t<tr><td>S</td><td>Pre </td><td>MPO      </td><td>87.50000</td></tr>\n",
       "\t<tr><td>S</td><td>Pre </td><td>24OH_Chol</td><td>95.83333</td></tr>\n",
       "\t<tr><td>S</td><td>Pre </td><td>25OH_Chol</td><td>95.83333</td></tr>\n",
       "</tbody>\n",
       "</table>\n"
      ],
      "text/latex": [
       "A grouped\\_df: 6 × 4\n",
       "\\begin{tabular}{llll}\n",
       " Sample\\_Type & Time\\_Point & Variable & Variable\\_Presence\\_Percentage\\\\\n",
       " <chr> & <chr> & <chr> & <dbl>\\\\\n",
       "\\hline\n",
       "\t P & Post & Utero     &  0.00000\\\\\n",
       "\t P & Pre  & Utero     &  0.00000\\\\\n",
       "\t S & Post & MPO       & 87.50000\\\\\n",
       "\t S & Pre  & MPO       & 87.50000\\\\\n",
       "\t S & Pre  & 24OH\\_Chol & 95.83333\\\\\n",
       "\t S & Pre  & 25OH\\_Chol & 95.83333\\\\\n",
       "\\end{tabular}\n"
      ],
      "text/markdown": [
       "\n",
       "A grouped_df: 6 × 4\n",
       "\n",
       "| Sample_Type &lt;chr&gt; | Time_Point &lt;chr&gt; | Variable &lt;chr&gt; | Variable_Presence_Percentage &lt;dbl&gt; |\n",
       "|---|---|---|---|\n",
       "| P | Post | Utero     |  0.00000 |\n",
       "| P | Pre  | Utero     |  0.00000 |\n",
       "| S | Post | MPO       | 87.50000 |\n",
       "| S | Pre  | MPO       | 87.50000 |\n",
       "| S | Pre  | 24OH_Chol | 95.83333 |\n",
       "| S | Pre  | 25OH_Chol | 95.83333 |\n",
       "\n"
      ],
      "text/plain": [
       "  Sample_Type Time_Point Variable  Variable_Presence_Percentage\n",
       "1 P           Post       Utero      0.00000                    \n",
       "2 P           Pre        Utero      0.00000                    \n",
       "3 S           Post       MPO       87.50000                    \n",
       "4 S           Pre        MPO       87.50000                    \n",
       "5 S           Pre        24OH_Chol 95.83333                    \n",
       "6 S           Pre        25OH_Chol 95.83333                    "
      ]
     },
     "metadata": {},
     "output_type": "display_data"
    }
   ],
   "source": [
    "# determining variables that have missing data for all variables delineated based on the dfs the data will be \n",
    "# split into\n",
    "variable_presence_df = ozone_data %>%\n",
    "    mutate(count = ifelse(Value != \"NA\", 1, 0)) %>%\n",
    "    group_by(Sample_Type, Time_Point, Variable) %>%\n",
    "    # calculating the percentage of variables with data in all subjects\n",
    "    summarize(Variable_Presence_Percentage = sum(count)/ length(unique(Subject_ID)) * 100) %>%\n",
    "    arrange(Variable_Presence_Percentage)\n",
    "head(variable_presence_df)"
   ]
  },
  {
   "cell_type": "markdown",
   "id": "b422af37",
   "metadata": {},
   "source": [
    "Based on this, cytokine, Utero, will be removed from plasma samples pre and post exposure. "
   ]
  },
  {
   "cell_type": "code",
   "execution_count": 7,
   "id": "otherwise-engine",
   "metadata": {},
   "outputs": [
    {
     "data": {
      "text/html": [
       "<table class=\"dataframe\">\n",
       "<caption>A data.frame: 6 × 11</caption>\n",
       "<thead>\n",
       "\t<tr><th></th><th scope=col>Original_Subject_No</th><th scope=col>Subject_No</th><th scope=col>Subject_ID</th><th scope=col>Disease_Status</th><th scope=col>Sample_Type</th><th scope=col>Time_Point</th><th scope=col>Inflammatory_Responder</th><th scope=col>Lung_Responder</th><th scope=col>Category</th><th scope=col>Variable</th><th scope=col>Value</th></tr>\n",
       "\t<tr><th></th><th scope=col>&lt;dbl&gt;</th><th scope=col>&lt;dbl&gt;</th><th scope=col>&lt;chr&gt;</th><th scope=col>&lt;chr&gt;</th><th scope=col>&lt;chr&gt;</th><th scope=col>&lt;chr&gt;</th><th scope=col>&lt;chr&gt;</th><th scope=col>&lt;chr&gt;</th><th scope=col>&lt;chr&gt;</th><th scope=col>&lt;chr&gt;</th><th scope=col>&lt;chr&gt;</th></tr>\n",
       "</thead>\n",
       "<tbody>\n",
       "\t<tr><th scope=row>1</th><td> 4</td><td>1</td><td>AS_1</td><td>AS</td><td>P</td><td>Post</td><td>NR</td><td>NR</td><td>Cytokine</td><td>Utero</td><td>NA</td></tr>\n",
       "\t<tr><th scope=row>2</th><td> 4</td><td>1</td><td>AS_1</td><td>AS</td><td>P</td><td>Pre </td><td>NR</td><td>NR</td><td>Cytokine</td><td>Utero</td><td>NA</td></tr>\n",
       "\t<tr><th scope=row>3</th><td> 7</td><td>2</td><td>AS_2</td><td>AS</td><td>P</td><td>Post</td><td>R </td><td>NR</td><td>Cytokine</td><td>Utero</td><td>NA</td></tr>\n",
       "\t<tr><th scope=row>4</th><td> 7</td><td>2</td><td>AS_2</td><td>AS</td><td>P</td><td>Pre </td><td>R </td><td>NR</td><td>Cytokine</td><td>Utero</td><td>NA</td></tr>\n",
       "\t<tr><th scope=row>5</th><td>11</td><td>3</td><td>AS_3</td><td>AS</td><td>P</td><td>Post</td><td>NR</td><td>R </td><td>Cytokine</td><td>Utero</td><td>NA</td></tr>\n",
       "\t<tr><th scope=row>6</th><td>11</td><td>3</td><td>AS_3</td><td>AS</td><td>P</td><td>Pre </td><td>NR</td><td>R </td><td>Cytokine</td><td>Utero</td><td>NA</td></tr>\n",
       "</tbody>\n",
       "</table>\n"
      ],
      "text/latex": [
       "A data.frame: 6 × 11\n",
       "\\begin{tabular}{r|lllllllllll}\n",
       "  & Original\\_Subject\\_No & Subject\\_No & Subject\\_ID & Disease\\_Status & Sample\\_Type & Time\\_Point & Inflammatory\\_Responder & Lung\\_Responder & Category & Variable & Value\\\\\n",
       "  & <dbl> & <dbl> & <chr> & <chr> & <chr> & <chr> & <chr> & <chr> & <chr> & <chr> & <chr>\\\\\n",
       "\\hline\n",
       "\t1 &  4 & 1 & AS\\_1 & AS & P & Post & NR & NR & Cytokine & Utero & NA\\\\\n",
       "\t2 &  4 & 1 & AS\\_1 & AS & P & Pre  & NR & NR & Cytokine & Utero & NA\\\\\n",
       "\t3 &  7 & 2 & AS\\_2 & AS & P & Post & R  & NR & Cytokine & Utero & NA\\\\\n",
       "\t4 &  7 & 2 & AS\\_2 & AS & P & Pre  & R  & NR & Cytokine & Utero & NA\\\\\n",
       "\t5 & 11 & 3 & AS\\_3 & AS & P & Post & NR & R  & Cytokine & Utero & NA\\\\\n",
       "\t6 & 11 & 3 & AS\\_3 & AS & P & Pre  & NR & R  & Cytokine & Utero & NA\\\\\n",
       "\\end{tabular}\n"
      ],
      "text/markdown": [
       "\n",
       "A data.frame: 6 × 11\n",
       "\n",
       "| <!--/--> | Original_Subject_No &lt;dbl&gt; | Subject_No &lt;dbl&gt; | Subject_ID &lt;chr&gt; | Disease_Status &lt;chr&gt; | Sample_Type &lt;chr&gt; | Time_Point &lt;chr&gt; | Inflammatory_Responder &lt;chr&gt; | Lung_Responder &lt;chr&gt; | Category &lt;chr&gt; | Variable &lt;chr&gt; | Value &lt;chr&gt; |\n",
       "|---|---|---|---|---|---|---|---|---|---|---|---|\n",
       "| 1 |  4 | 1 | AS_1 | AS | P | Post | NR | NR | Cytokine | Utero | NA |\n",
       "| 2 |  4 | 1 | AS_1 | AS | P | Pre  | NR | NR | Cytokine | Utero | NA |\n",
       "| 3 |  7 | 2 | AS_2 | AS | P | Post | R  | NR | Cytokine | Utero | NA |\n",
       "| 4 |  7 | 2 | AS_2 | AS | P | Pre  | R  | NR | Cytokine | Utero | NA |\n",
       "| 5 | 11 | 3 | AS_3 | AS | P | Post | NR | R  | Cytokine | Utero | NA |\n",
       "| 6 | 11 | 3 | AS_3 | AS | P | Pre  | NR | R  | Cytokine | Utero | NA |\n",
       "\n"
      ],
      "text/plain": [
       "  Original_Subject_No Subject_No Subject_ID Disease_Status Sample_Type\n",
       "1  4                  1          AS_1       AS             P          \n",
       "2  4                  1          AS_1       AS             P          \n",
       "3  7                  2          AS_2       AS             P          \n",
       "4  7                  2          AS_2       AS             P          \n",
       "5 11                  3          AS_3       AS             P          \n",
       "6 11                  3          AS_3       AS             P          \n",
       "  Time_Point Inflammatory_Responder Lung_Responder Category Variable Value\n",
       "1 Post       NR                     NR             Cytokine Utero    NA   \n",
       "2 Pre        NR                     NR             Cytokine Utero    NA   \n",
       "3 Post       R                      NR             Cytokine Utero    NA   \n",
       "4 Pre        R                      NR             Cytokine Utero    NA   \n",
       "5 Post       NR                     R              Cytokine Utero    NA   \n",
       "6 Pre        NR                     R              Cytokine Utero    NA   "
      ]
     },
     "metadata": {},
     "output_type": "display_data"
    }
   ],
   "source": [
    "# implementing background filter where a variable needs to be present in at least 25% of subjects\n",
    "# and where subject needs to have at least 25% of data for variables within a category/ time point/ sample\n",
    "variable1_to_remove_df = ozone_data %>%\n",
    "    filter(Sample_Type == \"P\" & Variable == \"Utero\")\n",
    "variable2_to_remove_df = ozone_data %>%\n",
    "    filter(Sample_Type == \"S\", Time_Point == \"Pre\", Category == \"Cytokine\", Subject_ID == \"AS_3\") \n",
    "variable3_to_remove_df = ozone_data %>%\n",
    "    filter(Sample_Type == \"S\", Time_Point == \"Pre\", Category == \"Sterol\", Subject_ID == \"AS_3\") \n",
    "variables_to_remove_df = rbind(variable1_to_remove_df, variable2_to_remove_df, variable3_to_remove_df)\n",
    "\n",
    "head(variables_to_remove_df)"
   ]
  },
  {
   "cell_type": "code",
   "execution_count": 8,
   "id": "8ed5699a",
   "metadata": {},
   "outputs": [
    {
     "data": {
      "text/html": [
       "97"
      ],
      "text/latex": [
       "97"
      ],
      "text/markdown": [
       "97"
      ],
      "text/plain": [
       "[1] 97"
      ]
     },
     "metadata": {},
     "output_type": "display_data"
    }
   ],
   "source": [
    "# number of samples being removed\n",
    "dim(variables_to_remove_df)[1]"
   ]
  },
  {
   "cell_type": "code",
   "execution_count": 9,
   "id": "18cca84f",
   "metadata": {},
   "outputs": [
    {
     "data": {
      "text/html": [
       "7151"
      ],
      "text/latex": [
       "7151"
      ],
      "text/markdown": [
       "7151"
      ],
      "text/plain": [
       "[1] 7151"
      ]
     },
     "metadata": {},
     "output_type": "display_data"
    }
   ],
   "source": [
    "# number of samples to expect in the final df\n",
    "dim(ozone_data)[1] - dim(variables_to_remove_df)[1]"
   ]
  },
  {
   "cell_type": "code",
   "execution_count": 10,
   "id": "ignored-sight",
   "metadata": {},
   "outputs": [
    {
     "name": "stderr",
     "output_type": "stream",
     "text": [
      "\u001b[1m\u001b[22mJoining, by = c(\"Original_Subject_No\", \"Subject_No\", \"Subject_ID\",\n",
      "\"Disease_Status\", \"Sample_Type\", \"Time_Point\", \"Inflammatory_Responder\",\n",
      "\"Lung_Responder\", \"Category\", \"Variable\", \"Value\")\n",
      "Warning message in ifelse(Value == \"NA\", NA, as.numeric(Value)):\n",
      "“NAs introduced by coercion”\n"
     ]
    },
    {
     "data": {
      "text/html": [
       "<table class=\"dataframe\">\n",
       "<caption>A data.frame: 6 × 11</caption>\n",
       "<thead>\n",
       "\t<tr><th></th><th scope=col>Original_Subject_No</th><th scope=col>Subject_No</th><th scope=col>Subject_ID</th><th scope=col>Disease_Status</th><th scope=col>Sample_Type</th><th scope=col>Time_Point</th><th scope=col>Inflammatory_Responder</th><th scope=col>Lung_Responder</th><th scope=col>Category</th><th scope=col>Variable</th><th scope=col>Value</th></tr>\n",
       "\t<tr><th></th><th scope=col>&lt;dbl&gt;</th><th scope=col>&lt;dbl&gt;</th><th scope=col>&lt;chr&gt;</th><th scope=col>&lt;chr&gt;</th><th scope=col>&lt;chr&gt;</th><th scope=col>&lt;chr&gt;</th><th scope=col>&lt;chr&gt;</th><th scope=col>&lt;chr&gt;</th><th scope=col>&lt;chr&gt;</th><th scope=col>&lt;chr&gt;</th><th scope=col>&lt;dbl&gt;</th></tr>\n",
       "</thead>\n",
       "<tbody>\n",
       "\t<tr><th scope=row>1</th><td> 4</td><td>1</td><td>AS_1</td><td>AS</td><td>A</td><td>Post</td><td>NR</td><td>NR</td><td>Lung_Function</td><td>FEV1</td><td>4.39</td></tr>\n",
       "\t<tr><th scope=row>2</th><td> 4</td><td>1</td><td>AS_1</td><td>AS</td><td>A</td><td>Pre </td><td>NR</td><td>NR</td><td>Lung_Function</td><td>FEV1</td><td>4.60</td></tr>\n",
       "\t<tr><th scope=row>3</th><td> 7</td><td>2</td><td>AS_2</td><td>AS</td><td>A</td><td>Post</td><td>R </td><td>NR</td><td>Lung_Function</td><td>FEV1</td><td>2.96</td></tr>\n",
       "\t<tr><th scope=row>4</th><td> 7</td><td>2</td><td>AS_2</td><td>AS</td><td>A</td><td>Pre </td><td>R </td><td>NR</td><td>Lung_Function</td><td>FEV1</td><td>3.08</td></tr>\n",
       "\t<tr><th scope=row>5</th><td>11</td><td>3</td><td>AS_3</td><td>AS</td><td>A</td><td>Post</td><td>NR</td><td>R </td><td>Lung_Function</td><td>FEV1</td><td>4.24</td></tr>\n",
       "\t<tr><th scope=row>6</th><td>11</td><td>3</td><td>AS_3</td><td>AS</td><td>A</td><td>Pre </td><td>NR</td><td>R </td><td>Lung_Function</td><td>FEV1</td><td>4.52</td></tr>\n",
       "</tbody>\n",
       "</table>\n"
      ],
      "text/latex": [
       "A data.frame: 6 × 11\n",
       "\\begin{tabular}{r|lllllllllll}\n",
       "  & Original\\_Subject\\_No & Subject\\_No & Subject\\_ID & Disease\\_Status & Sample\\_Type & Time\\_Point & Inflammatory\\_Responder & Lung\\_Responder & Category & Variable & Value\\\\\n",
       "  & <dbl> & <dbl> & <chr> & <chr> & <chr> & <chr> & <chr> & <chr> & <chr> & <chr> & <dbl>\\\\\n",
       "\\hline\n",
       "\t1 &  4 & 1 & AS\\_1 & AS & A & Post & NR & NR & Lung\\_Function & FEV1 & 4.39\\\\\n",
       "\t2 &  4 & 1 & AS\\_1 & AS & A & Pre  & NR & NR & Lung\\_Function & FEV1 & 4.60\\\\\n",
       "\t3 &  7 & 2 & AS\\_2 & AS & A & Post & R  & NR & Lung\\_Function & FEV1 & 2.96\\\\\n",
       "\t4 &  7 & 2 & AS\\_2 & AS & A & Pre  & R  & NR & Lung\\_Function & FEV1 & 3.08\\\\\n",
       "\t5 & 11 & 3 & AS\\_3 & AS & A & Post & NR & R  & Lung\\_Function & FEV1 & 4.24\\\\\n",
       "\t6 & 11 & 3 & AS\\_3 & AS & A & Pre  & NR & R  & Lung\\_Function & FEV1 & 4.52\\\\\n",
       "\\end{tabular}\n"
      ],
      "text/markdown": [
       "\n",
       "A data.frame: 6 × 11\n",
       "\n",
       "| <!--/--> | Original_Subject_No &lt;dbl&gt; | Subject_No &lt;dbl&gt; | Subject_ID &lt;chr&gt; | Disease_Status &lt;chr&gt; | Sample_Type &lt;chr&gt; | Time_Point &lt;chr&gt; | Inflammatory_Responder &lt;chr&gt; | Lung_Responder &lt;chr&gt; | Category &lt;chr&gt; | Variable &lt;chr&gt; | Value &lt;dbl&gt; |\n",
       "|---|---|---|---|---|---|---|---|---|---|---|---|\n",
       "| 1 |  4 | 1 | AS_1 | AS | A | Post | NR | NR | Lung_Function | FEV1 | 4.39 |\n",
       "| 2 |  4 | 1 | AS_1 | AS | A | Pre  | NR | NR | Lung_Function | FEV1 | 4.60 |\n",
       "| 3 |  7 | 2 | AS_2 | AS | A | Post | R  | NR | Lung_Function | FEV1 | 2.96 |\n",
       "| 4 |  7 | 2 | AS_2 | AS | A | Pre  | R  | NR | Lung_Function | FEV1 | 3.08 |\n",
       "| 5 | 11 | 3 | AS_3 | AS | A | Post | NR | R  | Lung_Function | FEV1 | 4.24 |\n",
       "| 6 | 11 | 3 | AS_3 | AS | A | Pre  | NR | R  | Lung_Function | FEV1 | 4.52 |\n",
       "\n"
      ],
      "text/plain": [
       "  Original_Subject_No Subject_No Subject_ID Disease_Status Sample_Type\n",
       "1  4                  1          AS_1       AS             A          \n",
       "2  4                  1          AS_1       AS             A          \n",
       "3  7                  2          AS_2       AS             A          \n",
       "4  7                  2          AS_2       AS             A          \n",
       "5 11                  3          AS_3       AS             A          \n",
       "6 11                  3          AS_3       AS             A          \n",
       "  Time_Point Inflammatory_Responder Lung_Responder Category      Variable Value\n",
       "1 Post       NR                     NR             Lung_Function FEV1     4.39 \n",
       "2 Pre        NR                     NR             Lung_Function FEV1     4.60 \n",
       "3 Post       R                      NR             Lung_Function FEV1     2.96 \n",
       "4 Pre        R                      NR             Lung_Function FEV1     3.08 \n",
       "5 Post       NR                     R              Lung_Function FEV1     4.24 \n",
       "6 Pre        NR                     R              Lung_Function FEV1     4.52 "
      ]
     },
     "metadata": {},
     "output_type": "display_data"
    }
   ],
   "source": [
    "# only keeping rows in ozone data that aren't in the other dataframe\n",
    "filtered_ozone_data = anti_join(ozone_data, variables_to_remove_df[1:11]) %>%\n",
    "    #making value col numeric instead of character\n",
    "    mutate(Value = ifelse(Value == \"NA\", NA, as.numeric(Value))) \n",
    "\n",
    "head(filtered_ozone_data)"
   ]
  },
  {
   "cell_type": "code",
   "execution_count": 11,
   "id": "virtual-element",
   "metadata": {},
   "outputs": [],
   "source": [
    "# now splitting dataset based on category, sample, time point\n",
    "preimputed_df = filtered_ozone_data %>%\n",
    "    group_by(Category, Sample_Type, Time_Point) %>%\n",
    "    group_split()\n",
    "\n",
    "cell_differential_plasma_post_df = preimputed_df[[1]]\n",
    "cell_differential_plasma_pre_df = preimputed_df[[2]]\n",
    "cell_differential_sputum_post_df = preimputed_df[[3]]\n",
    "cell_differential_sputum_pre_df = preimputed_df[[4]]\n",
    "cytokine_plasma_post_df = preimputed_df[[5]]\n",
    "cytokine_plasma_pre_df = preimputed_df[[6]]\n",
    "cytokine_sputum_post_df = preimputed_df[[7]]\n",
    "cytokine_sputum_pre_df = preimputed_df[[8]]\n",
    "sterol_plasma_post_df = preimputed_df[[11]]\n",
    "sterol_plasma_pre_df = preimputed_df[[12]]\n",
    "sterol_sputum_post_df = preimputed_df[[13]]\n",
    "sterol_sputum_pre_df = preimputed_df[[14]]\n",
    "\n",
    "# no longer needed for imputation, but kept for when all imputed data is combined\n",
    "lung_function_airways_post_df = preimputed_df[[9]] \n",
    "lung_function_airways_pre_df = preimputed_df[[10]] "
   ]
  },
  {
   "cell_type": "markdown",
   "id": "silver-porcelain",
   "metadata": {},
   "source": [
    "# QRILC Imputation"
   ]
  },
  {
   "cell_type": "code",
   "execution_count": 12,
   "id": "patient-interval",
   "metadata": {},
   "outputs": [
    {
     "data": {
      "text/html": [
       "<table class=\"dataframe\">\n",
       "<caption>A tibble: 6 × 11</caption>\n",
       "<thead>\n",
       "\t<tr><th scope=col>Original_Subject_No</th><th scope=col>Subject_No</th><th scope=col>Subject_ID</th><th scope=col>Disease_Status</th><th scope=col>Sample_Type</th><th scope=col>Time_Point</th><th scope=col>Inflammatory_Responder</th><th scope=col>Lung_Responder</th><th scope=col>Category</th><th scope=col>Variable</th><th scope=col>Value</th></tr>\n",
       "\t<tr><th scope=col>&lt;dbl&gt;</th><th scope=col>&lt;dbl&gt;</th><th scope=col>&lt;chr&gt;</th><th scope=col>&lt;chr&gt;</th><th scope=col>&lt;chr&gt;</th><th scope=col>&lt;chr&gt;</th><th scope=col>&lt;chr&gt;</th><th scope=col>&lt;chr&gt;</th><th scope=col>&lt;chr&gt;</th><th scope=col>&lt;chr&gt;</th><th scope=col>&lt;dbl&gt;</th></tr>\n",
       "</thead>\n",
       "<tbody>\n",
       "\t<tr><td> 4</td><td>1</td><td>AS_1</td><td>AS</td><td>P</td><td>Post</td><td>NR</td><td>NR</td><td>Cell_Differential</td><td>Sample_Weight</td><td> 817</td></tr>\n",
       "\t<tr><td> 7</td><td>2</td><td>AS_2</td><td>AS</td><td>P</td><td>Post</td><td>R </td><td>NR</td><td>Cell_Differential</td><td>Sample_Weight</td><td>7992</td></tr>\n",
       "\t<tr><td>11</td><td>3</td><td>AS_3</td><td>AS</td><td>P</td><td>Post</td><td>NR</td><td>R </td><td>Cell_Differential</td><td>Sample_Weight</td><td>2791</td></tr>\n",
       "\t<tr><td>13</td><td>4</td><td>AS_4</td><td>AS</td><td>P</td><td>Post</td><td>R </td><td>NR</td><td>Cell_Differential</td><td>Sample_Weight</td><td>3530</td></tr>\n",
       "\t<tr><td>15</td><td>5</td><td>AS_5</td><td>AS</td><td>P</td><td>Post</td><td>R </td><td>NR</td><td>Cell_Differential</td><td>Sample_Weight</td><td>3830</td></tr>\n",
       "\t<tr><td>16</td><td>6</td><td>AS_6</td><td>AS</td><td>P</td><td>Post</td><td>NR</td><td>NR</td><td>Cell_Differential</td><td>Sample_Weight</td><td>3287</td></tr>\n",
       "</tbody>\n",
       "</table>\n"
      ],
      "text/latex": [
       "A tibble: 6 × 11\n",
       "\\begin{tabular}{lllllllllll}\n",
       " Original\\_Subject\\_No & Subject\\_No & Subject\\_ID & Disease\\_Status & Sample\\_Type & Time\\_Point & Inflammatory\\_Responder & Lung\\_Responder & Category & Variable & Value\\\\\n",
       " <dbl> & <dbl> & <chr> & <chr> & <chr> & <chr> & <chr> & <chr> & <chr> & <chr> & <dbl>\\\\\n",
       "\\hline\n",
       "\t  4 & 1 & AS\\_1 & AS & P & Post & NR & NR & Cell\\_Differential & Sample\\_Weight &  817\\\\\n",
       "\t  7 & 2 & AS\\_2 & AS & P & Post & R  & NR & Cell\\_Differential & Sample\\_Weight & 7992\\\\\n",
       "\t 11 & 3 & AS\\_3 & AS & P & Post & NR & R  & Cell\\_Differential & Sample\\_Weight & 2791\\\\\n",
       "\t 13 & 4 & AS\\_4 & AS & P & Post & R  & NR & Cell\\_Differential & Sample\\_Weight & 3530\\\\\n",
       "\t 15 & 5 & AS\\_5 & AS & P & Post & R  & NR & Cell\\_Differential & Sample\\_Weight & 3830\\\\\n",
       "\t 16 & 6 & AS\\_6 & AS & P & Post & NR & NR & Cell\\_Differential & Sample\\_Weight & 3287\\\\\n",
       "\\end{tabular}\n"
      ],
      "text/markdown": [
       "\n",
       "A tibble: 6 × 11\n",
       "\n",
       "| Original_Subject_No &lt;dbl&gt; | Subject_No &lt;dbl&gt; | Subject_ID &lt;chr&gt; | Disease_Status &lt;chr&gt; | Sample_Type &lt;chr&gt; | Time_Point &lt;chr&gt; | Inflammatory_Responder &lt;chr&gt; | Lung_Responder &lt;chr&gt; | Category &lt;chr&gt; | Variable &lt;chr&gt; | Value &lt;dbl&gt; |\n",
       "|---|---|---|---|---|---|---|---|---|---|---|\n",
       "|  4 | 1 | AS_1 | AS | P | Post | NR | NR | Cell_Differential | Sample_Weight |  817 |\n",
       "|  7 | 2 | AS_2 | AS | P | Post | R  | NR | Cell_Differential | Sample_Weight | 7992 |\n",
       "| 11 | 3 | AS_3 | AS | P | Post | NR | R  | Cell_Differential | Sample_Weight | 2791 |\n",
       "| 13 | 4 | AS_4 | AS | P | Post | R  | NR | Cell_Differential | Sample_Weight | 3530 |\n",
       "| 15 | 5 | AS_5 | AS | P | Post | R  | NR | Cell_Differential | Sample_Weight | 3830 |\n",
       "| 16 | 6 | AS_6 | AS | P | Post | NR | NR | Cell_Differential | Sample_Weight | 3287 |\n",
       "\n"
      ],
      "text/plain": [
       "  Original_Subject_No Subject_No Subject_ID Disease_Status Sample_Type\n",
       "1  4                  1          AS_1       AS             P          \n",
       "2  7                  2          AS_2       AS             P          \n",
       "3 11                  3          AS_3       AS             P          \n",
       "4 13                  4          AS_4       AS             P          \n",
       "5 15                  5          AS_5       AS             P          \n",
       "6 16                  6          AS_6       AS             P          \n",
       "  Time_Point Inflammatory_Responder Lung_Responder Category         \n",
       "1 Post       NR                     NR             Cell_Differential\n",
       "2 Post       R                      NR             Cell_Differential\n",
       "3 Post       NR                     R              Cell_Differential\n",
       "4 Post       R                      NR             Cell_Differential\n",
       "5 Post       R                      NR             Cell_Differential\n",
       "6 Post       NR                     NR             Cell_Differential\n",
       "  Variable      Value\n",
       "1 Sample_Weight  817 \n",
       "2 Sample_Weight 7992 \n",
       "3 Sample_Weight 2791 \n",
       "4 Sample_Weight 3530 \n",
       "5 Sample_Weight 3830 \n",
       "6 Sample_Weight 3287 "
      ]
     },
     "metadata": {},
     "output_type": "display_data"
    }
   ],
   "source": [
    "head(cell_differential_plasma_post_df)"
   ]
  },
  {
   "cell_type": "code",
   "execution_count": 13,
   "id": "generic-confusion",
   "metadata": {},
   "outputs": [
    {
     "name": "stderr",
     "output_type": "stream",
     "text": [
      "Warning message in (function (x) :\n",
      "“NaNs produced”\n",
      "Warning message in (function (x) :\n",
      "“NaNs produced”\n",
      "Warning message in (function (x) :\n",
      "“NaNs produced”\n",
      "Warning message in (function (x) :\n",
      "“NaNs produced”\n"
     ]
    }
   ],
   "source": [
    "# imputing soluble mediator data using QRILC\n",
    "QRILC_imputation = function(dataset){\n",
    "    wider_dataset = dataset %>%\n",
    "        pivot_wider(names_from = Variable, values_from = Value)\n",
    "    \n",
    "    index_of_last_variable = length(colnames(wider_dataset))\n",
    "    \n",
    "    # normalizing data since that what the QRILC function wants\n",
    "    # had to pseudo log transform to prevent Inf values\n",
    "    QRILC_prep = wider_dataset[,10:all_of(index_of_last_variable)] %>%\n",
    "         mutate_all(., function(x) log10(x + 1)) %>%\n",
    "         as.matrix()\n",
    "\n",
    "    imputed_QRILC_object = impute.QRILC(QRILC_prep, tune.sigma = 0.1)\n",
    "    QRILC_log10_df = data.frame(imputed_QRILC_object[1]) \n",
    "    \n",
    "    # converting back the original scale\n",
    "    QRILC_df = QRILC_log10_df %>%\n",
    "        mutate_all(., function(x) 10^x - 1)\n",
    "                   \n",
    "    imputed_dataset = data.frame(cbind(unique(dataset[,1:9]), QRILC_df)) %>%\n",
    "        pivot_longer(cols = 10:all_of(index_of_last_variable), names_to = \"Variable\", values_to = \"Value\")\n",
    "    \n",
    "    return(imputed_dataset)\n",
    "}\n",
    "\n",
    "# calling fn\n",
    "imputed_cell_differential_plasma_post_df = QRILC_imputation(cell_differential_plasma_post_df)\n",
    "imputed_cell_differential_plasma_pre_df = QRILC_imputation(cell_differential_plasma_pre_df)\n",
    "imputed_cell_differential_sputum_post_df = QRILC_imputation(cell_differential_sputum_post_df)\n",
    "imputed_cell_differential_sputum_pre_df = QRILC_imputation(cell_differential_sputum_pre_df)\n",
    "imputed_cytokine_plasma_post_df = QRILC_imputation(cytokine_plasma_post_df)\n",
    "imputed_cytokine_plasma_pre_df = QRILC_imputation(cytokine_plasma_pre_df)\n",
    "imputed_cytokine_sputum_post_df = QRILC_imputation(cytokine_sputum_post_df)\n",
    "imputed_cytokine_sputum_pre_df = QRILC_imputation(cytokine_sputum_pre_df)\n",
    "imputed_sterol_plasma_post_df = QRILC_imputation(sterol_plasma_post_df)\n",
    "imputed_sterol_plasma_pre_df = QRILC_imputation(sterol_plasma_pre_df)\n",
    "# sterol_sputum_post_df had no missing data\n",
    "# sterol_sputum_pre_df had no missing data"
   ]
  },
  {
   "cell_type": "code",
   "execution_count": 14,
   "id": "limited-necklace",
   "metadata": {},
   "outputs": [],
   "source": [
    "# I think the data matrix doesn't like col names starting with numbers so it puts an X in front of it\n",
    "# removing those X's prior to combining everything into 1 datafame\n",
    "imputed_sterol_plasma_post_df = imputed_sterol_plasma_post_df %>%\n",
    "     mutate(Variable = ifelse(grepl(\"X\", Variable), \n",
    "                              unlist(strsplit(Variable, split = \"X\"))[2], Variable))\n",
    "imputed_sterol_plasma_pre_df = imputed_sterol_plasma_pre_df %>%\n",
    "    mutate(Variable = ifelse(grepl(\"X\", Variable), \n",
    "                              unlist(strsplit(Variable, split = \"X\"))[2], Variable))"
   ]
  },
  {
   "cell_type": "code",
   "execution_count": 15,
   "id": "aware-attempt",
   "metadata": {},
   "outputs": [
    {
     "data": {
      "text/html": [
       "<table class=\"dataframe\">\n",
       "<caption>A tibble: 6 × 11</caption>\n",
       "<thead>\n",
       "\t<tr><th scope=col>Original_Subject_No</th><th scope=col>Subject_No</th><th scope=col>Subject_ID</th><th scope=col>Disease_Status</th><th scope=col>Sample_Type</th><th scope=col>Time_Point</th><th scope=col>Inflammatory_Responder</th><th scope=col>Lung_Responder</th><th scope=col>Category</th><th scope=col>Variable</th><th scope=col>Value</th></tr>\n",
       "\t<tr><th scope=col>&lt;dbl&gt;</th><th scope=col>&lt;dbl&gt;</th><th scope=col>&lt;chr&gt;</th><th scope=col>&lt;chr&gt;</th><th scope=col>&lt;chr&gt;</th><th scope=col>&lt;chr&gt;</th><th scope=col>&lt;chr&gt;</th><th scope=col>&lt;chr&gt;</th><th scope=col>&lt;chr&gt;</th><th scope=col>&lt;chr&gt;</th><th scope=col>&lt;dbl&gt;</th></tr>\n",
       "</thead>\n",
       "<tbody>\n",
       "\t<tr><td>4</td><td>1</td><td>AS_1</td><td>AS</td><td>P</td><td>Post</td><td>NR</td><td>NR</td><td>Cell_Differential</td><td>Sample_Weight      </td><td>   817.00</td></tr>\n",
       "\t<tr><td>4</td><td>1</td><td>AS_1</td><td>AS</td><td>P</td><td>Post</td><td>NR</td><td>NR</td><td>Cell_Differential</td><td>TCC                </td><td>395000.00</td></tr>\n",
       "\t<tr><td>4</td><td>1</td><td>AS_1</td><td>AS</td><td>P</td><td>Post</td><td>NR</td><td>NR</td><td>Cell_Differential</td><td>TCC_Weight         </td><td>   483.48</td></tr>\n",
       "\t<tr><td>4</td><td>1</td><td>AS_1</td><td>AS</td><td>P</td><td>Post</td><td>NR</td><td>NR</td><td>Cell_Differential</td><td>Neutrophils_Percent</td><td>    25.00</td></tr>\n",
       "\t<tr><td>4</td><td>1</td><td>AS_1</td><td>AS</td><td>P</td><td>Post</td><td>NR</td><td>NR</td><td>Cell_Differential</td><td>Neutrophils        </td><td> 98750.00</td></tr>\n",
       "\t<tr><td>4</td><td>1</td><td>AS_1</td><td>AS</td><td>P</td><td>Post</td><td>NR</td><td>NR</td><td>Cell_Differential</td><td>Neutrophils_Weight </td><td>   121.00</td></tr>\n",
       "</tbody>\n",
       "</table>\n"
      ],
      "text/latex": [
       "A tibble: 6 × 11\n",
       "\\begin{tabular}{lllllllllll}\n",
       " Original\\_Subject\\_No & Subject\\_No & Subject\\_ID & Disease\\_Status & Sample\\_Type & Time\\_Point & Inflammatory\\_Responder & Lung\\_Responder & Category & Variable & Value\\\\\n",
       " <dbl> & <dbl> & <chr> & <chr> & <chr> & <chr> & <chr> & <chr> & <chr> & <chr> & <dbl>\\\\\n",
       "\\hline\n",
       "\t 4 & 1 & AS\\_1 & AS & P & Post & NR & NR & Cell\\_Differential & Sample\\_Weight       &    817.00\\\\\n",
       "\t 4 & 1 & AS\\_1 & AS & P & Post & NR & NR & Cell\\_Differential & TCC                 & 395000.00\\\\\n",
       "\t 4 & 1 & AS\\_1 & AS & P & Post & NR & NR & Cell\\_Differential & TCC\\_Weight          &    483.48\\\\\n",
       "\t 4 & 1 & AS\\_1 & AS & P & Post & NR & NR & Cell\\_Differential & Neutrophils\\_Percent &     25.00\\\\\n",
       "\t 4 & 1 & AS\\_1 & AS & P & Post & NR & NR & Cell\\_Differential & Neutrophils         &  98750.00\\\\\n",
       "\t 4 & 1 & AS\\_1 & AS & P & Post & NR & NR & Cell\\_Differential & Neutrophils\\_Weight  &    121.00\\\\\n",
       "\\end{tabular}\n"
      ],
      "text/markdown": [
       "\n",
       "A tibble: 6 × 11\n",
       "\n",
       "| Original_Subject_No &lt;dbl&gt; | Subject_No &lt;dbl&gt; | Subject_ID &lt;chr&gt; | Disease_Status &lt;chr&gt; | Sample_Type &lt;chr&gt; | Time_Point &lt;chr&gt; | Inflammatory_Responder &lt;chr&gt; | Lung_Responder &lt;chr&gt; | Category &lt;chr&gt; | Variable &lt;chr&gt; | Value &lt;dbl&gt; |\n",
       "|---|---|---|---|---|---|---|---|---|---|---|\n",
       "| 4 | 1 | AS_1 | AS | P | Post | NR | NR | Cell_Differential | Sample_Weight       |    817.00 |\n",
       "| 4 | 1 | AS_1 | AS | P | Post | NR | NR | Cell_Differential | TCC                 | 395000.00 |\n",
       "| 4 | 1 | AS_1 | AS | P | Post | NR | NR | Cell_Differential | TCC_Weight          |    483.48 |\n",
       "| 4 | 1 | AS_1 | AS | P | Post | NR | NR | Cell_Differential | Neutrophils_Percent |     25.00 |\n",
       "| 4 | 1 | AS_1 | AS | P | Post | NR | NR | Cell_Differential | Neutrophils         |  98750.00 |\n",
       "| 4 | 1 | AS_1 | AS | P | Post | NR | NR | Cell_Differential | Neutrophils_Weight  |    121.00 |\n",
       "\n"
      ],
      "text/plain": [
       "  Original_Subject_No Subject_No Subject_ID Disease_Status Sample_Type\n",
       "1 4                   1          AS_1       AS             P          \n",
       "2 4                   1          AS_1       AS             P          \n",
       "3 4                   1          AS_1       AS             P          \n",
       "4 4                   1          AS_1       AS             P          \n",
       "5 4                   1          AS_1       AS             P          \n",
       "6 4                   1          AS_1       AS             P          \n",
       "  Time_Point Inflammatory_Responder Lung_Responder Category         \n",
       "1 Post       NR                     NR             Cell_Differential\n",
       "2 Post       NR                     NR             Cell_Differential\n",
       "3 Post       NR                     NR             Cell_Differential\n",
       "4 Post       NR                     NR             Cell_Differential\n",
       "5 Post       NR                     NR             Cell_Differential\n",
       "6 Post       NR                     NR             Cell_Differential\n",
       "  Variable            Value    \n",
       "1 Sample_Weight          817.00\n",
       "2 TCC                 395000.00\n",
       "3 TCC_Weight             483.48\n",
       "4 Neutrophils_Percent     25.00\n",
       "5 Neutrophils          98750.00\n",
       "6 Neutrophils_Weight     121.00"
      ]
     },
     "metadata": {},
     "output_type": "display_data"
    }
   ],
   "source": [
    "# combining all imputed data\n",
    "# not sure why there are duplicates, but I removed duplicate entries\n",
    "final_df = unique(rbind(imputed_cell_differential_plasma_post_df, imputed_cell_differential_plasma_pre_df, imputed_cell_differential_sputum_post_df,\n",
    "                imputed_cell_differential_sputum_pre_df, imputed_cytokine_plasma_post_df, imputed_cytokine_plasma_pre_df, imputed_cytokine_sputum_post_df,\n",
    "                imputed_cytokine_sputum_pre_df, lung_function_airways_post_df, lung_function_airways_pre_df, imputed_sterol_plasma_post_df, imputed_sterol_plasma_pre_df, \n",
    "                sterol_sputum_post_df, sterol_sputum_pre_df))\n",
    "head(final_df)"
   ]
  },
  {
   "cell_type": "code",
   "execution_count": 16,
   "id": "9ba19a2c",
   "metadata": {},
   "outputs": [
    {
     "data": {
      "text/html": [
       "<style>\n",
       ".list-inline {list-style: none; margin:0; padding: 0}\n",
       ".list-inline>li {display: inline-block}\n",
       ".list-inline>li:not(:last-child)::after {content: \"\\00b7\"; padding: 0 .5ex}\n",
       "</style>\n",
       "<ol class=list-inline><li>7151</li><li>11</li></ol>\n"
      ],
      "text/latex": [
       "\\begin{enumerate*}\n",
       "\\item 7151\n",
       "\\item 11\n",
       "\\end{enumerate*}\n"
      ],
      "text/markdown": [
       "1. 7151\n",
       "2. 11\n",
       "\n",
       "\n"
      ],
      "text/plain": [
       "[1] 7151   11"
      ]
     },
     "metadata": {},
     "output_type": "display_data"
    }
   ],
   "source": [
    "# double checking that we were expecting 7,151 samples\n",
    "dim(final_df)"
   ]
  },
  {
   "cell_type": "code",
   "execution_count": 17,
   "id": "august-refund",
   "metadata": {},
   "outputs": [],
   "source": [
    "# exporting results\n",
    "write.csv(final_df, paste0(Output,\"/\", cur_date, \"_Imputed_Ozone_Data.csv\"), row.names = FALSE)"
   ]
  },
  {
   "cell_type": "code",
   "execution_count": null,
   "id": "ceramic-answer",
   "metadata": {},
   "outputs": [],
   "source": []
  }
 ],
 "metadata": {
  "kernelspec": {
   "display_name": "R",
   "language": "R",
   "name": "ir"
  },
  "language_info": {
   "codemirror_mode": "r",
   "file_extension": ".r",
   "mimetype": "text/x-r-source",
   "name": "R",
   "pygments_lexer": "r",
   "version": "4.1.3"
  }
 },
 "nbformat": 4,
 "nbformat_minor": 5
}
