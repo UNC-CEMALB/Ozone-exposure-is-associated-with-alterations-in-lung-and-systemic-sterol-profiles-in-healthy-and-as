{
 "cells": [
  {
   "cell_type": "code",
   "execution_count": 1,
   "id": "contained-dominant",
   "metadata": {},
   "outputs": [],
   "source": [
    "#had a lot of issues trying to install the \"imputeLCMD\" package, so this was how I did it\n",
    "# if (!requireNamespace(\"BiocManager\", quietly = TRUE))\n",
    "#     install.packages(\"BiocManager\")\n",
    "\n",
    "# BiocManager::install(c(\"impute\", \"pcaMethods\"))\n",
    "\n",
    "# install.packages(\"imputeLCMD\")"
   ]
  },
  {
   "cell_type": "code",
   "execution_count": 2,
   "id": "listed-response",
   "metadata": {},
   "outputs": [
    {
     "name": "stderr",
     "output_type": "stream",
     "text": [
      "Loading required package: tmvtnorm\n",
      "\n",
      "Loading required package: mvtnorm\n",
      "\n",
      "Loading required package: Matrix\n",
      "\n",
      "Loading required package: stats4\n",
      "\n",
      "Loading required package: gmm\n",
      "\n",
      "Loading required package: sandwich\n",
      "\n",
      "Loading required package: norm\n",
      "\n",
      "Loading required package: pcaMethods\n",
      "\n",
      "Loading required package: Biobase\n",
      "\n",
      "Loading required package: BiocGenerics\n",
      "\n",
      "Loading required package: parallel\n",
      "\n",
      "\n",
      "Attaching package: ‘BiocGenerics’\n",
      "\n",
      "\n",
      "The following objects are masked from ‘package:parallel’:\n",
      "\n",
      "    clusterApply, clusterApplyLB, clusterCall, clusterEvalQ,\n",
      "    clusterExport, clusterMap, parApply, parCapply, parLapply,\n",
      "    parLapplyLB, parRapply, parSapply, parSapplyLB\n",
      "\n",
      "\n",
      "The following object is masked from ‘package:Matrix’:\n",
      "\n",
      "    which\n",
      "\n",
      "\n",
      "The following objects are masked from ‘package:stats’:\n",
      "\n",
      "    IQR, mad, sd, var, xtabs\n",
      "\n",
      "\n",
      "The following objects are masked from ‘package:base’:\n",
      "\n",
      "    Filter, Find, Map, Position, Reduce, anyDuplicated, append,\n",
      "    as.data.frame, basename, cbind, colnames, dirname, do.call,\n",
      "    duplicated, eval, evalq, get, grep, grepl, intersect, is.unsorted,\n",
      "    lapply, mapply, match, mget, order, paste, pmax, pmax.int, pmin,\n",
      "    pmin.int, rank, rbind, rownames, sapply, setdiff, sort, table,\n",
      "    tapply, union, unique, unsplit, which, which.max, which.min\n",
      "\n",
      "\n",
      "Welcome to Bioconductor\n",
      "\n",
      "    Vignettes contain introductory material; view with\n",
      "    'browseVignettes()'. To cite Bioconductor, see\n",
      "    'citation(\"Biobase\")', and for packages 'citation(\"pkgname\")'.\n",
      "\n",
      "\n",
      "\n",
      "Attaching package: ‘pcaMethods’\n",
      "\n",
      "\n",
      "The following object is masked from ‘package:stats’:\n",
      "\n",
      "    loadings\n",
      "\n",
      "\n",
      "Loading required package: impute\n",
      "\n",
      "── \u001b[1mAttaching packages\u001b[22m ─────────────────────────────────────── tidyverse 1.3.0 ──\n",
      "\n",
      "\u001b[32m✔\u001b[39m \u001b[34mggplot2\u001b[39m 3.3.3     \u001b[32m✔\u001b[39m \u001b[34mpurrr  \u001b[39m 0.3.4\n",
      "\u001b[32m✔\u001b[39m \u001b[34mtibble \u001b[39m 3.0.6     \u001b[32m✔\u001b[39m \u001b[34mdplyr  \u001b[39m 1.0.4\n",
      "\u001b[32m✔\u001b[39m \u001b[34mtidyr  \u001b[39m 1.1.2     \u001b[32m✔\u001b[39m \u001b[34mstringr\u001b[39m 1.4.0\n",
      "\u001b[32m✔\u001b[39m \u001b[34mreadr  \u001b[39m 1.4.0     \u001b[32m✔\u001b[39m \u001b[34mforcats\u001b[39m 0.5.1\n",
      "\n",
      "── \u001b[1mConflicts\u001b[22m ────────────────────────────────────────── tidyverse_conflicts() ──\n",
      "\u001b[31m✖\u001b[39m \u001b[34mggplot2\u001b[39m::\u001b[32mPosition()\u001b[39m masks \u001b[34mBiocGenerics\u001b[39m::Position(), \u001b[34mbase\u001b[39m::Position()\n",
      "\u001b[31m✖\u001b[39m \u001b[34mdplyr\u001b[39m::\u001b[32mcombine()\u001b[39m    masks \u001b[34mBiobase\u001b[39m::combine(), \u001b[34mBiocGenerics\u001b[39m::combine()\n",
      "\u001b[31m✖\u001b[39m \u001b[34mtidyr\u001b[39m::\u001b[32mexpand()\u001b[39m     masks \u001b[34mMatrix\u001b[39m::expand()\n",
      "\u001b[31m✖\u001b[39m \u001b[34mdplyr\u001b[39m::\u001b[32mfilter()\u001b[39m     masks \u001b[34mstats\u001b[39m::filter()\n",
      "\u001b[31m✖\u001b[39m \u001b[34mdplyr\u001b[39m::\u001b[32mlag()\u001b[39m        masks \u001b[34mstats\u001b[39m::lag()\n",
      "\u001b[31m✖\u001b[39m \u001b[34mtidyr\u001b[39m::\u001b[32mpack()\u001b[39m       masks \u001b[34mMatrix\u001b[39m::pack()\n",
      "\u001b[31m✖\u001b[39m \u001b[34mtidyr\u001b[39m::\u001b[32munpack()\u001b[39m     masks \u001b[34mMatrix\u001b[39m::unpack()\n",
      "\n"
     ]
    }
   ],
   "source": [
    "setwd(\"/Users/alexis/University of North Carolina at Chapel Hill/Rager, Julia - CEMALB_DataAnalysisPM/Projects/P1003. Ozone Sterols Healthy Asthma/P1003.3. Analyses/P1003.3.1. Data Imputation/Input\")\n",
    "Output = ('/Users/alexis/University of North Carolina at Chapel Hill/Rager, Julia - CEMALB_DataAnalysisPM/Projects/P1003. Ozone Sterols Healthy Asthma/P1003.3. Analyses/P1003.3.1. Data Imputation/Output')\n",
    "cur_date = \"012722\"\n",
    "\n",
    "library(imputeLCMD)\n",
    "library(readxl)\n",
    "library(tidyverse)\n",
    "\n",
    "#reading in files\n",
    "ozone_data = data.frame(read_excel(\"Ozone_Sterol_Asthma_data_011822.xlsx\", sheet = 2)) "
   ]
  },
  {
   "cell_type": "code",
   "execution_count": 3,
   "id": "tracked-membrane",
   "metadata": {},
   "outputs": [
    {
     "name": "stderr",
     "output_type": "stream",
     "text": [
      "Warning message in ifelse(Value == \"NA\", NA, as.numeric(Value)):\n",
      "“NAs introduced by coercion”\n"
     ]
    },
    {
     "data": {
      "text/html": [
       "<table class=\"dataframe\">\n",
       "<caption>A data.frame: 6 × 12</caption>\n",
       "<thead>\n",
       "\t<tr><th></th><th scope=col>Original_Subject_No</th><th scope=col>Subject_No</th><th scope=col>Subject_ID</th><th scope=col>Disease_Status</th><th scope=col>Sample_Type</th><th scope=col>Time_Point</th><th scope=col>Inflammatory_Responder</th><th scope=col>Lung_Responder</th><th scope=col>Category</th><th scope=col>Variable</th><th scope=col>Value</th><th scope=col>Value_log</th></tr>\n",
       "\t<tr><th></th><th scope=col>&lt;dbl&gt;</th><th scope=col>&lt;dbl&gt;</th><th scope=col>&lt;chr&gt;</th><th scope=col>&lt;chr&gt;</th><th scope=col>&lt;chr&gt;</th><th scope=col>&lt;chr&gt;</th><th scope=col>&lt;chr&gt;</th><th scope=col>&lt;chr&gt;</th><th scope=col>&lt;chr&gt;</th><th scope=col>&lt;chr&gt;</th><th scope=col>&lt;dbl&gt;</th><th scope=col>&lt;dbl&gt;</th></tr>\n",
       "</thead>\n",
       "<tbody>\n",
       "\t<tr><th scope=row>1</th><td>4</td><td>1</td><td>AS_1</td><td>AS</td><td>P</td><td>Post</td><td>NR</td><td>NR</td><td>Lung_Function</td><td>FEV1</td><td>4.39</td><td>1.479329</td></tr>\n",
       "\t<tr><th scope=row>2</th><td>4</td><td>1</td><td>AS_1</td><td>AS</td><td>P</td><td>Pre </td><td>NR</td><td>NR</td><td>Lung_Function</td><td>FEV1</td><td>4.60</td><td>1.526056</td></tr>\n",
       "\t<tr><th scope=row>3</th><td>4</td><td>1</td><td>AS_1</td><td>AS</td><td>S</td><td>Post</td><td>NR</td><td>NR</td><td>Lung_Function</td><td>FEV1</td><td>4.39</td><td>1.479329</td></tr>\n",
       "\t<tr><th scope=row>4</th><td>4</td><td>1</td><td>AS_1</td><td>AS</td><td>S</td><td>Pre </td><td>NR</td><td>NR</td><td>Lung_Function</td><td>FEV1</td><td>  NA</td><td>      NA</td></tr>\n",
       "\t<tr><th scope=row>5</th><td>7</td><td>2</td><td>AS_2</td><td>AS</td><td>P</td><td>Post</td><td>R </td><td>NR</td><td>Lung_Function</td><td>FEV1</td><td>2.96</td><td>1.085189</td></tr>\n",
       "\t<tr><th scope=row>6</th><td>7</td><td>2</td><td>AS_2</td><td>AS</td><td>P</td><td>Pre </td><td>R </td><td>NR</td><td>Lung_Function</td><td>FEV1</td><td>3.08</td><td>1.124930</td></tr>\n",
       "</tbody>\n",
       "</table>\n"
      ],
      "text/latex": [
       "A data.frame: 6 × 12\n",
       "\\begin{tabular}{r|llllllllllll}\n",
       "  & Original\\_Subject\\_No & Subject\\_No & Subject\\_ID & Disease\\_Status & Sample\\_Type & Time\\_Point & Inflammatory\\_Responder & Lung\\_Responder & Category & Variable & Value & Value\\_log\\\\\n",
       "  & <dbl> & <dbl> & <chr> & <chr> & <chr> & <chr> & <chr> & <chr> & <chr> & <chr> & <dbl> & <dbl>\\\\\n",
       "\\hline\n",
       "\t1 & 4 & 1 & AS\\_1 & AS & P & Post & NR & NR & Lung\\_Function & FEV1 & 4.39 & 1.479329\\\\\n",
       "\t2 & 4 & 1 & AS\\_1 & AS & P & Pre  & NR & NR & Lung\\_Function & FEV1 & 4.60 & 1.526056\\\\\n",
       "\t3 & 4 & 1 & AS\\_1 & AS & S & Post & NR & NR & Lung\\_Function & FEV1 & 4.39 & 1.479329\\\\\n",
       "\t4 & 4 & 1 & AS\\_1 & AS & S & Pre  & NR & NR & Lung\\_Function & FEV1 &   NA &       NA\\\\\n",
       "\t5 & 7 & 2 & AS\\_2 & AS & P & Post & R  & NR & Lung\\_Function & FEV1 & 2.96 & 1.085189\\\\\n",
       "\t6 & 7 & 2 & AS\\_2 & AS & P & Pre  & R  & NR & Lung\\_Function & FEV1 & 3.08 & 1.124930\\\\\n",
       "\\end{tabular}\n"
      ],
      "text/markdown": [
       "\n",
       "A data.frame: 6 × 12\n",
       "\n",
       "| <!--/--> | Original_Subject_No &lt;dbl&gt; | Subject_No &lt;dbl&gt; | Subject_ID &lt;chr&gt; | Disease_Status &lt;chr&gt; | Sample_Type &lt;chr&gt; | Time_Point &lt;chr&gt; | Inflammatory_Responder &lt;chr&gt; | Lung_Responder &lt;chr&gt; | Category &lt;chr&gt; | Variable &lt;chr&gt; | Value &lt;dbl&gt; | Value_log &lt;dbl&gt; |\n",
       "|---|---|---|---|---|---|---|---|---|---|---|---|---|\n",
       "| 1 | 4 | 1 | AS_1 | AS | P | Post | NR | NR | Lung_Function | FEV1 | 4.39 | 1.479329 |\n",
       "| 2 | 4 | 1 | AS_1 | AS | P | Pre  | NR | NR | Lung_Function | FEV1 | 4.60 | 1.526056 |\n",
       "| 3 | 4 | 1 | AS_1 | AS | S | Post | NR | NR | Lung_Function | FEV1 | 4.39 | 1.479329 |\n",
       "| 4 | 4 | 1 | AS_1 | AS | S | Pre  | NR | NR | Lung_Function | FEV1 |   NA |       NA |\n",
       "| 5 | 7 | 2 | AS_2 | AS | P | Post | R  | NR | Lung_Function | FEV1 | 2.96 | 1.085189 |\n",
       "| 6 | 7 | 2 | AS_2 | AS | P | Pre  | R  | NR | Lung_Function | FEV1 | 3.08 | 1.124930 |\n",
       "\n"
      ],
      "text/plain": [
       "  Original_Subject_No Subject_No Subject_ID Disease_Status Sample_Type\n",
       "1 4                   1          AS_1       AS             P          \n",
       "2 4                   1          AS_1       AS             P          \n",
       "3 4                   1          AS_1       AS             S          \n",
       "4 4                   1          AS_1       AS             S          \n",
       "5 7                   2          AS_2       AS             P          \n",
       "6 7                   2          AS_2       AS             P          \n",
       "  Time_Point Inflammatory_Responder Lung_Responder Category      Variable Value\n",
       "1 Post       NR                     NR             Lung_Function FEV1     4.39 \n",
       "2 Pre        NR                     NR             Lung_Function FEV1     4.60 \n",
       "3 Post       NR                     NR             Lung_Function FEV1     4.39 \n",
       "4 Pre        NR                     NR             Lung_Function FEV1       NA \n",
       "5 Post       R                      NR             Lung_Function FEV1     2.96 \n",
       "6 Pre        R                      NR             Lung_Function FEV1     3.08 \n",
       "  Value_log\n",
       "1 1.479329 \n",
       "2 1.526056 \n",
       "3 1.479329 \n",
       "4       NA \n",
       "5 1.085189 \n",
       "6 1.124930 "
      ]
     },
     "metadata": {},
     "output_type": "display_data"
    }
   ],
   "source": [
    "# Need to impute missing data, but the distribution needs to be normalized first\n",
    "ozone_data = ozone_data %>%\n",
    "    mutate(Value = ifelse(Value == \"NA\", NA, as.numeric(Value))) %>%\n",
    "    #removing all the changes and percent data, since it was throwing infinite (NaN) values and they're \n",
    "    #based on the raw data anyways\n",
    "    filter(grepl(\"_Change\", Variable) == FALSE & grepl(\"_Percent\", Variable) == FALSE) %>%\n",
    "    #ended up pseudo log transforming the data to prevent infinite (NaN) values\n",
    "    mutate(Value_log = log(Value)) \n",
    "\n",
    "head(ozone_data)"
   ]
  },
  {
   "cell_type": "code",
   "execution_count": 4,
   "id": "graphic-fisher",
   "metadata": {},
   "outputs": [
    {
     "data": {
      "text/html": [
       "<table class=\"dataframe\">\n",
       "<caption>A data.frame: 6 × 11</caption>\n",
       "<thead>\n",
       "\t<tr><th></th><th scope=col>Original_Subject_No</th><th scope=col>Subject_No</th><th scope=col>Subject_ID</th><th scope=col>Disease_Status</th><th scope=col>Sample_Type</th><th scope=col>Time_Point</th><th scope=col>Inflammatory_Responder</th><th scope=col>Lung_Responder</th><th scope=col>Category</th><th scope=col>Variable</th><th scope=col>Value_log</th></tr>\n",
       "\t<tr><th></th><th scope=col>&lt;dbl&gt;</th><th scope=col>&lt;dbl&gt;</th><th scope=col>&lt;chr&gt;</th><th scope=col>&lt;chr&gt;</th><th scope=col>&lt;chr&gt;</th><th scope=col>&lt;chr&gt;</th><th scope=col>&lt;chr&gt;</th><th scope=col>&lt;chr&gt;</th><th scope=col>&lt;chr&gt;</th><th scope=col>&lt;chr&gt;</th><th scope=col>&lt;dbl&gt;</th></tr>\n",
       "</thead>\n",
       "<tbody>\n",
       "\t<tr><th scope=row>1</th><td>4</td><td>1</td><td>AS_1</td><td>AS</td><td>P</td><td>Post</td><td>NR</td><td>NR</td><td>Lung_Function</td><td>FEV1</td><td>1</td></tr>\n",
       "\t<tr><th scope=row>2</th><td>4</td><td>1</td><td>AS_1</td><td>AS</td><td>P</td><td>Pre </td><td>NR</td><td>NR</td><td>Lung_Function</td><td>FEV1</td><td>1</td></tr>\n",
       "\t<tr><th scope=row>3</th><td>4</td><td>1</td><td>AS_1</td><td>AS</td><td>S</td><td>Post</td><td>NR</td><td>NR</td><td>Lung_Function</td><td>FEV1</td><td>1</td></tr>\n",
       "\t<tr><th scope=row>4</th><td>4</td><td>1</td><td>AS_1</td><td>AS</td><td>S</td><td>Pre </td><td>NR</td><td>NR</td><td>Lung_Function</td><td>FEV1</td><td>0</td></tr>\n",
       "\t<tr><th scope=row>5</th><td>7</td><td>2</td><td>AS_2</td><td>AS</td><td>P</td><td>Post</td><td>R </td><td>NR</td><td>Lung_Function</td><td>FEV1</td><td>1</td></tr>\n",
       "\t<tr><th scope=row>6</th><td>7</td><td>2</td><td>AS_2</td><td>AS</td><td>P</td><td>Pre </td><td>R </td><td>NR</td><td>Lung_Function</td><td>FEV1</td><td>1</td></tr>\n",
       "</tbody>\n",
       "</table>\n"
      ],
      "text/latex": [
       "A data.frame: 6 × 11\n",
       "\\begin{tabular}{r|lllllllllll}\n",
       "  & Original\\_Subject\\_No & Subject\\_No & Subject\\_ID & Disease\\_Status & Sample\\_Type & Time\\_Point & Inflammatory\\_Responder & Lung\\_Responder & Category & Variable & Value\\_log\\\\\n",
       "  & <dbl> & <dbl> & <chr> & <chr> & <chr> & <chr> & <chr> & <chr> & <chr> & <chr> & <dbl>\\\\\n",
       "\\hline\n",
       "\t1 & 4 & 1 & AS\\_1 & AS & P & Post & NR & NR & Lung\\_Function & FEV1 & 1\\\\\n",
       "\t2 & 4 & 1 & AS\\_1 & AS & P & Pre  & NR & NR & Lung\\_Function & FEV1 & 1\\\\\n",
       "\t3 & 4 & 1 & AS\\_1 & AS & S & Post & NR & NR & Lung\\_Function & FEV1 & 1\\\\\n",
       "\t4 & 4 & 1 & AS\\_1 & AS & S & Pre  & NR & NR & Lung\\_Function & FEV1 & 0\\\\\n",
       "\t5 & 7 & 2 & AS\\_2 & AS & P & Post & R  & NR & Lung\\_Function & FEV1 & 1\\\\\n",
       "\t6 & 7 & 2 & AS\\_2 & AS & P & Pre  & R  & NR & Lung\\_Function & FEV1 & 1\\\\\n",
       "\\end{tabular}\n"
      ],
      "text/markdown": [
       "\n",
       "A data.frame: 6 × 11\n",
       "\n",
       "| <!--/--> | Original_Subject_No &lt;dbl&gt; | Subject_No &lt;dbl&gt; | Subject_ID &lt;chr&gt; | Disease_Status &lt;chr&gt; | Sample_Type &lt;chr&gt; | Time_Point &lt;chr&gt; | Inflammatory_Responder &lt;chr&gt; | Lung_Responder &lt;chr&gt; | Category &lt;chr&gt; | Variable &lt;chr&gt; | Value_log &lt;dbl&gt; |\n",
       "|---|---|---|---|---|---|---|---|---|---|---|---|\n",
       "| 1 | 4 | 1 | AS_1 | AS | P | Post | NR | NR | Lung_Function | FEV1 | 1 |\n",
       "| 2 | 4 | 1 | AS_1 | AS | P | Pre  | NR | NR | Lung_Function | FEV1 | 1 |\n",
       "| 3 | 4 | 1 | AS_1 | AS | S | Post | NR | NR | Lung_Function | FEV1 | 1 |\n",
       "| 4 | 4 | 1 | AS_1 | AS | S | Pre  | NR | NR | Lung_Function | FEV1 | 0 |\n",
       "| 5 | 7 | 2 | AS_2 | AS | P | Post | R  | NR | Lung_Function | FEV1 | 1 |\n",
       "| 6 | 7 | 2 | AS_2 | AS | P | Pre  | R  | NR | Lung_Function | FEV1 | 1 |\n",
       "\n"
      ],
      "text/plain": [
       "  Original_Subject_No Subject_No Subject_ID Disease_Status Sample_Type\n",
       "1 4                   1          AS_1       AS             P          \n",
       "2 4                   1          AS_1       AS             P          \n",
       "3 4                   1          AS_1       AS             S          \n",
       "4 4                   1          AS_1       AS             S          \n",
       "5 7                   2          AS_2       AS             P          \n",
       "6 7                   2          AS_2       AS             P          \n",
       "  Time_Point Inflammatory_Responder Lung_Responder Category      Variable\n",
       "1 Post       NR                     NR             Lung_Function FEV1    \n",
       "2 Pre        NR                     NR             Lung_Function FEV1    \n",
       "3 Post       NR                     NR             Lung_Function FEV1    \n",
       "4 Pre        NR                     NR             Lung_Function FEV1    \n",
       "5 Post       R                      NR             Lung_Function FEV1    \n",
       "6 Pre        R                      NR             Lung_Function FEV1    \n",
       "  Value_log\n",
       "1 1        \n",
       "2 1        \n",
       "3 1        \n",
       "4 0        \n",
       "5 1        \n",
       "6 1        "
      ]
     },
     "metadata": {},
     "output_type": "display_data"
    }
   ],
   "source": [
    "#LAUREN'S VERSION\n",
    "#Convert cytokine to binary (if the value is missing 0, if the value is present 1)\n",
    "missing_df <- ozone_data %>% \n",
    "    select(-Value) %>%\n",
    "    mutate(Value_log = ifelse(is.na(Value_log) == TRUE, 0, 1))\n",
    "\n",
    "head(missing_df)"
   ]
  },
  {
   "cell_type": "code",
   "execution_count": 5,
   "id": "massive-writing",
   "metadata": {},
   "outputs": [
    {
     "name": "stderr",
     "output_type": "stream",
     "text": [
      "`summarise()` has grouped output by 'Time_Point', 'Sample_Type'. You can override using the `.groups` argument.\n",
      "\n"
     ]
    },
    {
     "data": {
      "text/html": [
       "<table class=\"dataframe\">\n",
       "<caption>A grouped_df: 6 × 4</caption>\n",
       "<thead>\n",
       "\t<tr><th scope=col>Time_Point</th><th scope=col>Sample_Type</th><th scope=col>Variable</th><th scope=col>Value_Sum</th></tr>\n",
       "\t<tr><th scope=col>&lt;chr&gt;</th><th scope=col>&lt;chr&gt;</th><th scope=col>&lt;chr&gt;</th><th scope=col>&lt;dbl&gt;</th></tr>\n",
       "</thead>\n",
       "<tbody>\n",
       "\t<tr><td>Post</td><td>P</td><td>24OH_Chol</td><td>24</td></tr>\n",
       "\t<tr><td>Post</td><td>P</td><td>25OH_Chol</td><td>24</td></tr>\n",
       "\t<tr><td>Post</td><td>P</td><td>25OH_VitD</td><td>24</td></tr>\n",
       "\t<tr><td>Post</td><td>P</td><td>27OH_Chol</td><td>24</td></tr>\n",
       "\t<tr><td>Post</td><td>P</td><td>7DHC     </td><td>24</td></tr>\n",
       "\t<tr><td>Post</td><td>P</td><td>7DHD     </td><td>24</td></tr>\n",
       "</tbody>\n",
       "</table>\n"
      ],
      "text/latex": [
       "A grouped\\_df: 6 × 4\n",
       "\\begin{tabular}{llll}\n",
       " Time\\_Point & Sample\\_Type & Variable & Value\\_Sum\\\\\n",
       " <chr> & <chr> & <chr> & <dbl>\\\\\n",
       "\\hline\n",
       "\t Post & P & 24OH\\_Chol & 24\\\\\n",
       "\t Post & P & 25OH\\_Chol & 24\\\\\n",
       "\t Post & P & 25OH\\_VitD & 24\\\\\n",
       "\t Post & P & 27OH\\_Chol & 24\\\\\n",
       "\t Post & P & 7DHC      & 24\\\\\n",
       "\t Post & P & 7DHD      & 24\\\\\n",
       "\\end{tabular}\n"
      ],
      "text/markdown": [
       "\n",
       "A grouped_df: 6 × 4\n",
       "\n",
       "| Time_Point &lt;chr&gt; | Sample_Type &lt;chr&gt; | Variable &lt;chr&gt; | Value_Sum &lt;dbl&gt; |\n",
       "|---|---|---|---|\n",
       "| Post | P | 24OH_Chol | 24 |\n",
       "| Post | P | 25OH_Chol | 24 |\n",
       "| Post | P | 25OH_VitD | 24 |\n",
       "| Post | P | 27OH_Chol | 24 |\n",
       "| Post | P | 7DHC      | 24 |\n",
       "| Post | P | 7DHD      | 24 |\n",
       "\n"
      ],
      "text/plain": [
       "  Time_Point Sample_Type Variable  Value_Sum\n",
       "1 Post       P           24OH_Chol 24       \n",
       "2 Post       P           25OH_Chol 24       \n",
       "3 Post       P           25OH_VitD 24       \n",
       "4 Post       P           27OH_Chol 24       \n",
       "5 Post       P           7DHC      24       \n",
       "6 Post       P           7DHD      24       "
      ]
     },
     "metadata": {},
     "output_type": "display_data"
    }
   ],
   "source": [
    "#calculating number of values for each variable, grouped by sample and time_point\n",
    "totals = missing_df %>%\n",
    "    group_by(Time_Point, Sample_Type, Variable) %>%\n",
    "    summarize(Value_Sum = sum(Value_log)) %>%\n",
    "    #finally calculating the 50% filter\n",
    "    filter(Value_Sum >= length(unique(ozone_data$Subject_ID)) * 0.5)\n",
    "head(totals)"
   ]
  },
  {
   "cell_type": "code",
   "execution_count": 6,
   "id": "owned-remark",
   "metadata": {},
   "outputs": [
    {
     "data": {
      "text/html": [
       "<table class=\"dataframe\">\n",
       "<caption>A data.frame: 6 × 12</caption>\n",
       "<thead>\n",
       "\t<tr><th></th><th scope=col>Original_Subject_No</th><th scope=col>Subject_No</th><th scope=col>Subject_ID</th><th scope=col>Disease_Status</th><th scope=col>Sample_Type</th><th scope=col>Time_Point</th><th scope=col>Inflammatory_Responder</th><th scope=col>Lung_Responder</th><th scope=col>Category</th><th scope=col>Variable</th><th scope=col>Value</th><th scope=col>Value_log</th></tr>\n",
       "\t<tr><th></th><th scope=col>&lt;dbl&gt;</th><th scope=col>&lt;dbl&gt;</th><th scope=col>&lt;chr&gt;</th><th scope=col>&lt;chr&gt;</th><th scope=col>&lt;chr&gt;</th><th scope=col>&lt;chr&gt;</th><th scope=col>&lt;chr&gt;</th><th scope=col>&lt;chr&gt;</th><th scope=col>&lt;chr&gt;</th><th scope=col>&lt;chr&gt;</th><th scope=col>&lt;dbl&gt;</th><th scope=col>&lt;dbl&gt;</th></tr>\n",
       "</thead>\n",
       "<tbody>\n",
       "\t<tr><th scope=row>1</th><td> 4</td><td>1</td><td>AS_1</td><td>AS</td><td>P</td><td>Post</td><td>NR</td><td>NR</td><td>Sterol</td><td>24OH_Chol</td><td>55.512</td><td>4.016599</td></tr>\n",
       "\t<tr><th scope=row>2</th><td> 7</td><td>2</td><td>AS_2</td><td>AS</td><td>P</td><td>Post</td><td>R </td><td>NR</td><td>Sterol</td><td>24OH_Chol</td><td>33.849</td><td>3.521909</td></tr>\n",
       "\t<tr><th scope=row>3</th><td>11</td><td>3</td><td>AS_3</td><td>AS</td><td>P</td><td>Post</td><td>NR</td><td>R </td><td>Sterol</td><td>24OH_Chol</td><td>29.891</td><td>3.397557</td></tr>\n",
       "\t<tr><th scope=row>4</th><td>13</td><td>4</td><td>AS_4</td><td>AS</td><td>P</td><td>Post</td><td>R </td><td>NR</td><td>Sterol</td><td>24OH_Chol</td><td>44.330</td><td>3.791662</td></tr>\n",
       "\t<tr><th scope=row>5</th><td>15</td><td>5</td><td>AS_5</td><td>AS</td><td>P</td><td>Post</td><td>R </td><td>NR</td><td>Sterol</td><td>24OH_Chol</td><td>40.111</td><td>3.691651</td></tr>\n",
       "\t<tr><th scope=row>6</th><td>16</td><td>6</td><td>AS_6</td><td>AS</td><td>P</td><td>Post</td><td>NR</td><td>NR</td><td>Sterol</td><td>24OH_Chol</td><td>79.289</td><td>4.373099</td></tr>\n",
       "</tbody>\n",
       "</table>\n"
      ],
      "text/latex": [
       "A data.frame: 6 × 12\n",
       "\\begin{tabular}{r|llllllllllll}\n",
       "  & Original\\_Subject\\_No & Subject\\_No & Subject\\_ID & Disease\\_Status & Sample\\_Type & Time\\_Point & Inflammatory\\_Responder & Lung\\_Responder & Category & Variable & Value & Value\\_log\\\\\n",
       "  & <dbl> & <dbl> & <chr> & <chr> & <chr> & <chr> & <chr> & <chr> & <chr> & <chr> & <dbl> & <dbl>\\\\\n",
       "\\hline\n",
       "\t1 &  4 & 1 & AS\\_1 & AS & P & Post & NR & NR & Sterol & 24OH\\_Chol & 55.512 & 4.016599\\\\\n",
       "\t2 &  7 & 2 & AS\\_2 & AS & P & Post & R  & NR & Sterol & 24OH\\_Chol & 33.849 & 3.521909\\\\\n",
       "\t3 & 11 & 3 & AS\\_3 & AS & P & Post & NR & R  & Sterol & 24OH\\_Chol & 29.891 & 3.397557\\\\\n",
       "\t4 & 13 & 4 & AS\\_4 & AS & P & Post & R  & NR & Sterol & 24OH\\_Chol & 44.330 & 3.791662\\\\\n",
       "\t5 & 15 & 5 & AS\\_5 & AS & P & Post & R  & NR & Sterol & 24OH\\_Chol & 40.111 & 3.691651\\\\\n",
       "\t6 & 16 & 6 & AS\\_6 & AS & P & Post & NR & NR & Sterol & 24OH\\_Chol & 79.289 & 4.373099\\\\\n",
       "\\end{tabular}\n"
      ],
      "text/markdown": [
       "\n",
       "A data.frame: 6 × 12\n",
       "\n",
       "| <!--/--> | Original_Subject_No &lt;dbl&gt; | Subject_No &lt;dbl&gt; | Subject_ID &lt;chr&gt; | Disease_Status &lt;chr&gt; | Sample_Type &lt;chr&gt; | Time_Point &lt;chr&gt; | Inflammatory_Responder &lt;chr&gt; | Lung_Responder &lt;chr&gt; | Category &lt;chr&gt; | Variable &lt;chr&gt; | Value &lt;dbl&gt; | Value_log &lt;dbl&gt; |\n",
       "|---|---|---|---|---|---|---|---|---|---|---|---|---|\n",
       "| 1 |  4 | 1 | AS_1 | AS | P | Post | NR | NR | Sterol | 24OH_Chol | 55.512 | 4.016599 |\n",
       "| 2 |  7 | 2 | AS_2 | AS | P | Post | R  | NR | Sterol | 24OH_Chol | 33.849 | 3.521909 |\n",
       "| 3 | 11 | 3 | AS_3 | AS | P | Post | NR | R  | Sterol | 24OH_Chol | 29.891 | 3.397557 |\n",
       "| 4 | 13 | 4 | AS_4 | AS | P | Post | R  | NR | Sterol | 24OH_Chol | 44.330 | 3.791662 |\n",
       "| 5 | 15 | 5 | AS_5 | AS | P | Post | R  | NR | Sterol | 24OH_Chol | 40.111 | 3.691651 |\n",
       "| 6 | 16 | 6 | AS_6 | AS | P | Post | NR | NR | Sterol | 24OH_Chol | 79.289 | 4.373099 |\n",
       "\n"
      ],
      "text/plain": [
       "  Original_Subject_No Subject_No Subject_ID Disease_Status Sample_Type\n",
       "1  4                  1          AS_1       AS             P          \n",
       "2  7                  2          AS_2       AS             P          \n",
       "3 11                  3          AS_3       AS             P          \n",
       "4 13                  4          AS_4       AS             P          \n",
       "5 15                  5          AS_5       AS             P          \n",
       "6 16                  6          AS_6       AS             P          \n",
       "  Time_Point Inflammatory_Responder Lung_Responder Category Variable  Value \n",
       "1 Post       NR                     NR             Sterol   24OH_Chol 55.512\n",
       "2 Post       R                      NR             Sterol   24OH_Chol 33.849\n",
       "3 Post       NR                     R              Sterol   24OH_Chol 29.891\n",
       "4 Post       R                      NR             Sterol   24OH_Chol 44.330\n",
       "5 Post       R                      NR             Sterol   24OH_Chol 40.111\n",
       "6 Post       NR                     NR             Sterol   24OH_Chol 79.289\n",
       "  Value_log\n",
       "1 4.016599 \n",
       "2 3.521909 \n",
       "3 3.397557 \n",
       "4 3.791662 \n",
       "5 3.691651 \n",
       "6 4.373099 "
      ]
     },
     "metadata": {},
     "output_type": "display_data"
    }
   ],
   "source": [
    "#creating a new df w/ values present in at least 50% of subjects\n",
    "new_df = data.frame()\n",
    "for (i in 1:length(totals$Value_Sum)){\n",
    "    filtered_df = ozone_data %>%\n",
    "        filter(Time_Point == totals$Time_Point[i] & totals$Sample_Type[i] == Sample_Type & \n",
    "               totals$Variable[i] == Variable)\n",
    "    new_df = rbind(new_df, filtered_df)\n",
    "}\n",
    "\n",
    "head(new_df)"
   ]
  },
  {
   "cell_type": "markdown",
   "id": "expanded-necklace",
   "metadata": {},
   "source": [
    "This removed all NA values, so imputation wasn't necessary."
   ]
  },
  {
   "cell_type": "code",
   "execution_count": 7,
   "id": "liked-injury",
   "metadata": {},
   "outputs": [],
   "source": [
    "#splitting into separate dfs since the dfs will be converted into a wide format\n",
    "preimputed_df = new_df %>%\n",
    "    group_by(Sample_Type, Time_Point) %>%\n",
    "    group_split()\n",
    "\n",
    "post_plasma_df = preimputed_df[[1]]\n",
    "pre_plasma_df = preimputed_df[[2]]\n",
    "post_sputum_df = preimputed_df[[3]]\n",
    "pre_sputum_df = preimputed_df[[4]]"
   ]
  },
  {
   "cell_type": "code",
   "execution_count": 8,
   "id": "hairy-walnut",
   "metadata": {},
   "outputs": [
    {
     "data": {
      "text/html": [
       "<table class=\"dataframe\">\n",
       "<caption>A data.frame: 6 × 71</caption>\n",
       "<thead>\n",
       "\t<tr><th></th><th scope=col>Original_Subject_No</th><th scope=col>Subject_No</th><th scope=col>Disease_Status</th><th scope=col>Inflammatory_Responder</th><th scope=col>Lung_Responder</th><th scope=col>24OH_Chol</th><th scope=col>25OH_Chol</th><th scope=col>25OH_VitD</th><th scope=col>27OH_Chol</th><th scope=col>7DHC</th><th scope=col>⋯</th><th scope=col>TCC</th><th scope=col>TCC_Weight</th><th scope=col>TNFa</th><th scope=col>TNFb</th><th scope=col>VEGF</th><th scope=col>Viability</th><th scope=col>Zym</th><th scope=col>Zyme</th><th scope=col>bEP_Chol</th><th scope=col>dHLan</th></tr>\n",
       "\t<tr><th></th><th scope=col>&lt;dbl&gt;</th><th scope=col>&lt;dbl&gt;</th><th scope=col>&lt;chr&gt;</th><th scope=col>&lt;chr&gt;</th><th scope=col>&lt;chr&gt;</th><th scope=col>&lt;dbl&gt;</th><th scope=col>&lt;dbl&gt;</th><th scope=col>&lt;dbl&gt;</th><th scope=col>&lt;dbl&gt;</th><th scope=col>&lt;dbl&gt;</th><th scope=col>⋯</th><th scope=col>&lt;dbl&gt;</th><th scope=col>&lt;dbl&gt;</th><th scope=col>&lt;dbl&gt;</th><th scope=col>&lt;dbl&gt;</th><th scope=col>&lt;dbl&gt;</th><th scope=col>&lt;dbl&gt;</th><th scope=col>&lt;dbl&gt;</th><th scope=col>&lt;dbl&gt;</th><th scope=col>&lt;dbl&gt;</th><th scope=col>&lt;dbl&gt;</th></tr>\n",
       "</thead>\n",
       "<tbody>\n",
       "\t<tr><th scope=row>AS_1</th><td> 4</td><td>1</td><td>AS</td><td>NR</td><td>NR</td><td>4.016599</td><td>2.624886</td><td>5.425452</td><td>5.854937</td><td>-0.09321238</td><td>⋯</td><td>12.88664</td><td>6.181010</td><td> 0.2240172</td><td>-1.308374</td><td>2.275213</td><td>0.9162907</td><td>-2.780621</td><td>0.67396436</td><td>3.567305</td><td>-3.381395</td></tr>\n",
       "\t<tr><th scope=row>AS_2</th><td> 7</td><td>2</td><td>AS</td><td>R </td><td>NR</td><td>3.521909</td><td>2.200774</td><td>4.660889</td><td>5.032873</td><td>-0.80968100</td><td>⋯</td><td>14.78249</td><td>5.796301</td><td>-0.3150657</td><td>-2.002275</td><td>2.511259</td><td>4.5261270</td><td>-2.995732</td><td>1.11054086</td><td>3.161924</td><td>-2.900422</td></tr>\n",
       "\t<tr><th scope=row>AS_3</th><td>11</td><td>3</td><td>AS</td><td>NR</td><td>R </td><td>3.397557</td><td>2.308567</td><td>5.364559</td><td>5.439331</td><td>-1.29462717</td><td>⋯</td><td>14.73579</td><td>6.799647</td><td>-0.4787741</td><td>-2.604172</td><td>1.920995</td><td>3.8046605</td><td>-3.352407</td><td>0.01882175</td><td>2.080441</td><td>-3.270169</td></tr>\n",
       "\t<tr><th scope=row>AS_4</th><td>13</td><td>4</td><td>AS</td><td>R </td><td>NR</td><td>3.791662</td><td>2.739613</td><td>4.473682</td><td>5.323537</td><td>-1.21402314</td><td>⋯</td><td>15.04515</td><td>6.876099</td><td>-0.1156844</td><td>-2.156346</td><td>2.499970</td><td>4.0324692</td><td>-4.342806</td><td>0.57773633</td><td>2.730659</td><td>-3.381395</td></tr>\n",
       "\t<tr><th scope=row>AS_5</th><td>15</td><td>5</td><td>AS</td><td>R </td><td>NR</td><td>3.691651</td><td>3.202381</td><td>5.019000</td><td>5.682021</td><td>-0.79407310</td><td>⋯</td><td>16.00493</td><td>7.754306</td><td>-0.9899529</td><td>-2.283776</td><td>2.861146</td><td>4.4531838</td><td>-3.352407</td><td>0.83768033</td><td>2.990921</td><td>-3.473768</td></tr>\n",
       "\t<tr><th scope=row>AS_6</th><td>16</td><td>6</td><td>AS</td><td>NR</td><td>NR</td><td>4.373099</td><td>2.815768</td><td>5.303046</td><td>5.369549</td><td>-0.64817381</td><td>⋯</td><td>12.91164</td><td>4.813890</td><td> 0.0047056</td><td>-3.569498</td><td>2.945379</td><td>3.7658405</td><td>-2.847312</td><td>1.19361939</td><td>2.977823</td><td>-3.324236</td></tr>\n",
       "</tbody>\n",
       "</table>\n"
      ],
      "text/latex": [
       "A data.frame: 6 × 71\n",
       "\\begin{tabular}{r|lllllllllllllllllllll}\n",
       "  & Original\\_Subject\\_No & Subject\\_No & Disease\\_Status & Inflammatory\\_Responder & Lung\\_Responder & 24OH\\_Chol & 25OH\\_Chol & 25OH\\_VitD & 27OH\\_Chol & 7DHC & ⋯ & TCC & TCC\\_Weight & TNFa & TNFb & VEGF & Viability & Zym & Zyme & bEP\\_Chol & dHLan\\\\\n",
       "  & <dbl> & <dbl> & <chr> & <chr> & <chr> & <dbl> & <dbl> & <dbl> & <dbl> & <dbl> & ⋯ & <dbl> & <dbl> & <dbl> & <dbl> & <dbl> & <dbl> & <dbl> & <dbl> & <dbl> & <dbl>\\\\\n",
       "\\hline\n",
       "\tAS\\_1 &  4 & 1 & AS & NR & NR & 4.016599 & 2.624886 & 5.425452 & 5.854937 & -0.09321238 & ⋯ & 12.88664 & 6.181010 &  0.2240172 & -1.308374 & 2.275213 & 0.9162907 & -2.780621 & 0.67396436 & 3.567305 & -3.381395\\\\\n",
       "\tAS\\_2 &  7 & 2 & AS & R  & NR & 3.521909 & 2.200774 & 4.660889 & 5.032873 & -0.80968100 & ⋯ & 14.78249 & 5.796301 & -0.3150657 & -2.002275 & 2.511259 & 4.5261270 & -2.995732 & 1.11054086 & 3.161924 & -2.900422\\\\\n",
       "\tAS\\_3 & 11 & 3 & AS & NR & R  & 3.397557 & 2.308567 & 5.364559 & 5.439331 & -1.29462717 & ⋯ & 14.73579 & 6.799647 & -0.4787741 & -2.604172 & 1.920995 & 3.8046605 & -3.352407 & 0.01882175 & 2.080441 & -3.270169\\\\\n",
       "\tAS\\_4 & 13 & 4 & AS & R  & NR & 3.791662 & 2.739613 & 4.473682 & 5.323537 & -1.21402314 & ⋯ & 15.04515 & 6.876099 & -0.1156844 & -2.156346 & 2.499970 & 4.0324692 & -4.342806 & 0.57773633 & 2.730659 & -3.381395\\\\\n",
       "\tAS\\_5 & 15 & 5 & AS & R  & NR & 3.691651 & 3.202381 & 5.019000 & 5.682021 & -0.79407310 & ⋯ & 16.00493 & 7.754306 & -0.9899529 & -2.283776 & 2.861146 & 4.4531838 & -3.352407 & 0.83768033 & 2.990921 & -3.473768\\\\\n",
       "\tAS\\_6 & 16 & 6 & AS & NR & NR & 4.373099 & 2.815768 & 5.303046 & 5.369549 & -0.64817381 & ⋯ & 12.91164 & 4.813890 &  0.0047056 & -3.569498 & 2.945379 & 3.7658405 & -2.847312 & 1.19361939 & 2.977823 & -3.324236\\\\\n",
       "\\end{tabular}\n"
      ],
      "text/markdown": [
       "\n",
       "A data.frame: 6 × 71\n",
       "\n",
       "| <!--/--> | Original_Subject_No &lt;dbl&gt; | Subject_No &lt;dbl&gt; | Disease_Status &lt;chr&gt; | Inflammatory_Responder &lt;chr&gt; | Lung_Responder &lt;chr&gt; | 24OH_Chol &lt;dbl&gt; | 25OH_Chol &lt;dbl&gt; | 25OH_VitD &lt;dbl&gt; | 27OH_Chol &lt;dbl&gt; | 7DHC &lt;dbl&gt; | ⋯ ⋯ | TCC &lt;dbl&gt; | TCC_Weight &lt;dbl&gt; | TNFa &lt;dbl&gt; | TNFb &lt;dbl&gt; | VEGF &lt;dbl&gt; | Viability &lt;dbl&gt; | Zym &lt;dbl&gt; | Zyme &lt;dbl&gt; | bEP_Chol &lt;dbl&gt; | dHLan &lt;dbl&gt; |\n",
       "|---|---|---|---|---|---|---|---|---|---|---|---|---|---|---|---|---|---|---|---|---|---|\n",
       "| AS_1 |  4 | 1 | AS | NR | NR | 4.016599 | 2.624886 | 5.425452 | 5.854937 | -0.09321238 | ⋯ | 12.88664 | 6.181010 |  0.2240172 | -1.308374 | 2.275213 | 0.9162907 | -2.780621 | 0.67396436 | 3.567305 | -3.381395 |\n",
       "| AS_2 |  7 | 2 | AS | R  | NR | 3.521909 | 2.200774 | 4.660889 | 5.032873 | -0.80968100 | ⋯ | 14.78249 | 5.796301 | -0.3150657 | -2.002275 | 2.511259 | 4.5261270 | -2.995732 | 1.11054086 | 3.161924 | -2.900422 |\n",
       "| AS_3 | 11 | 3 | AS | NR | R  | 3.397557 | 2.308567 | 5.364559 | 5.439331 | -1.29462717 | ⋯ | 14.73579 | 6.799647 | -0.4787741 | -2.604172 | 1.920995 | 3.8046605 | -3.352407 | 0.01882175 | 2.080441 | -3.270169 |\n",
       "| AS_4 | 13 | 4 | AS | R  | NR | 3.791662 | 2.739613 | 4.473682 | 5.323537 | -1.21402314 | ⋯ | 15.04515 | 6.876099 | -0.1156844 | -2.156346 | 2.499970 | 4.0324692 | -4.342806 | 0.57773633 | 2.730659 | -3.381395 |\n",
       "| AS_5 | 15 | 5 | AS | R  | NR | 3.691651 | 3.202381 | 5.019000 | 5.682021 | -0.79407310 | ⋯ | 16.00493 | 7.754306 | -0.9899529 | -2.283776 | 2.861146 | 4.4531838 | -3.352407 | 0.83768033 | 2.990921 | -3.473768 |\n",
       "| AS_6 | 16 | 6 | AS | NR | NR | 4.373099 | 2.815768 | 5.303046 | 5.369549 | -0.64817381 | ⋯ | 12.91164 | 4.813890 |  0.0047056 | -3.569498 | 2.945379 | 3.7658405 | -2.847312 | 1.19361939 | 2.977823 | -3.324236 |\n",
       "\n"
      ],
      "text/plain": [
       "     Original_Subject_No Subject_No Disease_Status Inflammatory_Responder\n",
       "AS_1  4                  1          AS             NR                    \n",
       "AS_2  7                  2          AS             R                     \n",
       "AS_3 11                  3          AS             NR                    \n",
       "AS_4 13                  4          AS             R                     \n",
       "AS_5 15                  5          AS             R                     \n",
       "AS_6 16                  6          AS             NR                    \n",
       "     Lung_Responder 24OH_Chol 25OH_Chol 25OH_VitD 27OH_Chol 7DHC        ⋯\n",
       "AS_1 NR             4.016599  2.624886  5.425452  5.854937  -0.09321238 ⋯\n",
       "AS_2 NR             3.521909  2.200774  4.660889  5.032873  -0.80968100 ⋯\n",
       "AS_3 R              3.397557  2.308567  5.364559  5.439331  -1.29462717 ⋯\n",
       "AS_4 NR             3.791662  2.739613  4.473682  5.323537  -1.21402314 ⋯\n",
       "AS_5 NR             3.691651  3.202381  5.019000  5.682021  -0.79407310 ⋯\n",
       "AS_6 NR             4.373099  2.815768  5.303046  5.369549  -0.64817381 ⋯\n",
       "     TCC      TCC_Weight TNFa       TNFb      VEGF     Viability Zym      \n",
       "AS_1 12.88664 6.181010    0.2240172 -1.308374 2.275213 0.9162907 -2.780621\n",
       "AS_2 14.78249 5.796301   -0.3150657 -2.002275 2.511259 4.5261270 -2.995732\n",
       "AS_3 14.73579 6.799647   -0.4787741 -2.604172 1.920995 3.8046605 -3.352407\n",
       "AS_4 15.04515 6.876099   -0.1156844 -2.156346 2.499970 4.0324692 -4.342806\n",
       "AS_5 16.00493 7.754306   -0.9899529 -2.283776 2.861146 4.4531838 -3.352407\n",
       "AS_6 12.91164 4.813890    0.0047056 -3.569498 2.945379 3.7658405 -2.847312\n",
       "     Zyme       bEP_Chol dHLan    \n",
       "AS_1 0.67396436 3.567305 -3.381395\n",
       "AS_2 1.11054086 3.161924 -2.900422\n",
       "AS_3 0.01882175 2.080441 -3.270169\n",
       "AS_4 0.57773633 2.730659 -3.381395\n",
       "AS_5 0.83768033 2.990921 -3.473768\n",
       "AS_6 1.19361939 2.977823 -3.324236"
      ]
     },
     "metadata": {},
     "output_type": "display_data"
    }
   ],
   "source": [
    "wider_post_plasma_df = post_plasma_df %>%\n",
    "    select(-Value, -Time_Point, -Sample_Type, -Category) %>%\n",
    "    pivot_wider(names_from = Variable, values_from = Value_log) %>%\n",
    "    column_to_rownames(var = \"Subject_ID\") \n",
    "head(wider_post_plasma_df)"
   ]
  },
  {
   "cell_type": "code",
   "execution_count": 65,
   "id": "written-reward",
   "metadata": {},
   "outputs": [
    {
     "ename": "ERROR",
     "evalue": "Error in lm.fit(x, y, offset = offset, singular.ok = singular.ok, ...): NA/NaN/Inf in 'y'\n",
     "output_type": "error",
     "traceback": [
      "Error in lm.fit(x, y, offset = offset, singular.ok = singular.ok, ...): NA/NaN/Inf in 'y'\nTraceback:\n",
      "1. impute.QRILC(wider_post_plasma_df[, 6:71])",
      "2. lm(q.curr.sample ~ q.normal)",
      "3. lm.fit(x, y, offset = offset, singular.ok = singular.ok, ...)"
     ]
    }
   ],
   "source": [
    "impute.QRILC(wider_post_plasma_df[,6:71])"
   ]
  },
  {
   "cell_type": "markdown",
   "id": "official-regression",
   "metadata": {},
   "source": [
    "--------------------------------------------------------"
   ]
  },
  {
   "cell_type": "code",
   "execution_count": null,
   "id": "compliant-insurance",
   "metadata": {},
   "outputs": [],
   "source": []
  }
 ],
 "metadata": {
  "kernelspec": {
   "display_name": "R",
   "language": "R",
   "name": "ir"
  },
  "language_info": {
   "codemirror_mode": "r",
   "file_extension": ".r",
   "mimetype": "text/x-r-source",
   "name": "R",
   "pygments_lexer": "r",
   "version": "3.6.3"
  }
 },
 "nbformat": 4,
 "nbformat_minor": 5
}
