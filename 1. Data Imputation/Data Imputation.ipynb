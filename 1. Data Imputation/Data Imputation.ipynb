{
 "cells": [
  {
   "cell_type": "code",
   "execution_count": 1,
   "id": "contained-dominant",
   "metadata": {},
   "outputs": [],
   "source": [
    "#had a lot of issues trying to install the \"imputeLCMD\" package, so this was how I did it\n",
    "# if (!requireNamespace(\"BiocManager\", quietly = TRUE))\n",
    "#     install.packages(\"BiocManager\")\n",
    "\n",
    "# BiocManager::install(c(\"impute\", \"pcaMethods\"))\n",
    "\n",
    "# install.packages(\"imputeLCMD\")"
   ]
  },
  {
   "cell_type": "code",
   "execution_count": 2,
   "id": "listed-response",
   "metadata": {},
   "outputs": [
    {
     "name": "stderr",
     "output_type": "stream",
     "text": [
      "Loading required package: randomForest\n",
      "\n",
      "randomForest 4.7-1\n",
      "\n",
      "Type rfNews() to see new features/changes/bug fixes.\n",
      "\n",
      "Loading required package: foreach\n",
      "\n",
      "Loading required package: itertools\n",
      "\n",
      "Loading required package: iterators\n",
      "\n",
      "Loading required package: tmvtnorm\n",
      "\n",
      "Loading required package: mvtnorm\n",
      "\n",
      "Loading required package: Matrix\n",
      "\n",
      "Loading required package: stats4\n",
      "\n",
      "Loading required package: gmm\n",
      "\n",
      "Loading required package: sandwich\n",
      "\n",
      "Loading required package: norm\n",
      "\n",
      "Loading required package: pcaMethods\n",
      "\n",
      "Loading required package: Biobase\n",
      "\n",
      "Loading required package: BiocGenerics\n",
      "\n",
      "\n",
      "Attaching package: ‘BiocGenerics’\n",
      "\n",
      "\n",
      "The following object is masked from ‘package:randomForest’:\n",
      "\n",
      "    combine\n",
      "\n",
      "\n",
      "The following objects are masked from ‘package:stats’:\n",
      "\n",
      "    IQR, mad, sd, var, xtabs\n",
      "\n",
      "\n",
      "The following objects are masked from ‘package:base’:\n",
      "\n",
      "    Filter, Find, Map, Position, Reduce, anyDuplicated, append,\n",
      "    as.data.frame, basename, cbind, colnames, dirname, do.call,\n",
      "    duplicated, eval, evalq, get, grep, grepl, intersect, is.unsorted,\n",
      "    lapply, mapply, match, mget, order, paste, pmax, pmax.int, pmin,\n",
      "    pmin.int, rank, rbind, rownames, sapply, setdiff, sort, table,\n",
      "    tapply, union, unique, unsplit, which.max, which.min\n",
      "\n",
      "\n",
      "Welcome to Bioconductor\n",
      "\n",
      "    Vignettes contain introductory material; view with\n",
      "    'browseVignettes()'. To cite Bioconductor, see\n",
      "    'citation(\"Biobase\")', and for packages 'citation(\"pkgname\")'.\n",
      "\n",
      "\n",
      "\n",
      "Attaching package: ‘pcaMethods’\n",
      "\n",
      "\n",
      "The following object is masked from ‘package:stats’:\n",
      "\n",
      "    loadings\n",
      "\n",
      "\n",
      "Loading required package: impute\n",
      "\n",
      "── \u001b[1mAttaching packages\u001b[22m ─────────────────────────────────────── tidyverse 1.3.1 ──\n",
      "\n",
      "\u001b[32m✔\u001b[39m \u001b[34mggplot2\u001b[39m 3.3.5     \u001b[32m✔\u001b[39m \u001b[34mpurrr  \u001b[39m 0.3.4\n",
      "\u001b[32m✔\u001b[39m \u001b[34mtibble \u001b[39m 3.1.6     \u001b[32m✔\u001b[39m \u001b[34mdplyr  \u001b[39m 1.0.8\n",
      "\u001b[32m✔\u001b[39m \u001b[34mtidyr  \u001b[39m 1.2.0     \u001b[32m✔\u001b[39m \u001b[34mstringr\u001b[39m 1.4.0\n",
      "\u001b[32m✔\u001b[39m \u001b[34mreadr  \u001b[39m 2.1.2     \u001b[32m✔\u001b[39m \u001b[34mforcats\u001b[39m 0.5.1\n",
      "\n",
      "── \u001b[1mConflicts\u001b[22m ────────────────────────────────────────── tidyverse_conflicts() ──\n",
      "\u001b[31m✖\u001b[39m \u001b[34mggplot2\u001b[39m::\u001b[32mPosition()\u001b[39m masks \u001b[34mBiocGenerics\u001b[39m::Position(), \u001b[34mbase\u001b[39m::Position()\n",
      "\u001b[31m✖\u001b[39m \u001b[34mpurrr\u001b[39m::\u001b[32maccumulate()\u001b[39m masks \u001b[34mforeach\u001b[39m::accumulate()\n",
      "\u001b[31m✖\u001b[39m \u001b[34mdplyr\u001b[39m::\u001b[32mcombine()\u001b[39m    masks \u001b[34mBiobase\u001b[39m::combine(), \u001b[34mBiocGenerics\u001b[39m::combine(), \u001b[34mrandomForest\u001b[39m::combine()\n",
      "\u001b[31m✖\u001b[39m \u001b[34mtidyr\u001b[39m::\u001b[32mexpand()\u001b[39m     masks \u001b[34mMatrix\u001b[39m::expand()\n",
      "\u001b[31m✖\u001b[39m \u001b[34mdplyr\u001b[39m::\u001b[32mfilter()\u001b[39m     masks \u001b[34mstats\u001b[39m::filter()\n",
      "\u001b[31m✖\u001b[39m \u001b[34mdplyr\u001b[39m::\u001b[32mlag()\u001b[39m        masks \u001b[34mstats\u001b[39m::lag()\n",
      "\u001b[31m✖\u001b[39m \u001b[34mggplot2\u001b[39m::\u001b[32mmargin()\u001b[39m   masks \u001b[34mrandomForest\u001b[39m::margin()\n",
      "\u001b[31m✖\u001b[39m \u001b[34mtidyr\u001b[39m::\u001b[32mpack()\u001b[39m       masks \u001b[34mMatrix\u001b[39m::pack()\n",
      "\u001b[31m✖\u001b[39m \u001b[34mtidyr\u001b[39m::\u001b[32munpack()\u001b[39m     masks \u001b[34mMatrix\u001b[39m::unpack()\n",
      "\u001b[31m✖\u001b[39m \u001b[34mpurrr\u001b[39m::\u001b[32mwhen()\u001b[39m       masks \u001b[34mforeach\u001b[39m::when()\n",
      "\n"
     ]
    }
   ],
   "source": [
    "setwd(\"/Users/alexis/Library/CloudStorage/OneDrive-UniversityofNorthCarolinaatChapelHill/CEMALB_DataAnalysisPM/Projects/P1003. Ozone Sterols Healthy Asthma/P1003.3. Analyses/P1003.3.1. Data Imputation/Input\")\n",
    "Output = ('/Users/alexis/Library/CloudStorage/OneDrive-UniversityofNorthCarolinaatChapelHill/CEMALB_DataAnalysisPM/Projects/P1003. Ozone Sterols Healthy Asthma/P1003.3. Analyses/P1003.3.1. Data Imputation/Output')\n",
    "cur_date = \"042522\"\n",
    "\n",
    "library(missForest)\n",
    "library(imputeLCMD)\n",
    "library(readxl)\n",
    "library(tidyverse)\n",
    "library(tmvtnorm)\n",
    "\n",
    "#reading in files\n",
    "ozone_data = data.frame(read_excel(\"Ozone_Sterol_Asthma_data_011822.xlsx\", sheet = 2)) "
   ]
  },
  {
   "cell_type": "markdown",
   "id": "textile-short",
   "metadata": {},
   "source": [
    "Goal is to generate (impute) values for missing data. Given that this dataset contains various categories (ie. cell differentials, cytokines) a different method will be employed for each.\n",
    "\n",
    "> Lung Function Data: Random Forest (RF)\n",
    "\n",
    "> Soluble Mediators (everything else): Quantile Regression Imputation of Left-Censored Data (QRILC)\n",
    "\n",
    "**Also make note of subjects/ variables with missing data."
   ]
  },
  {
   "cell_type": "code",
   "execution_count": 3,
   "id": "respected-norwegian",
   "metadata": {},
   "outputs": [
    {
     "data": {
      "text/html": [
       "<table class=\"dataframe\">\n",
       "<caption>A data.frame: 6 × 11</caption>\n",
       "<thead>\n",
       "\t<tr><th></th><th scope=col>Original_Subject_No</th><th scope=col>Subject_No</th><th scope=col>Subject_ID</th><th scope=col>Disease_Status</th><th scope=col>Sample_Type</th><th scope=col>Time_Point</th><th scope=col>Inflammatory_Responder</th><th scope=col>Lung_Responder</th><th scope=col>Category</th><th scope=col>Variable</th><th scope=col>Value</th></tr>\n",
       "\t<tr><th></th><th scope=col>&lt;dbl&gt;</th><th scope=col>&lt;dbl&gt;</th><th scope=col>&lt;chr&gt;</th><th scope=col>&lt;chr&gt;</th><th scope=col>&lt;chr&gt;</th><th scope=col>&lt;chr&gt;</th><th scope=col>&lt;chr&gt;</th><th scope=col>&lt;chr&gt;</th><th scope=col>&lt;chr&gt;</th><th scope=col>&lt;chr&gt;</th><th scope=col>&lt;chr&gt;</th></tr>\n",
       "</thead>\n",
       "<tbody>\n",
       "\t<tr><th scope=row>1</th><td>4</td><td>1</td><td>AS_1</td><td>AS</td><td>A</td><td>Post</td><td>NR</td><td>NR</td><td>Lung_Function</td><td>FEV1</td><td>4.3899999999999899</td></tr>\n",
       "\t<tr><th scope=row>2</th><td>4</td><td>1</td><td>AS_1</td><td>AS</td><td>A</td><td>Pre </td><td>NR</td><td>NR</td><td>Lung_Function</td><td>FEV1</td><td>4.5999999999999899</td></tr>\n",
       "\t<tr><th scope=row>3</th><td>4</td><td>1</td><td>AS_1</td><td>AS</td><td>A</td><td>Post</td><td>NR</td><td>NR</td><td>Lung_Function</td><td>FEV1</td><td>4.3899999999999899</td></tr>\n",
       "\t<tr><th scope=row>4</th><td>4</td><td>1</td><td>AS_1</td><td>AS</td><td>A</td><td>Pre </td><td>NR</td><td>NR</td><td>Lung_Function</td><td>FEV1</td><td>NA                </td></tr>\n",
       "\t<tr><th scope=row>5</th><td>7</td><td>2</td><td>AS_2</td><td>AS</td><td>A</td><td>Post</td><td>R </td><td>NR</td><td>Lung_Function</td><td>FEV1</td><td>2.96              </td></tr>\n",
       "\t<tr><th scope=row>6</th><td>7</td><td>2</td><td>AS_2</td><td>AS</td><td>A</td><td>Pre </td><td>R </td><td>NR</td><td>Lung_Function</td><td>FEV1</td><td>3.08              </td></tr>\n",
       "</tbody>\n",
       "</table>\n"
      ],
      "text/latex": [
       "A data.frame: 6 × 11\n",
       "\\begin{tabular}{r|lllllllllll}\n",
       "  & Original\\_Subject\\_No & Subject\\_No & Subject\\_ID & Disease\\_Status & Sample\\_Type & Time\\_Point & Inflammatory\\_Responder & Lung\\_Responder & Category & Variable & Value\\\\\n",
       "  & <dbl> & <dbl> & <chr> & <chr> & <chr> & <chr> & <chr> & <chr> & <chr> & <chr> & <chr>\\\\\n",
       "\\hline\n",
       "\t1 & 4 & 1 & AS\\_1 & AS & A & Post & NR & NR & Lung\\_Function & FEV1 & 4.3899999999999899\\\\\n",
       "\t2 & 4 & 1 & AS\\_1 & AS & A & Pre  & NR & NR & Lung\\_Function & FEV1 & 4.5999999999999899\\\\\n",
       "\t3 & 4 & 1 & AS\\_1 & AS & A & Post & NR & NR & Lung\\_Function & FEV1 & 4.3899999999999899\\\\\n",
       "\t4 & 4 & 1 & AS\\_1 & AS & A & Pre  & NR & NR & Lung\\_Function & FEV1 & NA                \\\\\n",
       "\t5 & 7 & 2 & AS\\_2 & AS & A & Post & R  & NR & Lung\\_Function & FEV1 & 2.96              \\\\\n",
       "\t6 & 7 & 2 & AS\\_2 & AS & A & Pre  & R  & NR & Lung\\_Function & FEV1 & 3.08              \\\\\n",
       "\\end{tabular}\n"
      ],
      "text/markdown": [
       "\n",
       "A data.frame: 6 × 11\n",
       "\n",
       "| <!--/--> | Original_Subject_No &lt;dbl&gt; | Subject_No &lt;dbl&gt; | Subject_ID &lt;chr&gt; | Disease_Status &lt;chr&gt; | Sample_Type &lt;chr&gt; | Time_Point &lt;chr&gt; | Inflammatory_Responder &lt;chr&gt; | Lung_Responder &lt;chr&gt; | Category &lt;chr&gt; | Variable &lt;chr&gt; | Value &lt;chr&gt; |\n",
       "|---|---|---|---|---|---|---|---|---|---|---|---|\n",
       "| 1 | 4 | 1 | AS_1 | AS | A | Post | NR | NR | Lung_Function | FEV1 | 4.3899999999999899 |\n",
       "| 2 | 4 | 1 | AS_1 | AS | A | Pre  | NR | NR | Lung_Function | FEV1 | 4.5999999999999899 |\n",
       "| 3 | 4 | 1 | AS_1 | AS | A | Post | NR | NR | Lung_Function | FEV1 | 4.3899999999999899 |\n",
       "| 4 | 4 | 1 | AS_1 | AS | A | Pre  | NR | NR | Lung_Function | FEV1 | NA                 |\n",
       "| 5 | 7 | 2 | AS_2 | AS | A | Post | R  | NR | Lung_Function | FEV1 | 2.96               |\n",
       "| 6 | 7 | 2 | AS_2 | AS | A | Pre  | R  | NR | Lung_Function | FEV1 | 3.08               |\n",
       "\n"
      ],
      "text/plain": [
       "  Original_Subject_No Subject_No Subject_ID Disease_Status Sample_Type\n",
       "1 4                   1          AS_1       AS             A          \n",
       "2 4                   1          AS_1       AS             A          \n",
       "3 4                   1          AS_1       AS             A          \n",
       "4 4                   1          AS_1       AS             A          \n",
       "5 7                   2          AS_2       AS             A          \n",
       "6 7                   2          AS_2       AS             A          \n",
       "  Time_Point Inflammatory_Responder Lung_Responder Category      Variable\n",
       "1 Post       NR                     NR             Lung_Function FEV1    \n",
       "2 Pre        NR                     NR             Lung_Function FEV1    \n",
       "3 Post       NR                     NR             Lung_Function FEV1    \n",
       "4 Pre        NR                     NR             Lung_Function FEV1    \n",
       "5 Post       R                      NR             Lung_Function FEV1    \n",
       "6 Pre        R                      NR             Lung_Function FEV1    \n",
       "  Value             \n",
       "1 4.3899999999999899\n",
       "2 4.5999999999999899\n",
       "3 4.3899999999999899\n",
       "4 NA                \n",
       "5 2.96              \n",
       "6 3.08              "
      ]
     },
     "metadata": {},
     "output_type": "display_data"
    }
   ],
   "source": [
    "head(ozone_data)"
   ]
  },
  {
   "cell_type": "code",
   "execution_count": 4,
   "id": "modern-entrance",
   "metadata": {},
   "outputs": [
    {
     "name": "stderr",
     "output_type": "stream",
     "text": [
      "\u001b[1m\u001b[22m`summarise()` has grouped output by 'Category', 'Sample_Type', 'Time_Point'.\n",
      "You can override using the `.groups` argument.\n"
     ]
    },
    {
     "data": {
      "text/html": [
       "<table class=\"dataframe\">\n",
       "<caption>A grouped_df: 6 × 5</caption>\n",
       "<thead>\n",
       "\t<tr><th scope=col>Category</th><th scope=col>Sample_Type</th><th scope=col>Time_Point</th><th scope=col>Subject_ID</th><th scope=col>Subject_Presence_Percentage</th></tr>\n",
       "\t<tr><th scope=col>&lt;chr&gt;</th><th scope=col>&lt;chr&gt;</th><th scope=col>&lt;chr&gt;</th><th scope=col>&lt;chr&gt;</th><th scope=col>&lt;dbl&gt;</th></tr>\n",
       "</thead>\n",
       "<tbody>\n",
       "\t<tr><td>Cytokine</td><td>S</td><td>Pre </td><td>AS_3 </td><td> 0.00000</td></tr>\n",
       "\t<tr><td>Sterol  </td><td>S</td><td>Pre </td><td>AS_3 </td><td> 0.00000</td></tr>\n",
       "\t<tr><td>Cytokine</td><td>P</td><td>Post</td><td>AS_1 </td><td>96.77419</td></tr>\n",
       "\t<tr><td>Cytokine</td><td>P</td><td>Post</td><td>AS_10</td><td>96.77419</td></tr>\n",
       "\t<tr><td>Cytokine</td><td>P</td><td>Post</td><td>AS_11</td><td>96.77419</td></tr>\n",
       "\t<tr><td>Cytokine</td><td>P</td><td>Post</td><td>AS_12</td><td>96.77419</td></tr>\n",
       "</tbody>\n",
       "</table>\n"
      ],
      "text/latex": [
       "A grouped\\_df: 6 × 5\n",
       "\\begin{tabular}{lllll}\n",
       " Category & Sample\\_Type & Time\\_Point & Subject\\_ID & Subject\\_Presence\\_Percentage\\\\\n",
       " <chr> & <chr> & <chr> & <chr> & <dbl>\\\\\n",
       "\\hline\n",
       "\t Cytokine & S & Pre  & AS\\_3  &  0.00000\\\\\n",
       "\t Sterol   & S & Pre  & AS\\_3  &  0.00000\\\\\n",
       "\t Cytokine & P & Post & AS\\_1  & 96.77419\\\\\n",
       "\t Cytokine & P & Post & AS\\_10 & 96.77419\\\\\n",
       "\t Cytokine & P & Post & AS\\_11 & 96.77419\\\\\n",
       "\t Cytokine & P & Post & AS\\_12 & 96.77419\\\\\n",
       "\\end{tabular}\n"
      ],
      "text/markdown": [
       "\n",
       "A grouped_df: 6 × 5\n",
       "\n",
       "| Category &lt;chr&gt; | Sample_Type &lt;chr&gt; | Time_Point &lt;chr&gt; | Subject_ID &lt;chr&gt; | Subject_Presence_Percentage &lt;dbl&gt; |\n",
       "|---|---|---|---|---|\n",
       "| Cytokine | S | Pre  | AS_3  |  0.00000 |\n",
       "| Sterol   | S | Pre  | AS_3  |  0.00000 |\n",
       "| Cytokine | P | Post | AS_1  | 96.77419 |\n",
       "| Cytokine | P | Post | AS_10 | 96.77419 |\n",
       "| Cytokine | P | Post | AS_11 | 96.77419 |\n",
       "| Cytokine | P | Post | AS_12 | 96.77419 |\n",
       "\n"
      ],
      "text/plain": [
       "  Category Sample_Type Time_Point Subject_ID Subject_Presence_Percentage\n",
       "1 Cytokine S           Pre        AS_3        0.00000                   \n",
       "2 Sterol   S           Pre        AS_3        0.00000                   \n",
       "3 Cytokine P           Post       AS_1       96.77419                   \n",
       "4 Cytokine P           Post       AS_10      96.77419                   \n",
       "5 Cytokine P           Post       AS_11      96.77419                   \n",
       "6 Cytokine P           Post       AS_12      96.77419                   "
      ]
     },
     "metadata": {},
     "output_type": "display_data"
    }
   ],
   "source": [
    "#determing what subjects have missing data for all variables delinated based on the dfs the data will be split into\n",
    "subject_presence_df = ozone_data %>%\n",
    "    mutate(count = ifelse(Value != \"NA\", 1, 0)) %>%\n",
    "    group_by(Category, Sample_Type, Time_Point, Subject_ID) %>%\n",
    "    summarize(Subject_Presence_Percentage = sum(count)/ length(unique(Variable)) * 100) %>%\n",
    "    arrange(Subject_Presence_Percentage)\n",
    "head(subject_presence_df)"
   ]
  },
  {
   "cell_type": "code",
   "execution_count": 5,
   "id": "moved-cooperative",
   "metadata": {},
   "outputs": [
    {
     "name": "stderr",
     "output_type": "stream",
     "text": [
      "\u001b[1m\u001b[22m`summarise()` has grouped output by 'Sample_Type', 'Time_Point'. You can\n",
      "override using the `.groups` argument.\n"
     ]
    },
    {
     "data": {
      "text/html": [
       "<table class=\"dataframe\">\n",
       "<caption>A grouped_df: 6 × 4</caption>\n",
       "<thead>\n",
       "\t<tr><th scope=col>Sample_Type</th><th scope=col>Time_Point</th><th scope=col>Variable</th><th scope=col>Variable_Presence_Percentage</th></tr>\n",
       "\t<tr><th scope=col>&lt;chr&gt;</th><th scope=col>&lt;chr&gt;</th><th scope=col>&lt;chr&gt;</th><th scope=col>&lt;dbl&gt;</th></tr>\n",
       "</thead>\n",
       "<tbody>\n",
       "\t<tr><td>P</td><td>Post</td><td>Utero    </td><td> 0.00000</td></tr>\n",
       "\t<tr><td>P</td><td>Pre </td><td>Utero    </td><td> 0.00000</td></tr>\n",
       "\t<tr><td>S</td><td>Post</td><td>MPO      </td><td>87.50000</td></tr>\n",
       "\t<tr><td>S</td><td>Pre </td><td>MPO      </td><td>87.50000</td></tr>\n",
       "\t<tr><td>S</td><td>Pre </td><td>24OH_Chol</td><td>95.83333</td></tr>\n",
       "\t<tr><td>S</td><td>Pre </td><td>25OH_Chol</td><td>95.83333</td></tr>\n",
       "</tbody>\n",
       "</table>\n"
      ],
      "text/latex": [
       "A grouped\\_df: 6 × 4\n",
       "\\begin{tabular}{llll}\n",
       " Sample\\_Type & Time\\_Point & Variable & Variable\\_Presence\\_Percentage\\\\\n",
       " <chr> & <chr> & <chr> & <dbl>\\\\\n",
       "\\hline\n",
       "\t P & Post & Utero     &  0.00000\\\\\n",
       "\t P & Pre  & Utero     &  0.00000\\\\\n",
       "\t S & Post & MPO       & 87.50000\\\\\n",
       "\t S & Pre  & MPO       & 87.50000\\\\\n",
       "\t S & Pre  & 24OH\\_Chol & 95.83333\\\\\n",
       "\t S & Pre  & 25OH\\_Chol & 95.83333\\\\\n",
       "\\end{tabular}\n"
      ],
      "text/markdown": [
       "\n",
       "A grouped_df: 6 × 4\n",
       "\n",
       "| Sample_Type &lt;chr&gt; | Time_Point &lt;chr&gt; | Variable &lt;chr&gt; | Variable_Presence_Percentage &lt;dbl&gt; |\n",
       "|---|---|---|---|\n",
       "| P | Post | Utero     |  0.00000 |\n",
       "| P | Pre  | Utero     |  0.00000 |\n",
       "| S | Post | MPO       | 87.50000 |\n",
       "| S | Pre  | MPO       | 87.50000 |\n",
       "| S | Pre  | 24OH_Chol | 95.83333 |\n",
       "| S | Pre  | 25OH_Chol | 95.83333 |\n",
       "\n"
      ],
      "text/plain": [
       "  Sample_Type Time_Point Variable  Variable_Presence_Percentage\n",
       "1 P           Post       Utero      0.00000                    \n",
       "2 P           Pre        Utero      0.00000                    \n",
       "3 S           Post       MPO       87.50000                    \n",
       "4 S           Pre        MPO       87.50000                    \n",
       "5 S           Pre        24OH_Chol 95.83333                    \n",
       "6 S           Pre        25OH_Chol 95.83333                    "
      ]
     },
     "metadata": {},
     "output_type": "display_data"
    }
   ],
   "source": [
    "#determining variables that have missing data for all variables delineated based on the dfs the data will be split into\n",
    "variable_presence_df = ozone_data %>%\n",
    "    mutate(count = ifelse(Value != \"NA\", 1, 0)) %>%\n",
    "    group_by(Sample_Type, Time_Point, Variable) %>%\n",
    "    #calculating the percentage of variables with data in all subjects\n",
    "    summarize(Variable_Presence_Percentage = sum(count)/ length(unique(Subject_ID)) * 100) %>%\n",
    "    arrange(Variable_Presence_Percentage)\n",
    "head(variable_presence_df)"
   ]
  },
  {
   "cell_type": "code",
   "execution_count": 6,
   "id": "otherwise-engine",
   "metadata": {},
   "outputs": [
    {
     "data": {
      "text/html": [
       "<table class=\"dataframe\">\n",
       "<caption>A data.frame: 6 × 11</caption>\n",
       "<thead>\n",
       "\t<tr><th></th><th scope=col>Original_Subject_No</th><th scope=col>Subject_No</th><th scope=col>Subject_ID</th><th scope=col>Disease_Status</th><th scope=col>Sample_Type</th><th scope=col>Time_Point</th><th scope=col>Inflammatory_Responder</th><th scope=col>Lung_Responder</th><th scope=col>Category</th><th scope=col>Variable</th><th scope=col>Value</th></tr>\n",
       "\t<tr><th></th><th scope=col>&lt;dbl&gt;</th><th scope=col>&lt;dbl&gt;</th><th scope=col>&lt;chr&gt;</th><th scope=col>&lt;chr&gt;</th><th scope=col>&lt;chr&gt;</th><th scope=col>&lt;chr&gt;</th><th scope=col>&lt;chr&gt;</th><th scope=col>&lt;chr&gt;</th><th scope=col>&lt;chr&gt;</th><th scope=col>&lt;chr&gt;</th><th scope=col>&lt;chr&gt;</th></tr>\n",
       "</thead>\n",
       "<tbody>\n",
       "\t<tr><th scope=row>1</th><td> 4</td><td>1</td><td>AS_1</td><td>AS</td><td>P</td><td>Post</td><td>NR</td><td>NR</td><td>Cytokine</td><td>Utero</td><td>NA</td></tr>\n",
       "\t<tr><th scope=row>2</th><td> 4</td><td>1</td><td>AS_1</td><td>AS</td><td>P</td><td>Pre </td><td>NR</td><td>NR</td><td>Cytokine</td><td>Utero</td><td>NA</td></tr>\n",
       "\t<tr><th scope=row>3</th><td> 7</td><td>2</td><td>AS_2</td><td>AS</td><td>P</td><td>Post</td><td>R </td><td>NR</td><td>Cytokine</td><td>Utero</td><td>NA</td></tr>\n",
       "\t<tr><th scope=row>4</th><td> 7</td><td>2</td><td>AS_2</td><td>AS</td><td>P</td><td>Pre </td><td>R </td><td>NR</td><td>Cytokine</td><td>Utero</td><td>NA</td></tr>\n",
       "\t<tr><th scope=row>5</th><td>11</td><td>3</td><td>AS_3</td><td>AS</td><td>P</td><td>Post</td><td>NR</td><td>R </td><td>Cytokine</td><td>Utero</td><td>NA</td></tr>\n",
       "\t<tr><th scope=row>6</th><td>11</td><td>3</td><td>AS_3</td><td>AS</td><td>P</td><td>Pre </td><td>NR</td><td>R </td><td>Cytokine</td><td>Utero</td><td>NA</td></tr>\n",
       "</tbody>\n",
       "</table>\n"
      ],
      "text/latex": [
       "A data.frame: 6 × 11\n",
       "\\begin{tabular}{r|lllllllllll}\n",
       "  & Original\\_Subject\\_No & Subject\\_No & Subject\\_ID & Disease\\_Status & Sample\\_Type & Time\\_Point & Inflammatory\\_Responder & Lung\\_Responder & Category & Variable & Value\\\\\n",
       "  & <dbl> & <dbl> & <chr> & <chr> & <chr> & <chr> & <chr> & <chr> & <chr> & <chr> & <chr>\\\\\n",
       "\\hline\n",
       "\t1 &  4 & 1 & AS\\_1 & AS & P & Post & NR & NR & Cytokine & Utero & NA\\\\\n",
       "\t2 &  4 & 1 & AS\\_1 & AS & P & Pre  & NR & NR & Cytokine & Utero & NA\\\\\n",
       "\t3 &  7 & 2 & AS\\_2 & AS & P & Post & R  & NR & Cytokine & Utero & NA\\\\\n",
       "\t4 &  7 & 2 & AS\\_2 & AS & P & Pre  & R  & NR & Cytokine & Utero & NA\\\\\n",
       "\t5 & 11 & 3 & AS\\_3 & AS & P & Post & NR & R  & Cytokine & Utero & NA\\\\\n",
       "\t6 & 11 & 3 & AS\\_3 & AS & P & Pre  & NR & R  & Cytokine & Utero & NA\\\\\n",
       "\\end{tabular}\n"
      ],
      "text/markdown": [
       "\n",
       "A data.frame: 6 × 11\n",
       "\n",
       "| <!--/--> | Original_Subject_No &lt;dbl&gt; | Subject_No &lt;dbl&gt; | Subject_ID &lt;chr&gt; | Disease_Status &lt;chr&gt; | Sample_Type &lt;chr&gt; | Time_Point &lt;chr&gt; | Inflammatory_Responder &lt;chr&gt; | Lung_Responder &lt;chr&gt; | Category &lt;chr&gt; | Variable &lt;chr&gt; | Value &lt;chr&gt; |\n",
       "|---|---|---|---|---|---|---|---|---|---|---|---|\n",
       "| 1 |  4 | 1 | AS_1 | AS | P | Post | NR | NR | Cytokine | Utero | NA |\n",
       "| 2 |  4 | 1 | AS_1 | AS | P | Pre  | NR | NR | Cytokine | Utero | NA |\n",
       "| 3 |  7 | 2 | AS_2 | AS | P | Post | R  | NR | Cytokine | Utero | NA |\n",
       "| 4 |  7 | 2 | AS_2 | AS | P | Pre  | R  | NR | Cytokine | Utero | NA |\n",
       "| 5 | 11 | 3 | AS_3 | AS | P | Post | NR | R  | Cytokine | Utero | NA |\n",
       "| 6 | 11 | 3 | AS_3 | AS | P | Pre  | NR | R  | Cytokine | Utero | NA |\n",
       "\n"
      ],
      "text/plain": [
       "  Original_Subject_No Subject_No Subject_ID Disease_Status Sample_Type\n",
       "1  4                  1          AS_1       AS             P          \n",
       "2  4                  1          AS_1       AS             P          \n",
       "3  7                  2          AS_2       AS             P          \n",
       "4  7                  2          AS_2       AS             P          \n",
       "5 11                  3          AS_3       AS             P          \n",
       "6 11                  3          AS_3       AS             P          \n",
       "  Time_Point Inflammatory_Responder Lung_Responder Category Variable Value\n",
       "1 Post       NR                     NR             Cytokine Utero    NA   \n",
       "2 Pre        NR                     NR             Cytokine Utero    NA   \n",
       "3 Post       R                      NR             Cytokine Utero    NA   \n",
       "4 Pre        R                      NR             Cytokine Utero    NA   \n",
       "5 Post       NR                     R              Cytokine Utero    NA   \n",
       "6 Pre        NR                     R              Cytokine Utero    NA   "
      ]
     },
     "metadata": {},
     "output_type": "display_data"
    }
   ],
   "source": [
    "#implementing background filter where a variable needs to be present in at least 25% of subjects\n",
    "#and where subject needs to have at least 25% of data for variables within a category/ time point/ sample\n",
    "variable1_to_remove_df = ozone_data %>%\n",
    "    filter(Sample_Type == \"P\" & Variable == \"Utero\")\n",
    "variable2_to_remove_df = ozone_data %>%\n",
    "    filter(Sample_Type == \"S\", Time_Point == \"Pre\", Category == \"Cytokine\", Subject_ID == \"AS_3\") \n",
    "variable3_to_remove_df = ozone_data %>%\n",
    "    filter(Sample_Type == \"S\", Time_Point == \"Pre\", Category == \"Sterol\", Subject_ID == \"AS_3\") \n",
    "variables_to_remove_df = rbind(variable1_to_remove_df, variable2_to_remove_df, variable3_to_remove_df)\n",
    "\n",
    "head(variables_to_remove_df)"
   ]
  },
  {
   "cell_type": "code",
   "execution_count": 7,
   "id": "ignored-sight",
   "metadata": {},
   "outputs": [
    {
     "name": "stderr",
     "output_type": "stream",
     "text": [
      "\u001b[1m\u001b[22mJoining, by = c(\"Original_Subject_No\", \"Subject_No\", \"Subject_ID\",\n",
      "\"Disease_Status\", \"Sample_Type\", \"Time_Point\", \"Inflammatory_Responder\",\n",
      "\"Lung_Responder\", \"Category\", \"Variable\", \"Value\")\n",
      "Warning message in ifelse(Value == \"NA\", NA, as.numeric(Value)):\n",
      "“NAs introduced by coercion”\n"
     ]
    },
    {
     "data": {
      "text/html": [
       "<table class=\"dataframe\">\n",
       "<caption>A data.frame: 6 × 11</caption>\n",
       "<thead>\n",
       "\t<tr><th></th><th scope=col>Original_Subject_No</th><th scope=col>Subject_No</th><th scope=col>Subject_ID</th><th scope=col>Disease_Status</th><th scope=col>Sample_Type</th><th scope=col>Time_Point</th><th scope=col>Inflammatory_Responder</th><th scope=col>Lung_Responder</th><th scope=col>Category</th><th scope=col>Variable</th><th scope=col>Value</th></tr>\n",
       "\t<tr><th></th><th scope=col>&lt;dbl&gt;</th><th scope=col>&lt;dbl&gt;</th><th scope=col>&lt;chr&gt;</th><th scope=col>&lt;chr&gt;</th><th scope=col>&lt;chr&gt;</th><th scope=col>&lt;chr&gt;</th><th scope=col>&lt;chr&gt;</th><th scope=col>&lt;chr&gt;</th><th scope=col>&lt;chr&gt;</th><th scope=col>&lt;chr&gt;</th><th scope=col>&lt;dbl&gt;</th></tr>\n",
       "</thead>\n",
       "<tbody>\n",
       "\t<tr><th scope=row>1</th><td>4</td><td>1</td><td>AS_1</td><td>AS</td><td>A</td><td>Post</td><td>NR</td><td>NR</td><td>Lung_Function</td><td>FEV1</td><td>4.39</td></tr>\n",
       "\t<tr><th scope=row>2</th><td>4</td><td>1</td><td>AS_1</td><td>AS</td><td>A</td><td>Pre </td><td>NR</td><td>NR</td><td>Lung_Function</td><td>FEV1</td><td>4.60</td></tr>\n",
       "\t<tr><th scope=row>3</th><td>4</td><td>1</td><td>AS_1</td><td>AS</td><td>A</td><td>Post</td><td>NR</td><td>NR</td><td>Lung_Function</td><td>FEV1</td><td>4.39</td></tr>\n",
       "\t<tr><th scope=row>4</th><td>4</td><td>1</td><td>AS_1</td><td>AS</td><td>A</td><td>Pre </td><td>NR</td><td>NR</td><td>Lung_Function</td><td>FEV1</td><td>  NA</td></tr>\n",
       "\t<tr><th scope=row>5</th><td>7</td><td>2</td><td>AS_2</td><td>AS</td><td>A</td><td>Post</td><td>R </td><td>NR</td><td>Lung_Function</td><td>FEV1</td><td>2.96</td></tr>\n",
       "\t<tr><th scope=row>6</th><td>7</td><td>2</td><td>AS_2</td><td>AS</td><td>A</td><td>Pre </td><td>R </td><td>NR</td><td>Lung_Function</td><td>FEV1</td><td>3.08</td></tr>\n",
       "</tbody>\n",
       "</table>\n"
      ],
      "text/latex": [
       "A data.frame: 6 × 11\n",
       "\\begin{tabular}{r|lllllllllll}\n",
       "  & Original\\_Subject\\_No & Subject\\_No & Subject\\_ID & Disease\\_Status & Sample\\_Type & Time\\_Point & Inflammatory\\_Responder & Lung\\_Responder & Category & Variable & Value\\\\\n",
       "  & <dbl> & <dbl> & <chr> & <chr> & <chr> & <chr> & <chr> & <chr> & <chr> & <chr> & <dbl>\\\\\n",
       "\\hline\n",
       "\t1 & 4 & 1 & AS\\_1 & AS & A & Post & NR & NR & Lung\\_Function & FEV1 & 4.39\\\\\n",
       "\t2 & 4 & 1 & AS\\_1 & AS & A & Pre  & NR & NR & Lung\\_Function & FEV1 & 4.60\\\\\n",
       "\t3 & 4 & 1 & AS\\_1 & AS & A & Post & NR & NR & Lung\\_Function & FEV1 & 4.39\\\\\n",
       "\t4 & 4 & 1 & AS\\_1 & AS & A & Pre  & NR & NR & Lung\\_Function & FEV1 &   NA\\\\\n",
       "\t5 & 7 & 2 & AS\\_2 & AS & A & Post & R  & NR & Lung\\_Function & FEV1 & 2.96\\\\\n",
       "\t6 & 7 & 2 & AS\\_2 & AS & A & Pre  & R  & NR & Lung\\_Function & FEV1 & 3.08\\\\\n",
       "\\end{tabular}\n"
      ],
      "text/markdown": [
       "\n",
       "A data.frame: 6 × 11\n",
       "\n",
       "| <!--/--> | Original_Subject_No &lt;dbl&gt; | Subject_No &lt;dbl&gt; | Subject_ID &lt;chr&gt; | Disease_Status &lt;chr&gt; | Sample_Type &lt;chr&gt; | Time_Point &lt;chr&gt; | Inflammatory_Responder &lt;chr&gt; | Lung_Responder &lt;chr&gt; | Category &lt;chr&gt; | Variable &lt;chr&gt; | Value &lt;dbl&gt; |\n",
       "|---|---|---|---|---|---|---|---|---|---|---|---|\n",
       "| 1 | 4 | 1 | AS_1 | AS | A | Post | NR | NR | Lung_Function | FEV1 | 4.39 |\n",
       "| 2 | 4 | 1 | AS_1 | AS | A | Pre  | NR | NR | Lung_Function | FEV1 | 4.60 |\n",
       "| 3 | 4 | 1 | AS_1 | AS | A | Post | NR | NR | Lung_Function | FEV1 | 4.39 |\n",
       "| 4 | 4 | 1 | AS_1 | AS | A | Pre  | NR | NR | Lung_Function | FEV1 |   NA |\n",
       "| 5 | 7 | 2 | AS_2 | AS | A | Post | R  | NR | Lung_Function | FEV1 | 2.96 |\n",
       "| 6 | 7 | 2 | AS_2 | AS | A | Pre  | R  | NR | Lung_Function | FEV1 | 3.08 |\n",
       "\n"
      ],
      "text/plain": [
       "  Original_Subject_No Subject_No Subject_ID Disease_Status Sample_Type\n",
       "1 4                   1          AS_1       AS             A          \n",
       "2 4                   1          AS_1       AS             A          \n",
       "3 4                   1          AS_1       AS             A          \n",
       "4 4                   1          AS_1       AS             A          \n",
       "5 7                   2          AS_2       AS             A          \n",
       "6 7                   2          AS_2       AS             A          \n",
       "  Time_Point Inflammatory_Responder Lung_Responder Category      Variable Value\n",
       "1 Post       NR                     NR             Lung_Function FEV1     4.39 \n",
       "2 Pre        NR                     NR             Lung_Function FEV1     4.60 \n",
       "3 Post       NR                     NR             Lung_Function FEV1     4.39 \n",
       "4 Pre        NR                     NR             Lung_Function FEV1       NA \n",
       "5 Post       R                      NR             Lung_Function FEV1     2.96 \n",
       "6 Pre        R                      NR             Lung_Function FEV1     3.08 "
      ]
     },
     "metadata": {},
     "output_type": "display_data"
    }
   ],
   "source": [
    "#only keeping rows in ozone data that aren't in the other dataframe\n",
    "ozone_data = anti_join(ozone_data, variables_to_remove_df[1:11]) %>%\n",
    "    #making value col numeric instead of character\n",
    "    mutate(Value = ifelse(Value == \"NA\", NA, as.numeric(Value))) \n",
    "\n",
    "head(ozone_data)"
   ]
  },
  {
   "cell_type": "code",
   "execution_count": 8,
   "id": "virtual-element",
   "metadata": {},
   "outputs": [],
   "source": [
    "#now splitting dataset based on category, sample, time point\n",
    "preimputed_df = ozone_data %>%\n",
    "    group_by(Category, Sample_Type, Time_Point) %>%\n",
    "    group_split()\n",
    "\n",
    "cell_differential_plasma_post_df = preimputed_df[[1]]\n",
    "cell_differential_plasma_pre_df = preimputed_df[[2]]\n",
    "cell_differential_sputum_post_df = preimputed_df[[3]]\n",
    "cell_differential_sputum_pre_df = preimputed_df[[4]]\n",
    "cytokine_plasma_post_df = preimputed_df[[5]]\n",
    "cytokine_plasma_pre_df = preimputed_df[[6]]\n",
    "cytokine_sputum_post_df = preimputed_df[[7]]\n",
    "cytokine_sputum_pre_df = preimputed_df[[8]]\n",
    "lung_function_airways_post_df = preimputed_df[[9]]\n",
    "lung_function_airways_pre_df = preimputed_df[[10]]\n",
    "sterol_plasma_post_df = preimputed_df[[11]]\n",
    "sterol_plasma_pre_df = preimputed_df[[12]]\n",
    "sterol_sputum_post_df = preimputed_df[[13]]\n",
    "sterol_sputum_pre_df = preimputed_df[[14]]"
   ]
  },
  {
   "cell_type": "markdown",
   "id": "rural-rebound",
   "metadata": {},
   "source": [
    "# Random Forest Imputation"
   ]
  },
  {
   "cell_type": "code",
   "execution_count": 9,
   "id": "thorough-basin",
   "metadata": {},
   "outputs": [
    {
     "data": {
      "text/html": [
       "<table class=\"dataframe\">\n",
       "<caption>A tibble: 6 × 11</caption>\n",
       "<thead>\n",
       "\t<tr><th scope=col>Original_Subject_No</th><th scope=col>Subject_No</th><th scope=col>Subject_ID</th><th scope=col>Disease_Status</th><th scope=col>Sample_Type</th><th scope=col>Time_Point</th><th scope=col>Inflammatory_Responder</th><th scope=col>Lung_Responder</th><th scope=col>Category</th><th scope=col>Variable</th><th scope=col>Value</th></tr>\n",
       "\t<tr><th scope=col>&lt;dbl&gt;</th><th scope=col>&lt;dbl&gt;</th><th scope=col>&lt;chr&gt;</th><th scope=col>&lt;chr&gt;</th><th scope=col>&lt;chr&gt;</th><th scope=col>&lt;chr&gt;</th><th scope=col>&lt;chr&gt;</th><th scope=col>&lt;chr&gt;</th><th scope=col>&lt;chr&gt;</th><th scope=col>&lt;chr&gt;</th><th scope=col>&lt;dbl&gt;</th></tr>\n",
       "</thead>\n",
       "<tbody>\n",
       "\t<tr><td> 4</td><td>1</td><td>AS_1</td><td>AS</td><td>A</td><td>Post</td><td>NR</td><td>NR</td><td>Lung_Function</td><td>FEV1</td><td>4.39</td></tr>\n",
       "\t<tr><td> 4</td><td>1</td><td>AS_1</td><td>AS</td><td>A</td><td>Post</td><td>NR</td><td>NR</td><td>Lung_Function</td><td>FEV1</td><td>4.39</td></tr>\n",
       "\t<tr><td> 7</td><td>2</td><td>AS_2</td><td>AS</td><td>A</td><td>Post</td><td>R </td><td>NR</td><td>Lung_Function</td><td>FEV1</td><td>2.96</td></tr>\n",
       "\t<tr><td> 7</td><td>2</td><td>AS_2</td><td>AS</td><td>A</td><td>Post</td><td>R </td><td>NR</td><td>Lung_Function</td><td>FEV1</td><td>2.96</td></tr>\n",
       "\t<tr><td>11</td><td>3</td><td>AS_3</td><td>AS</td><td>A</td><td>Post</td><td>NR</td><td>R </td><td>Lung_Function</td><td>FEV1</td><td>4.24</td></tr>\n",
       "\t<tr><td>11</td><td>3</td><td>AS_3</td><td>AS</td><td>A</td><td>Post</td><td>NR</td><td>R </td><td>Lung_Function</td><td>FEV1</td><td>4.24</td></tr>\n",
       "</tbody>\n",
       "</table>\n"
      ],
      "text/latex": [
       "A tibble: 6 × 11\n",
       "\\begin{tabular}{lllllllllll}\n",
       " Original\\_Subject\\_No & Subject\\_No & Subject\\_ID & Disease\\_Status & Sample\\_Type & Time\\_Point & Inflammatory\\_Responder & Lung\\_Responder & Category & Variable & Value\\\\\n",
       " <dbl> & <dbl> & <chr> & <chr> & <chr> & <chr> & <chr> & <chr> & <chr> & <chr> & <dbl>\\\\\n",
       "\\hline\n",
       "\t  4 & 1 & AS\\_1 & AS & A & Post & NR & NR & Lung\\_Function & FEV1 & 4.39\\\\\n",
       "\t  4 & 1 & AS\\_1 & AS & A & Post & NR & NR & Lung\\_Function & FEV1 & 4.39\\\\\n",
       "\t  7 & 2 & AS\\_2 & AS & A & Post & R  & NR & Lung\\_Function & FEV1 & 2.96\\\\\n",
       "\t  7 & 2 & AS\\_2 & AS & A & Post & R  & NR & Lung\\_Function & FEV1 & 2.96\\\\\n",
       "\t 11 & 3 & AS\\_3 & AS & A & Post & NR & R  & Lung\\_Function & FEV1 & 4.24\\\\\n",
       "\t 11 & 3 & AS\\_3 & AS & A & Post & NR & R  & Lung\\_Function & FEV1 & 4.24\\\\\n",
       "\\end{tabular}\n"
      ],
      "text/markdown": [
       "\n",
       "A tibble: 6 × 11\n",
       "\n",
       "| Original_Subject_No &lt;dbl&gt; | Subject_No &lt;dbl&gt; | Subject_ID &lt;chr&gt; | Disease_Status &lt;chr&gt; | Sample_Type &lt;chr&gt; | Time_Point &lt;chr&gt; | Inflammatory_Responder &lt;chr&gt; | Lung_Responder &lt;chr&gt; | Category &lt;chr&gt; | Variable &lt;chr&gt; | Value &lt;dbl&gt; |\n",
       "|---|---|---|---|---|---|---|---|---|---|---|\n",
       "|  4 | 1 | AS_1 | AS | A | Post | NR | NR | Lung_Function | FEV1 | 4.39 |\n",
       "|  4 | 1 | AS_1 | AS | A | Post | NR | NR | Lung_Function | FEV1 | 4.39 |\n",
       "|  7 | 2 | AS_2 | AS | A | Post | R  | NR | Lung_Function | FEV1 | 2.96 |\n",
       "|  7 | 2 | AS_2 | AS | A | Post | R  | NR | Lung_Function | FEV1 | 2.96 |\n",
       "| 11 | 3 | AS_3 | AS | A | Post | NR | R  | Lung_Function | FEV1 | 4.24 |\n",
       "| 11 | 3 | AS_3 | AS | A | Post | NR | R  | Lung_Function | FEV1 | 4.24 |\n",
       "\n"
      ],
      "text/plain": [
       "  Original_Subject_No Subject_No Subject_ID Disease_Status Sample_Type\n",
       "1  4                  1          AS_1       AS             A          \n",
       "2  4                  1          AS_1       AS             A          \n",
       "3  7                  2          AS_2       AS             A          \n",
       "4  7                  2          AS_2       AS             A          \n",
       "5 11                  3          AS_3       AS             A          \n",
       "6 11                  3          AS_3       AS             A          \n",
       "  Time_Point Inflammatory_Responder Lung_Responder Category      Variable Value\n",
       "1 Post       NR                     NR             Lung_Function FEV1     4.39 \n",
       "2 Post       NR                     NR             Lung_Function FEV1     4.39 \n",
       "3 Post       R                      NR             Lung_Function FEV1     2.96 \n",
       "4 Post       R                      NR             Lung_Function FEV1     2.96 \n",
       "5 Post       NR                     R              Lung_Function FEV1     4.24 \n",
       "6 Post       NR                     R              Lung_Function FEV1     4.24 "
      ]
     },
     "metadata": {},
     "output_type": "display_data"
    }
   ],
   "source": [
    "head(lung_function_airways_post_df)"
   ]
  },
  {
   "cell_type": "code",
   "execution_count": 10,
   "id": "clean-electricity",
   "metadata": {},
   "outputs": [
    {
     "name": "stderr",
     "output_type": "stream",
     "text": [
      "Warning message:\n",
      "“Values from `Value` are not uniquely identified; output will contain list-cols.\n",
      "* Use `values_fn = list` to suppress this warning.\n",
      "* Use `values_fn = {summary_fun}` to summarise duplicates.\n",
      "* Use the following dplyr code to identify duplicates.\n",
      "  {data} %>%\n",
      "    dplyr::group_by(Original_Subject_No, Subject_No, Subject_ID, Disease_Status, Sample_Type, Time_Point, Inflammatory_Responder, Lung_Responder, Category, Variable) %>%\n",
      "    dplyr::summarise(n = dplyr::n(), .groups = \"drop\") %>%\n",
      "    dplyr::filter(n > 1L)”\n",
      "Warning message in mean.default(xmis[, t.co], na.rm = TRUE):\n",
      "“argument is not numeric or logical: returning NA”\n",
      "Warning message in mean.default(xmis[, t.co], na.rm = TRUE):\n",
      "“argument is not numeric or logical: returning NA”\n",
      "Warning message in mean.default(xmis[, t.co], na.rm = TRUE):\n",
      "“argument is not numeric or logical: returning NA”\n",
      "Warning message in mean.default(xmis[, t.co], na.rm = TRUE):\n",
      "“argument is not numeric or logical: returning NA”\n",
      "Warning message in mean.default(xmis[, t.co], na.rm = TRUE):\n",
      "“argument is not numeric or logical: returning NA”\n"
     ]
    },
    {
     "name": "stdout",
     "output_type": "stream",
     "text": [
      "  missForest iteration 1 in progress...done!\n"
     ]
    },
    {
     "ename": "ERROR",
     "evalue": "Error in ximp[, t.ind] - ximp.old[, t.ind]: non-numeric argument to binary operator\n",
     "output_type": "error",
     "traceback": [
      "Error in ximp[, t.ind] - ximp.old[, t.ind]: non-numeric argument to binary operator\nTraceback:\n",
      "1. random_forest_imputation(lung_function_airways_post_df)",
      "2. missForest(as.matrix(wider_dataset[, 10:14]))   # at line 5 of file <text>"
     ]
    }
   ],
   "source": [
    "#imputing lung function data using RF\n",
    "random_forest_imputation = function(dataset){\n",
    "    wider_dataset = dataset %>%\n",
    "        pivot_wider(names_from = Variable, values_from = Value)\n",
    "    imputed_RF_object = missForest(as.matrix(wider_dataset[,10:14]))\n",
    "    imputed_RF_df = imputed_RF_object$ximp\n",
    "    imputed_final_df = data.frame(cbind(wider_dataset[,1:9], imputed_RF_df)) %>%\n",
    "        pivot_longer(cols = 10:14, names_to = \"Variable\", values_to = \"Value\")\n",
    "    \n",
    "    return(imputed_final_df)\n",
    "}\n",
    "\n",
    "#calling fn\n",
    "imputed_lung_function_airways_post_df = random_forest_imputation(lung_function_airways_post_df)\n",
    "imputed_lung_function_airways_pre_df = random_forest_imputation(lung_function_airways_pre_df)\n",
    "\n",
    "head(imputed_lung_function_airways_post_df)"
   ]
  },
  {
   "cell_type": "markdown",
   "id": "silver-porcelain",
   "metadata": {},
   "source": [
    "# QRILC Imputation"
   ]
  },
  {
   "cell_type": "code",
   "execution_count": null,
   "id": "patient-interval",
   "metadata": {},
   "outputs": [],
   "source": [
    "head(cell_differential_plasma_post_df)"
   ]
  },
  {
   "cell_type": "code",
   "execution_count": null,
   "id": "generic-confusion",
   "metadata": {},
   "outputs": [],
   "source": [
    "#imputing lung function data using RF\n",
    "QRILC_imputation = function(dataset, number_of_variables){\n",
    "    wider_dataset = dataset %>%\n",
    "        pivot_wider(names_from = Variable, values_from = Value)\n",
    "    \n",
    "    #normalizing data since that what the QRILC function wants\n",
    "    #had to pseudo log transform to prevent Inf values\n",
    "    QRILC_prep = wider_dataset[,10:all_of(number_of_variables)] %>%\n",
    "         mutate_all(., function(x) log10(x + 1)) %>%\n",
    "         as.matrix()\n",
    "\n",
    "    imputed_QRILC_object = impute.QRILC(QRILC_prep, tune.sigma = 0.1)\n",
    "    QRILC_log10_df = data.frame(imputed_QRILC_object[1]) \n",
    "    \n",
    "    #converting back the original scale\n",
    "    QRILC_df = QRILC_log10_df %>%\n",
    "        mutate_all(., function(x) 10^x - 1)\n",
    "                   \n",
    "    imputed_dataset = data.frame(cbind(dataset[,1:9], QRILC_df)) %>%\n",
    "        pivot_longer(cols = 10:all_of(number_of_variables), names_to = \"Variable\", values_to = \"Value\")\n",
    "    \n",
    "    return(imputed_dataset)\n",
    "}\n",
    "\n",
    "#calling fn\n",
    "imputed_cell_differential_plasma_post_df = QRILC_imputation(cell_differential_plasma_post_df, 24)\n",
    "imputed_cell_differential_plasma_pre_df = QRILC_imputation(cell_differential_plasma_pre_df, 24)\n",
    "imputed_cell_differential_sputum_post_df = QRILC_imputation(cell_differential_sputum_post_df, 24)\n",
    "imputed_cell_differential_sputum_pre_df = QRILC_imputation(cell_differential_sputum_pre_df, 24)\n",
    "imputed_cytokine_plasma_post_df = QRILC_imputation(cytokine_plasma_post_df, 39)\n",
    "imputed_cytokine_plasma_pre_df = QRILC_imputation(cytokine_plasma_pre_df, 39)\n",
    "imputed_cytokine_sputum_post_df = QRILC_imputation(cytokine_sputum_post_df, 39)\n",
    "imputed_cytokine_sputum_pre_df = QRILC_imputation(cytokine_sputum_pre_df, 39)\n",
    "imputed_sterol_plasma_post_df = QRILC_imputation(sterol_plasma_post_df, 27)\n",
    "imputed_sterol_plasma_pre_df = QRILC_imputation(sterol_plasma_pre_df, 27)\n",
    "# sterol_sputum_post_df had no missing data\n",
    "# sterol_sputum_pre_df had no missing data"
   ]
  },
  {
   "cell_type": "code",
   "execution_count": null,
   "id": "limited-necklace",
   "metadata": {},
   "outputs": [],
   "source": [
    "#i think the data matrix doesn't like col names starting with numbers so it puts an X in front of it\n",
    "# removing those X's prior to combining everything into 1 datafame\n",
    "imputed_sterol_plasma_post_df = imputed_sterol_plasma_post_df %>%\n",
    "     mutate(Variable = ifelse(grepl(\"X\", Variable), \n",
    "                              unlist(strsplit(Variable, split = \"X\"))[2], Variable))\n",
    "imputed_sterol_plasma_pre_df = imputed_sterol_plasma_pre_df %>%\n",
    "    mutate(Variable = ifelse(grepl(\"X\", Variable), \n",
    "                              unlist(strsplit(Variable, split = \"X\"))[2], Variable))"
   ]
  },
  {
   "cell_type": "code",
   "execution_count": null,
   "id": "aware-attempt",
   "metadata": {},
   "outputs": [],
   "source": [
    "#combining all imputed data\n",
    "final_df = rbind(imputed_cell_differential_plasma_post_df, imputed_cell_differential_plasma_pre_df, imputed_cell_differential_sputum_post_df,\n",
    "                imputed_cell_differential_sputum_pre_df, imputed_cytokine_plasma_post_df, imputed_cytokine_plasma_pre_df, imputed_cytokine_sputum_post_df,\n",
    "                imputed_cytokine_sputum_pre_df, imputed_lung_function_airways_post_df, imputed_lung_function_airways_pre_df,\n",
    "                imputed_sterol_plasma_post_df, imputed_sterol_plasma_pre_df, sterol_sputum_post_df,\n",
    "                sterol_sputum_pre_df)\n",
    "head(final_df)"
   ]
  },
  {
   "cell_type": "code",
   "execution_count": null,
   "id": "august-refund",
   "metadata": {},
   "outputs": [],
   "source": [
    "#exporting results\n",
    "write.csv(final_df, paste0(Output,\"/\", cur_date, \"_Imputed_Ozone_Data.csv\"), row.names = FALSE)"
   ]
  },
  {
   "cell_type": "code",
   "execution_count": null,
   "id": "ceramic-answer",
   "metadata": {},
   "outputs": [],
   "source": []
  }
 ],
 "metadata": {
  "kernelspec": {
   "display_name": "R",
   "language": "R",
   "name": "ir"
  },
  "language_info": {
   "codemirror_mode": "r",
   "file_extension": ".r",
   "mimetype": "text/x-r-source",
   "name": "R",
   "pygments_lexer": "r",
   "version": "4.1.2"
  }
 },
 "nbformat": 4,
 "nbformat_minor": 5
}
