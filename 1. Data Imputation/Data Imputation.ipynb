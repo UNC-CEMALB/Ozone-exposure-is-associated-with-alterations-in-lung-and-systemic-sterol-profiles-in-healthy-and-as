{
 "cells": [
  {
   "cell_type": "code",
   "execution_count": 1,
   "id": "contained-dominant",
   "metadata": {},
   "outputs": [],
   "source": [
    "#had a lot of issues trying to install the \"imputeLCMD\" package, so this was how I did it\n",
    "# if (!requireNamespace(\"BiocManager\", quietly = TRUE))\n",
    "#     install.packages(\"BiocManager\")\n",
    "\n",
    "# BiocManager::install(c(\"impute\", \"pcaMethods\"))\n",
    "\n",
    "# install.packages(\"imputeLCMD\")"
   ]
  },
  {
   "cell_type": "code",
   "execution_count": 2,
   "id": "listed-response",
   "metadata": {},
   "outputs": [
    {
     "name": "stderr",
     "output_type": "stream",
     "text": [
      "Loading required package: randomForest\n",
      "\n",
      "randomForest 4.6-14\n",
      "\n",
      "Type rfNews() to see new features/changes/bug fixes.\n",
      "\n",
      "Loading required package: foreach\n",
      "\n",
      "Loading required package: itertools\n",
      "\n",
      "Loading required package: iterators\n",
      "\n",
      "Loading required package: tmvtnorm\n",
      "\n",
      "Loading required package: mvtnorm\n",
      "\n",
      "Loading required package: Matrix\n",
      "\n",
      "Loading required package: stats4\n",
      "\n",
      "Loading required package: gmm\n",
      "\n",
      "Loading required package: sandwich\n",
      "\n",
      "Loading required package: norm\n",
      "\n",
      "Loading required package: pcaMethods\n",
      "\n",
      "Loading required package: Biobase\n",
      "\n",
      "Loading required package: BiocGenerics\n",
      "\n",
      "Loading required package: parallel\n",
      "\n",
      "\n",
      "Attaching package: ‘BiocGenerics’\n",
      "\n",
      "\n",
      "The following objects are masked from ‘package:parallel’:\n",
      "\n",
      "    clusterApply, clusterApplyLB, clusterCall, clusterEvalQ,\n",
      "    clusterExport, clusterMap, parApply, parCapply, parLapply,\n",
      "    parLapplyLB, parRapply, parSapply, parSapplyLB\n",
      "\n",
      "\n",
      "The following object is masked from ‘package:Matrix’:\n",
      "\n",
      "    which\n",
      "\n",
      "\n",
      "The following object is masked from ‘package:randomForest’:\n",
      "\n",
      "    combine\n",
      "\n",
      "\n",
      "The following objects are masked from ‘package:stats’:\n",
      "\n",
      "    IQR, mad, sd, var, xtabs\n",
      "\n",
      "\n",
      "The following objects are masked from ‘package:base’:\n",
      "\n",
      "    Filter, Find, Map, Position, Reduce, anyDuplicated, append,\n",
      "    as.data.frame, basename, cbind, colnames, dirname, do.call,\n",
      "    duplicated, eval, evalq, get, grep, grepl, intersect, is.unsorted,\n",
      "    lapply, mapply, match, mget, order, paste, pmax, pmax.int, pmin,\n",
      "    pmin.int, rank, rbind, rownames, sapply, setdiff, sort, table,\n",
      "    tapply, union, unique, unsplit, which, which.max, which.min\n",
      "\n",
      "\n",
      "Welcome to Bioconductor\n",
      "\n",
      "    Vignettes contain introductory material; view with\n",
      "    'browseVignettes()'. To cite Bioconductor, see\n",
      "    'citation(\"Biobase\")', and for packages 'citation(\"pkgname\")'.\n",
      "\n",
      "\n",
      "\n",
      "Attaching package: ‘pcaMethods’\n",
      "\n",
      "\n",
      "The following object is masked from ‘package:stats’:\n",
      "\n",
      "    loadings\n",
      "\n",
      "\n",
      "Loading required package: impute\n",
      "\n",
      "── \u001b[1mAttaching packages\u001b[22m ─────────────────────────────────────── tidyverse 1.3.0 ──\n",
      "\n",
      "\u001b[32m✔\u001b[39m \u001b[34mggplot2\u001b[39m 3.3.3     \u001b[32m✔\u001b[39m \u001b[34mpurrr  \u001b[39m 0.3.4\n",
      "\u001b[32m✔\u001b[39m \u001b[34mtibble \u001b[39m 3.0.6     \u001b[32m✔\u001b[39m \u001b[34mdplyr  \u001b[39m 1.0.4\n",
      "\u001b[32m✔\u001b[39m \u001b[34mtidyr  \u001b[39m 1.1.2     \u001b[32m✔\u001b[39m \u001b[34mstringr\u001b[39m 1.4.0\n",
      "\u001b[32m✔\u001b[39m \u001b[34mreadr  \u001b[39m 1.4.0     \u001b[32m✔\u001b[39m \u001b[34mforcats\u001b[39m 0.5.1\n",
      "\n",
      "── \u001b[1mConflicts\u001b[22m ────────────────────────────────────────── tidyverse_conflicts() ──\n",
      "\u001b[31m✖\u001b[39m \u001b[34mggplot2\u001b[39m::\u001b[32mPosition()\u001b[39m masks \u001b[34mBiocGenerics\u001b[39m::Position(), \u001b[34mbase\u001b[39m::Position()\n",
      "\u001b[31m✖\u001b[39m \u001b[34mpurrr\u001b[39m::\u001b[32maccumulate()\u001b[39m masks \u001b[34mforeach\u001b[39m::accumulate()\n",
      "\u001b[31m✖\u001b[39m \u001b[34mdplyr\u001b[39m::\u001b[32mcombine()\u001b[39m    masks \u001b[34mBiobase\u001b[39m::combine(), \u001b[34mBiocGenerics\u001b[39m::combine(), \u001b[34mrandomForest\u001b[39m::combine()\n",
      "\u001b[31m✖\u001b[39m \u001b[34mtidyr\u001b[39m::\u001b[32mexpand()\u001b[39m     masks \u001b[34mMatrix\u001b[39m::expand()\n",
      "\u001b[31m✖\u001b[39m \u001b[34mdplyr\u001b[39m::\u001b[32mfilter()\u001b[39m     masks \u001b[34mstats\u001b[39m::filter()\n",
      "\u001b[31m✖\u001b[39m \u001b[34mdplyr\u001b[39m::\u001b[32mlag()\u001b[39m        masks \u001b[34mstats\u001b[39m::lag()\n",
      "\u001b[31m✖\u001b[39m \u001b[34mggplot2\u001b[39m::\u001b[32mmargin()\u001b[39m   masks \u001b[34mrandomForest\u001b[39m::margin()\n",
      "\u001b[31m✖\u001b[39m \u001b[34mtidyr\u001b[39m::\u001b[32mpack()\u001b[39m       masks \u001b[34mMatrix\u001b[39m::pack()\n",
      "\u001b[31m✖\u001b[39m \u001b[34mtidyr\u001b[39m::\u001b[32munpack()\u001b[39m     masks \u001b[34mMatrix\u001b[39m::unpack()\n",
      "\u001b[31m✖\u001b[39m \u001b[34mpurrr\u001b[39m::\u001b[32mwhen()\u001b[39m       masks \u001b[34mforeach\u001b[39m::when()\n",
      "\n"
     ]
    }
   ],
   "source": [
    "setwd(\"/Users/alexis/University of North Carolina at Chapel Hill/Rager, Julia - CEMALB_DataAnalysisPM/Projects/P1003. Ozone Sterols Healthy Asthma/P1003.3. Analyses/P1003.3.1. Data Imputation/Input\")\n",
    "Output = ('/Users/alexis/University of North Carolina at Chapel Hill/Rager, Julia - CEMALB_DataAnalysisPM/Projects/P1003. Ozone Sterols Healthy Asthma/P1003.3. Analyses/P1003.3.1. Data Imputation/Output')\n",
    "cur_date = \"022122\"\n",
    "\n",
    "library(missForest)\n",
    "library(imputeLCMD)\n",
    "library(readxl)\n",
    "library(tidyverse)\n",
    "\n",
    "#reading in files\n",
    "ozone_data = data.frame(read_excel(\"Ozone_Sterol_Asthma_data_011822.xlsx\", sheet = 2)) "
   ]
  },
  {
   "cell_type": "markdown",
   "id": "textile-short",
   "metadata": {},
   "source": [
    "Goal is to generate (impute) values for missing data. Given that this dataset contains various categories (ie. cell differentials, cytokines) a different method will be employed for each.\n",
    "\n",
    "> Lung Function Data: Random Forest (RF)\n",
    "\n",
    "> Soluble Mediators (everything else): Quantile Regression Imputation of Left-Censored Data (QRILC)\n",
    "\n",
    "**Also make note of subjects/ variables with missing data."
   ]
  },
  {
   "cell_type": "code",
   "execution_count": 3,
   "id": "respected-norwegian",
   "metadata": {},
   "outputs": [
    {
     "data": {
      "text/html": [
       "<table class=\"dataframe\">\n",
       "<caption>A data.frame: 6 × 11</caption>\n",
       "<thead>\n",
       "\t<tr><th></th><th scope=col>Original_Subject_No</th><th scope=col>Subject_No</th><th scope=col>Subject_ID</th><th scope=col>Disease_Status</th><th scope=col>Sample_Type</th><th scope=col>Time_Point</th><th scope=col>Inflammatory_Responder</th><th scope=col>Lung_Responder</th><th scope=col>Category</th><th scope=col>Variable</th><th scope=col>Value</th></tr>\n",
       "\t<tr><th></th><th scope=col>&lt;dbl&gt;</th><th scope=col>&lt;dbl&gt;</th><th scope=col>&lt;chr&gt;</th><th scope=col>&lt;chr&gt;</th><th scope=col>&lt;chr&gt;</th><th scope=col>&lt;chr&gt;</th><th scope=col>&lt;chr&gt;</th><th scope=col>&lt;chr&gt;</th><th scope=col>&lt;chr&gt;</th><th scope=col>&lt;chr&gt;</th><th scope=col>&lt;chr&gt;</th></tr>\n",
       "</thead>\n",
       "<tbody>\n",
       "\t<tr><th scope=row>1</th><td>4</td><td>1</td><td>AS_1</td><td>AS</td><td>P</td><td>Post</td><td>NR</td><td>NR</td><td>Lung_Function</td><td>FEV1</td><td>4.3899999999999899</td></tr>\n",
       "\t<tr><th scope=row>2</th><td>4</td><td>1</td><td>AS_1</td><td>AS</td><td>P</td><td>Pre </td><td>NR</td><td>NR</td><td>Lung_Function</td><td>FEV1</td><td>4.5999999999999899</td></tr>\n",
       "\t<tr><th scope=row>3</th><td>4</td><td>1</td><td>AS_1</td><td>AS</td><td>S</td><td>Post</td><td>NR</td><td>NR</td><td>Lung_Function</td><td>FEV1</td><td>4.3899999999999899</td></tr>\n",
       "\t<tr><th scope=row>4</th><td>4</td><td>1</td><td>AS_1</td><td>AS</td><td>S</td><td>Pre </td><td>NR</td><td>NR</td><td>Lung_Function</td><td>FEV1</td><td>NA                </td></tr>\n",
       "\t<tr><th scope=row>5</th><td>7</td><td>2</td><td>AS_2</td><td>AS</td><td>P</td><td>Post</td><td>R </td><td>NR</td><td>Lung_Function</td><td>FEV1</td><td>2.96              </td></tr>\n",
       "\t<tr><th scope=row>6</th><td>7</td><td>2</td><td>AS_2</td><td>AS</td><td>P</td><td>Pre </td><td>R </td><td>NR</td><td>Lung_Function</td><td>FEV1</td><td>3.08              </td></tr>\n",
       "</tbody>\n",
       "</table>\n"
      ],
      "text/latex": [
       "A data.frame: 6 × 11\n",
       "\\begin{tabular}{r|lllllllllll}\n",
       "  & Original\\_Subject\\_No & Subject\\_No & Subject\\_ID & Disease\\_Status & Sample\\_Type & Time\\_Point & Inflammatory\\_Responder & Lung\\_Responder & Category & Variable & Value\\\\\n",
       "  & <dbl> & <dbl> & <chr> & <chr> & <chr> & <chr> & <chr> & <chr> & <chr> & <chr> & <chr>\\\\\n",
       "\\hline\n",
       "\t1 & 4 & 1 & AS\\_1 & AS & P & Post & NR & NR & Lung\\_Function & FEV1 & 4.3899999999999899\\\\\n",
       "\t2 & 4 & 1 & AS\\_1 & AS & P & Pre  & NR & NR & Lung\\_Function & FEV1 & 4.5999999999999899\\\\\n",
       "\t3 & 4 & 1 & AS\\_1 & AS & S & Post & NR & NR & Lung\\_Function & FEV1 & 4.3899999999999899\\\\\n",
       "\t4 & 4 & 1 & AS\\_1 & AS & S & Pre  & NR & NR & Lung\\_Function & FEV1 & NA                \\\\\n",
       "\t5 & 7 & 2 & AS\\_2 & AS & P & Post & R  & NR & Lung\\_Function & FEV1 & 2.96              \\\\\n",
       "\t6 & 7 & 2 & AS\\_2 & AS & P & Pre  & R  & NR & Lung\\_Function & FEV1 & 3.08              \\\\\n",
       "\\end{tabular}\n"
      ],
      "text/markdown": [
       "\n",
       "A data.frame: 6 × 11\n",
       "\n",
       "| <!--/--> | Original_Subject_No &lt;dbl&gt; | Subject_No &lt;dbl&gt; | Subject_ID &lt;chr&gt; | Disease_Status &lt;chr&gt; | Sample_Type &lt;chr&gt; | Time_Point &lt;chr&gt; | Inflammatory_Responder &lt;chr&gt; | Lung_Responder &lt;chr&gt; | Category &lt;chr&gt; | Variable &lt;chr&gt; | Value &lt;chr&gt; |\n",
       "|---|---|---|---|---|---|---|---|---|---|---|---|\n",
       "| 1 | 4 | 1 | AS_1 | AS | P | Post | NR | NR | Lung_Function | FEV1 | 4.3899999999999899 |\n",
       "| 2 | 4 | 1 | AS_1 | AS | P | Pre  | NR | NR | Lung_Function | FEV1 | 4.5999999999999899 |\n",
       "| 3 | 4 | 1 | AS_1 | AS | S | Post | NR | NR | Lung_Function | FEV1 | 4.3899999999999899 |\n",
       "| 4 | 4 | 1 | AS_1 | AS | S | Pre  | NR | NR | Lung_Function | FEV1 | NA                 |\n",
       "| 5 | 7 | 2 | AS_2 | AS | P | Post | R  | NR | Lung_Function | FEV1 | 2.96               |\n",
       "| 6 | 7 | 2 | AS_2 | AS | P | Pre  | R  | NR | Lung_Function | FEV1 | 3.08               |\n",
       "\n"
      ],
      "text/plain": [
       "  Original_Subject_No Subject_No Subject_ID Disease_Status Sample_Type\n",
       "1 4                   1          AS_1       AS             P          \n",
       "2 4                   1          AS_1       AS             P          \n",
       "3 4                   1          AS_1       AS             S          \n",
       "4 4                   1          AS_1       AS             S          \n",
       "5 7                   2          AS_2       AS             P          \n",
       "6 7                   2          AS_2       AS             P          \n",
       "  Time_Point Inflammatory_Responder Lung_Responder Category      Variable\n",
       "1 Post       NR                     NR             Lung_Function FEV1    \n",
       "2 Pre        NR                     NR             Lung_Function FEV1    \n",
       "3 Post       NR                     NR             Lung_Function FEV1    \n",
       "4 Pre        NR                     NR             Lung_Function FEV1    \n",
       "5 Post       R                      NR             Lung_Function FEV1    \n",
       "6 Pre        R                      NR             Lung_Function FEV1    \n",
       "  Value             \n",
       "1 4.3899999999999899\n",
       "2 4.5999999999999899\n",
       "3 4.3899999999999899\n",
       "4 NA                \n",
       "5 2.96              \n",
       "6 3.08              "
      ]
     },
     "metadata": {},
     "output_type": "display_data"
    }
   ],
   "source": [
    "head(ozone_data)"
   ]
  },
  {
   "cell_type": "code",
   "execution_count": 4,
   "id": "moved-cooperative",
   "metadata": {},
   "outputs": [
    {
     "name": "stderr",
     "output_type": "stream",
     "text": [
      "`summarise()` has grouped output by 'Sample_Type', 'Time_Point'. You can override using the `.groups` argument.\n",
      "\n"
     ]
    },
    {
     "data": {
      "text/html": [
       "<table class=\"dataframe\">\n",
       "<caption>A grouped_df: 6 × 4</caption>\n",
       "<thead>\n",
       "\t<tr><th scope=col>Sample_Type</th><th scope=col>Time_Point</th><th scope=col>Variable</th><th scope=col>Subject_Presence_Percentage</th></tr>\n",
       "\t<tr><th scope=col>&lt;chr&gt;</th><th scope=col>&lt;chr&gt;</th><th scope=col>&lt;chr&gt;</th><th scope=col>&lt;dbl&gt;</th></tr>\n",
       "</thead>\n",
       "<tbody>\n",
       "\t<tr><td>P</td><td>Post</td><td>Utero      </td><td> 0.00000</td></tr>\n",
       "\t<tr><td>P</td><td>Pre </td><td>Utero      </td><td> 0.00000</td></tr>\n",
       "\t<tr><td>S</td><td>Post</td><td>MPO        </td><td>87.50000</td></tr>\n",
       "\t<tr><td>S</td><td>Pre </td><td>MPO        </td><td>87.50000</td></tr>\n",
       "\t<tr><td>S</td><td>Post</td><td>FEV1_Change</td><td>91.66667</td></tr>\n",
       "\t<tr><td>S</td><td>Post</td><td>FVC1_Change</td><td>91.66667</td></tr>\n",
       "</tbody>\n",
       "</table>\n"
      ],
      "text/latex": [
       "A grouped\\_df: 6 × 4\n",
       "\\begin{tabular}{llll}\n",
       " Sample\\_Type & Time\\_Point & Variable & Subject\\_Presence\\_Percentage\\\\\n",
       " <chr> & <chr> & <chr> & <dbl>\\\\\n",
       "\\hline\n",
       "\t P & Post & Utero       &  0.00000\\\\\n",
       "\t P & Pre  & Utero       &  0.00000\\\\\n",
       "\t S & Post & MPO         & 87.50000\\\\\n",
       "\t S & Pre  & MPO         & 87.50000\\\\\n",
       "\t S & Post & FEV1\\_Change & 91.66667\\\\\n",
       "\t S & Post & FVC1\\_Change & 91.66667\\\\\n",
       "\\end{tabular}\n"
      ],
      "text/markdown": [
       "\n",
       "A grouped_df: 6 × 4\n",
       "\n",
       "| Sample_Type &lt;chr&gt; | Time_Point &lt;chr&gt; | Variable &lt;chr&gt; | Subject_Presence_Percentage &lt;dbl&gt; |\n",
       "|---|---|---|---|\n",
       "| P | Post | Utero       |  0.00000 |\n",
       "| P | Pre  | Utero       |  0.00000 |\n",
       "| S | Post | MPO         | 87.50000 |\n",
       "| S | Pre  | MPO         | 87.50000 |\n",
       "| S | Post | FEV1_Change | 91.66667 |\n",
       "| S | Post | FVC1_Change | 91.66667 |\n",
       "\n"
      ],
      "text/plain": [
       "  Sample_Type Time_Point Variable    Subject_Presence_Percentage\n",
       "1 P           Post       Utero        0.00000                   \n",
       "2 P           Pre        Utero        0.00000                   \n",
       "3 S           Post       MPO         87.50000                   \n",
       "4 S           Pre        MPO         87.50000                   \n",
       "5 S           Post       FEV1_Change 91.66667                   \n",
       "6 S           Post       FVC1_Change 91.66667                   "
      ]
     },
     "metadata": {},
     "output_type": "display_data"
    }
   ],
   "source": [
    "#initally counting the amount of data that needs to be imputed\n",
    "amount_of_imputed_data = ozone_data %>%\n",
    "    mutate(count = ifelse(Value != \"NA\", 1, 0)) %>%\n",
    "    group_by(Sample_Type, Time_Point, Variable) %>%\n",
    "    summarize(Subject_Presence_Percentage = sum(count)/ 24 * 100) %>%\n",
    "    arrange(Subject_Presence_Percentage)\n",
    "head(amount_of_imputed_data)"
   ]
  },
  {
   "cell_type": "code",
   "execution_count": 5,
   "id": "boring-bleeding",
   "metadata": {},
   "outputs": [],
   "source": [
    "#implementing background filter where a variable needs to be present in at least 25% of subjects\n",
    "variables_to_remove_df = ozone_data %>%\n",
    "    filter(Sample_Type == \"P\" & Variable == \"Utero\")\n",
    "\n",
    "`%notin%` <- Negate(`%in%`)\n",
    "ozone_data = ozone_data[ozone_data %notin% variables_to_remove_df[1:11],]"
   ]
  },
  {
   "cell_type": "code",
   "execution_count": 6,
   "id": "tracked-membrane",
   "metadata": {},
   "outputs": [
    {
     "name": "stderr",
     "output_type": "stream",
     "text": [
      "Warning message in ifelse(Value == \"NA\", NA, as.numeric(Value)):\n",
      "“NAs introduced by coercion”\n"
     ]
    },
    {
     "data": {
      "text/html": [
       "<table class=\"dataframe\">\n",
       "<caption>A data.frame: 6 × 11</caption>\n",
       "<thead>\n",
       "\t<tr><th></th><th scope=col>Original_Subject_No</th><th scope=col>Subject_No</th><th scope=col>Subject_ID</th><th scope=col>Disease_Status</th><th scope=col>Sample_Type</th><th scope=col>Time_Point</th><th scope=col>Inflammatory_Responder</th><th scope=col>Lung_Responder</th><th scope=col>Category</th><th scope=col>Variable</th><th scope=col>Value</th></tr>\n",
       "\t<tr><th></th><th scope=col>&lt;dbl&gt;</th><th scope=col>&lt;dbl&gt;</th><th scope=col>&lt;chr&gt;</th><th scope=col>&lt;chr&gt;</th><th scope=col>&lt;chr&gt;</th><th scope=col>&lt;chr&gt;</th><th scope=col>&lt;chr&gt;</th><th scope=col>&lt;chr&gt;</th><th scope=col>&lt;chr&gt;</th><th scope=col>&lt;chr&gt;</th><th scope=col>&lt;dbl&gt;</th></tr>\n",
       "</thead>\n",
       "<tbody>\n",
       "\t<tr><th scope=row>1</th><td>4</td><td>1</td><td>AS_1</td><td>AS</td><td>P</td><td>Post</td><td>NR</td><td>NR</td><td>Lung_Function</td><td>FEV1</td><td>4.39</td></tr>\n",
       "\t<tr><th scope=row>2</th><td>4</td><td>1</td><td>AS_1</td><td>AS</td><td>P</td><td>Pre </td><td>NR</td><td>NR</td><td>Lung_Function</td><td>FEV1</td><td>4.60</td></tr>\n",
       "\t<tr><th scope=row>3</th><td>4</td><td>1</td><td>AS_1</td><td>AS</td><td>S</td><td>Post</td><td>NR</td><td>NR</td><td>Lung_Function</td><td>FEV1</td><td>4.39</td></tr>\n",
       "\t<tr><th scope=row>4</th><td>4</td><td>1</td><td>AS_1</td><td>AS</td><td>S</td><td>Pre </td><td>NR</td><td>NR</td><td>Lung_Function</td><td>FEV1</td><td>  NA</td></tr>\n",
       "\t<tr><th scope=row>5</th><td>7</td><td>2</td><td>AS_2</td><td>AS</td><td>P</td><td>Post</td><td>R </td><td>NR</td><td>Lung_Function</td><td>FEV1</td><td>2.96</td></tr>\n",
       "\t<tr><th scope=row>6</th><td>7</td><td>2</td><td>AS_2</td><td>AS</td><td>P</td><td>Pre </td><td>R </td><td>NR</td><td>Lung_Function</td><td>FEV1</td><td>3.08</td></tr>\n",
       "</tbody>\n",
       "</table>\n"
      ],
      "text/latex": [
       "A data.frame: 6 × 11\n",
       "\\begin{tabular}{r|lllllllllll}\n",
       "  & Original\\_Subject\\_No & Subject\\_No & Subject\\_ID & Disease\\_Status & Sample\\_Type & Time\\_Point & Inflammatory\\_Responder & Lung\\_Responder & Category & Variable & Value\\\\\n",
       "  & <dbl> & <dbl> & <chr> & <chr> & <chr> & <chr> & <chr> & <chr> & <chr> & <chr> & <dbl>\\\\\n",
       "\\hline\n",
       "\t1 & 4 & 1 & AS\\_1 & AS & P & Post & NR & NR & Lung\\_Function & FEV1 & 4.39\\\\\n",
       "\t2 & 4 & 1 & AS\\_1 & AS & P & Pre  & NR & NR & Lung\\_Function & FEV1 & 4.60\\\\\n",
       "\t3 & 4 & 1 & AS\\_1 & AS & S & Post & NR & NR & Lung\\_Function & FEV1 & 4.39\\\\\n",
       "\t4 & 4 & 1 & AS\\_1 & AS & S & Pre  & NR & NR & Lung\\_Function & FEV1 &   NA\\\\\n",
       "\t5 & 7 & 2 & AS\\_2 & AS & P & Post & R  & NR & Lung\\_Function & FEV1 & 2.96\\\\\n",
       "\t6 & 7 & 2 & AS\\_2 & AS & P & Pre  & R  & NR & Lung\\_Function & FEV1 & 3.08\\\\\n",
       "\\end{tabular}\n"
      ],
      "text/markdown": [
       "\n",
       "A data.frame: 6 × 11\n",
       "\n",
       "| <!--/--> | Original_Subject_No &lt;dbl&gt; | Subject_No &lt;dbl&gt; | Subject_ID &lt;chr&gt; | Disease_Status &lt;chr&gt; | Sample_Type &lt;chr&gt; | Time_Point &lt;chr&gt; | Inflammatory_Responder &lt;chr&gt; | Lung_Responder &lt;chr&gt; | Category &lt;chr&gt; | Variable &lt;chr&gt; | Value &lt;dbl&gt; |\n",
       "|---|---|---|---|---|---|---|---|---|---|---|---|\n",
       "| 1 | 4 | 1 | AS_1 | AS | P | Post | NR | NR | Lung_Function | FEV1 | 4.39 |\n",
       "| 2 | 4 | 1 | AS_1 | AS | P | Pre  | NR | NR | Lung_Function | FEV1 | 4.60 |\n",
       "| 3 | 4 | 1 | AS_1 | AS | S | Post | NR | NR | Lung_Function | FEV1 | 4.39 |\n",
       "| 4 | 4 | 1 | AS_1 | AS | S | Pre  | NR | NR | Lung_Function | FEV1 |   NA |\n",
       "| 5 | 7 | 2 | AS_2 | AS | P | Post | R  | NR | Lung_Function | FEV1 | 2.96 |\n",
       "| 6 | 7 | 2 | AS_2 | AS | P | Pre  | R  | NR | Lung_Function | FEV1 | 3.08 |\n",
       "\n"
      ],
      "text/plain": [
       "  Original_Subject_No Subject_No Subject_ID Disease_Status Sample_Type\n",
       "1 4                   1          AS_1       AS             P          \n",
       "2 4                   1          AS_1       AS             P          \n",
       "3 4                   1          AS_1       AS             S          \n",
       "4 4                   1          AS_1       AS             S          \n",
       "5 7                   2          AS_2       AS             P          \n",
       "6 7                   2          AS_2       AS             P          \n",
       "  Time_Point Inflammatory_Responder Lung_Responder Category      Variable Value\n",
       "1 Post       NR                     NR             Lung_Function FEV1     4.39 \n",
       "2 Pre        NR                     NR             Lung_Function FEV1     4.60 \n",
       "3 Post       NR                     NR             Lung_Function FEV1     4.39 \n",
       "4 Pre        NR                     NR             Lung_Function FEV1       NA \n",
       "5 Post       R                      NR             Lung_Function FEV1     2.96 \n",
       "6 Pre        R                      NR             Lung_Function FEV1     3.08 "
      ]
     },
     "metadata": {},
     "output_type": "display_data"
    }
   ],
   "source": [
    "ozone_data = ozone_data %>%\n",
    "    #making value col numeric instead of character\n",
    "    mutate(Value = ifelse(Value == \"NA\", NA, as.numeric(Value))) \n",
    "\n",
    "head(ozone_data)"
   ]
  },
  {
   "cell_type": "code",
   "execution_count": 7,
   "id": "virtual-element",
   "metadata": {},
   "outputs": [],
   "source": [
    "#now splitting dataset based on category, sample, time point\n",
    "preimputed_df = ozone_data %>%\n",
    "    group_by(Category, Sample_Type, Time_Point) %>%\n",
    "    group_split()\n",
    "\n",
    "cell_differential_plasma_post_df = preimputed_df[[1]]\n",
    "cell_differential_plasma_pre_df = preimputed_df[[2]]\n",
    "cell_differential_sputum_post_df = preimputed_df[[3]]\n",
    "cell_differential_sputum_pre_df = preimputed_df[[4]]\n",
    "cytokine_plasma_post_df = preimputed_df[[5]]\n",
    "cytokine_plasma_pre_df = preimputed_df[[6]]\n",
    "cytokine_sputum_post_df = preimputed_df[[7]]\n",
    "cytokine_sputum_pre_df = preimputed_df[[8]]\n",
    "lung_function_plasma_post_df = preimputed_df[[9]]\n",
    "lung_function_plasma_pre_df = preimputed_df[[10]]\n",
    "lung_function_sputum_post_df = preimputed_df[[11]]\n",
    "lung_function_sputum_pre_df = preimputed_df[[12]]\n",
    "sterol_plasma_post_df = preimputed_df[[13]]\n",
    "sterol_plasma_pre_df = preimputed_df[[14]]\n",
    "sterol_sputum_post_df = preimputed_df[[15]]\n",
    "sterol_sputum_pre_df = preimputed_df[[16]]"
   ]
  },
  {
   "cell_type": "markdown",
   "id": "rural-rebound",
   "metadata": {},
   "source": [
    "# Random Forest Imputation"
   ]
  },
  {
   "cell_type": "code",
   "execution_count": 8,
   "id": "thorough-basin",
   "metadata": {},
   "outputs": [
    {
     "data": {
      "text/html": [
       "<table class=\"dataframe\">\n",
       "<caption>A tibble: 6 × 11</caption>\n",
       "<thead>\n",
       "\t<tr><th scope=col>Original_Subject_No</th><th scope=col>Subject_No</th><th scope=col>Subject_ID</th><th scope=col>Disease_Status</th><th scope=col>Sample_Type</th><th scope=col>Time_Point</th><th scope=col>Inflammatory_Responder</th><th scope=col>Lung_Responder</th><th scope=col>Category</th><th scope=col>Variable</th><th scope=col>Value</th></tr>\n",
       "\t<tr><th scope=col>&lt;dbl&gt;</th><th scope=col>&lt;dbl&gt;</th><th scope=col>&lt;chr&gt;</th><th scope=col>&lt;chr&gt;</th><th scope=col>&lt;chr&gt;</th><th scope=col>&lt;chr&gt;</th><th scope=col>&lt;chr&gt;</th><th scope=col>&lt;chr&gt;</th><th scope=col>&lt;chr&gt;</th><th scope=col>&lt;chr&gt;</th><th scope=col>&lt;dbl&gt;</th></tr>\n",
       "</thead>\n",
       "<tbody>\n",
       "\t<tr><td> 4</td><td>1</td><td>AS_1</td><td>AS</td><td>P</td><td>Post</td><td>NR</td><td>NR</td><td>Lung_Function</td><td>FEV1</td><td>4.39</td></tr>\n",
       "\t<tr><td> 7</td><td>2</td><td>AS_2</td><td>AS</td><td>P</td><td>Post</td><td>R </td><td>NR</td><td>Lung_Function</td><td>FEV1</td><td>2.96</td></tr>\n",
       "\t<tr><td>11</td><td>3</td><td>AS_3</td><td>AS</td><td>P</td><td>Post</td><td>NR</td><td>R </td><td>Lung_Function</td><td>FEV1</td><td>4.24</td></tr>\n",
       "\t<tr><td>13</td><td>4</td><td>AS_4</td><td>AS</td><td>P</td><td>Post</td><td>R </td><td>NR</td><td>Lung_Function</td><td>FEV1</td><td>4.99</td></tr>\n",
       "\t<tr><td>15</td><td>5</td><td>AS_5</td><td>AS</td><td>P</td><td>Post</td><td>R </td><td>NR</td><td>Lung_Function</td><td>FEV1</td><td>2.93</td></tr>\n",
       "\t<tr><td>16</td><td>6</td><td>AS_6</td><td>AS</td><td>P</td><td>Post</td><td>NR</td><td>NR</td><td>Lung_Function</td><td>FEV1</td><td>2.83</td></tr>\n",
       "</tbody>\n",
       "</table>\n"
      ],
      "text/latex": [
       "A tibble: 6 × 11\n",
       "\\begin{tabular}{lllllllllll}\n",
       " Original\\_Subject\\_No & Subject\\_No & Subject\\_ID & Disease\\_Status & Sample\\_Type & Time\\_Point & Inflammatory\\_Responder & Lung\\_Responder & Category & Variable & Value\\\\\n",
       " <dbl> & <dbl> & <chr> & <chr> & <chr> & <chr> & <chr> & <chr> & <chr> & <chr> & <dbl>\\\\\n",
       "\\hline\n",
       "\t  4 & 1 & AS\\_1 & AS & P & Post & NR & NR & Lung\\_Function & FEV1 & 4.39\\\\\n",
       "\t  7 & 2 & AS\\_2 & AS & P & Post & R  & NR & Lung\\_Function & FEV1 & 2.96\\\\\n",
       "\t 11 & 3 & AS\\_3 & AS & P & Post & NR & R  & Lung\\_Function & FEV1 & 4.24\\\\\n",
       "\t 13 & 4 & AS\\_4 & AS & P & Post & R  & NR & Lung\\_Function & FEV1 & 4.99\\\\\n",
       "\t 15 & 5 & AS\\_5 & AS & P & Post & R  & NR & Lung\\_Function & FEV1 & 2.93\\\\\n",
       "\t 16 & 6 & AS\\_6 & AS & P & Post & NR & NR & Lung\\_Function & FEV1 & 2.83\\\\\n",
       "\\end{tabular}\n"
      ],
      "text/markdown": [
       "\n",
       "A tibble: 6 × 11\n",
       "\n",
       "| Original_Subject_No &lt;dbl&gt; | Subject_No &lt;dbl&gt; | Subject_ID &lt;chr&gt; | Disease_Status &lt;chr&gt; | Sample_Type &lt;chr&gt; | Time_Point &lt;chr&gt; | Inflammatory_Responder &lt;chr&gt; | Lung_Responder &lt;chr&gt; | Category &lt;chr&gt; | Variable &lt;chr&gt; | Value &lt;dbl&gt; |\n",
       "|---|---|---|---|---|---|---|---|---|---|---|\n",
       "|  4 | 1 | AS_1 | AS | P | Post | NR | NR | Lung_Function | FEV1 | 4.39 |\n",
       "|  7 | 2 | AS_2 | AS | P | Post | R  | NR | Lung_Function | FEV1 | 2.96 |\n",
       "| 11 | 3 | AS_3 | AS | P | Post | NR | R  | Lung_Function | FEV1 | 4.24 |\n",
       "| 13 | 4 | AS_4 | AS | P | Post | R  | NR | Lung_Function | FEV1 | 4.99 |\n",
       "| 15 | 5 | AS_5 | AS | P | Post | R  | NR | Lung_Function | FEV1 | 2.93 |\n",
       "| 16 | 6 | AS_6 | AS | P | Post | NR | NR | Lung_Function | FEV1 | 2.83 |\n",
       "\n"
      ],
      "text/plain": [
       "  Original_Subject_No Subject_No Subject_ID Disease_Status Sample_Type\n",
       "1  4                  1          AS_1       AS             P          \n",
       "2  7                  2          AS_2       AS             P          \n",
       "3 11                  3          AS_3       AS             P          \n",
       "4 13                  4          AS_4       AS             P          \n",
       "5 15                  5          AS_5       AS             P          \n",
       "6 16                  6          AS_6       AS             P          \n",
       "  Time_Point Inflammatory_Responder Lung_Responder Category      Variable Value\n",
       "1 Post       NR                     NR             Lung_Function FEV1     4.39 \n",
       "2 Post       R                      NR             Lung_Function FEV1     2.96 \n",
       "3 Post       NR                     R              Lung_Function FEV1     4.24 \n",
       "4 Post       R                      NR             Lung_Function FEV1     4.99 \n",
       "5 Post       R                      NR             Lung_Function FEV1     2.93 \n",
       "6 Post       NR                     NR             Lung_Function FEV1     2.83 "
      ]
     },
     "metadata": {},
     "output_type": "display_data"
    }
   ],
   "source": [
    "head(lung_function_plasma_post_df)"
   ]
  },
  {
   "cell_type": "code",
   "execution_count": 9,
   "id": "clean-electricity",
   "metadata": {},
   "outputs": [
    {
     "name": "stdout",
     "output_type": "stream",
     "text": [
      "  missForest iteration 1 in progress...done!\n",
      "  missForest iteration 2 in progress...done!\n",
      "  missForest iteration 1 in progress...done!\n",
      "  missForest iteration 2 in progress...done!\n",
      "  missForest iteration 1 in progress...done!\n",
      "  missForest iteration 2 in progress...done!\n",
      "  missForest iteration 3 in progress...done!\n",
      "  missForest iteration 4 in progress...done!\n",
      "  missForest iteration 1 in progress...done!\n",
      "  missForest iteration 2 in progress...done!\n",
      "  missForest iteration 3 in progress...done!\n",
      "  missForest iteration 4 in progress...done!\n"
     ]
    },
    {
     "data": {
      "text/html": [
       "<table class=\"dataframe\">\n",
       "<caption>A data.frame: 6 × 14</caption>\n",
       "<thead>\n",
       "\t<tr><th></th><th scope=col>Original_Subject_No</th><th scope=col>Subject_No</th><th scope=col>Subject_ID</th><th scope=col>Disease_Status</th><th scope=col>Sample_Type</th><th scope=col>Time_Point</th><th scope=col>Inflammatory_Responder</th><th scope=col>Lung_Responder</th><th scope=col>Category</th><th scope=col>FEV1</th><th scope=col>FEV1_Percent</th><th scope=col>FEV1_Change</th><th scope=col>FVC1</th><th scope=col>FVC1_Percent</th></tr>\n",
       "\t<tr><th></th><th scope=col>&lt;dbl&gt;</th><th scope=col>&lt;dbl&gt;</th><th scope=col>&lt;chr&gt;</th><th scope=col>&lt;chr&gt;</th><th scope=col>&lt;chr&gt;</th><th scope=col>&lt;chr&gt;</th><th scope=col>&lt;chr&gt;</th><th scope=col>&lt;chr&gt;</th><th scope=col>&lt;chr&gt;</th><th scope=col>&lt;dbl&gt;</th><th scope=col>&lt;dbl&gt;</th><th scope=col>&lt;dbl&gt;</th><th scope=col>&lt;dbl&gt;</th><th scope=col>&lt;dbl&gt;</th></tr>\n",
       "</thead>\n",
       "<tbody>\n",
       "\t<tr><th scope=row>1</th><td> 4</td><td>1</td><td>AS_1</td><td>AS</td><td>P</td><td>Post</td><td>NR</td><td>NR</td><td>Lung_Function</td><td>4.39</td><td> 82</td><td>-4</td><td>4.41</td><td> 68</td></tr>\n",
       "\t<tr><th scope=row>2</th><td> 7</td><td>2</td><td>AS_2</td><td>AS</td><td>P</td><td>Post</td><td>R </td><td>NR</td><td>Lung_Function</td><td>2.96</td><td> 99</td><td>-4</td><td>3.17</td><td> 88</td></tr>\n",
       "\t<tr><th scope=row>3</th><td>11</td><td>3</td><td>AS_3</td><td>AS</td><td>P</td><td>Post</td><td>NR</td><td>R </td><td>Lung_Function</td><td>4.24</td><td> 87</td><td>-5</td><td>4.37</td><td> 77</td></tr>\n",
       "\t<tr><th scope=row>4</th><td>13</td><td>4</td><td>AS_4</td><td>AS</td><td>P</td><td>Post</td><td>R </td><td>NR</td><td>Lung_Function</td><td>4.99</td><td>110</td><td> 2</td><td>5.26</td><td>100</td></tr>\n",
       "\t<tr><th scope=row>5</th><td>15</td><td>5</td><td>AS_5</td><td>AS</td><td>P</td><td>Post</td><td>R </td><td>NR</td><td>Lung_Function</td><td>2.93</td><td> 83</td><td> 1</td><td>3.07</td><td> 78</td></tr>\n",
       "\t<tr><th scope=row>6</th><td>16</td><td>6</td><td>AS_6</td><td>AS</td><td>P</td><td>Post</td><td>NR</td><td>NR</td><td>Lung_Function</td><td>2.83</td><td> 99</td><td> 0</td><td>2.86</td><td> 87</td></tr>\n",
       "</tbody>\n",
       "</table>\n"
      ],
      "text/latex": [
       "A data.frame: 6 × 14\n",
       "\\begin{tabular}{r|llllllllllllll}\n",
       "  & Original\\_Subject\\_No & Subject\\_No & Subject\\_ID & Disease\\_Status & Sample\\_Type & Time\\_Point & Inflammatory\\_Responder & Lung\\_Responder & Category & FEV1 & FEV1\\_Percent & FEV1\\_Change & FVC1 & FVC1\\_Percent\\\\\n",
       "  & <dbl> & <dbl> & <chr> & <chr> & <chr> & <chr> & <chr> & <chr> & <chr> & <dbl> & <dbl> & <dbl> & <dbl> & <dbl>\\\\\n",
       "\\hline\n",
       "\t1 &  4 & 1 & AS\\_1 & AS & P & Post & NR & NR & Lung\\_Function & 4.39 &  82 & -4 & 4.41 &  68\\\\\n",
       "\t2 &  7 & 2 & AS\\_2 & AS & P & Post & R  & NR & Lung\\_Function & 2.96 &  99 & -4 & 3.17 &  88\\\\\n",
       "\t3 & 11 & 3 & AS\\_3 & AS & P & Post & NR & R  & Lung\\_Function & 4.24 &  87 & -5 & 4.37 &  77\\\\\n",
       "\t4 & 13 & 4 & AS\\_4 & AS & P & Post & R  & NR & Lung\\_Function & 4.99 & 110 &  2 & 5.26 & 100\\\\\n",
       "\t5 & 15 & 5 & AS\\_5 & AS & P & Post & R  & NR & Lung\\_Function & 2.93 &  83 &  1 & 3.07 &  78\\\\\n",
       "\t6 & 16 & 6 & AS\\_6 & AS & P & Post & NR & NR & Lung\\_Function & 2.83 &  99 &  0 & 2.86 &  87\\\\\n",
       "\\end{tabular}\n"
      ],
      "text/markdown": [
       "\n",
       "A data.frame: 6 × 14\n",
       "\n",
       "| <!--/--> | Original_Subject_No &lt;dbl&gt; | Subject_No &lt;dbl&gt; | Subject_ID &lt;chr&gt; | Disease_Status &lt;chr&gt; | Sample_Type &lt;chr&gt; | Time_Point &lt;chr&gt; | Inflammatory_Responder &lt;chr&gt; | Lung_Responder &lt;chr&gt; | Category &lt;chr&gt; | FEV1 &lt;dbl&gt; | FEV1_Percent &lt;dbl&gt; | FEV1_Change &lt;dbl&gt; | FVC1 &lt;dbl&gt; | FVC1_Percent &lt;dbl&gt; |\n",
       "|---|---|---|---|---|---|---|---|---|---|---|---|---|---|---|\n",
       "| 1 |  4 | 1 | AS_1 | AS | P | Post | NR | NR | Lung_Function | 4.39 |  82 | -4 | 4.41 |  68 |\n",
       "| 2 |  7 | 2 | AS_2 | AS | P | Post | R  | NR | Lung_Function | 2.96 |  99 | -4 | 3.17 |  88 |\n",
       "| 3 | 11 | 3 | AS_3 | AS | P | Post | NR | R  | Lung_Function | 4.24 |  87 | -5 | 4.37 |  77 |\n",
       "| 4 | 13 | 4 | AS_4 | AS | P | Post | R  | NR | Lung_Function | 4.99 | 110 |  2 | 5.26 | 100 |\n",
       "| 5 | 15 | 5 | AS_5 | AS | P | Post | R  | NR | Lung_Function | 2.93 |  83 |  1 | 3.07 |  78 |\n",
       "| 6 | 16 | 6 | AS_6 | AS | P | Post | NR | NR | Lung_Function | 2.83 |  99 |  0 | 2.86 |  87 |\n",
       "\n"
      ],
      "text/plain": [
       "  Original_Subject_No Subject_No Subject_ID Disease_Status Sample_Type\n",
       "1  4                  1          AS_1       AS             P          \n",
       "2  7                  2          AS_2       AS             P          \n",
       "3 11                  3          AS_3       AS             P          \n",
       "4 13                  4          AS_4       AS             P          \n",
       "5 15                  5          AS_5       AS             P          \n",
       "6 16                  6          AS_6       AS             P          \n",
       "  Time_Point Inflammatory_Responder Lung_Responder Category      FEV1\n",
       "1 Post       NR                     NR             Lung_Function 4.39\n",
       "2 Post       R                      NR             Lung_Function 2.96\n",
       "3 Post       NR                     R              Lung_Function 4.24\n",
       "4 Post       R                      NR             Lung_Function 4.99\n",
       "5 Post       R                      NR             Lung_Function 2.93\n",
       "6 Post       NR                     NR             Lung_Function 2.83\n",
       "  FEV1_Percent FEV1_Change FVC1 FVC1_Percent\n",
       "1  82          -4          4.41  68         \n",
       "2  99          -4          3.17  88         \n",
       "3  87          -5          4.37  77         \n",
       "4 110           2          5.26 100         \n",
       "5  83           1          3.07  78         \n",
       "6  99           0          2.86  87         "
      ]
     },
     "metadata": {},
     "output_type": "display_data"
    }
   ],
   "source": [
    "#imputing lung function data using RF\n",
    "random_forest_imputation = function(dataset){\n",
    "    wider_dataset = dataset %>%\n",
    "        pivot_wider(names_from = Variable, values_from = Value)\n",
    "    imputed_RF_object = missForest(as.matrix(wider_dataset[,10:14]))\n",
    "    imputed_RF_df = imputed_RF_object$ximp\n",
    "    imputed_final_df = data.frame(cbind(wider_dataset[,1:9], imputed_RF_df)) #%>%\n",
    "        #pivot_longer(cols = 10:14, names_to = \"Variable\", values_to = \"Value\")\n",
    "    \n",
    "    return(imputed_final_df)\n",
    "}\n",
    "\n",
    "#calling fn\n",
    "imputed_lung_function_plasma_post_df = random_forest_imputation(lung_function_plasma_post_df)\n",
    "imputed_lung_function_plasma_pre_df = random_forest_imputation(lung_function_plasma_pre_df)\n",
    "imputed_lung_function_sputum_post_df = random_forest_imputation(lung_function_sputum_post_df)\n",
    "imputed_lung_function_sputum_pre_df = random_forest_imputation(lung_function_sputum_pre_df)\n",
    "\n",
    "head(imputed_lung_function_plasma_post_df)"
   ]
  },
  {
   "cell_type": "markdown",
   "id": "silver-porcelain",
   "metadata": {},
   "source": [
    "# QRILC Imputation"
   ]
  },
  {
   "cell_type": "code",
   "execution_count": 10,
   "id": "patient-interval",
   "metadata": {},
   "outputs": [
    {
     "data": {
      "text/html": [
       "<table class=\"dataframe\">\n",
       "<caption>A tibble: 6 × 11</caption>\n",
       "<thead>\n",
       "\t<tr><th scope=col>Original_Subject_No</th><th scope=col>Subject_No</th><th scope=col>Subject_ID</th><th scope=col>Disease_Status</th><th scope=col>Sample_Type</th><th scope=col>Time_Point</th><th scope=col>Inflammatory_Responder</th><th scope=col>Lung_Responder</th><th scope=col>Category</th><th scope=col>Variable</th><th scope=col>Value</th></tr>\n",
       "\t<tr><th scope=col>&lt;dbl&gt;</th><th scope=col>&lt;dbl&gt;</th><th scope=col>&lt;chr&gt;</th><th scope=col>&lt;chr&gt;</th><th scope=col>&lt;chr&gt;</th><th scope=col>&lt;chr&gt;</th><th scope=col>&lt;chr&gt;</th><th scope=col>&lt;chr&gt;</th><th scope=col>&lt;chr&gt;</th><th scope=col>&lt;chr&gt;</th><th scope=col>&lt;dbl&gt;</th></tr>\n",
       "</thead>\n",
       "<tbody>\n",
       "\t<tr><td> 4</td><td>1</td><td>AS_1</td><td>AS</td><td>P</td><td>Post</td><td>NR</td><td>NR</td><td>Cell_Differential</td><td>Sample_Weight</td><td> 817</td></tr>\n",
       "\t<tr><td> 7</td><td>2</td><td>AS_2</td><td>AS</td><td>P</td><td>Post</td><td>R </td><td>NR</td><td>Cell_Differential</td><td>Sample_Weight</td><td>7992</td></tr>\n",
       "\t<tr><td>11</td><td>3</td><td>AS_3</td><td>AS</td><td>P</td><td>Post</td><td>NR</td><td>R </td><td>Cell_Differential</td><td>Sample_Weight</td><td>2791</td></tr>\n",
       "\t<tr><td>13</td><td>4</td><td>AS_4</td><td>AS</td><td>P</td><td>Post</td><td>R </td><td>NR</td><td>Cell_Differential</td><td>Sample_Weight</td><td>3530</td></tr>\n",
       "\t<tr><td>15</td><td>5</td><td>AS_5</td><td>AS</td><td>P</td><td>Post</td><td>R </td><td>NR</td><td>Cell_Differential</td><td>Sample_Weight</td><td>3830</td></tr>\n",
       "\t<tr><td>16</td><td>6</td><td>AS_6</td><td>AS</td><td>P</td><td>Post</td><td>NR</td><td>NR</td><td>Cell_Differential</td><td>Sample_Weight</td><td>3287</td></tr>\n",
       "</tbody>\n",
       "</table>\n"
      ],
      "text/latex": [
       "A tibble: 6 × 11\n",
       "\\begin{tabular}{lllllllllll}\n",
       " Original\\_Subject\\_No & Subject\\_No & Subject\\_ID & Disease\\_Status & Sample\\_Type & Time\\_Point & Inflammatory\\_Responder & Lung\\_Responder & Category & Variable & Value\\\\\n",
       " <dbl> & <dbl> & <chr> & <chr> & <chr> & <chr> & <chr> & <chr> & <chr> & <chr> & <dbl>\\\\\n",
       "\\hline\n",
       "\t  4 & 1 & AS\\_1 & AS & P & Post & NR & NR & Cell\\_Differential & Sample\\_Weight &  817\\\\\n",
       "\t  7 & 2 & AS\\_2 & AS & P & Post & R  & NR & Cell\\_Differential & Sample\\_Weight & 7992\\\\\n",
       "\t 11 & 3 & AS\\_3 & AS & P & Post & NR & R  & Cell\\_Differential & Sample\\_Weight & 2791\\\\\n",
       "\t 13 & 4 & AS\\_4 & AS & P & Post & R  & NR & Cell\\_Differential & Sample\\_Weight & 3530\\\\\n",
       "\t 15 & 5 & AS\\_5 & AS & P & Post & R  & NR & Cell\\_Differential & Sample\\_Weight & 3830\\\\\n",
       "\t 16 & 6 & AS\\_6 & AS & P & Post & NR & NR & Cell\\_Differential & Sample\\_Weight & 3287\\\\\n",
       "\\end{tabular}\n"
      ],
      "text/markdown": [
       "\n",
       "A tibble: 6 × 11\n",
       "\n",
       "| Original_Subject_No &lt;dbl&gt; | Subject_No &lt;dbl&gt; | Subject_ID &lt;chr&gt; | Disease_Status &lt;chr&gt; | Sample_Type &lt;chr&gt; | Time_Point &lt;chr&gt; | Inflammatory_Responder &lt;chr&gt; | Lung_Responder &lt;chr&gt; | Category &lt;chr&gt; | Variable &lt;chr&gt; | Value &lt;dbl&gt; |\n",
       "|---|---|---|---|---|---|---|---|---|---|---|\n",
       "|  4 | 1 | AS_1 | AS | P | Post | NR | NR | Cell_Differential | Sample_Weight |  817 |\n",
       "|  7 | 2 | AS_2 | AS | P | Post | R  | NR | Cell_Differential | Sample_Weight | 7992 |\n",
       "| 11 | 3 | AS_3 | AS | P | Post | NR | R  | Cell_Differential | Sample_Weight | 2791 |\n",
       "| 13 | 4 | AS_4 | AS | P | Post | R  | NR | Cell_Differential | Sample_Weight | 3530 |\n",
       "| 15 | 5 | AS_5 | AS | P | Post | R  | NR | Cell_Differential | Sample_Weight | 3830 |\n",
       "| 16 | 6 | AS_6 | AS | P | Post | NR | NR | Cell_Differential | Sample_Weight | 3287 |\n",
       "\n"
      ],
      "text/plain": [
       "  Original_Subject_No Subject_No Subject_ID Disease_Status Sample_Type\n",
       "1  4                  1          AS_1       AS             P          \n",
       "2  7                  2          AS_2       AS             P          \n",
       "3 11                  3          AS_3       AS             P          \n",
       "4 13                  4          AS_4       AS             P          \n",
       "5 15                  5          AS_5       AS             P          \n",
       "6 16                  6          AS_6       AS             P          \n",
       "  Time_Point Inflammatory_Responder Lung_Responder Category         \n",
       "1 Post       NR                     NR             Cell_Differential\n",
       "2 Post       R                      NR             Cell_Differential\n",
       "3 Post       NR                     R              Cell_Differential\n",
       "4 Post       R                      NR             Cell_Differential\n",
       "5 Post       R                      NR             Cell_Differential\n",
       "6 Post       NR                     NR             Cell_Differential\n",
       "  Variable      Value\n",
       "1 Sample_Weight  817 \n",
       "2 Sample_Weight 7992 \n",
       "3 Sample_Weight 2791 \n",
       "4 Sample_Weight 3530 \n",
       "5 Sample_Weight 3830 \n",
       "6 Sample_Weight 3287 "
      ]
     },
     "metadata": {},
     "output_type": "display_data"
    }
   ],
   "source": [
    "head(cell_differential_plasma_post_df)"
   ]
  },
  {
   "cell_type": "code",
   "execution_count": 33,
   "id": "generic-confusion",
   "metadata": {},
   "outputs": [
    {
     "name": "stderr",
     "output_type": "stream",
     "text": [
      "Warning message in (function (x) :\n",
      "“NaNs produced”\n",
      "Warning message in (function (x) :\n",
      "“NaNs produced”\n",
      "Warning message in (function (x) :\n",
      "“NaNs produced”\n",
      "Warning message in (function (x) :\n",
      "“NaNs produced”\n"
     ]
    },
    {
     "ename": "ERROR",
     "evalue": "Error in checkSymmetricPositiveDefinite(sigma): sigma all diagonal elements must be positive\n",
     "output_type": "error",
     "traceback": [
      "Error in checkSymmetricPositiveDefinite(sigma): sigma all diagonal elements must be positive\nTraceback:\n",
      "1. QRILC_imputation(sterol_sputum_post_df, 27)",
      "2. impute.QRILC(QRILC_prep, tune.sigma = 0.001)   # at line 11 of file <text>",
      "3. rtmvnorm(n = nFeatures, mean = mean.CDD, sigma = sd.CDD * tune.sigma, \n .     upper = qnorm((pNAs + 0.001), mean = mean.CDD, sd = sd.CDD), \n .     algorithm = c(\"gibbs\"))",
      "4. checkTmvArgs(mean, sigma, lower, upper)",
      "5. checkSymmetricPositiveDefinite(sigma)",
      "6. stop(sprintf(\"%s all diagonal elements must be positive\", name))"
     ]
    }
   ],
   "source": [
    "#imputing lung function data using RF\n",
    "QRILC_imputation = function(dataset, number_of_variables){\n",
    "    wider_dataset = dataset %>%\n",
    "        pivot_wider(names_from = Variable, values_from = Value)\n",
    "    \n",
    "    #normalizing data since that what the QRILC function wants\n",
    "    #had to pseudo log transform to prevent Inf values\n",
    "    QRILC_prep = wider_dataset[,10:all_of(number_of_variables)] %>%\n",
    "         mutate_all(., function(x) log10(x + 1)) %>%\n",
    "         as.matrix()\n",
    "    imputed_QRILC_object = impute.QRILC(QRILC_prep, tune.sigma = 0.001)\n",
    "    QRILC_log10_df = data.frame(imputed_QRILC_object[1]) \n",
    "    \n",
    "    #converting back the original scale\n",
    "    QRILC_df = QRILC_log10_df %>%\n",
    "        mutate_all(., function(x) 10^x - 1)\n",
    "                   \n",
    "    imputed_dataset = data.frame(cbind(dataset[,1:9], QRILC_df)) %>%\n",
    "        pivot_longer(cols = 10:all_of(number_of_variables), names_to = \"Variable\", values_to = \"Value\")\n",
    "    \n",
    "    return(imputed_dataset)\n",
    "}\n",
    "\n",
    "#calling fn\n",
    "imputed_cell_differential_plasma_post_df = QRILC_imputation(cell_differential_plasma_post_df, 24)\n",
    "imputed_cell_differential_plasma_pre_df = QRILC_imputation(cell_differential_plasma_pre_df, 24)\n",
    "imputed_cell_differential_sputum_post_df = QRILC_imputation(cell_differential_sputum_post_df, 24)\n",
    "imputed_cell_differential_sputum_pre_df = QRILC_imputation(cell_differential_sputum_pre_df, 24)\n",
    "imputed_cytokine_plasma_post_df = QRILC_imputation(cytokine_plasma_post_df, 39)\n",
    "imputed_cytokine_plasma_pre_df = QRILC_imputation(cytokine_plasma_pre_df, 39)\n",
    "imputed_cytokine_sputum_post_df = QRILC_imputation(cytokine_sputum_post_df, 39)\n",
    "imputed_cytokine_sputum_pre_df = QRILC_imputation(cytokine_sputum_pre_df, 39)\n",
    "imputed_sterol_plasma_post_df = QRILC_imputation(sterol_plasma_post_df, 27)\n",
    "imputed_sterol_plasma_pre_df = QRILC_imputation(sterol_plasma_pre_df, 27)\n",
    "imputed_sterol_sputum_post_df = QRILC_imputation(sterol_sputum_post_df, 27)\n",
    "imputed_sterol_sputum_pre_df = QRILC_imputation(sterol_sputum_pre_df, 27)"
   ]
  },
  {
   "cell_type": "code",
   "execution_count": 31,
   "id": "august-refund",
   "metadata": {},
   "outputs": [
    {
     "data": {
      "text/html": [
       "<table class=\"dataframe\">\n",
       "<caption>A tibble: 6 × 11</caption>\n",
       "<thead>\n",
       "\t<tr><th scope=col>Original_Subject_No</th><th scope=col>Subject_No</th><th scope=col>Subject_ID</th><th scope=col>Disease_Status</th><th scope=col>Sample_Type</th><th scope=col>Time_Point</th><th scope=col>Inflammatory_Responder</th><th scope=col>Lung_Responder</th><th scope=col>Category</th><th scope=col>Variable</th><th scope=col>Value</th></tr>\n",
       "\t<tr><th scope=col>&lt;dbl&gt;</th><th scope=col>&lt;dbl&gt;</th><th scope=col>&lt;chr&gt;</th><th scope=col>&lt;chr&gt;</th><th scope=col>&lt;chr&gt;</th><th scope=col>&lt;chr&gt;</th><th scope=col>&lt;chr&gt;</th><th scope=col>&lt;chr&gt;</th><th scope=col>&lt;chr&gt;</th><th scope=col>&lt;chr&gt;</th><th scope=col>&lt;dbl&gt;</th></tr>\n",
       "</thead>\n",
       "<tbody>\n",
       "\t<tr><td>4</td><td>1</td><td>AS_1</td><td>AS</td><td>P</td><td>Post</td><td>NR</td><td>NR</td><td>Cell_Differential</td><td>Sample_Weight      </td><td>   817.00</td></tr>\n",
       "\t<tr><td>4</td><td>1</td><td>AS_1</td><td>AS</td><td>P</td><td>Post</td><td>NR</td><td>NR</td><td>Cell_Differential</td><td>TCC                </td><td>395000.00</td></tr>\n",
       "\t<tr><td>4</td><td>1</td><td>AS_1</td><td>AS</td><td>P</td><td>Post</td><td>NR</td><td>NR</td><td>Cell_Differential</td><td>TCC_Weight         </td><td>   483.48</td></tr>\n",
       "\t<tr><td>4</td><td>1</td><td>AS_1</td><td>AS</td><td>P</td><td>Post</td><td>NR</td><td>NR</td><td>Cell_Differential</td><td>Neutrophils_Percent</td><td>    25.00</td></tr>\n",
       "\t<tr><td>4</td><td>1</td><td>AS_1</td><td>AS</td><td>P</td><td>Post</td><td>NR</td><td>NR</td><td>Cell_Differential</td><td>Neutrophils        </td><td> 98750.00</td></tr>\n",
       "\t<tr><td>4</td><td>1</td><td>AS_1</td><td>AS</td><td>P</td><td>Post</td><td>NR</td><td>NR</td><td>Cell_Differential</td><td>Neutrophils_Weight </td><td>   121.00</td></tr>\n",
       "</tbody>\n",
       "</table>\n"
      ],
      "text/latex": [
       "A tibble: 6 × 11\n",
       "\\begin{tabular}{lllllllllll}\n",
       " Original\\_Subject\\_No & Subject\\_No & Subject\\_ID & Disease\\_Status & Sample\\_Type & Time\\_Point & Inflammatory\\_Responder & Lung\\_Responder & Category & Variable & Value\\\\\n",
       " <dbl> & <dbl> & <chr> & <chr> & <chr> & <chr> & <chr> & <chr> & <chr> & <chr> & <dbl>\\\\\n",
       "\\hline\n",
       "\t 4 & 1 & AS\\_1 & AS & P & Post & NR & NR & Cell\\_Differential & Sample\\_Weight       &    817.00\\\\\n",
       "\t 4 & 1 & AS\\_1 & AS & P & Post & NR & NR & Cell\\_Differential & TCC                 & 395000.00\\\\\n",
       "\t 4 & 1 & AS\\_1 & AS & P & Post & NR & NR & Cell\\_Differential & TCC\\_Weight          &    483.48\\\\\n",
       "\t 4 & 1 & AS\\_1 & AS & P & Post & NR & NR & Cell\\_Differential & Neutrophils\\_Percent &     25.00\\\\\n",
       "\t 4 & 1 & AS\\_1 & AS & P & Post & NR & NR & Cell\\_Differential & Neutrophils         &  98750.00\\\\\n",
       "\t 4 & 1 & AS\\_1 & AS & P & Post & NR & NR & Cell\\_Differential & Neutrophils\\_Weight  &    121.00\\\\\n",
       "\\end{tabular}\n"
      ],
      "text/markdown": [
       "\n",
       "A tibble: 6 × 11\n",
       "\n",
       "| Original_Subject_No &lt;dbl&gt; | Subject_No &lt;dbl&gt; | Subject_ID &lt;chr&gt; | Disease_Status &lt;chr&gt; | Sample_Type &lt;chr&gt; | Time_Point &lt;chr&gt; | Inflammatory_Responder &lt;chr&gt; | Lung_Responder &lt;chr&gt; | Category &lt;chr&gt; | Variable &lt;chr&gt; | Value &lt;dbl&gt; |\n",
       "|---|---|---|---|---|---|---|---|---|---|---|\n",
       "| 4 | 1 | AS_1 | AS | P | Post | NR | NR | Cell_Differential | Sample_Weight       |    817.00 |\n",
       "| 4 | 1 | AS_1 | AS | P | Post | NR | NR | Cell_Differential | TCC                 | 395000.00 |\n",
       "| 4 | 1 | AS_1 | AS | P | Post | NR | NR | Cell_Differential | TCC_Weight          |    483.48 |\n",
       "| 4 | 1 | AS_1 | AS | P | Post | NR | NR | Cell_Differential | Neutrophils_Percent |     25.00 |\n",
       "| 4 | 1 | AS_1 | AS | P | Post | NR | NR | Cell_Differential | Neutrophils         |  98750.00 |\n",
       "| 4 | 1 | AS_1 | AS | P | Post | NR | NR | Cell_Differential | Neutrophils_Weight  |    121.00 |\n",
       "\n"
      ],
      "text/plain": [
       "  Original_Subject_No Subject_No Subject_ID Disease_Status Sample_Type\n",
       "1 4                   1          AS_1       AS             P          \n",
       "2 4                   1          AS_1       AS             P          \n",
       "3 4                   1          AS_1       AS             P          \n",
       "4 4                   1          AS_1       AS             P          \n",
       "5 4                   1          AS_1       AS             P          \n",
       "6 4                   1          AS_1       AS             P          \n",
       "  Time_Point Inflammatory_Responder Lung_Responder Category         \n",
       "1 Post       NR                     NR             Cell_Differential\n",
       "2 Post       NR                     NR             Cell_Differential\n",
       "3 Post       NR                     NR             Cell_Differential\n",
       "4 Post       NR                     NR             Cell_Differential\n",
       "5 Post       NR                     NR             Cell_Differential\n",
       "6 Post       NR                     NR             Cell_Differential\n",
       "  Variable            Value    \n",
       "1 Sample_Weight          817.00\n",
       "2 TCC                 395000.00\n",
       "3 TCC_Weight             483.48\n",
       "4 Neutrophils_Percent     25.00\n",
       "5 Neutrophils          98750.00\n",
       "6 Neutrophils_Weight     121.00"
      ]
     },
     "metadata": {},
     "output_type": "display_data"
    }
   ],
   "source": [
    "head(imputed_cell_differential_plasma_post_df)"
   ]
  },
  {
   "cell_type": "code",
   "execution_count": null,
   "id": "ceramic-answer",
   "metadata": {},
   "outputs": [],
   "source": []
  }
 ],
 "metadata": {
  "kernelspec": {
   "display_name": "R",
   "language": "R",
   "name": "ir"
  },
  "language_info": {
   "codemirror_mode": "r",
   "file_extension": ".r",
   "mimetype": "text/x-r-source",
   "name": "R",
   "pygments_lexer": "r",
   "version": "3.6.3"
  }
 },
 "nbformat": 4,
 "nbformat_minor": 5
}
