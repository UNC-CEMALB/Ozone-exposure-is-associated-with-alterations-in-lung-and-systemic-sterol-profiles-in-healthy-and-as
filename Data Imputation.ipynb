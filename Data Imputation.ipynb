{
 "cells": [
  {
   "cell_type": "code",
   "execution_count": 1,
   "id": "fiscal-sarah",
   "metadata": {},
   "outputs": [],
   "source": [
    "#had a lot of issues trying to install the \"imputeLCMD\" package, so this was how I did it\n",
    "# if (!requireNamespace(\"BiocManager\", quietly = TRUE))\n",
    "#     install.packages(\"BiocManager\")\n",
    "\n",
    "# BiocManager::install(c(\"impute\", \"pcaMethods\"))\n",
    "\n",
    "# install.packages(\"imputeLCMD\")"
   ]
  },
  {
   "cell_type": "code",
   "execution_count": 2,
   "id": "pregnant-publicity",
   "metadata": {},
   "outputs": [
    {
     "name": "stderr",
     "output_type": "stream",
     "text": [
      "Loading required package: tmvtnorm\n",
      "\n",
      "Loading required package: mvtnorm\n",
      "\n",
      "Loading required package: Matrix\n",
      "\n",
      "Loading required package: stats4\n",
      "\n",
      "Loading required package: gmm\n",
      "\n",
      "Loading required package: sandwich\n",
      "\n",
      "Loading required package: norm\n",
      "\n",
      "Loading required package: pcaMethods\n",
      "\n",
      "Loading required package: Biobase\n",
      "\n",
      "Loading required package: BiocGenerics\n",
      "\n",
      "Loading required package: parallel\n",
      "\n",
      "\n",
      "Attaching package: ‘BiocGenerics’\n",
      "\n",
      "\n",
      "The following objects are masked from ‘package:parallel’:\n",
      "\n",
      "    clusterApply, clusterApplyLB, clusterCall, clusterEvalQ,\n",
      "    clusterExport, clusterMap, parApply, parCapply, parLapply,\n",
      "    parLapplyLB, parRapply, parSapply, parSapplyLB\n",
      "\n",
      "\n",
      "The following object is masked from ‘package:Matrix’:\n",
      "\n",
      "    which\n",
      "\n",
      "\n",
      "The following objects are masked from ‘package:stats’:\n",
      "\n",
      "    IQR, mad, sd, var, xtabs\n",
      "\n",
      "\n",
      "The following objects are masked from ‘package:base’:\n",
      "\n",
      "    Filter, Find, Map, Position, Reduce, anyDuplicated, append,\n",
      "    as.data.frame, basename, cbind, colnames, dirname, do.call,\n",
      "    duplicated, eval, evalq, get, grep, grepl, intersect, is.unsorted,\n",
      "    lapply, mapply, match, mget, order, paste, pmax, pmax.int, pmin,\n",
      "    pmin.int, rank, rbind, rownames, sapply, setdiff, sort, table,\n",
      "    tapply, union, unique, unsplit, which, which.max, which.min\n",
      "\n",
      "\n",
      "Welcome to Bioconductor\n",
      "\n",
      "    Vignettes contain introductory material; view with\n",
      "    'browseVignettes()'. To cite Bioconductor, see\n",
      "    'citation(\"Biobase\")', and for packages 'citation(\"pkgname\")'.\n",
      "\n",
      "\n",
      "\n",
      "Attaching package: ‘pcaMethods’\n",
      "\n",
      "\n",
      "The following object is masked from ‘package:stats’:\n",
      "\n",
      "    loadings\n",
      "\n",
      "\n",
      "Loading required package: impute\n",
      "\n",
      "── \u001b[1mAttaching packages\u001b[22m ─────────────────────────────────────── tidyverse 1.3.0 ──\n",
      "\n",
      "\u001b[32m✔\u001b[39m \u001b[34mggplot2\u001b[39m 3.3.3     \u001b[32m✔\u001b[39m \u001b[34mpurrr  \u001b[39m 0.3.4\n",
      "\u001b[32m✔\u001b[39m \u001b[34mtibble \u001b[39m 3.0.6     \u001b[32m✔\u001b[39m \u001b[34mdplyr  \u001b[39m 1.0.4\n",
      "\u001b[32m✔\u001b[39m \u001b[34mtidyr  \u001b[39m 1.1.2     \u001b[32m✔\u001b[39m \u001b[34mstringr\u001b[39m 1.4.0\n",
      "\u001b[32m✔\u001b[39m \u001b[34mreadr  \u001b[39m 1.4.0     \u001b[32m✔\u001b[39m \u001b[34mforcats\u001b[39m 0.5.1\n",
      "\n",
      "── \u001b[1mConflicts\u001b[22m ────────────────────────────────────────── tidyverse_conflicts() ──\n",
      "\u001b[31m✖\u001b[39m \u001b[34mggplot2\u001b[39m::\u001b[32mPosition()\u001b[39m masks \u001b[34mBiocGenerics\u001b[39m::Position(), \u001b[34mbase\u001b[39m::Position()\n",
      "\u001b[31m✖\u001b[39m \u001b[34mdplyr\u001b[39m::\u001b[32mcombine()\u001b[39m    masks \u001b[34mBiobase\u001b[39m::combine(), \u001b[34mBiocGenerics\u001b[39m::combine()\n",
      "\u001b[31m✖\u001b[39m \u001b[34mtidyr\u001b[39m::\u001b[32mexpand()\u001b[39m     masks \u001b[34mMatrix\u001b[39m::expand()\n",
      "\u001b[31m✖\u001b[39m \u001b[34mdplyr\u001b[39m::\u001b[32mfilter()\u001b[39m     masks \u001b[34mstats\u001b[39m::filter()\n",
      "\u001b[31m✖\u001b[39m \u001b[34mdplyr\u001b[39m::\u001b[32mlag()\u001b[39m        masks \u001b[34mstats\u001b[39m::lag()\n",
      "\u001b[31m✖\u001b[39m \u001b[34mtidyr\u001b[39m::\u001b[32mpack()\u001b[39m       masks \u001b[34mMatrix\u001b[39m::pack()\n",
      "\u001b[31m✖\u001b[39m \u001b[34mtidyr\u001b[39m::\u001b[32munpack()\u001b[39m     masks \u001b[34mMatrix\u001b[39m::unpack()\n",
      "\n"
     ]
    },
    {
     "ename": "ERROR",
     "evalue": "Error: `path` does not exist: ‘Ozone_Sterol_Asthma_data_011822.xlsx’\n",
     "output_type": "error",
     "traceback": [
      "Error: `path` does not exist: ‘Ozone_Sterol_Asthma_data_011822.xlsx’\nTraceback:\n",
      "1. data.frame(read_excel(\"Ozone_Sterol_Asthma_data_011822.xlsx\", \n .     sheet = 2))",
      "2. read_excel(\"Ozone_Sterol_Asthma_data_011822.xlsx\", sheet = 2)",
      "3. check_file(path)",
      "4. stop(\"`path` does not exist: \", sQuote(path), call. = FALSE)"
     ]
    }
   ],
   "source": [
    "setwd(\"/Users/alexis/University of North Carolina at Chapel Hill/Rager, Julia - CEMALB_DataAnalysisPM/Projects/P1003. Ozone Sterols Healthy Asthma/P1003.3. Analyses/P1003.3.1. Data Imputation/Input\")\n",
    "Output = ('/Users/alexis/University of North Carolina at Chapel Hill/Rager, Julia - CEMALB_DataAnalysisPM/Projects/P1003. Ozone Sterols Healthy Asthma/P1003.3. Analyses/P1003.3.1. Data Imputation/Output')\n",
    "cur_date = \"012722\"\n",
    "\n",
    "library(imputeLCMD)\n",
    "library(readxl)\n",
    "library(tidyverse)\n",
    "\n",
    "#reading in files\n",
    "ozone_data = data.frame(read_excel(\"Ozone_Sterol_Asthma_data_011822.xlsx\", sheet = 2)) "
   ]
  },
  {
   "cell_type": "code",
   "execution_count": null,
   "id": "metropolitan-metadata",
   "metadata": {},
   "outputs": [],
   "source": [
    "# Need to impute missing data, but the distribution needs to be normalized first\n",
    "ozone_data = ozone_data %>%\n",
    "    mutate(Value = ifelse(Value == \"NA\", NA, as.numeric(Value))) %>%\n",
    "    #removing all the changes and percent data, since it was throwing infinite (NaN) values and they're \n",
    "    #based on the raw data anyways\n",
    "    filter(grepl(\"_Change\", Variable) == FALSE & grepl(\"_Percent\", Variable) == FALSE) %>%\n",
    "    #ended up pseudo log transforming the data to prevent infinite (NaN) values\n",
    "    mutate(Value_log = log(Value)) \n",
    "\n",
    "head(ozone_data)"
   ]
  },
  {
   "cell_type": "code",
   "execution_count": 4,
   "id": "referenced-terror",
   "metadata": {},
   "outputs": [
    {
     "data": {
      "text/html": [
       "<table class=\"dataframe\">\n",
       "<caption>A data.frame: 6 × 11</caption>\n",
       "<thead>\n",
       "\t<tr><th></th><th scope=col>Original_Subject_No</th><th scope=col>Subject_No</th><th scope=col>Subject_ID</th><th scope=col>Disease_Status</th><th scope=col>Sample_Type</th><th scope=col>Time_Point</th><th scope=col>Inflammatory_Responder</th><th scope=col>Lung_Responder</th><th scope=col>Category</th><th scope=col>Variable</th><th scope=col>Value_log</th></tr>\n",
       "\t<tr><th></th><th scope=col>&lt;dbl&gt;</th><th scope=col>&lt;dbl&gt;</th><th scope=col>&lt;chr&gt;</th><th scope=col>&lt;chr&gt;</th><th scope=col>&lt;chr&gt;</th><th scope=col>&lt;chr&gt;</th><th scope=col>&lt;chr&gt;</th><th scope=col>&lt;chr&gt;</th><th scope=col>&lt;chr&gt;</th><th scope=col>&lt;chr&gt;</th><th scope=col>&lt;dbl&gt;</th></tr>\n",
       "</thead>\n",
       "<tbody>\n",
       "\t<tr><th scope=row>1</th><td>4</td><td>1</td><td>AS_ P_Post_1</td><td>AS</td><td>P</td><td>Post</td><td>NR</td><td>NR</td><td>Lung_Function</td><td>FEV1</td><td>1</td></tr>\n",
       "\t<tr><th scope=row>2</th><td>4</td><td>1</td><td>AS_ P_Pre_1 </td><td>AS</td><td>P</td><td>Pre </td><td>NR</td><td>NR</td><td>Lung_Function</td><td>FEV1</td><td>1</td></tr>\n",
       "\t<tr><th scope=row>3</th><td>4</td><td>1</td><td>AS_ S_Post_1</td><td>AS</td><td>S</td><td>Post</td><td>NR</td><td>NR</td><td>Lung_Function</td><td>FEV1</td><td>1</td></tr>\n",
       "\t<tr><th scope=row>4</th><td>4</td><td>1</td><td>AS_ S_Pre_1 </td><td>AS</td><td>S</td><td>Pre </td><td>NR</td><td>NR</td><td>Lung_Function</td><td>FEV1</td><td>0</td></tr>\n",
       "\t<tr><th scope=row>5</th><td>7</td><td>2</td><td>AS_ P_Post_2</td><td>AS</td><td>P</td><td>Post</td><td>R </td><td>NR</td><td>Lung_Function</td><td>FEV1</td><td>1</td></tr>\n",
       "\t<tr><th scope=row>6</th><td>7</td><td>2</td><td>AS_ P_Pre_2 </td><td>AS</td><td>P</td><td>Pre </td><td>R </td><td>NR</td><td>Lung_Function</td><td>FEV1</td><td>1</td></tr>\n",
       "</tbody>\n",
       "</table>\n"
      ],
      "text/latex": [
       "A data.frame: 6 × 11\n",
       "\\begin{tabular}{r|lllllllllll}\n",
       "  & Original\\_Subject\\_No & Subject\\_No & Subject\\_ID & Disease\\_Status & Sample\\_Type & Time\\_Point & Inflammatory\\_Responder & Lung\\_Responder & Category & Variable & Value\\_log\\\\\n",
       "  & <dbl> & <dbl> & <chr> & <chr> & <chr> & <chr> & <chr> & <chr> & <chr> & <chr> & <dbl>\\\\\n",
       "\\hline\n",
       "\t1 & 4 & 1 & AS\\_ P\\_Post\\_1 & AS & P & Post & NR & NR & Lung\\_Function & FEV1 & 1\\\\\n",
       "\t2 & 4 & 1 & AS\\_ P\\_Pre\\_1  & AS & P & Pre  & NR & NR & Lung\\_Function & FEV1 & 1\\\\\n",
       "\t3 & 4 & 1 & AS\\_ S\\_Post\\_1 & AS & S & Post & NR & NR & Lung\\_Function & FEV1 & 1\\\\\n",
       "\t4 & 4 & 1 & AS\\_ S\\_Pre\\_1  & AS & S & Pre  & NR & NR & Lung\\_Function & FEV1 & 0\\\\\n",
       "\t5 & 7 & 2 & AS\\_ P\\_Post\\_2 & AS & P & Post & R  & NR & Lung\\_Function & FEV1 & 1\\\\\n",
       "\t6 & 7 & 2 & AS\\_ P\\_Pre\\_2  & AS & P & Pre  & R  & NR & Lung\\_Function & FEV1 & 1\\\\\n",
       "\\end{tabular}\n"
      ],
      "text/markdown": [
       "\n",
       "A data.frame: 6 × 11\n",
       "\n",
       "| <!--/--> | Original_Subject_No &lt;dbl&gt; | Subject_No &lt;dbl&gt; | Subject_ID &lt;chr&gt; | Disease_Status &lt;chr&gt; | Sample_Type &lt;chr&gt; | Time_Point &lt;chr&gt; | Inflammatory_Responder &lt;chr&gt; | Lung_Responder &lt;chr&gt; | Category &lt;chr&gt; | Variable &lt;chr&gt; | Value_log &lt;dbl&gt; |\n",
       "|---|---|---|---|---|---|---|---|---|---|---|---|\n",
       "| 1 | 4 | 1 | AS_ P_Post_1 | AS | P | Post | NR | NR | Lung_Function | FEV1 | 1 |\n",
       "| 2 | 4 | 1 | AS_ P_Pre_1  | AS | P | Pre  | NR | NR | Lung_Function | FEV1 | 1 |\n",
       "| 3 | 4 | 1 | AS_ S_Post_1 | AS | S | Post | NR | NR | Lung_Function | FEV1 | 1 |\n",
       "| 4 | 4 | 1 | AS_ S_Pre_1  | AS | S | Pre  | NR | NR | Lung_Function | FEV1 | 0 |\n",
       "| 5 | 7 | 2 | AS_ P_Post_2 | AS | P | Post | R  | NR | Lung_Function | FEV1 | 1 |\n",
       "| 6 | 7 | 2 | AS_ P_Pre_2  | AS | P | Pre  | R  | NR | Lung_Function | FEV1 | 1 |\n",
       "\n"
      ],
      "text/plain": [
       "  Original_Subject_No Subject_No Subject_ID   Disease_Status Sample_Type\n",
       "1 4                   1          AS_ P_Post_1 AS             P          \n",
       "2 4                   1          AS_ P_Pre_1  AS             P          \n",
       "3 4                   1          AS_ S_Post_1 AS             S          \n",
       "4 4                   1          AS_ S_Pre_1  AS             S          \n",
       "5 7                   2          AS_ P_Post_2 AS             P          \n",
       "6 7                   2          AS_ P_Pre_2  AS             P          \n",
       "  Time_Point Inflammatory_Responder Lung_Responder Category      Variable\n",
       "1 Post       NR                     NR             Lung_Function FEV1    \n",
       "2 Pre        NR                     NR             Lung_Function FEV1    \n",
       "3 Post       NR                     NR             Lung_Function FEV1    \n",
       "4 Pre        NR                     NR             Lung_Function FEV1    \n",
       "5 Post       R                      NR             Lung_Function FEV1    \n",
       "6 Pre        R                      NR             Lung_Function FEV1    \n",
       "  Value_log\n",
       "1 1        \n",
       "2 1        \n",
       "3 1        \n",
       "4 0        \n",
       "5 1        \n",
       "6 1        "
      ]
     },
     "metadata": {},
     "output_type": "display_data"
    }
   ],
   "source": [
    "#LAUREN'S VERSION\n",
    "#Convert cytokine to binary (if the value is missing 0, if the value is present 1)\n",
    "missing_df <- ozone_data %>% \n",
    "    select(-Value) %>%\n",
    "    mutate(Value_log = ifelse(is.na(Value_log) == TRUE, 0, 1))\n",
    "\n",
    "head(missing_df)"
   ]
  },
  {
   "cell_type": "code",
   "execution_count": 5,
   "id": "satisfactory-terminology",
   "metadata": {},
   "outputs": [
    {
     "name": "stderr",
     "output_type": "stream",
     "text": [
      "`summarise()` has grouped output by 'Time_Point', 'Sample_Type'. You can override using the `.groups` argument.\n",
      "\n"
     ]
    },
    {
     "data": {
      "text/html": [
       "<table class=\"dataframe\">\n",
       "<caption>A grouped_df: 0 × 4</caption>\n",
       "<thead>\n",
       "\t<tr><th scope=col>Time_Point</th><th scope=col>Sample_Type</th><th scope=col>Variable</th><th scope=col>Value_Sum</th></tr>\n",
       "\t<tr><th scope=col>&lt;chr&gt;</th><th scope=col>&lt;chr&gt;</th><th scope=col>&lt;chr&gt;</th><th scope=col>&lt;dbl&gt;</th></tr>\n",
       "</thead>\n",
       "<tbody>\n",
       "</tbody>\n",
       "</table>\n"
      ],
      "text/latex": [
       "A grouped\\_df: 0 × 4\n",
       "\\begin{tabular}{llll}\n",
       " Time\\_Point & Sample\\_Type & Variable & Value\\_Sum\\\\\n",
       " <chr> & <chr> & <chr> & <dbl>\\\\\n",
       "\\hline\n",
       "\\end{tabular}\n"
      ],
      "text/markdown": [
       "\n",
       "A grouped_df: 0 × 4\n",
       "\n",
       "| Time_Point &lt;chr&gt; | Sample_Type &lt;chr&gt; | Variable &lt;chr&gt; | Value_Sum &lt;dbl&gt; |\n",
       "|---|---|---|---|\n",
       "\n"
      ],
      "text/plain": [
       "     Time_Point Sample_Type Variable Value_Sum"
      ]
     },
     "metadata": {},
     "output_type": "display_data"
    }
   ],
   "source": [
    "#calculating number of values for each variable, grouped by sample and time_point\n",
    "totals = missing_df %>%\n",
    "    group_by(Time_Point, Sample_Type, Variable) %>%\n",
    "    summarize(Value_Sum = sum(Value_log)) %>%\n",
    "    #finally calculating the 50% filter\n",
    "    filter(Value_Sum >= length(unique(ozone_data$Subject_ID)) * 0.5)\n",
    "head(totals)"
   ]
  },
  {
   "cell_type": "code",
   "execution_count": 6,
   "id": "international-student",
   "metadata": {},
   "outputs": [
    {
     "ename": "ERROR",
     "evalue": "Error: Problem with `filter()` input `..1`.\n\u001b[31m✖\u001b[39m Input `..1` must be of size 6432 or 1, not size 0.\n\u001b[34mℹ\u001b[39m Input `..1` is `&...`.\n",
     "output_type": "error",
     "traceback": [
      "Error: Problem with `filter()` input `..1`.\n\u001b[31m✖\u001b[39m Input `..1` must be of size 6432 or 1, not size 0.\n\u001b[34mℹ\u001b[39m Input `..1` is `&...`.\nTraceback:\n",
      "1. ozone_data %>% filter(Time_Point == totals$Time_Point[i] & totals$Sample_Type[i] == \n .     Sample_Type & totals$Variable[i] == Variable)",
      "2. filter(., Time_Point == totals$Time_Point[i] & totals$Sample_Type[i] == \n .     Sample_Type & totals$Variable[i] == Variable)",
      "3. filter.data.frame(., Time_Point == totals$Time_Point[i] & totals$Sample_Type[i] == \n .     Sample_Type & totals$Variable[i] == Variable)",
      "4. filter_rows(.data, ...)",
      "5. withCallingHandlers(mask$eval_all_filter(dots, env_filter), error = function(e) {\n .     local_call_step(dots = dots, .index = env_filter$current_expression, \n .         .fn = \"filter\")\n .     abort(c(cnd_bullet_header(), x = conditionMessage(e), i = cnd_bullet_input_info(), \n .         i = cnd_bullet_cur_group_label()), class = \"dplyr_error\")\n . })",
      "6. mask$eval_all_filter(dots, env_filter)",
      "7. abort_glue(\"Input `..{index}` must be of size {or_1(expected_size)}, not size {size}.\", \n .     list(index = 1L, size = 0L, expected_size = 6432L), \"dplyr:::filter_incompatible_size\")",
      "8. exec(abort, message = message, class = class, !!!data)",
      "9. (function (message = NULL, class = NULL, ..., trace = NULL, parent = NULL, \n .     .subclass = deprecated()) \n . {\n .     validate_signal_args(.subclass)\n .     if (is_null(trace) && is_null(peek_option(\"rlang:::disable_trace_capture\"))) {\n .         with_options(`rlang:::disable_trace_capture` = TRUE, \n .             {\n .                 trace <- trace_back()\n .                 if (is_null(parent)) {\n .                   context <- trace_length(trace)\n .                 }\n .                 else {\n .                   context <- trace_capture_depth(trace)\n .                 }\n .                 trace <- trace_trim_context(trace, context)\n .             })\n .     }\n .     message <- validate_signal_message(message, class)\n .     message <- collapse_cnd_message(message)\n .     cnd <- error_cnd(class, ..., message = message, parent = parent, \n .         trace = trace)\n .     signal_abort(cnd)\n . })(message = structure(\"Input `..1` must be of size 6432 or 1, not size 0.\", class = c(\"glue\", \n . \"character\")), class = \"dplyr:::filter_incompatible_size\", index = 1L, \n .     size = 0L, expected_size = 6432L)",
      "10. signal_abort(cnd)",
      "11. signalCondition(cnd)",
      "12. (function (e) \n  . {\n  .     local_call_step(dots = dots, .index = env_filter$current_expression, \n  .         .fn = \"filter\")\n  .     abort(c(cnd_bullet_header(), x = conditionMessage(e), i = cnd_bullet_input_info(), \n  .         i = cnd_bullet_cur_group_label()), class = \"dplyr_error\")\n  . })(structure(list(message = structure(\"Input `..1` must be of size 6432 or 1, not size 0.\", class = c(\"glue\", \n  . \"character\")), trace = structure(list(calls = list(IRkernel::main(), \n  .     kernel$run(), IRkernel:::handle_shell(), executor$execute(msg), \n  .     base::tryCatch(evaluate(request$content$code, envir = .GlobalEnv, \n  .         output_handler = oh, stop_on_error = 1L), interrupt = function(cond) {\n  .         log_debug(\"Interrupt during execution\")\n  .         interrupted <<- TRUE\n  .     }, error = .self$handle_error), base:::tryCatchList(expr, \n  .         classes, parentenv, handlers), base:::tryCatchOne(tryCatchList(expr, \n  .         names[-nh], parentenv, handlers[-nh]), names[nh], parentenv, \n  .         handlers[[nh]]), base:::doTryCatch(return(expr), name, \n  .         parentenv, handler), base:::tryCatchList(expr, names[-nh], \n  .         parentenv, handlers[-nh]), base:::tryCatchOne(expr, names, \n  .         parentenv, handlers[[1L]]), base:::doTryCatch(return(expr), \n  .         name, parentenv, handler), evaluate::evaluate(request$content$code, \n  .         envir = .GlobalEnv, output_handler = oh, stop_on_error = 1L), \n  .     evaluate:::evaluate_call(expr, parsed$src[[i]], envir = envir, \n  .         enclos = enclos, debug = debug, last = i == length(out), \n  .         use_try = stop_on_error != 2L, keep_warning = keep_warning, \n  .         keep_message = keep_message, output_handler = output_handler, \n  .         include_timing = include_timing), evaluate:::timing_fn(handle(ev <- withCallingHandlers(withVisible(eval(expr, \n  .         envir, enclos)), warning = wHandler, error = eHandler, \n  .         message = mHandler))), evaluate:::handle(ev <- withCallingHandlers(withVisible(eval(expr, \n  .         envir, enclos)), warning = wHandler, error = eHandler, \n  .         message = mHandler)), base::try(f, silent = TRUE), base::tryCatch(expr, \n  .         error = function(e) {\n  .             call <- conditionCall(e)\n  .             if (!is.null(call)) {\n  .                 if (identical(call[[1L]], quote(doTryCatch))) \n  .                   call <- sys.call(-4L)\n  .                 dcall <- deparse(call)[1L]\n  .                 prefix <- paste(\"Error in\", dcall, \": \")\n  .                 LONG <- 75L\n  .                 sm <- strsplit(conditionMessage(e), \"\\n\")[[1L]]\n  .                 w <- 14L + nchar(dcall, type = \"w\") + nchar(sm[1L], \n  .                   type = \"w\")\n  .                 if (is.na(w)) \n  .                   w <- 14L + nchar(dcall, type = \"b\") + nchar(sm[1L], \n  .                     type = \"b\")\n  .                 if (w > LONG) \n  .                   prefix <- paste0(prefix, \"\\n  \")\n  .             }\n  .             else prefix <- \"Error : \"\n  .             msg <- paste0(prefix, conditionMessage(e), \"\\n\")\n  .             .Internal(seterrmessage(msg[1L]))\n  .             if (!silent && isTRUE(getOption(\"show.error.messages\"))) {\n  .                 cat(msg, file = outFile)\n  .                 .Internal(printDeferredWarnings())\n  .             }\n  .             invisible(structure(msg, class = \"try-error\", condition = e))\n  .         }), base:::tryCatchList(expr, classes, parentenv, handlers), \n  .     base:::tryCatchOne(expr, names, parentenv, handlers[[1L]]), \n  .     base:::doTryCatch(return(expr), name, parentenv, handler), \n  .     base::withCallingHandlers(withVisible(eval(expr, envir, enclos)), \n  .         warning = wHandler, error = eHandler, message = mHandler), \n  .     base::withVisible(eval(expr, envir, enclos)), base::eval(expr, \n  .         envir, enclos), base::eval(expr, envir, enclos), ozone_data %>% \n  .         filter(Time_Point == totals$Time_Point[i] & totals$Sample_Type[i] == \n  .             Sample_Type & totals$Variable[i] == Variable), dplyr::filter(., \n  .         Time_Point == totals$Time_Point[i] & totals$Sample_Type[i] == \n  .             Sample_Type & totals$Variable[i] == Variable), dplyr:::filter.data.frame(., \n  .         Time_Point == totals$Time_Point[i] & totals$Sample_Type[i] == \n  .             Sample_Type & totals$Variable[i] == Variable), dplyr:::filter_rows(.data, \n  .         ...), base::withCallingHandlers(mask$eval_all_filter(dots, \n  .         env_filter), error = function(e) {\n  .         local_call_step(dots = dots, .index = env_filter$current_expression, \n  .             .fn = \"filter\")\n  .         abort(c(cnd_bullet_header(), x = conditionMessage(e), \n  .             i = cnd_bullet_input_info(), i = cnd_bullet_cur_group_label()), \n  .             class = \"dplyr_error\")\n  .     }), mask$eval_all_filter(dots, env_filter), dplyr:::abort_glue(\"Input `..{index}` must be of size {or_1(expected_size)}, not size {size}.\", \n  .         list(index = 1L, size = 0L, expected_size = 6432L), \"dplyr:::filter_incompatible_size\"), \n  .     rlang::exec(abort, message = message, class = class, !!!data)), \n  .     parents = c(0L, 1L, 2L, 3L, 4L, 5L, 6L, 7L, 6L, 9L, 10L, \n  .     4L, 12L, 13L, 13L, 15L, 16L, 17L, 18L, 19L, 13L, 13L, 13L, \n  .     23L, 0L, 0L, 0L, 27L, 28L, 28L, 0L, 31L), indices = 1:32), class = \"rlang_trace\", version = 1L), \n  .     parent = NULL, index = 1L, size = 0L, expected_size = 6432L), class = c(\"dplyr:::filter_incompatible_size\", \n  . \"rlang_error\", \"error\", \"condition\")))",
      "13. abort(c(cnd_bullet_header(), x = conditionMessage(e), i = cnd_bullet_input_info(), \n  .     i = cnd_bullet_cur_group_label()), class = \"dplyr_error\")",
      "14. signal_abort(cnd)"
     ]
    }
   ],
   "source": [
    "#creating a new df w/ values present in at least 50% of subjects\n",
    "new_df = data.frame()\n",
    "for (i in 1:length(totals$Value_Sum)){\n",
    "    filtered_df = ozone_data %>%\n",
    "        filter(Time_Point == totals$Time_Point[i] & totals$Sample_Type[i] == Sample_Type & \n",
    "               totals$Variable[i] == Variable)\n",
    "    new_df = rbind(new_df, filtered_df)\n",
    "}\n",
    "\n",
    "head(new_df)"
   ]
  },
  {
   "cell_type": "markdown",
   "id": "impressed-pierre",
   "metadata": {},
   "source": [
    "This removed all NA values, so imputation wasn't necessary."
   ]
  },
  {
   "cell_type": "code",
   "execution_count": 8,
   "id": "generic-comment",
   "metadata": {},
   "outputs": [
    {
     "name": "stderr",
     "output_type": "stream",
     "text": [
      "Warning message:\n",
      "“non-unique values when setting 'row.names': ‘AS_1’, ‘AS_10’, ‘AS_11’, ‘AS_12’, ‘AS_2’, ‘AS_3’, ‘AS_4’, ‘AS_5’, ‘AS_6’, ‘AS_7’, ‘AS_8’, ‘AS_9’, ‘NAS_13’, ‘NAS_14’, ‘NAS_15’, ‘NAS_16’, ‘NAS_17’, ‘NAS_18’, ‘NAS_19’, ‘NAS_20’, ‘NAS_21’, ‘NAS_22’, ‘NAS_23’, ‘NAS_24’”\n"
     ]
    },
    {
     "ename": "ERROR",
     "evalue": "Error in `.rowNamesDF<-`(x, value = value): duplicate 'row.names' are not allowed\n",
     "output_type": "error",
     "traceback": [
      "Error in `.rowNamesDF<-`(x, value = value): duplicate 'row.names' are not allowed\nTraceback:\n",
      "1. new_df %>% pivot_wider(names_from = Variable, values_from = Value_log) %>% \n .     select(-Value, -Time_Point, -Sample_Type, -Category) %>% \n .     column_to_rownames(var = \"Subject_ID\")",
      "2. column_to_rownames(., var = \"Subject_ID\")",
      "3. `rownames<-`(`*tmp*`, value = .data[[var]])",
      "4. `row.names<-`(`*tmp*`, value = value)",
      "5. `row.names<-.data.frame`(`*tmp*`, value = value)",
      "6. `.rowNamesDF<-`(x, value = value)",
      "7. stop(\"duplicate 'row.names' are not allowed\")"
     ]
    }
   ],
   "source": [
    "new_df %>%\n",
    "    pivot_wider(names_from = Variable, values_from = Value_log) %>%\n",
    "    select(-Value, -Time_Point, -Sample_Type, -Category) %>%\n",
    "    column_to_rownames(var = \"Subject_ID\")"
   ]
  },
  {
   "cell_type": "code",
   "execution_count": 49,
   "id": "unavailable-webcam",
   "metadata": {},
   "outputs": [],
   "source": [
    "#splitting into separate dfs since the dfs will be converted into a wide format\n",
    "preimputed_df = new_df %>%\n",
    "    group_by(Sample_Type, Time_Point) %>%\n",
    "    group_split()\n",
    "\n",
    "post_plasma_df = preimputed_df[[1]]\n",
    "pre_plasma_df = preimputed_df[[2]]\n",
    "post_sputum_df = preimputed_df[[3]]\n",
    "pre_sputum_df = preimputed_df[[4]]"
   ]
  },
  {
   "cell_type": "code",
   "execution_count": 63,
   "id": "economic-material",
   "metadata": {},
   "outputs": [
    {
     "data": {
      "text/html": [
       "<table class=\"dataframe\">\n",
       "<caption>A data.frame: 6 × 71</caption>\n",
       "<thead>\n",
       "\t<tr><th></th><th scope=col>Original_Subject_No</th><th scope=col>Subject_No</th><th scope=col>Disease_Status</th><th scope=col>Inflammatory_Responder</th><th scope=col>Lung_Responder</th><th scope=col>24OH_Chol</th><th scope=col>25OH_Chol</th><th scope=col>25OH_VitD</th><th scope=col>27OH_Chol</th><th scope=col>7DHC</th><th scope=col>⋯</th><th scope=col>TCC</th><th scope=col>TCC_Weight</th><th scope=col>TNFa</th><th scope=col>TNFb</th><th scope=col>VEGF</th><th scope=col>Viability</th><th scope=col>Zym</th><th scope=col>Zyme</th><th scope=col>bEP_Chol</th><th scope=col>dHLan</th></tr>\n",
       "\t<tr><th></th><th scope=col>&lt;dbl&gt;</th><th scope=col>&lt;dbl&gt;</th><th scope=col>&lt;chr&gt;</th><th scope=col>&lt;chr&gt;</th><th scope=col>&lt;chr&gt;</th><th scope=col>&lt;dbl&gt;</th><th scope=col>&lt;dbl&gt;</th><th scope=col>&lt;dbl&gt;</th><th scope=col>&lt;dbl&gt;</th><th scope=col>&lt;dbl&gt;</th><th scope=col>⋯</th><th scope=col>&lt;dbl&gt;</th><th scope=col>&lt;dbl&gt;</th><th scope=col>&lt;dbl&gt;</th><th scope=col>&lt;dbl&gt;</th><th scope=col>&lt;dbl&gt;</th><th scope=col>&lt;dbl&gt;</th><th scope=col>&lt;dbl&gt;</th><th scope=col>&lt;dbl&gt;</th><th scope=col>&lt;dbl&gt;</th><th scope=col>&lt;dbl&gt;</th></tr>\n",
       "</thead>\n",
       "<tbody>\n",
       "\t<tr><th scope=row>AS_1</th><td> 4</td><td>1</td><td>AS</td><td>NR</td><td>NR</td><td>4.016599</td><td>2.624886</td><td>5.425452</td><td>5.854937</td><td>-0.09321238</td><td>⋯</td><td>12.88664</td><td>6.181010</td><td> 0.2240172</td><td>-1.308374</td><td>2.275213</td><td>0.9162907</td><td>-2.780621</td><td>0.67396436</td><td>3.567305</td><td>-3.381395</td></tr>\n",
       "\t<tr><th scope=row>AS_2</th><td> 7</td><td>2</td><td>AS</td><td>R </td><td>NR</td><td>3.521909</td><td>2.200774</td><td>4.660889</td><td>5.032873</td><td>-0.80968100</td><td>⋯</td><td>14.78249</td><td>5.796301</td><td>-0.3150657</td><td>-2.002275</td><td>2.511259</td><td>4.5261270</td><td>-2.995732</td><td>1.11054086</td><td>3.161924</td><td>-2.900422</td></tr>\n",
       "\t<tr><th scope=row>AS_3</th><td>11</td><td>3</td><td>AS</td><td>NR</td><td>R </td><td>3.397557</td><td>2.308567</td><td>5.364559</td><td>5.439331</td><td>-1.29462717</td><td>⋯</td><td>14.73579</td><td>6.799647</td><td>-0.4787741</td><td>-2.604172</td><td>1.920995</td><td>3.8046605</td><td>-3.352407</td><td>0.01882175</td><td>2.080441</td><td>-3.270169</td></tr>\n",
       "\t<tr><th scope=row>AS_4</th><td>13</td><td>4</td><td>AS</td><td>R </td><td>NR</td><td>3.791662</td><td>2.739613</td><td>4.473682</td><td>5.323537</td><td>-1.21402314</td><td>⋯</td><td>15.04515</td><td>6.876099</td><td>-0.1156844</td><td>-2.156346</td><td>2.499970</td><td>4.0324692</td><td>-4.342806</td><td>0.57773633</td><td>2.730659</td><td>-3.381395</td></tr>\n",
       "\t<tr><th scope=row>AS_5</th><td>15</td><td>5</td><td>AS</td><td>R </td><td>NR</td><td>3.691651</td><td>3.202381</td><td>5.019000</td><td>5.682021</td><td>-0.79407310</td><td>⋯</td><td>16.00493</td><td>7.754306</td><td>-0.9899529</td><td>-2.283776</td><td>2.861146</td><td>4.4531838</td><td>-3.352407</td><td>0.83768033</td><td>2.990921</td><td>-3.473768</td></tr>\n",
       "\t<tr><th scope=row>AS_6</th><td>16</td><td>6</td><td>AS</td><td>NR</td><td>NR</td><td>4.373099</td><td>2.815768</td><td>5.303046</td><td>5.369549</td><td>-0.64817381</td><td>⋯</td><td>12.91164</td><td>4.813890</td><td> 0.0047056</td><td>-3.569498</td><td>2.945379</td><td>3.7658405</td><td>-2.847312</td><td>1.19361939</td><td>2.977823</td><td>-3.324236</td></tr>\n",
       "</tbody>\n",
       "</table>\n"
      ],
      "text/latex": [
       "A data.frame: 6 × 71\n",
       "\\begin{tabular}{r|lllllllllllllllllllll}\n",
       "  & Original\\_Subject\\_No & Subject\\_No & Disease\\_Status & Inflammatory\\_Responder & Lung\\_Responder & 24OH\\_Chol & 25OH\\_Chol & 25OH\\_VitD & 27OH\\_Chol & 7DHC & ⋯ & TCC & TCC\\_Weight & TNFa & TNFb & VEGF & Viability & Zym & Zyme & bEP\\_Chol & dHLan\\\\\n",
       "  & <dbl> & <dbl> & <chr> & <chr> & <chr> & <dbl> & <dbl> & <dbl> & <dbl> & <dbl> & ⋯ & <dbl> & <dbl> & <dbl> & <dbl> & <dbl> & <dbl> & <dbl> & <dbl> & <dbl> & <dbl>\\\\\n",
       "\\hline\n",
       "\tAS\\_1 &  4 & 1 & AS & NR & NR & 4.016599 & 2.624886 & 5.425452 & 5.854937 & -0.09321238 & ⋯ & 12.88664 & 6.181010 &  0.2240172 & -1.308374 & 2.275213 & 0.9162907 & -2.780621 & 0.67396436 & 3.567305 & -3.381395\\\\\n",
       "\tAS\\_2 &  7 & 2 & AS & R  & NR & 3.521909 & 2.200774 & 4.660889 & 5.032873 & -0.80968100 & ⋯ & 14.78249 & 5.796301 & -0.3150657 & -2.002275 & 2.511259 & 4.5261270 & -2.995732 & 1.11054086 & 3.161924 & -2.900422\\\\\n",
       "\tAS\\_3 & 11 & 3 & AS & NR & R  & 3.397557 & 2.308567 & 5.364559 & 5.439331 & -1.29462717 & ⋯ & 14.73579 & 6.799647 & -0.4787741 & -2.604172 & 1.920995 & 3.8046605 & -3.352407 & 0.01882175 & 2.080441 & -3.270169\\\\\n",
       "\tAS\\_4 & 13 & 4 & AS & R  & NR & 3.791662 & 2.739613 & 4.473682 & 5.323537 & -1.21402314 & ⋯ & 15.04515 & 6.876099 & -0.1156844 & -2.156346 & 2.499970 & 4.0324692 & -4.342806 & 0.57773633 & 2.730659 & -3.381395\\\\\n",
       "\tAS\\_5 & 15 & 5 & AS & R  & NR & 3.691651 & 3.202381 & 5.019000 & 5.682021 & -0.79407310 & ⋯ & 16.00493 & 7.754306 & -0.9899529 & -2.283776 & 2.861146 & 4.4531838 & -3.352407 & 0.83768033 & 2.990921 & -3.473768\\\\\n",
       "\tAS\\_6 & 16 & 6 & AS & NR & NR & 4.373099 & 2.815768 & 5.303046 & 5.369549 & -0.64817381 & ⋯ & 12.91164 & 4.813890 &  0.0047056 & -3.569498 & 2.945379 & 3.7658405 & -2.847312 & 1.19361939 & 2.977823 & -3.324236\\\\\n",
       "\\end{tabular}\n"
      ],
      "text/markdown": [
       "\n",
       "A data.frame: 6 × 71\n",
       "\n",
       "| <!--/--> | Original_Subject_No &lt;dbl&gt; | Subject_No &lt;dbl&gt; | Disease_Status &lt;chr&gt; | Inflammatory_Responder &lt;chr&gt; | Lung_Responder &lt;chr&gt; | 24OH_Chol &lt;dbl&gt; | 25OH_Chol &lt;dbl&gt; | 25OH_VitD &lt;dbl&gt; | 27OH_Chol &lt;dbl&gt; | 7DHC &lt;dbl&gt; | ⋯ ⋯ | TCC &lt;dbl&gt; | TCC_Weight &lt;dbl&gt; | TNFa &lt;dbl&gt; | TNFb &lt;dbl&gt; | VEGF &lt;dbl&gt; | Viability &lt;dbl&gt; | Zym &lt;dbl&gt; | Zyme &lt;dbl&gt; | bEP_Chol &lt;dbl&gt; | dHLan &lt;dbl&gt; |\n",
       "|---|---|---|---|---|---|---|---|---|---|---|---|---|---|---|---|---|---|---|---|---|---|\n",
       "| AS_1 |  4 | 1 | AS | NR | NR | 4.016599 | 2.624886 | 5.425452 | 5.854937 | -0.09321238 | ⋯ | 12.88664 | 6.181010 |  0.2240172 | -1.308374 | 2.275213 | 0.9162907 | -2.780621 | 0.67396436 | 3.567305 | -3.381395 |\n",
       "| AS_2 |  7 | 2 | AS | R  | NR | 3.521909 | 2.200774 | 4.660889 | 5.032873 | -0.80968100 | ⋯ | 14.78249 | 5.796301 | -0.3150657 | -2.002275 | 2.511259 | 4.5261270 | -2.995732 | 1.11054086 | 3.161924 | -2.900422 |\n",
       "| AS_3 | 11 | 3 | AS | NR | R  | 3.397557 | 2.308567 | 5.364559 | 5.439331 | -1.29462717 | ⋯ | 14.73579 | 6.799647 | -0.4787741 | -2.604172 | 1.920995 | 3.8046605 | -3.352407 | 0.01882175 | 2.080441 | -3.270169 |\n",
       "| AS_4 | 13 | 4 | AS | R  | NR | 3.791662 | 2.739613 | 4.473682 | 5.323537 | -1.21402314 | ⋯ | 15.04515 | 6.876099 | -0.1156844 | -2.156346 | 2.499970 | 4.0324692 | -4.342806 | 0.57773633 | 2.730659 | -3.381395 |\n",
       "| AS_5 | 15 | 5 | AS | R  | NR | 3.691651 | 3.202381 | 5.019000 | 5.682021 | -0.79407310 | ⋯ | 16.00493 | 7.754306 | -0.9899529 | -2.283776 | 2.861146 | 4.4531838 | -3.352407 | 0.83768033 | 2.990921 | -3.473768 |\n",
       "| AS_6 | 16 | 6 | AS | NR | NR | 4.373099 | 2.815768 | 5.303046 | 5.369549 | -0.64817381 | ⋯ | 12.91164 | 4.813890 |  0.0047056 | -3.569498 | 2.945379 | 3.7658405 | -2.847312 | 1.19361939 | 2.977823 | -3.324236 |\n",
       "\n"
      ],
      "text/plain": [
       "     Original_Subject_No Subject_No Disease_Status Inflammatory_Responder\n",
       "AS_1  4                  1          AS             NR                    \n",
       "AS_2  7                  2          AS             R                     \n",
       "AS_3 11                  3          AS             NR                    \n",
       "AS_4 13                  4          AS             R                     \n",
       "AS_5 15                  5          AS             R                     \n",
       "AS_6 16                  6          AS             NR                    \n",
       "     Lung_Responder 24OH_Chol 25OH_Chol 25OH_VitD 27OH_Chol 7DHC        ⋯\n",
       "AS_1 NR             4.016599  2.624886  5.425452  5.854937  -0.09321238 ⋯\n",
       "AS_2 NR             3.521909  2.200774  4.660889  5.032873  -0.80968100 ⋯\n",
       "AS_3 R              3.397557  2.308567  5.364559  5.439331  -1.29462717 ⋯\n",
       "AS_4 NR             3.791662  2.739613  4.473682  5.323537  -1.21402314 ⋯\n",
       "AS_5 NR             3.691651  3.202381  5.019000  5.682021  -0.79407310 ⋯\n",
       "AS_6 NR             4.373099  2.815768  5.303046  5.369549  -0.64817381 ⋯\n",
       "     TCC      TCC_Weight TNFa       TNFb      VEGF     Viability Zym      \n",
       "AS_1 12.88664 6.181010    0.2240172 -1.308374 2.275213 0.9162907 -2.780621\n",
       "AS_2 14.78249 5.796301   -0.3150657 -2.002275 2.511259 4.5261270 -2.995732\n",
       "AS_3 14.73579 6.799647   -0.4787741 -2.604172 1.920995 3.8046605 -3.352407\n",
       "AS_4 15.04515 6.876099   -0.1156844 -2.156346 2.499970 4.0324692 -4.342806\n",
       "AS_5 16.00493 7.754306   -0.9899529 -2.283776 2.861146 4.4531838 -3.352407\n",
       "AS_6 12.91164 4.813890    0.0047056 -3.569498 2.945379 3.7658405 -2.847312\n",
       "     Zyme       bEP_Chol dHLan    \n",
       "AS_1 0.67396436 3.567305 -3.381395\n",
       "AS_2 1.11054086 3.161924 -2.900422\n",
       "AS_3 0.01882175 2.080441 -3.270169\n",
       "AS_4 0.57773633 2.730659 -3.381395\n",
       "AS_5 0.83768033 2.990921 -3.473768\n",
       "AS_6 1.19361939 2.977823 -3.324236"
      ]
     },
     "metadata": {},
     "output_type": "display_data"
    }
   ],
   "source": [
    "wider_post_plasma_df = post_plasma_df %>%\n",
    "    select(-Value, -Time_Point, -Sample_Type, -Category) %>%\n",
    "    pivot_wider(names_from = Variable, values_from = Value_log) %>%\n",
    "    column_to_rownames(var = \"Subject_ID\") \n",
    "head(wider_post_plasma_df)"
   ]
  },
  {
   "cell_type": "code",
   "execution_count": 65,
   "id": "specialized-norman",
   "metadata": {},
   "outputs": [
    {
     "ename": "ERROR",
     "evalue": "Error in lm.fit(x, y, offset = offset, singular.ok = singular.ok, ...): NA/NaN/Inf in 'y'\n",
     "output_type": "error",
     "traceback": [
      "Error in lm.fit(x, y, offset = offset, singular.ok = singular.ok, ...): NA/NaN/Inf in 'y'\nTraceback:\n",
      "1. impute.QRILC(wider_post_plasma_df[, 6:71])",
      "2. lm(q.curr.sample ~ q.normal)",
      "3. lm.fit(x, y, offset = offset, singular.ok = singular.ok, ...)"
     ]
    }
   ],
   "source": [
    "impute.QRILC(wider_post_plasma_df[,6:71])"
   ]
  },
  {
   "cell_type": "markdown",
   "id": "limited-preliminary",
   "metadata": {},
   "source": [
    "--------------------------------------------------------"
   ]
  },
  {
   "cell_type": "code",
   "execution_count": null,
   "id": "touched-plumbing",
   "metadata": {},
   "outputs": [],
   "source": []
  }
 ],
 "metadata": {
  "kernelspec": {
   "display_name": "R",
   "language": "R",
   "name": "ir"
  },
  "language_info": {
   "codemirror_mode": "r",
   "file_extension": ".r",
   "mimetype": "text/x-r-source",
   "name": "R",
   "pygments_lexer": "r",
   "version": "3.6.3"
  }
 },
 "nbformat": 4,
 "nbformat_minor": 5
}
